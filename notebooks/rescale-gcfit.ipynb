{
 "cells": [
  {
   "cell_type": "code",
   "execution_count": 1,
   "id": "25b91c4e-5a76-4bd2-935d-bae008e012af",
   "metadata": {},
   "outputs": [],
   "source": [
    "%matplotlib inline\n",
    "%config InlineBackend.figure_format = \"retina\"\n",
    "\n",
    "import matplotlib.pyplot as plt\n",
    "import seaborn\n",
    "\n",
    "# Some plotting config\n",
    "seaborn.set(\n",
    "    context=\"notebook\",\n",
    "    # style=\"ticks\",\n",
    "    style=\"darkgrid\",\n",
    "    font=\"Times New Roman\",\n",
    "    font_scale=1.5,\n",
    ")\n",
    "plt.rcParams[\"figure.figsize\"] = (10, 8)\n",
    "plt.rcParams[\"xtick.direction\"] = \"in\"\n",
    "plt.rcParams[\"ytick.direction\"] = \"in\"\n",
    "# plt.rcParams[\"xtick.top\"] = True\n",
    "# plt.rcParams[\"ytick.right\"] = True\n",
    "# plt.rcParams[\"xtick.bottom\"] = True\n",
    "# plt.rcParams[\"ytick.left\"] = True\n",
    "plt.rcParams[\"mathtext.fontset\"] = \"cm\"\n",
    "\n",
    "from tqdm.auto import tqdm, trange\n",
    "\n",
    "from ssptools import evolve_mf_3 as emf3\n",
    "from limepy import limepy\n",
    "\n",
    "import numpy as np\n",
    "import scipy as sp\n",
    "import pandas as pd\n",
    "import astropy.units as u\n",
    "import astropy.constants as const\n",
    "\n",
    "from binaryshift import BinaryShift\n",
    "import binaryshift\n",
    "\n",
    "from fitter import Observations\n",
    "from fitter import Model"
   ]
  },
  {
   "cell_type": "code",
   "execution_count": 2,
   "id": "edfd3e35-b4b5-4b0c-9454-62b36c473336",
   "metadata": {},
   "outputs": [],
   "source": [
    "obs = Observations(\"NGC0104\")"
   ]
  },
  {
   "cell_type": "code",
   "execution_count": 3,
   "id": "fad2f66c-1662-4e6b-8317-a7951cabc44b",
   "metadata": {},
   "outputs": [],
   "source": [
    "theta = [6.62, 0.88, 6.82, 1.33, 1.03, 0.37, 0.01, 3.49, 0.47, 1.18, 2.15, 0.13, 4.42]"
   ]
  },
  {
   "cell_type": "code",
   "execution_count": 4,
   "id": "1e587b0c-558e-4f5e-8873-b55294679b9b",
   "metadata": {},
   "outputs": [
    {
     "name": "stderr",
     "output_type": "stream",
     "text": [
      "/home/peter/anaconda3/envs/gcfit/lib/python3.9/site-packages/ssptools/evolve_mf_3.py:246: RuntimeWarning: divide by zero encountered in double_scalars\n",
      "  Aj = Nj / self.Pk(alphaj, 1, m1, mto)\n"
     ]
    }
   ],
   "source": [
    "model = Model(theta=theta, observations=obs)"
   ]
  },
  {
   "cell_type": "code",
   "execution_count": 5,
   "id": "f11e62a1-96f7-4974-92df-385334bd4523",
   "metadata": {},
   "outputs": [
    {
     "data": {
      "text/latex": [
       "$[[40.564432,~40.564432,~40.564395,~\\dots,~2.2018803 \\times 10^{-21},~7.2211137 \\times 10^{-22},~0],~\n",
       " [85.241893,~85.241893,~85.241807,~\\dots,~3.6498314 \\times 10^{-21},~1.19697 \\times 10^{-21},~0],~\n",
       " [193.07312,~193.07312,~193.0729,~\\dots,~5.9491368 \\times 10^{-21},~1.9510322 \\times 10^{-21},~0],~\n",
       " \\dots,~\n",
       " [1195.6082,~1195.6081,~1195.6035,~\\dots,~2.3506376 \\times 10^{-23},~7.708967 \\times 10^{-24},~0],~\n",
       " [1529.4568,~1529.4567,~1529.4506,~\\dots,~1.7781782 \\times 10^{-23},~5.831574 \\times 10^{-24},~0],~\n",
       " [0.47556437,~0.47556435,~0.47556245,~\\dots,~5.5411278 \\times 10^{-27},~1.8172249 \\times 10^{-27},~0]] \\; \\mathrm{\\frac{M_{\\odot}}{pc^{3}}}$"
      ],
      "text/plain": [
       "<Quantity [[4.05644323e+01, 4.05644320e+01, 4.05643947e+01, ...,\n",
       "            2.20188030e-21, 7.22111370e-22, 0.00000000e+00],\n",
       "           [8.52418934e+01, 8.52418927e+01, 8.52418069e+01, ...,\n",
       "            3.64983138e-21, 1.19697004e-21, 0.00000000e+00],\n",
       "           [1.93073119e+02, 1.93073118e+02, 1.93072899e+02, ...,\n",
       "            5.94913681e-21, 1.95103220e-21, 0.00000000e+00],\n",
       "           ...,\n",
       "           [1.19560817e+03, 1.19560813e+03, 1.19560354e+03, ...,\n",
       "            2.35063761e-23, 7.70896702e-24, 0.00000000e+00],\n",
       "           [1.52945676e+03, 1.52945670e+03, 1.52945057e+03, ...,\n",
       "            1.77817822e-23, 5.83157405e-24, 0.00000000e+00],\n",
       "           [4.75564369e-01, 4.75564353e-01, 4.75562445e-01, ...,\n",
       "            5.54112783e-27, 1.81722489e-27, 0.00000000e+00]] solMass / pc3>"
      ]
     },
     "execution_count": 5,
     "metadata": {},
     "output_type": "execute_result"
    }
   ],
   "source": [
    "model.rhoj"
   ]
  },
  {
   "cell_type": "code",
   "execution_count": 6,
   "id": "dfcef96d-1848-4892-8cc2-a900f1ed85fc",
   "metadata": {},
   "outputs": [
    {
     "data": {
      "text/latex": [
       "$[0.1185088,~0.16351011,~0.22559975,~0.31126667,~0.42946386,~0.5361614,~0.61588772,~0.70746921,~0.80019379,~0.61588772,~0.70746921,~0.80019379,~0.91959636,~1.1188027,~1.4084892,~3.5379648,~4.4540338,~5.6072963,~7.0591678,~0.27917309,~0.36070859,~0.45614395,~0.55908634,~0.64179809,~0.74108964,~0.85657649,~0.94086768,~0.99931394,~1.1058922,~1.1955415,~1.2702061,~1.3915519,~1.507663,~1.6003876,~1.6] \\; \\mathrm{M_{\\odot}}$"
      ],
      "text/plain": [
       "<Quantity [0.1185088 , 0.16351011, 0.22559975, 0.31126667, 0.42946386,\n",
       "           0.5361614 , 0.61588772, 0.70746921, 0.80019379, 0.61588772,\n",
       "           0.70746921, 0.80019379, 0.91959636, 1.1188027 , 1.40848915,\n",
       "           3.53796479, 4.45403378, 5.60729631, 7.05916782, 0.27917309,\n",
       "           0.36070859, 0.45614395, 0.55908634, 0.64179809, 0.74108964,\n",
       "           0.85657649, 0.94086768, 0.99931394, 1.10589218, 1.19554153,\n",
       "           1.27020606, 1.39155194, 1.50766301, 1.60038759, 1.6       ] solMass>"
      ]
     },
     "execution_count": 6,
     "metadata": {},
     "output_type": "execute_result"
    }
   ],
   "source": [
    "model.mj"
   ]
  },
  {
   "cell_type": "code",
   "execution_count": 7,
   "id": "59a65d35-fe07-4db7-916a-a9eba41799e4",
   "metadata": {},
   "outputs": [
    {
     "data": {
      "text/latex": [
       "$[9677.0888,~16313.509,~27325.327,~46869.579,~78175.159,~43335.579,~51243.559,~57682.348,~50060.361,~160687.49,~130459.8,~29874.765,~30749.011,~69824.867,~9618.187,~16.65206,~31.157617,~62.215445,~135.82588,~3006.2125,~2981.048,~4941.2436,~5734.5366,~5697.188,~9675.1561,~6137.5551,~6003.453,~6515.6566,~2920.7308,~5159.9804,~3572.9272,~3292.4365,~1076.6385,~1142.4019,~0.35547634] \\; \\mathrm{M_{\\odot}}$"
      ],
      "text/plain": [
       "<Quantity [9.67708882e+03, 1.63135092e+04, 2.73253273e+04, 4.68695790e+04,\n",
       "           7.81751587e+04, 4.33355794e+04, 5.12435594e+04, 5.76823476e+04,\n",
       "           5.00603612e+04, 1.60687493e+05, 1.30459796e+05, 2.98747646e+04,\n",
       "           3.07490105e+04, 6.98248670e+04, 9.61818698e+03, 1.66520599e+01,\n",
       "           3.11576169e+01, 6.22154453e+01, 1.35825876e+02, 3.00621250e+03,\n",
       "           2.98104802e+03, 4.94124363e+03, 5.73453657e+03, 5.69718804e+03,\n",
       "           9.67515609e+03, 6.13755515e+03, 6.00345302e+03, 6.51565659e+03,\n",
       "           2.92073080e+03, 5.15998036e+03, 3.57292722e+03, 3.29243655e+03,\n",
       "           1.07663846e+03, 1.14240194e+03, 3.55476335e-01] solMass>"
      ]
     },
     "execution_count": 7,
     "metadata": {},
     "output_type": "execute_result"
    }
   ],
   "source": [
    "model.Mj"
   ]
  },
  {
   "cell_type": "code",
   "execution_count": 8,
   "id": "9cb9371d-b111-4f44-9cbe-e1261a3f15fd",
   "metadata": {},
   "outputs": [
    {
     "data": {
      "text/plain": [
       "35"
      ]
     },
     "execution_count": 8,
     "metadata": {},
     "output_type": "execute_result"
    }
   ],
   "source": [
    "len(model.Mj)"
   ]
  },
  {
   "cell_type": "code",
   "execution_count": 9,
   "id": "13bcb845-6b5a-4d28-8f79-919de33a47cc",
   "metadata": {},
   "outputs": [
    {
     "data": {
      "text/latex": [
       "$[[27.566369,~27.566369,~27.566335,~\\dots,~6.3689923 \\times 10^{-22},~2.0887247 \\times 10^{-22},~0],~\n",
       " [40.708352,~40.708352,~40.708294,~\\dots,~6.017198 \\times 10^{-22},~1.973353 \\times 10^{-22},~0],~\n",
       " [107.59752,~107.59752,~107.59735,~\\dots,~9.3165921 \\times 10^{-22},~3.0553964 \\times 10^{-22},~0],~\n",
       " \\dots,~\n",
       " [2796.8334,~2796.8334,~2796.8232,~\\dots,~1.0663963 \\times 10^{-22},~3.4972698 \\times 10^{-23},~0],~\n",
       " [1195.6082,~1195.6081,~1195.6035,~\\dots,~2.3506376 \\times 10^{-23},~7.708967 \\times 10^{-24},~0],~\n",
       " [1529.4568,~1529.4567,~1529.4506,~\\dots,~1.7781782 \\times 10^{-23},~5.831574 \\times 10^{-24},~0]] \\; \\mathrm{\\frac{M_{\\odot}}{pc^{3}}}$"
      ],
      "text/plain": [
       "<Quantity [[2.75663695e+01, 2.75663692e+01, 2.75663348e+01, ...,\n",
       "            6.36899235e-22, 2.08872473e-22, 0.00000000e+00],\n",
       "           [4.07083520e+01, 4.07083515e+01, 4.07082936e+01, ...,\n",
       "            6.01719795e-22, 1.97335301e-22, 0.00000000e+00],\n",
       "           [1.07597525e+02, 1.07597523e+02, 1.07597347e+02, ...,\n",
       "            9.31659211e-22, 3.05539644e-22, 0.00000000e+00],\n",
       "           ...,\n",
       "           [2.79683344e+03, 2.79683335e+03, 2.79682323e+03, ...,\n",
       "            1.06639632e-22, 3.49726982e-23, 0.00000000e+00],\n",
       "           [1.19560817e+03, 1.19560813e+03, 1.19560354e+03, ...,\n",
       "            2.35063761e-23, 7.70896702e-24, 0.00000000e+00],\n",
       "           [1.52945676e+03, 1.52945670e+03, 1.52945057e+03, ...,\n",
       "            1.77817822e-23, 5.83157405e-24, 0.00000000e+00]] solMass / pc3>"
      ]
     },
     "execution_count": 9,
     "metadata": {},
     "output_type": "execute_result"
    }
   ],
   "source": [
    "model.rhoj[model._bin_mask]"
   ]
  },
  {
   "cell_type": "code",
   "execution_count": 37,
   "id": "5177bc29-0e6a-47bb-a03a-40a48d656b6d",
   "metadata": {},
   "outputs": [],
   "source": [
    "def flatten(t):\n",
    "    \"\"\"\n",
    "    Flatten nested list\n",
    "    https://stackoverflow.com/a/952952/13577036\n",
    "    \"\"\"\n",
    "    return [item for sublist in t for item in sublist]"
   ]
  },
  {
   "cell_type": "code",
   "execution_count": 53,
   "id": "16aea274-9a36-4a0c-8a98-bc4325fe8010",
   "metadata": {},
   "outputs": [],
   "source": [
    "def rescale_densities(model):\n",
    "\n",
    "    # make copy of density profile\n",
    "    rescaled_rhoj = model.rhoj.copy()\n",
    "    single_rhoj = model.rhoj[model._single_mask]\n",
    "\n",
    "    # get binaries\n",
    "    binaries = flatten(model._binshift.q_values)\n",
    "\n",
    "    # get isochrone\n",
    "    isochrone = binaryshift.gcfit.get_isochrone(model)\n",
    "\n",
    "    for binary in binaries:\n",
    "\n",
    "        # print(f\"{binary.mj = }\")\n",
    "\n",
    "        # find \"observed\" mass\n",
    "        observed_mass = (\n",
    "            binaryshift.gcfit.get_observed_mass(\n",
    "                isochrone=isochrone, mj=binary.mj, q=binary.q\n",
    "            )\n",
    "            << u.Msun\n",
    "        )\n",
    "        # print(f\"{observed_mass = }\")\n",
    "\n",
    "        # find closest mass bin\n",
    "\n",
    "        closest_idx = np.argmin(np.abs(model.mj[model._single_mask] - observed_mass))\n",
    "        # print(f\"{closest_idx = }\")\n",
    "\n",
    "        # scale the corresponding density bin\n",
    "\n",
    "        # find scale factor\n",
    "\n",
    "        # apply scale\n",
    "\n",
    "        # add rescaled densities to model\n",
    "        model.rescale_rhoj = rescaled_rhoj\n",
    "        pass"
   ]
  },
  {
   "cell_type": "code",
   "execution_count": 54,
   "id": "7bb597e9-64ed-45df-b61b-8f3985d4148b",
   "metadata": {},
   "outputs": [
    {
     "name": "stdout",
     "output_type": "stream",
     "text": [
      "296 ms ± 80.4 ms per loop (mean ± std. dev. of 7 runs, 1 loop each)\n"
     ]
    }
   ],
   "source": [
    "%%timeit\n",
    "rescale_densities(model)"
   ]
  },
  {
   "cell_type": "code",
   "execution_count": null,
   "id": "5d3a5bbf-e033-4224-bbac-b9e4f93a0371",
   "metadata": {},
   "outputs": [],
   "source": []
  }
 ],
 "metadata": {
  "kernelspec": {
   "display_name": "gcfit",
   "language": "python",
   "name": "gcfit"
  },
  "language_info": {
   "codemirror_mode": {
    "name": "ipython",
    "version": 3
   },
   "file_extension": ".py",
   "mimetype": "text/x-python",
   "name": "python",
   "nbconvert_exporter": "python",
   "pygments_lexer": "ipython3",
   "version": "3.9.10"
  }
 },
 "nbformat": 4,
 "nbformat_minor": 5
}
