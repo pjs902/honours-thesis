{
 "cells": [
  {
   "cell_type": "code",
   "execution_count": 1,
   "id": "94217554-aebf-4de3-b5af-b7a19cab0dad",
   "metadata": {},
   "outputs": [],
   "source": [
    "%matplotlib inline\n",
    "%config InlineBackend.figure_format = \"retina\"\n",
    "\n",
    "import matplotlib.pyplot as plt\n",
    "import seaborn\n",
    "\n",
    "seaborn.set(context=\"notebook\", style=\"darkgrid\")\n",
    "plt.rcParams[\"figure.figsize\"] = (8, 6)\n",
    "from tqdm.auto import tqdm, trange\n",
    "\n",
    "from ssptools import evolve_mf_3 as emf3\n",
    "\n",
    "import numpy as np\n",
    "import scipy as sp\n",
    "import astropy.units as u\n",
    "from astropy.constants import c"
   ]
  },
  {
   "cell_type": "code",
   "execution_count": null,
   "id": "1863b5c3-2883-4478-84ec-3b0c11208070",
   "metadata": {},
   "outputs": [],
   "source": []
  },
  {
   "cell_type": "code",
   "execution_count": null,
   "id": "dcb88432-f76a-409e-8b11-007a5cc6728a",
   "metadata": {},
   "outputs": [],
   "source": []
  },
  {
   "cell_type": "code",
   "execution_count": 2,
   "id": "34a6f01c-723c-494f-b97b-cc4b3f44c1aa",
   "metadata": {},
   "outputs": [],
   "source": [
    "m123 = [0.1, 0.5, 1.0, 100]  # Slope breakpoints for initial mass function\n",
    "a12 = [-0.468, -1.178, -2.117]  # Slopes for initial mass function\n",
    "nbin12 = [5, 5, 20]\n",
    "\n",
    "# Output times for the evolution\n",
    "tout = np.array([11000])\n",
    "\n",
    "# Integration settings\n",
    "N0 = 5e5  # Normalization of stars\n",
    "Ndot = -0.0001  # Regulates how low mass objects are depleted default -20, 0 for 47 Tuc\n",
    "tcc = 0  # Core collapse time\n",
    "NS_ret = 0.1  # Initial neutron star retention\n",
    "BH_ret_int = 1  # Initial Black Hole retention\n",
    "BH_ret_dyn = 0.00235  # Dynamical Black Hole retention\n",
    "FeHe = -0.7  # Metallicity"
   ]
  },
  {
   "cell_type": "code",
   "execution_count": 3,
   "id": "97069263-e4ac-4fc8-b7a8-889c8b5aa94b",
   "metadata": {},
   "outputs": [
    {
     "name": "stderr",
     "output_type": "stream",
     "text": [
      "/home/peter/research/ssptools/ssptools/evolve_mf_3.py:321: RuntimeWarning: divide by zero encountered in true_divide\n",
      "  As = Ns / P1\n",
      "/home/peter/research/ssptools/ssptools/evolve_mf_3.py:246: RuntimeWarning: divide by zero encountered in double_scalars\n",
      "  Aj = Nj / self.Pk(alphaj, 1, m1, mto)\n"
     ]
    }
   ],
   "source": [
    "f = emf3.evolve_mf(\n",
    "    m123=m123,\n",
    "    a12=a12,\n",
    "    nbin12=nbin12,\n",
    "    tout=tout,\n",
    "    N0=N0,\n",
    "    Ndot=Ndot,\n",
    "    tcc=tcc,\n",
    "    NS_ret=NS_ret,\n",
    "    BH_ret_int=BH_ret_int,\n",
    "    BH_ret_dyn=BH_ret_dyn,\n",
    "    FeHe=FeHe,\n",
    "    natal_kicks=True,\n",
    "    vesc=100,\n",
    ")"
   ]
  },
  {
   "cell_type": "code",
   "execution_count": 4,
   "id": "da017f9e-c551-4859-af62-1498bc539396",
   "metadata": {},
   "outputs": [],
   "source": [
    "cs = f.Ns[-1] > 10 * f.Nmin\n",
    "cr = f.Nr[-1] > 10 * f.Nmin\n",
    "mj = np.r_[f.ms[-1][cs], f.mr[-1][cr]]\n",
    "Mj = np.r_[f.Ms[-1][cs], f.Mr[-1][cr]]\n",
    "dms = f.mes[-1][1:] - f.mes[-1][0:-1]\n",
    "nms = len(f.ms[-1][cs])"
   ]
  },
  {
   "cell_type": "code",
   "execution_count": 5,
   "id": "2602835a-9c1f-4571-8020-2d3397b18e92",
   "metadata": {},
   "outputs": [
    {
     "name": "stdout",
     "output_type": "stream",
     "text": [
      "[0.11851084 0.16351292 0.22560363 0.31127202 0.42947124 0.53616312\n",
      " 0.6158897  0.70747148 0.80754321]\n"
     ]
    }
   ],
   "source": [
    "print(mj[:nms])"
   ]
  },
  {
   "cell_type": "code",
   "execution_count": null,
   "id": "0c38ac10-8d32-4d05-b499-feae5d8b5d00",
   "metadata": {},
   "outputs": [],
   "source": []
  },
  {
   "cell_type": "code",
   "execution_count": null,
   "id": "1836d337-8903-4836-aed7-56802f6f2a76",
   "metadata": {},
   "outputs": [],
   "source": []
  },
  {
   "cell_type": "code",
   "execution_count": 6,
   "id": "ebab894f-00af-4d2b-b8e9-0157d436fcf0",
   "metadata": {},
   "outputs": [
    {
     "name": "stdout",
     "output_type": "stream",
     "text": [
      "mj  | q: 0.5 \t 0.75 \t 0.95\n",
      "-------------------------------\n",
      "0.12 \t 0.059 \t 0.089 \t 0.113\n",
      "0.16 \t 0.082 \t 0.123 \t 0.155\n",
      "0.23 \t 0.113 \t 0.169 \t 0.214\n",
      "0.31 \t 0.156 \t 0.233 \t 0.296\n",
      "0.43 \t 0.215 \t 0.322 \t 0.408\n",
      "0.54 \t 0.268 \t 0.402 \t 0.509\n",
      "0.62 \t 0.308 \t 0.462 \t 0.585\n",
      "0.71 \t 0.354 \t 0.531 \t 0.672\n",
      "0.81 \t 0.404 \t 0.606 \t 0.767\n"
     ]
    }
   ],
   "source": [
    "print(\"mj  | q: 0.5 \\t 0.75 \\t 0.95\")\n",
    "print(\"-------------------------------\")\n",
    "for i in range(nms):\n",
    "    print(f\"{mj[i]:.2f} \\t {mj[i]*0.5:.3f} \\t {mj[i]*0.75:.3f} \\t {mj[i]*0.95:.3f}\")"
   ]
  },
  {
   "cell_type": "code",
   "execution_count": null,
   "id": "15a8611b-de13-4001-be62-d00993c7e962",
   "metadata": {},
   "outputs": [],
   "source": []
  },
  {
   "cell_type": "code",
   "execution_count": 7,
   "id": "2dac2789-a4c2-43f8-ae7b-8c7b003bf6b1",
   "metadata": {},
   "outputs": [],
   "source": [
    "class BinaryShift:\n",
    "    def __init__(self, fb, q):\n",
    "        self.fb = fb\n",
    "        self.q = q\n",
    "\n",
    "    def dump(self):\n",
    "        print(f\"{self.fb = }\")\n",
    "        print(f\"{self.q = }\")\n",
    "\n",
    "    def shift_equal(self, mj, Mj, nms):\n",
    "\n",
    "        # dont mess with original\n",
    "        mj = mj.copy()\n",
    "        Mj = Mj.copy()\n",
    "\n",
    "        # loop through the mass bins\n",
    "        for i in range(nms):\n",
    "\n",
    "            print()\n",
    "            print(f\"current mj: {mj[i]:.3f}\")\n",
    "\n",
    "            # get mass of companion\n",
    "            companion_mass = mj[i] * self.q\n",
    "            print(f\"{companion_mass = :.3f}\")\n",
    "\n",
    "            # mass of new bin\n",
    "            mj_bin = mj[i] + companion_mass\n",
    "            print(f\"new mass: {mj_bin:.3f} \")\n",
    "\n",
    "            # if the companion is smaller than the lightest MS bin, just skip it\n",
    "            if companion_mass < np.min(mj):\n",
    "                print(\n",
    "                    f\"companion mass {companion_mass:.3f} smaller than {np.min(mj):.3f}, skipping\"\n",
    "                )\n",
    "                pass\n",
    "            else:\n",
    "\n",
    "                # total mass in binaries for this new bin\n",
    "                Mj_bin = Mj[i] * self.fb\n",
    "                print(f\"total mass in binaries {Mj_bin:.3f}\")\n",
    "\n",
    "                # add in the new mean mass bin\n",
    "                mj = np.append(mj, mj_bin)\n",
    "\n",
    "                # add in the new total mass bin\n",
    "                Mj = np.append(Mj, Mj_bin)\n",
    "\n",
    "                # remove the mass from the old total mass bin\n",
    "                Mj[i] -= Mj_bin\n",
    "        return mj, Mj\n",
    "\n",
    "    def shift_q(self, mj, Mj, nms):\n",
    "\n",
    "        # dont mess with original\n",
    "        mj = mj.copy()\n",
    "        Mj = Mj.copy()\n",
    "\n",
    "        # loop through the mass bins\n",
    "        for i in range(nms):\n",
    "            print()\n",
    "            print(f\"current mj: {mj[i]:.3f}\")\n",
    "\n",
    "            # get mass of companion\n",
    "            companion_mass = mj[i] * self.q\n",
    "            print(f\"{companion_mass = :.3f}\")\n",
    "\n",
    "            # if the companion is smaller than the lightest MS bin, just skip it\n",
    "            if companion_mass < np.min(mj):\n",
    "                print(\n",
    "                    f\"companion mass {companion_mass:.3f} smaller than {np.min(mj):.3f}, skipping\"\n",
    "                )\n",
    "                pass\n",
    "            else:\n",
    "\n",
    "                # find closest bin to companion mass\n",
    "                companion_idx = np.argmin(np.abs(mj[:nms] - companion_mass))\n",
    "                print(f\"closest {companion_idx = }\")\n",
    "                # here change the mass of the companion to the mass of the closest bin (TODO: do we want this?)\n",
    "                companion_mass = mj[companion_idx]\n",
    "                print(f\"closest {companion_mass = :.3f}\")\n",
    "\n",
    "                # mass of new bin\n",
    "                binary_mj = mj[i] + companion_mass\n",
    "                print(f\"new mass: {binary_mj:.3f} \")\n",
    "\n",
    "                # get total mass of new binary bin, will be (fb * mj) + (fb * compaion mass bin)\n",
    "                primary_Mj = self.fb * Mj[i]\n",
    "                companion_Mj = self.fb * Mj[companion_idx]\n",
    "\n",
    "                binary_Mj = primary_Mj + companion_Mj\n",
    "\n",
    "                # add in new binary mean mass bin\n",
    "                mj = np.append(mj, binary_mj)\n",
    "\n",
    "                # add total mass to new binary bin\n",
    "                Mj = np.append(Mj, binary_Mj)\n",
    "\n",
    "                # remove mass from both primary, companion bins\n",
    "                Mj[i] -= primary_Mj\n",
    "                Mj[companion_idx] -= companion_Mj\n",
    "\n",
    "        return mj, Mj"
   ]
  },
  {
   "cell_type": "code",
   "execution_count": 8,
   "id": "f8c1a2fc-f46c-4cd5-b5c9-64476ed9c6c1",
   "metadata": {},
   "outputs": [],
   "source": [
    "bs = BinaryShift(q=0.5, fb=0.3)"
   ]
  },
  {
   "cell_type": "code",
   "execution_count": 9,
   "id": "92db3777-fa29-4d89-aea9-ee8c8789f6f0",
   "metadata": {},
   "outputs": [
    {
     "name": "stdout",
     "output_type": "stream",
     "text": [
      "self.fb = 0.3\n",
      "self.q = 0.5\n"
     ]
    }
   ],
   "source": [
    "bs.dump()"
   ]
  },
  {
   "cell_type": "code",
   "execution_count": 10,
   "id": "08e85231-a2f4-4bad-b392-c1f8c86b357a",
   "metadata": {},
   "outputs": [
    {
     "name": "stdout",
     "output_type": "stream",
     "text": [
      "\n",
      "current mj: 0.119\n",
      "companion_mass = 0.059\n",
      "companion mass 0.059 smaller than 0.119, skipping\n",
      "\n",
      "current mj: 0.164\n",
      "companion_mass = 0.082\n",
      "companion mass 0.082 smaller than 0.119, skipping\n",
      "\n",
      "current mj: 0.226\n",
      "companion_mass = 0.113\n",
      "companion mass 0.113 smaller than 0.119, skipping\n",
      "\n",
      "current mj: 0.311\n",
      "companion_mass = 0.156\n",
      "closest companion_idx = 1\n",
      "closest companion_mass = 0.164\n",
      "new mass: 0.475 \n",
      "\n",
      "current mj: 0.429\n",
      "companion_mass = 0.215\n",
      "closest companion_idx = 2\n",
      "closest companion_mass = 0.226\n",
      "new mass: 0.655 \n",
      "\n",
      "current mj: 0.536\n",
      "companion_mass = 0.268\n",
      "closest companion_idx = 2\n",
      "closest companion_mass = 0.226\n",
      "new mass: 0.762 \n",
      "\n",
      "current mj: 0.616\n",
      "companion_mass = 0.308\n",
      "closest companion_idx = 3\n",
      "closest companion_mass = 0.311\n",
      "new mass: 0.927 \n",
      "\n",
      "current mj: 0.707\n",
      "companion_mass = 0.354\n",
      "closest companion_idx = 3\n",
      "closest companion_mass = 0.311\n",
      "new mass: 1.019 \n",
      "\n",
      "current mj: 0.808\n",
      "companion_mass = 0.404\n",
      "closest companion_idx = 4\n",
      "closest companion_mass = 0.429\n",
      "new mass: 1.237 \n"
     ]
    }
   ],
   "source": [
    "mj_new, Mj_new = bs.shift_q(mj=mj, Mj=Mj, nms=nms)"
   ]
  },
  {
   "cell_type": "code",
   "execution_count": 11,
   "id": "66d03701-3246-4884-b3e6-83370fbac8a4",
   "metadata": {},
   "outputs": [
    {
     "data": {
      "text/plain": [
       "array([0.11851084, 0.16351292, 0.22560363, 0.31127202, 0.42947124,\n",
       "       0.53616312, 0.6158897 , 0.70747148, 0.80754321, 0.6158897 ,\n",
       "       0.70747148, 0.80754321, 0.92779583, 1.11896564, 1.40869427,\n",
       "       2.81071458, 3.53848001, 4.45468241, 5.60811288, 7.06019582,\n",
       "       8.88825993])"
      ]
     },
     "execution_count": 11,
     "metadata": {},
     "output_type": "execute_result"
    }
   ],
   "source": [
    "mj"
   ]
  },
  {
   "cell_type": "code",
   "execution_count": 12,
   "id": "aa619ff4-2291-4a03-a667-927b60a37b5e",
   "metadata": {},
   "outputs": [
    {
     "data": {
      "text/plain": [
       "array([0.11851084, 0.16351292, 0.22560363, 0.31127202, 0.42947124,\n",
       "       0.53616312, 0.6158897 , 0.70747148, 0.80754321, 0.6158897 ,\n",
       "       0.70747148, 0.80754321, 0.92779583, 1.11896564, 1.40869427,\n",
       "       2.81071458, 3.53848001, 4.45468241, 5.60811288, 7.06019582,\n",
       "       8.88825993, 0.47478494, 0.65507486, 0.76176675, 0.92716171,\n",
       "       1.0187435 , 1.23701444])"
      ]
     },
     "execution_count": 12,
     "metadata": {},
     "output_type": "execute_result"
    }
   ],
   "source": [
    "mj_new"
   ]
  },
  {
   "cell_type": "code",
   "execution_count": 13,
   "id": "fd23c148-f534-43a5-8817-34e7363465e2",
   "metadata": {},
   "outputs": [
    {
     "data": {
      "text/plain": [
       "(0.0, 1.5)"
      ]
     },
     "execution_count": 13,
     "metadata": {},
     "output_type": "execute_result"
    },
    {
     "data": {
      "image/png": "[encoded data removed]",
      "text/plain": [
       "<Figure size 576x432 with 1 Axes>"
      ]
     },
     "metadata": {
      "image/png": {
       "height": 378,
       "width": 507
      }
     },
     "output_type": "display_data"
    }
   ],
   "source": [
    "plt.figure()\n",
    "plt.scatter(mj, Mj, label=\"Original MF\")\n",
    "plt.yscale(\"log\")\n",
    "plt.scatter(mj_new, Mj_new, label=\"MF with Binaries\", marker=\"x\")\n",
    "plt.legend()\n",
    "plt.ylabel(r\"Mj [$M_\\odot$]\")\n",
    "plt.xlabel(r\"mj [$M_\\odot$]\")\n",
    "plt.xlim(0, 1.5)"
   ]
  },
  {
   "cell_type": "code",
   "execution_count": null,
   "id": "7156f7aa-cc55-4474-9aab-ac462241b385",
   "metadata": {},
   "outputs": [],
   "source": []
  },
  {
   "cell_type": "markdown",
   "id": "4b7f88bb-6ac7-4d8c-8ee6-2fc89feca1f6",
   "metadata": {},
   "source": [
    "I think I'd like to switch to passing in the emf3 object and using that to determine the MS, WD bins instead of passing in nms"
   ]
  },
  {
   "cell_type": "markdown",
   "id": "70732332-31f5-459b-8a07-b9b876d1ec02",
   "metadata": {},
   "source": [
    "I think this is working with values other than $q=1$?"
   ]
  },
  {
   "cell_type": "code",
   "execution_count": 14,
   "id": "d1c82eb5-ba27-49e2-a071-d3ddb85896a4",
   "metadata": {},
   "outputs": [
    {
     "name": "stdout",
     "output_type": "stream",
     "text": [
      "np.sum(Mj) = 247566.655 np.sum(Mj_new) = 247566.655\n"
     ]
    }
   ],
   "source": [
    "print(f\"{np.sum(Mj) = :.3f} {np.sum(Mj_new) = :.3f}\")"
   ]
  },
  {
   "cell_type": "code",
   "execution_count": null,
   "id": "fd5f15c1-284c-4130-97cc-0aef9a7027fc",
   "metadata": {},
   "outputs": [],
   "source": []
  },
  {
   "cell_type": "code",
   "execution_count": null,
   "id": "5bca5d1f-9e4a-44c1-b5b7-3e43fc352396",
   "metadata": {},
   "outputs": [],
   "source": []
  }
 ],
 "metadata": {
  "kernelspec": {
   "display_name": "gcfit",
   "language": "python",
   "name": "gcfit"
  },
  "language_info": {
   "codemirror_mode": {
    "name": "ipython",
    "version": 3
   },
   "file_extension": ".py",
   "mimetype": "text/x-python",
   "name": "python",
   "nbconvert_exporter": "python",
   "pygments_lexer": "ipython3",
   "version": "3.8.12"
  },
  "nteract": {
   "version": "0.28.0"
  }
 },
 "nbformat": 4,
 "nbformat_minor": 5
}
