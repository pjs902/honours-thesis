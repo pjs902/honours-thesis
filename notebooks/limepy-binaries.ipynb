{
 "cells": [
  {
   "cell_type": "code",
   "execution_count": 1,
   "id": "94217554-aebf-4de3-b5af-b7a19cab0dad",
   "metadata": {},
   "outputs": [],
   "source": [
    "%matplotlib inline\n",
    "%config InlineBackend.figure_format = \"retina\"\n",
    "\n",
    "import matplotlib.pyplot as plt\n",
    "import seaborn\n",
    "\n",
    "seaborn.set(context=\"notebook\", style=\"darkgrid\")\n",
    "plt.rcParams[\"figure.figsize\"] = (8, 6)\n",
    "from tqdm.auto import tqdm, trange\n",
    "\n",
    "from ssptools import evolve_mf_3 as emf3\n",
    "\n",
    "import numpy as np\n",
    "import scipy as sp\n",
    "import astropy.units as u\n",
    "from astropy.constants import c"
   ]
  },
  {
   "cell_type": "code",
   "execution_count": null,
   "id": "1863b5c3-2883-4478-84ec-3b0c11208070",
   "metadata": {},
   "outputs": [],
   "source": []
  },
  {
   "cell_type": "code",
   "execution_count": null,
   "id": "dcb88432-f76a-409e-8b11-007a5cc6728a",
   "metadata": {},
   "outputs": [],
   "source": []
  },
  {
   "cell_type": "code",
   "execution_count": 2,
   "id": "34a6f01c-723c-494f-b97b-cc4b3f44c1aa",
   "metadata": {},
   "outputs": [],
   "source": [
    "m123 = [0.1, 0.5, 1.0, 100]  # Slope breakpoints for initial mass function\n",
    "a12 = [-0.468, -1.178, -2.117]  # Slopes for initial mass function\n",
    "nbin12 = [5, 5, 20]\n",
    "\n",
    "# Output times for the evolution\n",
    "tout = np.array([11000])\n",
    "\n",
    "# Integration settings\n",
    "N0 = 5e5  # Normalization of stars\n",
    "Ndot = -0.0001  # Regulates how low mass objects are depleted default -20, 0 for 47 Tuc\n",
    "tcc = 0  # Core collapse time\n",
    "NS_ret = 0.1  # Initial neutron star retention\n",
    "BH_ret_int = 1  # Initial Black Hole retention\n",
    "BH_ret_dyn = 0.00235  # Dynamical Black Hole retention\n",
    "FeHe = -0.7  # Metallicity"
   ]
  },
  {
   "cell_type": "code",
   "execution_count": 3,
   "id": "97069263-e4ac-4fc8-b7a8-889c8b5aa94b",
   "metadata": {},
   "outputs": [
    {
     "name": "stderr",
     "output_type": "stream",
     "text": [
      "/home/peter/research/ssptools/ssptools/evolve_mf_3.py:321: RuntimeWarning: divide by zero encountered in true_divide\n",
      "  As = Ns / P1\n",
      "/home/peter/research/ssptools/ssptools/evolve_mf_3.py:246: RuntimeWarning: divide by zero encountered in double_scalars\n",
      "  Aj = Nj / self.Pk(alphaj, 1, m1, mto)\n"
     ]
    }
   ],
   "source": [
    "f = emf3.evolve_mf(\n",
    "    m123=m123,\n",
    "    a12=a12,\n",
    "    nbin12=nbin12,\n",
    "    tout=tout,\n",
    "    N0=N0,\n",
    "    Ndot=Ndot,\n",
    "    tcc=tcc,\n",
    "    NS_ret=NS_ret,\n",
    "    BH_ret_int=BH_ret_int,\n",
    "    BH_ret_dyn=BH_ret_dyn,\n",
    "    FeHe=FeHe,\n",
    "    natal_kicks=True,\n",
    "    vesc=100,\n",
    ")"
   ]
  },
  {
   "cell_type": "code",
   "execution_count": 4,
   "id": "da017f9e-c551-4859-af62-1498bc539396",
   "metadata": {},
   "outputs": [],
   "source": [
    "cs = f.Ns[-1] > 10 * f.Nmin\n",
    "cr = f.Nr[-1] > 10 * f.Nmin\n",
    "mj = np.r_[f.ms[-1][cs], f.mr[-1][cr]]\n",
    "Mj = np.r_[f.Ms[-1][cs], f.Mr[-1][cr]]\n",
    "dms = f.mes[-1][1:] - f.mes[-1][0:-1]\n",
    "nms = len(f.ms[-1][cs])"
   ]
  },
  {
   "cell_type": "code",
   "execution_count": 5,
   "id": "2602835a-9c1f-4571-8020-2d3397b18e92",
   "metadata": {},
   "outputs": [
    {
     "name": "stdout",
     "output_type": "stream",
     "text": [
      "[0.11851084 0.16351292 0.22560363 0.31127202 0.42947124 0.53616312\n",
      " 0.6158897  0.70747148 0.80754321]\n"
     ]
    }
   ],
   "source": [
    "print(mj[:nms])"
   ]
  },
  {
   "cell_type": "code",
   "execution_count": null,
   "id": "0c38ac10-8d32-4d05-b499-feae5d8b5d00",
   "metadata": {},
   "outputs": [],
   "source": []
  },
  {
   "cell_type": "code",
   "execution_count": null,
   "id": "1836d337-8903-4836-aed7-56802f6f2a76",
   "metadata": {},
   "outputs": [],
   "source": []
  },
  {
   "cell_type": "code",
   "execution_count": 6,
   "id": "ebab894f-00af-4d2b-b8e9-0157d436fcf0",
   "metadata": {},
   "outputs": [
    {
     "name": "stdout",
     "output_type": "stream",
     "text": [
      "mj  | q: 0.5 \t 0.75 \t 0.95\n",
      "-------------------------------\n",
      "0.12 \t 0.059 \t 0.089 \t 0.113\n",
      "0.16 \t 0.082 \t 0.123 \t 0.155\n",
      "0.23 \t 0.113 \t 0.169 \t 0.214\n",
      "0.31 \t 0.156 \t 0.233 \t 0.296\n",
      "0.43 \t 0.215 \t 0.322 \t 0.408\n",
      "0.54 \t 0.268 \t 0.402 \t 0.509\n",
      "0.62 \t 0.308 \t 0.462 \t 0.585\n",
      "0.71 \t 0.354 \t 0.531 \t 0.672\n",
      "0.81 \t 0.404 \t 0.606 \t 0.767\n"
     ]
    }
   ],
   "source": [
    "print(\"mj  | q: 0.5 \\t 0.75 \\t 0.95\")\n",
    "print(\"-------------------------------\")\n",
    "for i in range(nms):\n",
    "    print(f\"{mj[i]:.2f} \\t {mj[i]*0.5:.3f} \\t {mj[i]*0.75:.3f} \\t {mj[i]*0.95:.3f}\")"
   ]
  },
  {
   "cell_type": "code",
   "execution_count": null,
   "id": "15a8611b-de13-4001-be62-d00993c7e962",
   "metadata": {},
   "outputs": [],
   "source": []
  },
  {
   "cell_type": "code",
   "execution_count": 7,
   "id": "2dac2789-a4c2-43f8-ae7b-8c7b003bf6b1",
   "metadata": {},
   "outputs": [],
   "source": [
    "class BinaryShift:\n",
    "    def __init__(self, fb, q):\n",
    "        self.fb = fb\n",
    "        self.q = q\n",
    "\n",
    "    def dump(self):\n",
    "        print(f\"{self.fb = }\")\n",
    "        print(f\"{self.q = }\")\n",
    "\n",
    "    def shift(self, mj, Mj):\n",
    "        pass\n",
    "        # here we take out mass from one bin and add it to a new bin"
   ]
  },
  {
   "cell_type": "code",
   "execution_count": 8,
   "id": "f8c1a2fc-f46c-4cd5-b5c9-64476ed9c6c1",
   "metadata": {},
   "outputs": [],
   "source": [
    "bs = BinaryShift(q=2, fb=3)"
   ]
  },
  {
   "cell_type": "code",
   "execution_count": 9,
   "id": "92db3777-fa29-4d89-aea9-ee8c8789f6f0",
   "metadata": {},
   "outputs": [
    {
     "name": "stdout",
     "output_type": "stream",
     "text": [
      "self.fb = 3\n",
      "self.q = 2\n"
     ]
    }
   ],
   "source": [
    "bs.dump()"
   ]
  },
  {
   "cell_type": "code",
   "execution_count": null,
   "id": "08e85231-a2f4-4bad-b392-c1f8c86b357a",
   "metadata": {},
   "outputs": [],
   "source": []
  }
 ],
 "metadata": {
  "kernelspec": {
   "display_name": "gcfit",
   "language": "python",
   "name": "gcfit"
  },
  "language_info": {
   "codemirror_mode": {
    "name": "ipython",
    "version": 3
   },
   "file_extension": ".py",
   "mimetype": "text/x-python",
   "name": "python",
   "nbconvert_exporter": "python",
   "pygments_lexer": "ipython3",
   "version": "3.8.12"
  }
 },
 "nbformat": 4,
 "nbformat_minor": 5
}
