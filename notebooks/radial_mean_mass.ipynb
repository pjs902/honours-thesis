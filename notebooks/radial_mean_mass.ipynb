{
 "cells": [
  {
   "cell_type": "code",
   "execution_count": 1,
   "id": "93d19f8c-3d19-40f0-93e7-abc052e95016",
   "metadata": {},
   "outputs": [],
   "source": [
    "import numpy as np\n",
    "import pandas as pd\n",
    "import seaborn as sns\n",
    "import matplotlib.pyplot as plt\n",
    "\n",
    "%matplotlib inline\n",
    "%config InlineBackend.figure_format = \"retina\"\n",
    "\n",
    "\n",
    "# Some plotting config\n",
    "sns.set(\n",
    "    context=\"notebook\",\n",
    "    # style=\"ticks\",\n",
    "    style=\"darkgrid\",\n",
    "    font=\"Times New Roman\",\n",
    "    font_scale=1.75,\n",
    ")\n",
    "plt.rcParams[\"figure.figsize\"] = (10, 8)\n",
    "plt.rcParams[\"xtick.direction\"] = \"in\"\n",
    "plt.rcParams[\"ytick.direction\"] = \"in\"\n",
    "# plt.rcParams[\"xtick.top\"] = True\n",
    "# plt.rcParams[\"ytick.right\"] = True\n",
    "# plt.rcParams[\"xtick.bottom\"] = True\n",
    "# plt.rcParams[\"ytick.left\"] = True\n",
    "plt.rcParams[\"mathtext.fontset\"] = \"cm\"\n",
    "plt.rcParams[\"mathtext.fontset\"] = \"cm\"\n",
    "\n",
    "from scipy.stats import binned_statistic"
   ]
  },
  {
   "cell_type": "code",
   "execution_count": null,
   "id": "70edb032-4bdd-4559-8582-f3402a71e5ef",
   "metadata": {},
   "outputs": [],
   "source": []
  },
  {
   "cell_type": "code",
   "execution_count": null,
   "id": "373d22e5-c60e-4b1b-9aed-40b0b50cda83",
   "metadata": {},
   "outputs": [],
   "source": []
  },
  {
   "cell_type": "code",
   "execution_count": 2,
   "id": "a65126e7-bd5f-4bac-b01b-71e279b6234b",
   "metadata": {},
   "outputs": [
    {
     "data": {
      "text/html": [
       "<div>\n",
       "<style scoped>\n",
       "    .dataframe tbody tr th:only-of-type {\n",
       "        vertical-align: middle;\n",
       "    }\n",
       "\n",
       "    .dataframe tbody tr th {\n",
       "        vertical-align: top;\n",
       "    }\n",
       "\n",
       "    .dataframe thead th {\n",
       "        text-align: right;\n",
       "    }\n",
       "</style>\n",
       "<table border=\"1\" class=\"dataframe\">\n",
       "  <thead>\n",
       "    <tr style=\"text-align: right;\">\n",
       "      <th></th>\n",
       "      <th>x</th>\n",
       "      <th>y</th>\n",
       "      <th>z</th>\n",
       "      <th>vx</th>\n",
       "      <th>vy</th>\n",
       "      <th>vz</th>\n",
       "      <th>mass</th>\n",
       "      <th>type</th>\n",
       "    </tr>\n",
       "  </thead>\n",
       "  <tbody>\n",
       "    <tr>\n",
       "      <th>0</th>\n",
       "      <td>-1.479036</td>\n",
       "      <td>-6.269778</td>\n",
       "      <td>-24.813127</td>\n",
       "      <td>-1.863882</td>\n",
       "      <td>0.638368</td>\n",
       "      <td>-11.748353</td>\n",
       "      <td>0.118467</td>\n",
       "      <td>1.0</td>\n",
       "    </tr>\n",
       "    <tr>\n",
       "      <th>1</th>\n",
       "      <td>-1.557603</td>\n",
       "      <td>8.548289</td>\n",
       "      <td>1.805334</td>\n",
       "      <td>-6.614849</td>\n",
       "      <td>8.222135</td>\n",
       "      <td>0.536496</td>\n",
       "      <td>0.118467</td>\n",
       "      <td>1.0</td>\n",
       "    </tr>\n",
       "    <tr>\n",
       "      <th>2</th>\n",
       "      <td>0.288075</td>\n",
       "      <td>9.726241</td>\n",
       "      <td>-1.900443</td>\n",
       "      <td>1.743947</td>\n",
       "      <td>-0.095768</td>\n",
       "      <td>-2.373282</td>\n",
       "      <td>0.118467</td>\n",
       "      <td>1.0</td>\n",
       "    </tr>\n",
       "    <tr>\n",
       "      <th>3</th>\n",
       "      <td>7.672425</td>\n",
       "      <td>-2.773247</td>\n",
       "      <td>-6.980231</td>\n",
       "      <td>-6.213951</td>\n",
       "      <td>-0.698677</td>\n",
       "      <td>-12.633382</td>\n",
       "      <td>0.118467</td>\n",
       "      <td>1.0</td>\n",
       "    </tr>\n",
       "    <tr>\n",
       "      <th>4</th>\n",
       "      <td>3.044291</td>\n",
       "      <td>8.275238</td>\n",
       "      <td>6.665430</td>\n",
       "      <td>1.614730</td>\n",
       "      <td>-13.725675</td>\n",
       "      <td>3.292908</td>\n",
       "      <td>0.118467</td>\n",
       "      <td>1.0</td>\n",
       "    </tr>\n",
       "  </tbody>\n",
       "</table>\n",
       "</div>"
      ],
      "text/plain": [
       "          x         y          z        vx         vy         vz      mass  \\\n",
       "0 -1.479036 -6.269778 -24.813127 -1.863882   0.638368 -11.748353  0.118467   \n",
       "1 -1.557603  8.548289   1.805334 -6.614849   8.222135   0.536496  0.118467   \n",
       "2  0.288075  9.726241  -1.900443  1.743947  -0.095768  -2.373282  0.118467   \n",
       "3  7.672425 -2.773247  -6.980231 -6.213951  -0.698677 -12.633382  0.118467   \n",
       "4  3.044291  8.275238   6.665430  1.614730 -13.725675   3.292908  0.118467   \n",
       "\n",
       "   type  \n",
       "0   1.0  \n",
       "1   1.0  \n",
       "2   1.0  \n",
       "3   1.0  \n",
       "4   1.0  "
      ]
     },
     "execution_count": 2,
     "metadata": {},
     "output_type": "execute_result"
    }
   ],
   "source": [
    "data = pd.read_csv(\"/home/peter/research/47-tuc-pulsar-fitting/notebooks/47Tuc.csv\")\n",
    "data.head()"
   ]
  },
  {
   "cell_type": "code",
   "execution_count": 3,
   "id": "da7d0d78-f4b8-49a5-8a1a-4ccd90621b17",
   "metadata": {},
   "outputs": [],
   "source": [
    "data[\"r\"] = np.sqrt(data.x**2 + data.y**2 + data.z**2)"
   ]
  },
  {
   "cell_type": "code",
   "execution_count": 4,
   "id": "e8fc10c8-15bb-44d5-be86-81c7a4422067",
   "metadata": {},
   "outputs": [],
   "source": [
    "sort_idx = np.argsort(data.r)"
   ]
  },
  {
   "cell_type": "code",
   "execution_count": 5,
   "id": "337de6aa-2e8d-431d-bd60-9037238f14e1",
   "metadata": {},
   "outputs": [
    {
     "data": {
      "text/html": [
       "<div>\n",
       "<style scoped>\n",
       "    .dataframe tbody tr th:only-of-type {\n",
       "        vertical-align: middle;\n",
       "    }\n",
       "\n",
       "    .dataframe tbody tr th {\n",
       "        vertical-align: top;\n",
       "    }\n",
       "\n",
       "    .dataframe thead th {\n",
       "        text-align: right;\n",
       "    }\n",
       "</style>\n",
       "<table border=\"1\" class=\"dataframe\">\n",
       "  <thead>\n",
       "    <tr style=\"text-align: right;\">\n",
       "      <th></th>\n",
       "      <th>x</th>\n",
       "      <th>y</th>\n",
       "      <th>z</th>\n",
       "      <th>vx</th>\n",
       "      <th>vy</th>\n",
       "      <th>vz</th>\n",
       "      <th>mass</th>\n",
       "      <th>type</th>\n",
       "      <th>r</th>\n",
       "    </tr>\n",
       "  </thead>\n",
       "  <tbody>\n",
       "    <tr>\n",
       "      <th>0</th>\n",
       "      <td>-1.479036</td>\n",
       "      <td>-6.269778</td>\n",
       "      <td>-24.813127</td>\n",
       "      <td>-1.863882</td>\n",
       "      <td>0.638368</td>\n",
       "      <td>-11.748353</td>\n",
       "      <td>0.118467</td>\n",
       "      <td>1.0</td>\n",
       "      <td>25.635696</td>\n",
       "    </tr>\n",
       "    <tr>\n",
       "      <th>75990</th>\n",
       "      <td>6.118833</td>\n",
       "      <td>-1.682137</td>\n",
       "      <td>-2.499204</td>\n",
       "      <td>7.138200</td>\n",
       "      <td>-3.694892</td>\n",
       "      <td>3.275575</td>\n",
       "      <td>0.118467</td>\n",
       "      <td>1.0</td>\n",
       "      <td>6.820243</td>\n",
       "    </tr>\n",
       "    <tr>\n",
       "      <th>75989</th>\n",
       "      <td>-38.015524</td>\n",
       "      <td>5.886700</td>\n",
       "      <td>7.867496</td>\n",
       "      <td>1.944502</td>\n",
       "      <td>-2.024130</td>\n",
       "      <td>-4.525128</td>\n",
       "      <td>0.118467</td>\n",
       "      <td>1.0</td>\n",
       "      <td>39.264880</td>\n",
       "    </tr>\n",
       "    <tr>\n",
       "      <th>75988</th>\n",
       "      <td>-6.698995</td>\n",
       "      <td>-16.313981</td>\n",
       "      <td>11.088310</td>\n",
       "      <td>-9.930819</td>\n",
       "      <td>4.469772</td>\n",
       "      <td>1.351352</td>\n",
       "      <td>0.118467</td>\n",
       "      <td>1.0</td>\n",
       "      <td>20.832022</td>\n",
       "    </tr>\n",
       "    <tr>\n",
       "      <th>75987</th>\n",
       "      <td>4.141796</td>\n",
       "      <td>-0.397398</td>\n",
       "      <td>-2.205212</td>\n",
       "      <td>-6.394998</td>\n",
       "      <td>-10.169086</td>\n",
       "      <td>-21.169573</td>\n",
       "      <td>0.118467</td>\n",
       "      <td>1.0</td>\n",
       "      <td>4.709072</td>\n",
       "    </tr>\n",
       "    <tr>\n",
       "      <th>...</th>\n",
       "      <td>...</td>\n",
       "      <td>...</td>\n",
       "      <td>...</td>\n",
       "      <td>...</td>\n",
       "      <td>...</td>\n",
       "      <td>...</td>\n",
       "      <td>...</td>\n",
       "      <td>...</td>\n",
       "      <td>...</td>\n",
       "    </tr>\n",
       "    <tr>\n",
       "      <th>1726864</th>\n",
       "      <td>-0.124305</td>\n",
       "      <td>-0.124865</td>\n",
       "      <td>0.017542</td>\n",
       "      <td>2.103576</td>\n",
       "      <td>6.037834</td>\n",
       "      <td>6.390812</td>\n",
       "      <td>7.058784</td>\n",
       "      <td>5.0</td>\n",
       "      <td>0.177061</td>\n",
       "    </tr>\n",
       "    <tr>\n",
       "      <th>1726863</th>\n",
       "      <td>0.208532</td>\n",
       "      <td>-0.102989</td>\n",
       "      <td>0.061036</td>\n",
       "      <td>1.445100</td>\n",
       "      <td>0.412396</td>\n",
       "      <td>9.769983</td>\n",
       "      <td>7.058784</td>\n",
       "      <td>5.0</td>\n",
       "      <td>0.240453</td>\n",
       "    </tr>\n",
       "    <tr>\n",
       "      <th>1726862</th>\n",
       "      <td>-0.027959</td>\n",
       "      <td>0.066826</td>\n",
       "      <td>0.022426</td>\n",
       "      <td>-3.901048</td>\n",
       "      <td>-0.678244</td>\n",
       "      <td>-1.718351</td>\n",
       "      <td>7.058784</td>\n",
       "      <td>5.0</td>\n",
       "      <td>0.075831</td>\n",
       "    </tr>\n",
       "    <tr>\n",
       "      <th>1726869</th>\n",
       "      <td>-0.039120</td>\n",
       "      <td>-0.096623</td>\n",
       "      <td>0.162835</td>\n",
       "      <td>-5.158395</td>\n",
       "      <td>0.990295</td>\n",
       "      <td>3.177136</td>\n",
       "      <td>7.058784</td>\n",
       "      <td>5.0</td>\n",
       "      <td>0.193343</td>\n",
       "    </tr>\n",
       "    <tr>\n",
       "      <th>1726878</th>\n",
       "      <td>0.081935</td>\n",
       "      <td>0.089966</td>\n",
       "      <td>0.225277</td>\n",
       "      <td>1.414389</td>\n",
       "      <td>-4.656198</td>\n",
       "      <td>-8.341869</td>\n",
       "      <td>7.058784</td>\n",
       "      <td>5.0</td>\n",
       "      <td>0.256041</td>\n",
       "    </tr>\n",
       "  </tbody>\n",
       "</table>\n",
       "<p>1726879 rows × 9 columns</p>\n",
       "</div>"
      ],
      "text/plain": [
       "                 x          y          z        vx         vy         vz  \\\n",
       "0        -1.479036  -6.269778 -24.813127 -1.863882   0.638368 -11.748353   \n",
       "75990     6.118833  -1.682137  -2.499204  7.138200  -3.694892   3.275575   \n",
       "75989   -38.015524   5.886700   7.867496  1.944502  -2.024130  -4.525128   \n",
       "75988    -6.698995 -16.313981  11.088310 -9.930819   4.469772   1.351352   \n",
       "75987     4.141796  -0.397398  -2.205212 -6.394998 -10.169086 -21.169573   \n",
       "...            ...        ...        ...       ...        ...        ...   \n",
       "1726864  -0.124305  -0.124865   0.017542  2.103576   6.037834   6.390812   \n",
       "1726863   0.208532  -0.102989   0.061036  1.445100   0.412396   9.769983   \n",
       "1726862  -0.027959   0.066826   0.022426 -3.901048  -0.678244  -1.718351   \n",
       "1726869  -0.039120  -0.096623   0.162835 -5.158395   0.990295   3.177136   \n",
       "1726878   0.081935   0.089966   0.225277  1.414389  -4.656198  -8.341869   \n",
       "\n",
       "             mass  type          r  \n",
       "0        0.118467   1.0  25.635696  \n",
       "75990    0.118467   1.0   6.820243  \n",
       "75989    0.118467   1.0  39.264880  \n",
       "75988    0.118467   1.0  20.832022  \n",
       "75987    0.118467   1.0   4.709072  \n",
       "...           ...   ...        ...  \n",
       "1726864  7.058784   5.0   0.177061  \n",
       "1726863  7.058784   5.0   0.240453  \n",
       "1726862  7.058784   5.0   0.075831  \n",
       "1726869  7.058784   5.0   0.193343  \n",
       "1726878  7.058784   5.0   0.256041  \n",
       "\n",
       "[1726879 rows x 9 columns]"
      ]
     },
     "execution_count": 5,
     "metadata": {},
     "output_type": "execute_result"
    }
   ],
   "source": [
    "data.sort_values(\"mass\")"
   ]
  },
  {
   "cell_type": "code",
   "execution_count": 6,
   "id": "3a15a185-ef0f-4c4b-ae4b-40d7aaaa69bb",
   "metadata": {},
   "outputs": [
    {
     "data": {
      "text/plain": [
       "[<matplotlib.lines.Line2D at 0x7f57af3aae50>]"
      ]
     },
     "execution_count": 6,
     "metadata": {},
     "output_type": "execute_result"
    },
    {
     "data": {
      "image/png": "[encoded data removed]",
      "text/plain": [
       "<Figure size 720x576 with 1 Axes>"
      ]
     },
     "metadata": {
      "image/png": {
       "height": 470,
       "width": 585
      }
     },
     "output_type": "display_data"
    }
   ],
   "source": [
    "plt.plot(data.r, data.mass)"
   ]
  },
  {
   "cell_type": "code",
   "execution_count": 7,
   "id": "675fc358-34a7-478f-9d56-e5fc3fb69150",
   "metadata": {},
   "outputs": [],
   "source": [
    "stats = binned_statistic(data.r, data.mass, bins=70)"
   ]
  },
  {
   "cell_type": "code",
   "execution_count": 8,
   "id": "ed4e34c7-6d12-41e5-bebd-62b6596feb5d",
   "metadata": {},
   "outputs": [
    {
     "data": {
      "text/plain": [
       "70"
      ]
     },
     "execution_count": 8,
     "metadata": {},
     "output_type": "execute_result"
    }
   ],
   "source": [
    "len(stats[0])"
   ]
  },
  {
   "cell_type": "code",
   "execution_count": 9,
   "id": "0a12a05e-e7b1-435d-9c62-032e6b49a814",
   "metadata": {},
   "outputs": [],
   "source": [
    "bin_centers = np.array(\n",
    "    [(stats[1][i] + stats[1][i + 1]) / 2 for i in range(len(stats[1]) - 1)]\n",
    ")"
   ]
  },
  {
   "cell_type": "code",
   "execution_count": 10,
   "id": "00796b22-e4f9-410c-9ed7-98a416c57716",
   "metadata": {},
   "outputs": [],
   "source": [
    "plt.rcParams.update(\n",
    "    {\n",
    "        \"text.usetex\": True,\n",
    "    }\n",
    ")"
   ]
  },
  {
   "cell_type": "code",
   "execution_count": 1,
   "id": "199216da-6683-4768-959e-7b0038ea3f86",
   "metadata": {},
   "outputs": [
    {
     "ename": "NameError",
     "evalue": "name 'plt' is not defined",
     "output_type": "error",
     "traceback": [
      "\u001b[0;31m---------------------------------------------------------------------------\u001b[0m",
      "\u001b[0;31mNameError\u001b[0m                                 Traceback (most recent call last)",
      "Input \u001b[0;32mIn [1]\u001b[0m, in \u001b[0;36m<module>\u001b[0;34m\u001b[0m\n\u001b[0;32m----> 1\u001b[0m \u001b[43mplt\u001b[49m\u001b[38;5;241m.\u001b[39mfigure()\n\u001b[1;32m      2\u001b[0m sns\u001b[38;5;241m.\u001b[39mlineplot(x\u001b[38;5;241m=\u001b[39mbin_centers[:\u001b[38;5;241m-\u001b[39m\u001b[38;5;241m2\u001b[39m], y\u001b[38;5;241m=\u001b[39mstats[\u001b[38;5;241m0\u001b[39m][:\u001b[38;5;241m-\u001b[39m\u001b[38;5;241m2\u001b[39m], lw\u001b[38;5;241m=\u001b[39m\u001b[38;5;241m2\u001b[39m)\n\u001b[1;32m      3\u001b[0m plt\u001b[38;5;241m.\u001b[39mxlabel(\u001b[38;5;124mr\u001b[39m\u001b[38;5;124m\"\u001b[39m\u001b[38;5;124m3D Distance from cluster centre [pc]\u001b[39m\u001b[38;5;124m\"\u001b[39m)\n",
      "\u001b[0;31mNameError\u001b[0m: name 'plt' is not defined"
     ]
    }
   ],
   "source": [
    "plt.figure()\n",
    "sns.lineplot(x=bin_centers[:-2], y=stats[0][:-2], lw=2)\n",
    "plt.xlabel(r\"3D Distance from cluster centre [pc]\")\n",
    "plt.ylabel(r\"Mean Mass [$\\mathrm{M}_\\odot$]\")\n",
    "plt.tight_layout()\n",
    "plt.savefig(\"radial_mean_mass.png\", dpi=300)"
   ]
  },
  {
   "cell_type": "code",
   "execution_count": null,
   "id": "b5851c75-e155-4a56-8564-dcdb62467b8a",
   "metadata": {},
   "outputs": [],
   "source": []
  }
 ],
 "metadata": {
  "kernelspec": {
   "display_name": "gcfit",
   "language": "python",
   "name": "gcfit"
  },
  "language_info": {
   "codemirror_mode": {
    "name": "ipython",
    "version": 3
   },
   "file_extension": ".py",
   "mimetype": "text/x-python",
   "name": "python",
   "nbconvert_exporter": "python",
   "pygments_lexer": "ipython3",
   "version": "3.9.10"
  }
 },
 "nbformat": 4,
 "nbformat_minor": 5
}
