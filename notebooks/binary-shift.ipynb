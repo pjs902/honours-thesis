{
 "cells": [
  {
   "cell_type": "code",
   "execution_count": 1,
   "id": "94217554-aebf-4de3-b5af-b7a19cab0dad",
   "metadata": {},
   "outputs": [],
   "source": [
    "%matplotlib ipympl\n",
    "%config InlineBackend.figure_format = \"retina\"\n",
    "\n",
    "import matplotlib.pyplot as plt\n",
    "import seaborn\n",
    "\n",
    "seaborn.set(context=\"notebook\", style=\"darkgrid\")\n",
    "plt.rcParams[\"figure.figsize\"] = (8, 6)\n",
    "from tqdm.auto import tqdm, trange\n",
    "\n",
    "from ssptools import evolve_mf_3 as emf3\n",
    "from limepy import limepy\n",
    "\n",
    "import numpy as np\n",
    "import scipy as sp\n",
    "import astropy.units as u\n",
    "import astropy.constants as const\n",
    "\n",
    "from binaryshift import BinaryShift"
   ]
  },
  {
   "cell_type": "code",
   "execution_count": null,
   "id": "1863b5c3-2883-4478-84ec-3b0c11208070",
   "metadata": {},
   "outputs": [],
   "source": []
  },
  {
   "cell_type": "code",
   "execution_count": null,
   "id": "dcb88432-f76a-409e-8b11-007a5cc6728a",
   "metadata": {},
   "outputs": [],
   "source": []
  },
  {
   "cell_type": "code",
   "execution_count": 2,
   "id": "34a6f01c-723c-494f-b97b-cc4b3f44c1aa",
   "metadata": {},
   "outputs": [],
   "source": [
    "m123 = [0.1, 0.5, 1.0, 100]  # Slope breakpoints for initial mass function\n",
    "a12 = [-0.468, -1.178, -2.117]  # Slopes for initial mass function\n",
    "nbin12 = [5, 5, 20]\n",
    "\n",
    "# Output times for the evolution\n",
    "tout = np.array([11000])\n",
    "\n",
    "# Integration settings\n",
    "N0 = 5e5  # Normalization of stars\n",
    "Ndot = -0.0001  # Regulates how low mass objects are depleted default -20, 0 for 47 Tuc\n",
    "tcc = 0  # Core collapse time\n",
    "NS_ret = 0.1  # Initial neutron star retention\n",
    "BH_ret_int = 1  # Initial Black Hole retention\n",
    "BH_ret_dyn = 0.00235  # Dynamical Black Hole retention\n",
    "FeHe = -0.7  # Metallicity"
   ]
  },
  {
   "cell_type": "code",
   "execution_count": 3,
   "id": "97069263-e4ac-4fc8-b7a8-889c8b5aa94b",
   "metadata": {},
   "outputs": [
    {
     "name": "stderr",
     "output_type": "stream",
     "text": [
      "/home/peter/research/ssptools/ssptools/evolve_mf_3.py:321: RuntimeWarning: divide by zero encountered in true_divide\n",
      "  As = Ns / P1\n",
      "/home/peter/research/ssptools/ssptools/evolve_mf_3.py:246: RuntimeWarning: divide by zero encountered in double_scalars\n",
      "  Aj = Nj / self.Pk(alphaj, 1, m1, mto)\n"
     ]
    }
   ],
   "source": [
    "f = emf3.evolve_mf(\n",
    "    m123=m123,\n",
    "    a12=a12,\n",
    "    nbin12=nbin12,\n",
    "    tout=tout,\n",
    "    N0=N0,\n",
    "    Ndot=Ndot,\n",
    "    tcc=tcc,\n",
    "    NS_ret=NS_ret,\n",
    "    BH_ret_int=BH_ret_int,\n",
    "    BH_ret_dyn=BH_ret_dyn,\n",
    "    FeHe=FeHe,\n",
    "    natal_kicks=True,\n",
    "    vesc=100,\n",
    ")"
   ]
  },
  {
   "cell_type": "code",
   "execution_count": 4,
   "id": "01621e16-2a98-4354-a011-38c1bda1f298",
   "metadata": {},
   "outputs": [
    {
     "data": {
      "text/plain": [
       "<ssptools.evolve_mf_3.evolve_mf at 0x7f973870b3d0>"
      ]
     },
     "execution_count": 4,
     "metadata": {},
     "output_type": "execute_result"
    }
   ],
   "source": [
    "f"
   ]
  },
  {
   "cell_type": "code",
   "execution_count": 5,
   "id": "da017f9e-c551-4859-af62-1498bc539396",
   "metadata": {},
   "outputs": [],
   "source": [
    "cs = f.Ns[-1] > 10 * f.Nmin\n",
    "cr = f.Nr[-1] > 10 * f.Nmin\n",
    "mj = np.r_[f.ms[-1][cs], f.mr[-1][cr]]\n",
    "Mj = np.r_[f.Ms[-1][cs], f.Mr[-1][cr]]\n",
    "dms = f.mes[-1][1:] - f.mes[-1][0:-1]\n",
    "nms = len(f.ms[-1][cs])"
   ]
  },
  {
   "cell_type": "code",
   "execution_count": 6,
   "id": "1836d337-8903-4836-aed7-56802f6f2a76",
   "metadata": {},
   "outputs": [
    {
     "data": {
      "text/plain": [
       "0.1"
      ]
     },
     "execution_count": 6,
     "metadata": {},
     "output_type": "execute_result"
    }
   ],
   "source": [
    "f.Nmin"
   ]
  },
  {
   "cell_type": "code",
   "execution_count": 7,
   "id": "24e43d32-4d9a-4cc2-97f0-9e84eb9c51aa",
   "metadata": {},
   "outputs": [
    {
     "data": {
      "text/plain": [
       "array([2.95883348e+04, 3.51148719e+04, 4.16736635e+04, 4.94575166e+04,\n",
       "       5.86952514e+04, 2.71682569e+04, 2.65060641e+04, 2.58600120e+04,\n",
       "       2.29833309e+04, 6.95280608e+04, 5.21309472e+04, 1.06014224e+04,\n",
       "       9.56144999e+03, 1.82354947e+04, 2.04397763e+03, 1.20576114e+00,\n",
       "       1.97377636e+00, 2.93273915e+00, 4.64349427e+00, 8.05495321e+00,\n",
       "       4.69949195e+00])"
      ]
     },
     "execution_count": 7,
     "metadata": {},
     "output_type": "execute_result"
    }
   ],
   "source": [
    "Mj / mj"
   ]
  },
  {
   "cell_type": "code",
   "execution_count": 8,
   "id": "de8c7d31-bbb2-4c69-ade4-47b037de6be2",
   "metadata": {},
   "outputs": [],
   "source": [
    "bs = BinaryShift(mj=mj, Mj=Mj, MF=f, verbose=False)"
   ]
  },
  {
   "cell_type": "code",
   "execution_count": 9,
   "id": "c2e27b8d-43a0-4292-b725-4262f3d2d606",
   "metadata": {},
   "outputs": [
    {
     "name": "stdout",
     "output_type": "stream",
     "text": [
      "self.mj = array([0.11851084, 0.16351292, 0.22560363, 0.31127202, 0.42947124,\n",
      "       0.53616312, 0.6158897 , 0.70747148, 0.80754321, 0.6158897 ,\n",
      "       0.70747148, 0.80754321, 0.92779583, 1.11896564, 1.40869427,\n",
      "       2.81071458, 3.53848001, 4.45468241, 5.60811288, 7.06019582,\n",
      "       8.88825993])\n",
      "self.Mj = array([3.50653839e+03, 5.74173527e+03, 9.40172964e+03, 1.53947409e+04,\n",
      "       2.52079221e+04, 1.45666174e+04, 1.63248118e+04, 1.82952210e+04,\n",
      "       1.85600328e+04, 4.28216163e+04, 3.68811585e+04, 8.56110667e+03,\n",
      "       8.87107346e+03, 2.04048921e+04, 2.87933957e+03, 3.38905042e+00,\n",
      "       6.98416820e+00, 1.30644215e+01, 2.60412400e+01, 5.68695470e+01,\n",
      "       4.17703060e+01])\n",
      "self._nms = 8\n",
      "self._mWD_max = 1.2485309234871975\n",
      "self._mBH_min = 2.51188643150958\n"
     ]
    }
   ],
   "source": [
    "bs.dump()"
   ]
  },
  {
   "cell_type": "code",
   "execution_count": 10,
   "id": "5dbda990-0e03-4e99-b7ff-b6db1aed7b88",
   "metadata": {},
   "outputs": [
    {
     "data": {
      "text/plain": [
       "array([ True,  True,  True,  True,  True,  True,  True,  True,  True,\n",
       "       False, False, False, False, False, False, False, False, False,\n",
       "       False, False, False])"
      ]
     },
     "execution_count": 10,
     "metadata": {},
     "output_type": "execute_result"
    }
   ],
   "source": [
    "bs.MS_mask"
   ]
  },
  {
   "cell_type": "code",
   "execution_count": 11,
   "id": "2054a497-43f4-424b-9b1b-37cbe1926e06",
   "metadata": {},
   "outputs": [
    {
     "data": {
      "text/plain": [
       "array([0.11851084, 0.16351292, 0.22560363, 0.31127202, 0.42947124,\n",
       "       0.53616312, 0.6158897 , 0.70747148, 0.80754321])"
      ]
     },
     "execution_count": 11,
     "metadata": {},
     "output_type": "execute_result"
    }
   ],
   "source": [
    "bs.mj[bs.MS_mask]"
   ]
  },
  {
   "cell_type": "code",
   "execution_count": null,
   "id": "6c2bd1aa-2fb3-4769-bd55-c926f66273f2",
   "metadata": {},
   "outputs": [],
   "source": []
  },
  {
   "cell_type": "code",
   "execution_count": 12,
   "id": "5e7af1bc-e5f8-46b4-890c-fd8eda9e1ae9",
   "metadata": {},
   "outputs": [
    {
     "name": "stdout",
     "output_type": "stream",
     "text": [
      "companion mass 1.128 larger than 0.808, skipping companion star, original q=0.2\n",
      "companion mass 1.556 larger than 0.808, skipping companion star, original q=0.2\n",
      "companion mass 2.147 larger than 0.808, skipping companion star, original q=0.2\n",
      "companion mass 1.038 larger than 0.808, skipping companion star, original q=0.3\n"
     ]
    }
   ],
   "source": [
    "mj_new, Mj_new = bs.shift_flat(fb=0.15)\n",
    "# mj_new, Mj_new = bs.shift_equal(fb=0.25)\n",
    "# mj_new, Mj_new = bs.shift_solar(fb=0.25)"
   ]
  },
  {
   "cell_type": "code",
   "execution_count": 13,
   "id": "b97028cc-a798-4623-aa95-0dee62ec2654",
   "metadata": {},
   "outputs": [
    {
     "data": {
      "text/plain": [
       "0.1467547966832377"
      ]
     },
     "execution_count": 13,
     "metadata": {},
     "output_type": "execute_result"
    }
   ],
   "source": [
    "bs._q_min"
   ]
  },
  {
   "cell_type": "code",
   "execution_count": 14,
   "id": "703370f3-11dd-48de-8fbc-56bdf458fb4a",
   "metadata": {
    "tags": []
   },
   "outputs": [
    {
     "data": {
      "text/plain": [
       "Text(0.5, 0, 'mj [$M_\\\\odot$]')"
      ]
     },
     "execution_count": 14,
     "metadata": {},
     "output_type": "execute_result"
    },
    {
     "data": {
      "application/vnd.jupyter.widget-view+json": {
       "model_id": "93018615ecb0410080a9351e736f5588",
       "version_major": 2,
       "version_minor": 0
      },
      "text/html": [
       "\n",
       "            <div style=\"display: inline-block;\">\n",
       "                <div class=\"jupyter-widgets widget-label\" style=\"text-align: center;\">\n",
       "                    Figure\n",
       "                </div>\n",
       "                <img src='data:image/png;base64,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' width=800.0/>\n",
       "            </div>\n",
       "        "
      ],
      "text/plain": [
       "Canvas(toolbar=Toolbar(toolitems=[('Home', 'Reset original view', 'home', 'home'), ('Back', 'Back to previous …"
      ]
     },
     "metadata": {},
     "output_type": "display_data"
    }
   ],
   "source": [
    "plt.figure()\n",
    "plt.scatter(mj[bs.MS_mask], Mj[bs.MS_mask], label=\"Original MS\", s=70)\n",
    "\n",
    "# plt.scatter(mj, Mj, label=\"Original MF\", s=70)\n",
    "\n",
    "plt.yscale(\"log\")\n",
    "# plt.ylim(1e2, 1e5)\n",
    "plt.scatter(\n",
    "    mj_new[bs.MS_mask_new],\n",
    "    Mj_new[bs.MS_mask_new],\n",
    "    label=\"New MF (single MS)\",\n",
    "    marker=\"x\",\n",
    "    s=70,\n",
    "    alpha=0.7,\n",
    ")\n",
    "plt.scatter(\n",
    "    mj_new[bs.bin_mask],\n",
    "    Mj_new[bs.bin_mask],\n",
    "    label=\"New MF (binary MS)\",\n",
    "    marker=\"X\",\n",
    "    s=70,\n",
    ")\n",
    "plt.scatter(\n",
    "    mj_new[bs.WD_mask_new],\n",
    "    Mj_new[bs.WD_mask_new],\n",
    "    label=\"WD\",\n",
    "    marker=\"o\",\n",
    "    color=\"grey\",\n",
    "    s=40,\n",
    ")\n",
    "\n",
    "plt.legend()\n",
    "plt.ylabel(r\"Mj [$M_\\odot$]\")\n",
    "plt.xlabel(r\"mj [$M_\\odot$]\")\n",
    "# plt.savefig(\"shifted.png\",dpi=300)\n",
    "# plt.xlim(0, 1.7)"
   ]
  },
  {
   "cell_type": "code",
   "execution_count": 15,
   "id": "2c7bbcbc-45c2-4576-a2ce-8bf1c10a3a89",
   "metadata": {},
   "outputs": [
    {
     "data": {
      "text/plain": [
       "array([0.11851084, 0.16351292, 0.22560363, 0.31127202, 0.42947124,\n",
       "       0.53616312, 0.6158897 , 0.70747148, 0.80754321, 0.6158897 ,\n",
       "       0.70747148, 0.80754321, 0.92779583, 1.11896564, 1.40869427,\n",
       "       2.81071458, 3.53848001, 4.45468241, 5.60811288, 7.06019582,\n",
       "       8.88825993])"
      ]
     },
     "execution_count": 15,
     "metadata": {},
     "output_type": "execute_result"
    }
   ],
   "source": [
    "mj"
   ]
  },
  {
   "cell_type": "code",
   "execution_count": 16,
   "id": "d4832db7-7b8c-47ca-9277-6590eba70133",
   "metadata": {},
   "outputs": [
    {
     "data": {
      "text/plain": [
       "0.32625297006960385"
      ]
     },
     "execution_count": 16,
     "metadata": {},
     "output_type": "execute_result"
    }
   ],
   "source": [
    "# Mass ratio\n",
    "np.sum(Mj_new[bs.bin_mask]) / np.sum(Mj_new[bs.MS_mask_new])"
   ]
  },
  {
   "cell_type": "code",
   "execution_count": 17,
   "id": "95c34062-50fd-4369-a510-c97ff57d7462",
   "metadata": {},
   "outputs": [
    {
     "name": "stdout",
     "output_type": "stream",
     "text": [
      "np.sum(Mj) = 247566.655, np.sum(Mj_new) = 247566.655\n"
     ]
    }
   ],
   "source": [
    "# check mass conservation\n",
    "print(f\"{np.sum(Mj) = :.3f}, {np.sum(Mj_new) = :.3f}\")"
   ]
  },
  {
   "cell_type": "code",
   "execution_count": null,
   "id": "2fc45144-abea-49d4-b57d-8ae183d5000c",
   "metadata": {},
   "outputs": [],
   "source": []
  },
  {
   "cell_type": "code",
   "execution_count": 18,
   "id": "4eb021e9-3098-41b3-b063-60217b86ec9c",
   "metadata": {},
   "outputs": [],
   "source": [
    "# Have a look at Nj"
   ]
  },
  {
   "cell_type": "code",
   "execution_count": 19,
   "id": "7fd2d97e-8464-44c5-9ef7-50158acdbdd3",
   "metadata": {},
   "outputs": [],
   "source": [
    "Nj = Mj_new / mj_new"
   ]
  },
  {
   "cell_type": "code",
   "execution_count": 20,
   "id": "911f741d-abee-4f54-a167-dec3aee5ca88",
   "metadata": {},
   "outputs": [
    {
     "data": {
      "text/plain": [
       "array([485.05466819, 575.65363781, 445.38126028, 434.52564099,\n",
       "       423.93462362, 376.77591688, 485.05466819, 575.65363781,\n",
       "       683.17481163, 962.21723585, 445.38126028, 434.52564099,\n",
       "       423.93462362, 376.77591688, 485.05466819, 575.65363781,\n",
       "       683.17481163, 810.77895989, 962.21723585, 445.38126028,\n",
       "       434.52564099, 423.93462362, 376.77591688, 485.05466819,\n",
       "       575.65363781, 683.17481163, 810.77895989, 962.21723585,\n",
       "       445.38126028, 434.52564099, 423.93462362, 376.77591688,\n",
       "       485.05466819, 575.65363781, 683.17481163, 810.77895989,\n",
       "       962.21723585, 445.38126028, 434.52564099, 423.93462362,\n",
       "       376.77591688, 485.05466819, 575.65363781, 683.17481163,\n",
       "       810.77895989, 962.21723585, 445.38126028, 434.52564099,\n",
       "       423.93462362, 376.77591688, 485.05466819, 575.65363781,\n",
       "       683.17481163, 810.77895989, 962.21723585, 445.38126028,\n",
       "       434.52564099, 423.93462362, 376.77591688, 485.05466819,\n",
       "       575.65363781, 683.17481163, 810.77895989, 962.21723585,\n",
       "       445.38126028, 434.52564099, 423.93462362, 376.77591688,\n",
       "       485.05466819, 575.65363781, 683.17481163, 810.77895989,\n",
       "       962.21723585, 445.38126028, 434.52564099, 423.93462362,\n",
       "       376.77591688])"
      ]
     },
     "execution_count": 20,
     "metadata": {},
     "output_type": "execute_result"
    }
   ],
   "source": [
    "Nj[bs.bin_mask]"
   ]
  },
  {
   "cell_type": "code",
   "execution_count": 21,
   "id": "c649d0e6-c337-42c2-aef7-e38f3ef0861c",
   "metadata": {},
   "outputs": [
    {
     "data": {
      "text/plain": [
       "array([18021.46510774, 22666.88500185, 28199.81496301, 36636.28543009,\n",
       "       45440.99075988, 18985.14346208, 20875.0424816 , 20560.71507607,\n",
       "       18639.91812283])"
      ]
     },
     "execution_count": 21,
     "metadata": {},
     "output_type": "execute_result"
    }
   ],
   "source": [
    "Nj[bs.MS_mask_new]"
   ]
  },
  {
   "cell_type": "code",
   "execution_count": 22,
   "id": "42609ec0-bac2-45cb-a621-41c85a905a39",
   "metadata": {},
   "outputs": [
    {
     "data": {
      "text/plain": [
       "0.18915458066526156"
      ]
     },
     "execution_count": 22,
     "metadata": {},
     "output_type": "execute_result"
    }
   ],
   "source": [
    "# This is the bad (old) definition\n",
    "np.sum(Nj[bs.bin_mask]) / np.sum(Nj[bs.MS_mask_new])"
   ]
  },
  {
   "cell_type": "code",
   "execution_count": null,
   "id": "07fafe06-9667-4a78-839f-ef8d9e46c870",
   "metadata": {},
   "outputs": [],
   "source": []
  },
  {
   "cell_type": "code",
   "execution_count": 23,
   "id": "94db3d08-fe69-4154-b2ff-a3e4e8ab67ca",
   "metadata": {},
   "outputs": [
    {
     "name": "stdout",
     "output_type": "stream",
     "text": [
      "Binary Fraction: 15.907\n"
     ]
    }
   ],
   "source": [
    "# This is the definition we want to use\n",
    "print(f\"Binary Fraction: {bs.fb_true * 100:.3f}\")"
   ]
  },
  {
   "cell_type": "code",
   "execution_count": null,
   "id": "4faacf7a-ca70-43c8-88c7-74f6692910db",
   "metadata": {},
   "outputs": [],
   "source": []
  },
  {
   "cell_type": "code",
   "execution_count": 24,
   "id": "4b7388a5-e631-4f48-a3cb-82c54dfc0edd",
   "metadata": {},
   "outputs": [
    {
     "name": "stdout",
     "output_type": "stream",
     "text": [
      "Input fb | True fb | Diff\n",
      "---------------------------\n",
      "companion mass 1.128 larger than 0.808, skipping companion star, original q=0.2\n",
      "companion mass 1.556 larger than 0.808, skipping companion star, original q=0.2\n",
      "companion mass 2.147 larger than 0.808, skipping companion star, original q=0.2\n",
      "companion mass 1.038 larger than 0.808, skipping companion star, original q=0.3\n",
      "0.0  | 0.00 | -0.00\n",
      "companion mass 1.128 larger than 0.808, skipping companion star, original q=0.2\n",
      "companion mass 1.556 larger than 0.808, skipping companion star, original q=0.2\n",
      "companion mass 2.147 larger than 0.808, skipping companion star, original q=0.2\n",
      "companion mass 1.038 larger than 0.808, skipping companion star, original q=0.3\n",
      "1.0  | 0.94 | -0.06\n",
      "companion mass 1.128 larger than 0.808, skipping companion star, original q=0.2\n",
      "companion mass 1.556 larger than 0.808, skipping companion star, original q=0.2\n",
      "companion mass 2.147 larger than 0.808, skipping companion star, original q=0.2\n",
      "companion mass 1.038 larger than 0.808, skipping companion star, original q=0.3\n",
      "2.0  | 1.89 | -0.11\n",
      "companion mass 1.128 larger than 0.808, skipping companion star, original q=0.2\n",
      "companion mass 1.556 larger than 0.808, skipping companion star, original q=0.2\n",
      "companion mass 2.147 larger than 0.808, skipping companion star, original q=0.2\n",
      "companion mass 1.038 larger than 0.808, skipping companion star, original q=0.3\n",
      "3.0  | 2.86 | -0.14\n",
      "companion mass 1.128 larger than 0.808, skipping companion star, original q=0.2\n",
      "companion mass 1.556 larger than 0.808, skipping companion star, original q=0.2\n",
      "companion mass 2.147 larger than 0.808, skipping companion star, original q=0.2\n",
      "companion mass 1.038 larger than 0.808, skipping companion star, original q=0.3\n",
      "4.0  | 3.85 | -0.15\n",
      "companion mass 1.128 larger than 0.808, skipping companion star, original q=0.2\n",
      "companion mass 1.556 larger than 0.808, skipping companion star, original q=0.2\n",
      "companion mass 2.147 larger than 0.808, skipping companion star, original q=0.2\n",
      "companion mass 1.038 larger than 0.808, skipping companion star, original q=0.3\n",
      "5.0  | 4.85 | -0.15\n",
      "companion mass 1.128 larger than 0.808, skipping companion star, original q=0.2\n",
      "companion mass 1.556 larger than 0.808, skipping companion star, original q=0.2\n",
      "companion mass 2.147 larger than 0.808, skipping companion star, original q=0.2\n",
      "companion mass 1.038 larger than 0.808, skipping companion star, original q=0.3\n",
      "6.0  | 5.87 | -0.13\n",
      "companion mass 1.128 larger than 0.808, skipping companion star, original q=0.2\n",
      "companion mass 1.556 larger than 0.808, skipping companion star, original q=0.2\n",
      "companion mass 2.147 larger than 0.808, skipping companion star, original q=0.2\n",
      "companion mass 1.038 larger than 0.808, skipping companion star, original q=0.3\n",
      "7.0  | 6.91 | -0.09\n",
      "companion mass 1.128 larger than 0.808, skipping companion star, original q=0.2\n",
      "companion mass 1.556 larger than 0.808, skipping companion star, original q=0.2\n",
      "companion mass 2.147 larger than 0.808, skipping companion star, original q=0.2\n",
      "companion mass 1.038 larger than 0.808, skipping companion star, original q=0.3\n",
      "8.0  | 7.96 | -0.04\n",
      "companion mass 1.128 larger than 0.808, skipping companion star, original q=0.2\n",
      "companion mass 1.556 larger than 0.808, skipping companion star, original q=0.2\n",
      "companion mass 2.147 larger than 0.808, skipping companion star, original q=0.2\n",
      "companion mass 1.038 larger than 0.808, skipping companion star, original q=0.3\n",
      "9.0  | 9.04 | 0.04\n",
      "companion mass 1.128 larger than 0.808, skipping companion star, original q=0.2\n",
      "companion mass 1.556 larger than 0.808, skipping companion star, original q=0.2\n",
      "companion mass 2.147 larger than 0.808, skipping companion star, original q=0.2\n",
      "companion mass 1.038 larger than 0.808, skipping companion star, original q=0.3\n",
      "10.0  | 10.13 | 0.13\n",
      "companion mass 1.128 larger than 0.808, skipping companion star, original q=0.2\n",
      "companion mass 1.556 larger than 0.808, skipping companion star, original q=0.2\n",
      "companion mass 2.147 larger than 0.808, skipping companion star, original q=0.2\n",
      "companion mass 1.038 larger than 0.808, skipping companion star, original q=0.3\n",
      "11.0  | 11.24 | 0.24\n",
      "companion mass 1.128 larger than 0.808, skipping companion star, original q=0.2\n",
      "companion mass 1.556 larger than 0.808, skipping companion star, original q=0.2\n",
      "companion mass 2.147 larger than 0.808, skipping companion star, original q=0.2\n",
      "companion mass 1.038 larger than 0.808, skipping companion star, original q=0.3\n",
      "12.0  | 12.38 | 0.38\n",
      "companion mass 1.128 larger than 0.808, skipping companion star, original q=0.2\n",
      "companion mass 1.556 larger than 0.808, skipping companion star, original q=0.2\n",
      "companion mass 2.147 larger than 0.808, skipping companion star, original q=0.2\n",
      "companion mass 1.038 larger than 0.808, skipping companion star, original q=0.3\n",
      "13.0  | 13.53 | 0.53\n",
      "companion mass 1.128 larger than 0.808, skipping companion star, original q=0.2\n",
      "companion mass 1.556 larger than 0.808, skipping companion star, original q=0.2\n",
      "companion mass 2.147 larger than 0.808, skipping companion star, original q=0.2\n",
      "companion mass 1.038 larger than 0.808, skipping companion star, original q=0.3\n",
      "14.0  | 14.71 | 0.71\n",
      "companion mass 1.128 larger than 0.808, skipping companion star, original q=0.2\n",
      "companion mass 1.556 larger than 0.808, skipping companion star, original q=0.2\n",
      "companion mass 2.147 larger than 0.808, skipping companion star, original q=0.2\n",
      "companion mass 1.038 larger than 0.808, skipping companion star, original q=0.3\n",
      "15.0  | 15.91 | 0.91\n",
      "companion mass 1.128 larger than 0.808, skipping companion star, original q=0.2\n",
      "companion mass 1.556 larger than 0.808, skipping companion star, original q=0.2\n",
      "companion mass 2.147 larger than 0.808, skipping companion star, original q=0.2\n",
      "companion mass 1.038 larger than 0.808, skipping companion star, original q=0.3\n",
      "16.0  | 17.13 | 1.13\n",
      "companion mass 1.128 larger than 0.808, skipping companion star, original q=0.2\n",
      "companion mass 1.556 larger than 0.808, skipping companion star, original q=0.2\n",
      "companion mass 2.147 larger than 0.808, skipping companion star, original q=0.2\n",
      "companion mass 1.038 larger than 0.808, skipping companion star, original q=0.3\n",
      "17.0  | 18.37 | 1.37\n",
      "companion mass 1.128 larger than 0.808, skipping companion star, original q=0.2\n",
      "companion mass 1.556 larger than 0.808, skipping companion star, original q=0.2\n",
      "companion mass 2.147 larger than 0.808, skipping companion star, original q=0.2\n",
      "companion mass 1.038 larger than 0.808, skipping companion star, original q=0.3\n",
      "18.0  | 19.64 | 1.64\n",
      "companion mass 1.128 larger than 0.808, skipping companion star, original q=0.2\n",
      "companion mass 1.556 larger than 0.808, skipping companion star, original q=0.2\n",
      "companion mass 2.147 larger than 0.808, skipping companion star, original q=0.2\n",
      "companion mass 1.038 larger than 0.808, skipping companion star, original q=0.3\n",
      "19.0  | 20.93 | 1.93\n",
      "companion mass 1.128 larger than 0.808, skipping companion star, original q=0.2\n",
      "companion mass 1.556 larger than 0.808, skipping companion star, original q=0.2\n",
      "companion mass 2.147 larger than 0.808, skipping companion star, original q=0.2\n",
      "companion mass 1.038 larger than 0.808, skipping companion star, original q=0.3\n",
      "20.0  | 22.25 | 2.25\n",
      "companion mass 1.128 larger than 0.808, skipping companion star, original q=0.2\n",
      "companion mass 1.556 larger than 0.808, skipping companion star, original q=0.2\n",
      "companion mass 2.147 larger than 0.808, skipping companion star, original q=0.2\n",
      "companion mass 1.038 larger than 0.808, skipping companion star, original q=0.3\n",
      "21.0  | 23.59 | 2.59\n",
      "companion mass 1.128 larger than 0.808, skipping companion star, original q=0.2\n",
      "companion mass 1.556 larger than 0.808, skipping companion star, original q=0.2\n",
      "companion mass 2.147 larger than 0.808, skipping companion star, original q=0.2\n",
      "companion mass 1.038 larger than 0.808, skipping companion star, original q=0.3\n",
      "22.0  | 24.96 | 2.96\n",
      "companion mass 1.128 larger than 0.808, skipping companion star, original q=0.2\n",
      "companion mass 1.556 larger than 0.808, skipping companion star, original q=0.2\n",
      "companion mass 2.147 larger than 0.808, skipping companion star, original q=0.2\n",
      "companion mass 1.038 larger than 0.808, skipping companion star, original q=0.3\n",
      "23.0  | 26.36 | 3.36\n",
      "companion mass 1.128 larger than 0.808, skipping companion star, original q=0.2\n",
      "companion mass 1.556 larger than 0.808, skipping companion star, original q=0.2\n",
      "companion mass 2.147 larger than 0.808, skipping companion star, original q=0.2\n",
      "companion mass 1.038 larger than 0.808, skipping companion star, original q=0.3\n",
      "24.0  | 27.79 | 3.79\n",
      "companion mass 1.128 larger than 0.808, skipping companion star, original q=0.2\n",
      "companion mass 1.556 larger than 0.808, skipping companion star, original q=0.2\n",
      "companion mass 2.147 larger than 0.808, skipping companion star, original q=0.2\n",
      "companion mass 1.038 larger than 0.808, skipping companion star, original q=0.3\n",
      "25.0  | 29.24 | 4.24\n",
      "companion mass 1.128 larger than 0.808, skipping companion star, original q=0.2\n",
      "companion mass 1.556 larger than 0.808, skipping companion star, original q=0.2\n",
      "companion mass 2.147 larger than 0.808, skipping companion star, original q=0.2\n",
      "companion mass 1.038 larger than 0.808, skipping companion star, original q=0.3\n",
      "26.0  | 30.73 | 4.73\n",
      "companion mass 1.128 larger than 0.808, skipping companion star, original q=0.2\n",
      "companion mass 1.556 larger than 0.808, skipping companion star, original q=0.2\n",
      "companion mass 2.147 larger than 0.808, skipping companion star, original q=0.2\n",
      "companion mass 1.038 larger than 0.808, skipping companion star, original q=0.3\n",
      "27.0  | 32.25 | 5.25\n",
      "companion mass 1.128 larger than 0.808, skipping companion star, original q=0.2\n",
      "companion mass 1.556 larger than 0.808, skipping companion star, original q=0.2\n",
      "companion mass 2.147 larger than 0.808, skipping companion star, original q=0.2\n",
      "companion mass 1.038 larger than 0.808, skipping companion star, original q=0.3\n",
      "28.0  | 33.79 | 5.79\n",
      "companion mass 1.128 larger than 0.808, skipping companion star, original q=0.2\n",
      "companion mass 1.556 larger than 0.808, skipping companion star, original q=0.2\n",
      "companion mass 2.147 larger than 0.808, skipping companion star, original q=0.2\n",
      "companion mass 1.038 larger than 0.808, skipping companion star, original q=0.3\n",
      "29.0  | 35.38 | 6.38\n",
      "companion mass 1.128 larger than 0.808, skipping companion star, original q=0.2\n",
      "companion mass 1.556 larger than 0.808, skipping companion star, original q=0.2\n",
      "companion mass 2.147 larger than 0.808, skipping companion star, original q=0.2\n",
      "companion mass 1.038 larger than 0.808, skipping companion star, original q=0.3\n",
      "30.0  | 37.00 | 7.00\n",
      "companion mass 1.128 larger than 0.808, skipping companion star, original q=0.2\n",
      "companion mass 1.556 larger than 0.808, skipping companion star, original q=0.2\n",
      "companion mass 2.147 larger than 0.808, skipping companion star, original q=0.2\n",
      "companion mass 1.038 larger than 0.808, skipping companion star, original q=0.3\n",
      "31.0  | 38.65 | 7.65\n",
      "companion mass 1.128 larger than 0.808, skipping companion star, original q=0.2\n",
      "companion mass 1.556 larger than 0.808, skipping companion star, original q=0.2\n",
      "companion mass 2.147 larger than 0.808, skipping companion star, original q=0.2\n",
      "companion mass 1.038 larger than 0.808, skipping companion star, original q=0.3\n",
      "32.0  | 40.34 | 8.34\n",
      "companion mass 1.128 larger than 0.808, skipping companion star, original q=0.2\n",
      "companion mass 1.556 larger than 0.808, skipping companion star, original q=0.2\n",
      "companion mass 2.147 larger than 0.808, skipping companion star, original q=0.2\n",
      "companion mass 1.038 larger than 0.808, skipping companion star, original q=0.3\n",
      "33.0  | 42.06 | 9.06\n",
      "companion mass 1.128 larger than 0.808, skipping companion star, original q=0.2\n",
      "companion mass 1.556 larger than 0.808, skipping companion star, original q=0.2\n",
      "companion mass 2.147 larger than 0.808, skipping companion star, original q=0.2\n",
      "companion mass 1.038 larger than 0.808, skipping companion star, original q=0.3\n",
      "34.0  | 43.83 | 9.83\n",
      "companion mass 1.128 larger than 0.808, skipping companion star, original q=0.2\n",
      "companion mass 1.556 larger than 0.808, skipping companion star, original q=0.2\n",
      "companion mass 2.147 larger than 0.808, skipping companion star, original q=0.2\n",
      "companion mass 1.038 larger than 0.808, skipping companion star, original q=0.3\n",
      "35.0  | 45.64 | 10.64\n",
      "companion mass 1.128 larger than 0.808, skipping companion star, original q=0.2\n",
      "companion mass 1.556 larger than 0.808, skipping companion star, original q=0.2\n",
      "companion mass 2.147 larger than 0.808, skipping companion star, original q=0.2\n",
      "companion mass 1.038 larger than 0.808, skipping companion star, original q=0.3\n",
      "36.0  | 47.49 | 11.49\n",
      "companion mass 1.128 larger than 0.808, skipping companion star, original q=0.2\n",
      "companion mass 1.556 larger than 0.808, skipping companion star, original q=0.2\n",
      "companion mass 2.147 larger than 0.808, skipping companion star, original q=0.2\n",
      "companion mass 1.038 larger than 0.808, skipping companion star, original q=0.3\n",
      "37.0  | 49.38 | 12.38\n",
      "companion mass 1.128 larger than 0.808, skipping companion star, original q=0.2\n",
      "companion mass 1.556 larger than 0.808, skipping companion star, original q=0.2\n",
      "companion mass 2.147 larger than 0.808, skipping companion star, original q=0.2\n",
      "companion mass 1.038 larger than 0.808, skipping companion star, original q=0.3\n",
      "38.0  | 51.32 | 13.32\n",
      "companion mass 1.128 larger than 0.808, skipping companion star, original q=0.2\n",
      "companion mass 1.556 larger than 0.808, skipping companion star, original q=0.2\n",
      "companion mass 2.147 larger than 0.808, skipping companion star, original q=0.2\n",
      "companion mass 1.038 larger than 0.808, skipping companion star, original q=0.3\n",
      "39.0  | 53.30 | 14.30\n"
     ]
    }
   ],
   "source": [
    "print(f\"Input fb | True fb | Diff\")\n",
    "print(\"---------------------------\")\n",
    "for fb in np.linspace(0, 0.39, 40):\n",
    "    bs.shift_flat(fb=fb)\n",
    "    # bs.shift_solar(fb=fb)\n",
    "    # bs.shift_q(fb=[0.015,0.015],q=[1,1])\n",
    "\n",
    "    print(f\"{fb*100:.1f}  | {bs.fb_true*100:.2f} | {-1*(fb - bs.fb_true)*100:.2f}\")"
   ]
  },
  {
   "cell_type": "code",
   "execution_count": 25,
   "id": "4e79de49-3026-45ae-9b12-491465c448ad",
   "metadata": {},
   "outputs": [
    {
     "name": "stdout",
     "output_type": "stream",
     "text": [
      "companion mass 1.128 larger than 0.808, skipping companion star, original q=0.2\n",
      "companion mass 1.556 larger than 0.808, skipping companion star, original q=0.2\n",
      "companion mass 2.147 larger than 0.808, skipping companion star, original q=0.2\n",
      "companion mass 1.038 larger than 0.808, skipping companion star, original q=0.3\n",
      "companion mass 1.128 larger than 0.808, skipping companion star, original q=0.2\n",
      "companion mass 1.556 larger than 0.808, skipping companion star, original q=0.2\n",
      "companion mass 2.147 larger than 0.808, skipping companion star, original q=0.2\n",
      "companion mass 1.038 larger than 0.808, skipping companion star, original q=0.3\n",
      "companion mass 1.128 larger than 0.808, skipping companion star, original q=0.2\n",
      "companion mass 1.556 larger than 0.808, skipping companion star, original q=0.2\n",
      "companion mass 2.147 larger than 0.808, skipping companion star, original q=0.2\n",
      "companion mass 1.038 larger than 0.808, skipping companion star, original q=0.3\n",
      "companion mass 1.128 larger than 0.808, skipping companion star, original q=0.2\n",
      "companion mass 1.556 larger than 0.808, skipping companion star, original q=0.2\n",
      "companion mass 2.147 larger than 0.808, skipping companion star, original q=0.2\n",
      "companion mass 1.038 larger than 0.808, skipping companion star, original q=0.3\n",
      "companion mass 1.128 larger than 0.808, skipping companion star, original q=0.2\n",
      "companion mass 1.556 larger than 0.808, skipping companion star, original q=0.2\n",
      "companion mass 2.147 larger than 0.808, skipping companion star, original q=0.2\n",
      "companion mass 1.038 larger than 0.808, skipping companion star, original q=0.3\n",
      "companion mass 1.128 larger than 0.808, skipping companion star, original q=0.2\n",
      "companion mass 1.556 larger than 0.808, skipping companion star, original q=0.2\n",
      "companion mass 2.147 larger than 0.808, skipping companion star, original q=0.2\n",
      "companion mass 1.038 larger than 0.808, skipping companion star, original q=0.3\n",
      "companion mass 1.128 larger than 0.808, skipping companion star, original q=0.2\n",
      "companion mass 1.556 larger than 0.808, skipping companion star, original q=0.2\n",
      "companion mass 2.147 larger than 0.808, skipping companion star, original q=0.2\n",
      "companion mass 1.038 larger than 0.808, skipping companion star, original q=0.3\n",
      "companion mass 1.128 larger than 0.808, skipping companion star, original q=0.2\n",
      "companion mass 1.556 larger than 0.808, skipping companion star, original q=0.2\n",
      "companion mass 2.147 larger than 0.808, skipping companion star, original q=0.2\n",
      "companion mass 1.038 larger than 0.808, skipping companion star, original q=0.3\n",
      "companion mass 1.128 larger than 0.808, skipping companion star, original q=0.2\n",
      "companion mass 1.556 larger than 0.808, skipping companion star, original q=0.2\n",
      "companion mass 2.147 larger than 0.808, skipping companion star, original q=0.2\n",
      "companion mass 1.038 larger than 0.808, skipping companion star, original q=0.3\n",
      "companion mass 1.128 larger than 0.808, skipping companion star, original q=0.2\n",
      "companion mass 1.556 larger than 0.808, skipping companion star, original q=0.2\n",
      "companion mass 2.147 larger than 0.808, skipping companion star, original q=0.2\n",
      "companion mass 1.038 larger than 0.808, skipping companion star, original q=0.3\n",
      "companion mass 1.128 larger than 0.808, skipping companion star, original q=0.2\n",
      "companion mass 1.556 larger than 0.808, skipping companion star, original q=0.2\n",
      "companion mass 2.147 larger than 0.808, skipping companion star, original q=0.2\n",
      "companion mass 1.038 larger than 0.808, skipping companion star, original q=0.3\n",
      "companion mass 1.128 larger than 0.808, skipping companion star, original q=0.2\n",
      "companion mass 1.556 larger than 0.808, skipping companion star, original q=0.2\n",
      "companion mass 2.147 larger than 0.808, skipping companion star, original q=0.2\n",
      "companion mass 1.038 larger than 0.808, skipping companion star, original q=0.3\n",
      "companion mass 1.128 larger than 0.808, skipping companion star, original q=0.2\n",
      "companion mass 1.556 larger than 0.808, skipping companion star, original q=0.2\n",
      "companion mass 2.147 larger than 0.808, skipping companion star, original q=0.2\n",
      "companion mass 1.038 larger than 0.808, skipping companion star, original q=0.3\n",
      "companion mass 1.128 larger than 0.808, skipping companion star, original q=0.2\n",
      "companion mass 1.556 larger than 0.808, skipping companion star, original q=0.2\n",
      "companion mass 2.147 larger than 0.808, skipping companion star, original q=0.2\n",
      "companion mass 1.038 larger than 0.808, skipping companion star, original q=0.3\n",
      "companion mass 1.128 larger than 0.808, skipping companion star, original q=0.2\n",
      "companion mass 1.556 larger than 0.808, skipping companion star, original q=0.2\n",
      "companion mass 2.147 larger than 0.808, skipping companion star, original q=0.2\n",
      "companion mass 1.038 larger than 0.808, skipping companion star, original q=0.3\n",
      "companion mass 1.128 larger than 0.808, skipping companion star, original q=0.2\n",
      "companion mass 1.556 larger than 0.808, skipping companion star, original q=0.2\n",
      "companion mass 2.147 larger than 0.808, skipping companion star, original q=0.2\n",
      "companion mass 1.038 larger than 0.808, skipping companion star, original q=0.3\n",
      "companion mass 1.128 larger than 0.808, skipping companion star, original q=0.2\n",
      "companion mass 1.556 larger than 0.808, skipping companion star, original q=0.2\n",
      "companion mass 2.147 larger than 0.808, skipping companion star, original q=0.2\n",
      "companion mass 1.038 larger than 0.808, skipping companion star, original q=0.3\n",
      "companion mass 1.128 larger than 0.808, skipping companion star, original q=0.2\n",
      "companion mass 1.556 larger than 0.808, skipping companion star, original q=0.2\n",
      "companion mass 2.147 larger than 0.808, skipping companion star, original q=0.2\n",
      "companion mass 1.038 larger than 0.808, skipping companion star, original q=0.3\n",
      "companion mass 1.128 larger than 0.808, skipping companion star, original q=0.2\n",
      "companion mass 1.556 larger than 0.808, skipping companion star, original q=0.2\n",
      "companion mass 2.147 larger than 0.808, skipping companion star, original q=0.2\n",
      "companion mass 1.038 larger than 0.808, skipping companion star, original q=0.3\n",
      "companion mass 1.128 larger than 0.808, skipping companion star, original q=0.2\n",
      "companion mass 1.556 larger than 0.808, skipping companion star, original q=0.2\n",
      "companion mass 2.147 larger than 0.808, skipping companion star, original q=0.2\n",
      "companion mass 1.038 larger than 0.808, skipping companion star, original q=0.3\n",
      "companion mass 1.128 larger than 0.808, skipping companion star, original q=0.2\n",
      "companion mass 1.556 larger than 0.808, skipping companion star, original q=0.2\n",
      "companion mass 2.147 larger than 0.808, skipping companion star, original q=0.2\n",
      "companion mass 1.038 larger than 0.808, skipping companion star, original q=0.3\n",
      "companion mass 1.128 larger than 0.808, skipping companion star, original q=0.2\n",
      "companion mass 1.556 larger than 0.808, skipping companion star, original q=0.2\n",
      "companion mass 2.147 larger than 0.808, skipping companion star, original q=0.2\n",
      "companion mass 1.038 larger than 0.808, skipping companion star, original q=0.3\n",
      "companion mass 1.128 larger than 0.808, skipping companion star, original q=0.2\n",
      "companion mass 1.556 larger than 0.808, skipping companion star, original q=0.2\n",
      "companion mass 2.147 larger than 0.808, skipping companion star, original q=0.2\n",
      "companion mass 1.038 larger than 0.808, skipping companion star, original q=0.3\n",
      "companion mass 1.128 larger than 0.808, skipping companion star, original q=0.2\n",
      "companion mass 1.556 larger than 0.808, skipping companion star, original q=0.2\n",
      "companion mass 2.147 larger than 0.808, skipping companion star, original q=0.2\n",
      "companion mass 1.038 larger than 0.808, skipping companion star, original q=0.3\n",
      "companion mass 1.128 larger than 0.808, skipping companion star, original q=0.2\n",
      "companion mass 1.556 larger than 0.808, skipping companion star, original q=0.2\n",
      "companion mass 2.147 larger than 0.808, skipping companion star, original q=0.2\n",
      "companion mass 1.038 larger than 0.808, skipping companion star, original q=0.3\n",
      "companion mass 1.128 larger than 0.808, skipping companion star, original q=0.2\n",
      "companion mass 1.556 larger than 0.808, skipping companion star, original q=0.2\n",
      "companion mass 2.147 larger than 0.808, skipping companion star, original q=0.2\n",
      "companion mass 1.038 larger than 0.808, skipping companion star, original q=0.3\n",
      "companion mass 1.128 larger than 0.808, skipping companion star, original q=0.2\n",
      "companion mass 1.556 larger than 0.808, skipping companion star, original q=0.2\n",
      "companion mass 2.147 larger than 0.808, skipping companion star, original q=0.2\n",
      "companion mass 1.038 larger than 0.808, skipping companion star, original q=0.3\n",
      "companion mass 1.128 larger than 0.808, skipping companion star, original q=0.2\n",
      "companion mass 1.556 larger than 0.808, skipping companion star, original q=0.2\n",
      "companion mass 2.147 larger than 0.808, skipping companion star, original q=0.2\n",
      "companion mass 1.038 larger than 0.808, skipping companion star, original q=0.3\n",
      "companion mass 1.128 larger than 0.808, skipping companion star, original q=0.2\n",
      "companion mass 1.556 larger than 0.808, skipping companion star, original q=0.2\n",
      "companion mass 2.147 larger than 0.808, skipping companion star, original q=0.2\n",
      "companion mass 1.038 larger than 0.808, skipping companion star, original q=0.3\n",
      "companion mass 1.128 larger than 0.808, skipping companion star, original q=0.2\n",
      "companion mass 1.556 larger than 0.808, skipping companion star, original q=0.2\n",
      "companion mass 2.147 larger than 0.808, skipping companion star, original q=0.2\n",
      "companion mass 1.038 larger than 0.808, skipping companion star, original q=0.3\n",
      "companion mass 1.128 larger than 0.808, skipping companion star, original q=0.2\n",
      "companion mass 1.556 larger than 0.808, skipping companion star, original q=0.2\n",
      "companion mass 2.147 larger than 0.808, skipping companion star, original q=0.2\n",
      "companion mass 1.038 larger than 0.808, skipping companion star, original q=0.3\n",
      "companion mass 1.128 larger than 0.808, skipping companion star, original q=0.2\n",
      "companion mass 1.556 larger than 0.808, skipping companion star, original q=0.2\n",
      "companion mass 2.147 larger than 0.808, skipping companion star, original q=0.2\n",
      "companion mass 1.038 larger than 0.808, skipping companion star, original q=0.3\n",
      "companion mass 1.128 larger than 0.808, skipping companion star, original q=0.2\n",
      "companion mass 1.556 larger than 0.808, skipping companion star, original q=0.2\n",
      "companion mass 2.147 larger than 0.808, skipping companion star, original q=0.2\n",
      "companion mass 1.038 larger than 0.808, skipping companion star, original q=0.3\n",
      "companion mass 1.128 larger than 0.808, skipping companion star, original q=0.2\n",
      "companion mass 1.556 larger than 0.808, skipping companion star, original q=0.2\n",
      "companion mass 2.147 larger than 0.808, skipping companion star, original q=0.2\n",
      "companion mass 1.038 larger than 0.808, skipping companion star, original q=0.3\n",
      "companion mass 1.128 larger than 0.808, skipping companion star, original q=0.2\n",
      "companion mass 1.556 larger than 0.808, skipping companion star, original q=0.2\n",
      "companion mass 2.147 larger than 0.808, skipping companion star, original q=0.2\n",
      "companion mass 1.038 larger than 0.808, skipping companion star, original q=0.3\n",
      "companion mass 1.128 larger than 0.808, skipping companion star, original q=0.2\n",
      "companion mass 1.556 larger than 0.808, skipping companion star, original q=0.2\n",
      "companion mass 2.147 larger than 0.808, skipping companion star, original q=0.2\n",
      "companion mass 1.038 larger than 0.808, skipping companion star, original q=0.3\n",
      "companion mass 1.128 larger than 0.808, skipping companion star, original q=0.2\n",
      "companion mass 1.556 larger than 0.808, skipping companion star, original q=0.2\n",
      "companion mass 2.147 larger than 0.808, skipping companion star, original q=0.2\n",
      "companion mass 1.038 larger than 0.808, skipping companion star, original q=0.3\n",
      "companion mass 1.128 larger than 0.808, skipping companion star, original q=0.2\n",
      "companion mass 1.556 larger than 0.808, skipping companion star, original q=0.2\n",
      "companion mass 2.147 larger than 0.808, skipping companion star, original q=0.2\n",
      "companion mass 1.038 larger than 0.808, skipping companion star, original q=0.3\n",
      "companion mass 1.128 larger than 0.808, skipping companion star, original q=0.2\n",
      "companion mass 1.556 larger than 0.808, skipping companion star, original q=0.2\n",
      "companion mass 2.147 larger than 0.808, skipping companion star, original q=0.2\n",
      "companion mass 1.038 larger than 0.808, skipping companion star, original q=0.3\n",
      "companion mass 1.128 larger than 0.808, skipping companion star, original q=0.2\n",
      "companion mass 1.556 larger than 0.808, skipping companion star, original q=0.2\n",
      "companion mass 2.147 larger than 0.808, skipping companion star, original q=0.2\n",
      "companion mass 1.038 larger than 0.808, skipping companion star, original q=0.3\n"
     ]
    }
   ],
   "source": [
    "fbs = np.linspace(0, 0.39, 40)\n",
    "\n",
    "true_fbs = []\n",
    "\n",
    "for fb in fbs:\n",
    "    bs.shift_flat(fb=fb)\n",
    "    # bs.shift_q(fb=[fb],q=[0.4])\n",
    "\n",
    "    true_fbs.append(bs.fb_true)"
   ]
  },
  {
   "cell_type": "code",
   "execution_count": 26,
   "id": "0e6f9b2a-e241-4217-8cce-b99ccd0c20a9",
   "metadata": {},
   "outputs": [
    {
     "data": {
      "application/vnd.jupyter.widget-view+json": {
       "model_id": "6828cd969f83435c870dcffe0ae1030b",
       "version_major": 2,
       "version_minor": 0
      },
      "text/html": [
       "\n",
       "            <div style=\"display: inline-block;\">\n",
       "                <div class=\"jupyter-widgets widget-label\" style=\"text-align: center;\">\n",
       "                    Figure\n",
       "                </div>\n",
       "                <img src='data:image/png;base64,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' width=600.0/>\n",
       "            </div>\n",
       "        "
      ],
      "text/plain": [
       "Canvas(toolbar=Toolbar(toolitems=[('Home', 'Reset original view', 'home', 'home'), ('Back', 'Back to previous …"
      ]
     },
     "metadata": {},
     "output_type": "display_data"
    }
   ],
   "source": [
    "fig, axes = plt.subplots(\n",
    "    2, 1, figsize=(6, 6), sharex=True, gridspec_kw={\"height_ratios\": [3, 1]}\n",
    ")\n",
    "axes[0].plot(np.array(fbs) * 100, np.array(true_fbs) * 100, \"o--\")\n",
    "axes[1].set_xlabel(\"Requested fb [%] \")\n",
    "axes[0].set_ylabel(\"True fb [%]\")\n",
    "axes[1].plot(np.array(fbs) * 100, np.array(true_fbs - fbs) * 100, \"o--\")\n",
    "axes[0].plot(np.array(fbs) * 100, np.array(fbs) * 100, \"--\")\n",
    "\n",
    "axes[1].set_ylabel(\"Difference [%]\")\n",
    "axes[1].set_ylim(-15, 15)\n",
    "axes[1].axhline(0, color=\"green\")\n",
    "fig.tight_layout()"
   ]
  },
  {
   "cell_type": "code",
   "execution_count": null,
   "id": "ab126778-fcaa-4da2-9d6b-6593613c0aca",
   "metadata": {},
   "outputs": [],
   "source": []
  },
  {
   "cell_type": "code",
   "execution_count": null,
   "id": "ec21cb25-df79-4683-aa58-dd8eebe7d172",
   "metadata": {},
   "outputs": [],
   "source": []
  },
  {
   "cell_type": "code",
   "execution_count": null,
   "id": "7ea1f9d4-1a1a-4629-8a52-d70d1f0f54d2",
   "metadata": {},
   "outputs": [],
   "source": []
  },
  {
   "cell_type": "markdown",
   "id": "9a44e411-d25e-4f3c-bc20-fadda55e4d4c",
   "metadata": {},
   "source": [
    "# Have a look at mass ratio distribution:\n",
    "\n",
    "## (None of these plots are really working right now)"
   ]
  },
  {
   "cell_type": "code",
   "execution_count": 28,
   "id": "a8a14d5d-aaa2-46c6-acb2-8ebb1afb799d",
   "metadata": {},
   "outputs": [
    {
     "name": "stdout",
     "output_type": "stream",
     "text": [
      "companion mass 1.128 larger than 0.808, skipping companion star, original q=0.2\n",
      "companion mass 1.556 larger than 0.808, skipping companion star, original q=0.2\n",
      "companion mass 2.147 larger than 0.808, skipping companion star, original q=0.2\n",
      "companion mass 1.038 larger than 0.808, skipping companion star, original q=0.3\n"
     ]
    }
   ],
   "source": [
    "mj_new, Mj_new = bs.shift_flat(fb=0.15)\n",
    "# mj_new, Mj_new = bs.shift_q(fb=[0.05,0.05],q=[1,0.9])\n",
    "\n",
    "qs = []\n",
    "for masses in bs.binary_components:\n",
    "    q = np.min(masses) / np.max(masses)\n",
    "    qs.append(q)"
   ]
  },
  {
   "cell_type": "code",
   "execution_count": 29,
   "id": "71c875e7-f576-4b2a-aff1-54a1a0166ec1",
   "metadata": {},
   "outputs": [
    {
     "data": {
      "text/plain": [
       "77"
      ]
     },
     "execution_count": 29,
     "metadata": {},
     "output_type": "execute_result"
    }
   ],
   "source": [
    "len(qs)"
   ]
  },
  {
   "cell_type": "code",
   "execution_count": 30,
   "id": "33860fe3-033a-494e-9e29-5f0a642da50f",
   "metadata": {},
   "outputs": [
    {
     "data": {
      "text/plain": [
       "77"
      ]
     },
     "execution_count": 30,
     "metadata": {},
     "output_type": "execute_result"
    }
   ],
   "source": [
    "len(bs.Nj_shifted[bs.bin_mask])"
   ]
  },
  {
   "cell_type": "code",
   "execution_count": 31,
   "id": "9f90fea0-cf98-4033-9ce6-a9e1a84f7eec",
   "metadata": {},
   "outputs": [
    {
     "data": {
      "text/plain": [
       "[0.1924221822274427,\n",
       " 0.2024819462578588,\n",
       " 0.2210350442453857,\n",
       " 0.1924221822274427,\n",
       " 0.23112298500735093,\n",
       " 0.2024819462578588,\n",
       " 0.27594593008982077,\n",
       " 0.3049686072381006,\n",
       " 0.31888723843779454,\n",
       " 0.27594593008982077,\n",
       " 0.3049686072381006,\n",
       " 0.2654905927517611,\n",
       " 0.31888723843779454,\n",
       " 0.2793703476684714,\n",
       " 0.38073078565607266,\n",
       " 0.38073078529162563,\n",
       " 0.4207742339831983,\n",
       " 0.38073078565607266,\n",
       " 0.38073078529162563,\n",
       " 0.4207742339831983,\n",
       " 0.366305246322124,\n",
       " 0.4399781824703281,\n",
       " 0.38545555603114906,\n",
       " 0.5253055591189354,\n",
       " 0.5253055588112888,\n",
       " 0.5253055591189354,\n",
       " 0.5253055588112888,\n",
       " 0.5253055584499219,\n",
       " 0.4207742339831983,\n",
       " 0.5054022145749578,\n",
       " 0.4399781824703281,\n",
       " 0.5318244651605075,\n",
       " 0.5253055591189354,\n",
       " 0.7247796625598754,\n",
       " 0.5253055591189354,\n",
       " 0.5253055588112888,\n",
       " 0.5253055584499219,\n",
       " 0.580554692640627,\n",
       " 0.5054022145749578,\n",
       " 0.6070509502674424,\n",
       " 0.6639435714108549,\n",
       " 0.7247796625598754,\n",
       " 0.7247796625598754,\n",
       " 0.724779662364683,\n",
       " 0.7247796621354063,\n",
       " 0.7247796618660943,\n",
       " 0.8010085315389087,\n",
       " 0.697318428160216,\n",
       " 0.7578582828589449,\n",
       " 0.6639435714108549,\n",
       " 1.0,\n",
       " 0.7247796625598754,\n",
       " 0.724779662364683,\n",
       " 0.7247796621354063,\n",
       " 0.7247796618660943,\n",
       " 0.8010085315389087,\n",
       " 0.8705505630764234,\n",
       " 0.7578582828589449,\n",
       " 0.7626708884829806,\n",
       " 1.0,\n",
       " 1.0,\n",
       " 1.0,\n",
       " 1.0,\n",
       " 1.0,\n",
       " 0.8010085315389087,\n",
       " 0.8705505630764234,\n",
       " 0.8705505630606484,\n",
       " 0.8760787952414981,\n",
       " 1.0,\n",
       " 1.0,\n",
       " 1.0,\n",
       " 1.0,\n",
       " 1.0,\n",
       " 1.0,\n",
       " 1.0,\n",
       " 1.0,\n",
       " 1.0]"
      ]
     },
     "execution_count": 31,
     "metadata": {},
     "output_type": "execute_result"
    }
   ],
   "source": [
    "qs"
   ]
  },
  {
   "cell_type": "code",
   "execution_count": 32,
   "id": "69733d2d-7175-4044-82a0-fc5aa64b0cae",
   "metadata": {},
   "outputs": [
    {
     "data": {
      "text/plain": [
       "Text(0.5, 0, '$q$')"
      ]
     },
     "execution_count": 32,
     "metadata": {},
     "output_type": "execute_result"
    },
    {
     "data": {
      "application/vnd.jupyter.widget-view+json": {
       "model_id": "b74395c0dd464f44ae4e4ee9169dae0e",
       "version_major": 2,
       "version_minor": 0
      },
      "text/html": [
       "\n",
       "            <div style=\"display: inline-block;\">\n",
       "                <div class=\"jupyter-widgets widget-label\" style=\"text-align: center;\">\n",
       "                    Figure\n",
       "                </div>\n",
       "                <img src='data:image/png;base64,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' width=800.0/>\n",
       "            </div>\n",
       "        "
      ],
      "text/plain": [
       "Canvas(toolbar=Toolbar(toolitems=[('Home', 'Reset original view', 'home', 'home'), ('Back', 'Back to previous …"
      ]
     },
     "metadata": {},
     "output_type": "display_data"
    }
   ],
   "source": [
    "# this is just all of the q values, not how many stars per q value\n",
    "plt.figure()\n",
    "seaborn.histplot(qs)\n",
    "plt.xlabel(r\"$q$\")"
   ]
  },
  {
   "cell_type": "code",
   "execution_count": 33,
   "id": "3e4cd09c-bbaf-4624-b31f-d1f96dbb7f1e",
   "metadata": {},
   "outputs": [
    {
     "data": {
      "text/plain": [
       "Text(0.5, 0, '$q$')"
      ]
     },
     "execution_count": 33,
     "metadata": {},
     "output_type": "execute_result"
    },
    {
     "data": {
      "application/vnd.jupyter.widget-view+json": {
       "model_id": "9ab8b1162f7b41409f7dc902c8520292",
       "version_major": 2,
       "version_minor": 0
      },
      "text/html": [
       "\n",
       "            <div style=\"display: inline-block;\">\n",
       "                <div class=\"jupyter-widgets widget-label\" style=\"text-align: center;\">\n",
       "                    Figure\n",
       "                </div>\n",
       "                <img src='data:image/png;base64,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' width=800.0/>\n",
       "            </div>\n",
       "        "
      ],
      "text/plain": [
       "Canvas(toolbar=Toolbar(toolitems=[('Home', 'Reset original view', 'home', 'home'), ('Back', 'Back to previous …"
      ]
     },
     "metadata": {},
     "output_type": "display_data"
    }
   ],
   "source": [
    "# TODO: this isnt quite what im looking for, want to plot number of Stars in each bin associated with its q value\n",
    "# so i guess im looking for this but collapsed in the y direction? or binned together by x value?\n",
    "\n",
    "plt.figure()\n",
    "seaborn.histplot(x=qs, y=bs.Nj_shifted[bs.bin_mask])\n",
    "\n",
    "plt.xlabel(r\"$q$\")"
   ]
  },
  {
   "cell_type": "code",
   "execution_count": 34,
   "id": "9865905e-287d-4330-88c8-da66f9deeb64",
   "metadata": {},
   "outputs": [],
   "source": [
    "q_vals = [0.1, 0.2, 0.3, 0.4, 0.5, 0.6, 0.7, 0.8, 0.9, 1.0]\n",
    "idxs = np.digitize(qs, bins=q_vals)"
   ]
  },
  {
   "cell_type": "code",
   "execution_count": 35,
   "id": "adee7a11-6240-476a-bf05-cda22d39ed61",
   "metadata": {},
   "outputs": [
    {
     "data": {
      "text/plain": [
       "array([ 1,  2,  2,  1,  2,  2,  2,  3,  3,  2,  3,  2,  3,  2,  3,  3,  4,\n",
       "        3,  3,  4,  3,  4,  3,  5,  5,  5,  5,  5,  4,  5,  4,  5,  5,  7,\n",
       "        5,  5,  5,  5,  5,  6,  6,  7,  7,  7,  7,  7,  8,  6,  7,  6, 10,\n",
       "        7,  7,  7,  7,  8,  8,  7,  7, 10, 10, 10, 10, 10,  8,  8,  8,  8,\n",
       "       10, 10, 10, 10, 10, 10, 10, 10, 10])"
      ]
     },
     "execution_count": 35,
     "metadata": {},
     "output_type": "execute_result"
    }
   ],
   "source": [
    "idxs"
   ]
  },
  {
   "cell_type": "code",
   "execution_count": 36,
   "id": "b2928bd2-9393-498f-bc6d-84bbd24dbbdf",
   "metadata": {},
   "outputs": [],
   "source": [
    "Nstars_per_q = np.zeros_like(q_vals)\n",
    "\n",
    "for i, N in enumerate(bs.Nj_shifted[bs.bin_mask]):\n",
    "    Nstars_per_q[idxs[i] - 1] += N"
   ]
  },
  {
   "cell_type": "code",
   "execution_count": 37,
   "id": "251b61f0-b924-464e-9fb9-186371258ab7",
   "metadata": {},
   "outputs": [],
   "source": [
    "data = np.array([q_vals, Nstars_per_q])\n",
    "# data = np.array([qs,bs.Nj_shifted[bs.bin_mask]])"
   ]
  },
  {
   "cell_type": "code",
   "execution_count": 38,
   "id": "a047122d-5e2f-454c-bd2f-489872e1e988",
   "metadata": {},
   "outputs": [
    {
     "data": {
      "text/plain": [
       "array([[1.00000000e-01, 2.00000000e-01, 3.00000000e-01, 4.00000000e-01,\n",
       "        5.00000000e-01, 6.00000000e-01, 7.00000000e-01, 8.00000000e-01,\n",
       "        9.00000000e-01, 1.00000000e+00],\n",
       "       [9.19580309e+02, 4.08031890e+03, 5.77315039e+03, 2.42180658e+03,\n",
       "        8.14931345e+03, 1.61201210e+03, 8.34900276e+03, 3.00590560e+03,\n",
       "        0.00000000e+00, 9.19943074e+03]])"
      ]
     },
     "execution_count": 38,
     "metadata": {},
     "output_type": "execute_result"
    }
   ],
   "source": [
    "data"
   ]
  },
  {
   "cell_type": "code",
   "execution_count": 39,
   "id": "0c3c8501-1e67-4acb-9f7d-be90c26e07fe",
   "metadata": {},
   "outputs": [
    {
     "data": {
      "text/plain": [
       "<AxesSubplot:ylabel='Count'>"
      ]
     },
     "execution_count": 39,
     "metadata": {},
     "output_type": "execute_result"
    },
    {
     "data": {
      "application/vnd.jupyter.widget-view+json": {
       "model_id": "add33978b5764d5c8b7c41e1b708385b",
       "version_major": 2,
       "version_minor": 0
      },
      "text/html": [
       "\n",
       "            <div style=\"display: inline-block;\">\n",
       "                <div class=\"jupyter-widgets widget-label\" style=\"text-align: center;\">\n",
       "                    Figure\n",
       "                </div>\n",
       "                <img src='data:image/png;base64,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' width=800.0/>\n",
       "            </div>\n",
       "        "
      ],
      "text/plain": [
       "Canvas(toolbar=Toolbar(toolitems=[('Home', 'Reset original view', 'home', 'home'), ('Back', 'Back to previous …"
      ]
     },
     "metadata": {},
     "output_type": "display_data"
    }
   ],
   "source": [
    "plt.figure()\n",
    "seaborn.histplot(data=data)"
   ]
  },
  {
   "cell_type": "code",
   "execution_count": 40,
   "id": "59845cf2-612b-42e3-992f-f3845f1be075",
   "metadata": {},
   "outputs": [
    {
     "ename": "NameError",
     "evalue": "name 'stop' is not defined",
     "output_type": "error",
     "traceback": [
      "\u001b[0;31m---------------------------------------------------------------------------\u001b[0m",
      "\u001b[0;31mNameError\u001b[0m                                 Traceback (most recent call last)",
      "\u001b[0;32m/tmp/ipykernel_947006/1640820313.py\u001b[0m in \u001b[0;36m<module>\u001b[0;34m\u001b[0m\n\u001b[1;32m      1\u001b[0m \u001b[0;31m# Have a look at models\u001b[0m\u001b[0;34m\u001b[0m\u001b[0;34m\u001b[0m\u001b[0;34m\u001b[0m\u001b[0m\n\u001b[0;32m----> 2\u001b[0;31m \u001b[0mstop\u001b[0m\u001b[0;34m\u001b[0m\u001b[0;34m\u001b[0m\u001b[0m\n\u001b[0m",
      "\u001b[0;31mNameError\u001b[0m: name 'stop' is not defined"
     ]
    }
   ],
   "source": [
    "# Have a look at models\n",
    "stop"
   ]
  },
  {
   "cell_type": "code",
   "execution_count": null,
   "id": "0d13d810-531a-4e05-bb03-2b7f6d82d297",
   "metadata": {},
   "outputs": [],
   "source": [
    "l = limepy(\n",
    "    M=1e6, phi0=6, g=0.8, mj=mj, Mj=Mj, delta=0.45, rh=8, ra=10 ** 1.23, project=True\n",
    ")"
   ]
  },
  {
   "cell_type": "code",
   "execution_count": null,
   "id": "8b947cea-1e8e-4a73-a64a-131664250285",
   "metadata": {},
   "outputs": [],
   "source": [
    "l_bin = limepy(\n",
    "    M=1e6,\n",
    "    phi0=6,\n",
    "    g=0.8,\n",
    "    mj=mj_new,\n",
    "    Mj=Mj_new,\n",
    "    delta=0.45,\n",
    "    rh=8,\n",
    "    ra=10 ** 1.23,\n",
    "    project=True,\n",
    ")"
   ]
  },
  {
   "cell_type": "code",
   "execution_count": null,
   "id": "4aa72d51-f99b-47ee-86dc-61e2323b3f11",
   "metadata": {},
   "outputs": [],
   "source": []
  },
  {
   "cell_type": "code",
   "execution_count": null,
   "id": "8d17ffa9-5840-4f48-9b53-3c7f51bdd7fd",
   "metadata": {},
   "outputs": [],
   "source": []
  },
  {
   "cell_type": "code",
   "execution_count": null,
   "id": "104a1a22-f6dd-4e1a-8674-0e637c65ab60",
   "metadata": {},
   "outputs": [],
   "source": [
    "plt.figure()\n",
    "plt.loglog()\n",
    "plt.xlim(1e-2, 1e2)\n",
    "plt.ylim(1e2, 1e7)\n",
    "plt.plot(l.r, l.mcp, label=\"No Binaries\")\n",
    "plt.xlabel(\"R [pc]\")\n",
    "plt.ylabel(\"Enclosed Mass\")\n",
    "plt.plot(l_bin.r, l_bin.mcp, label=\"Binaries\")\n",
    "plt.legend()"
   ]
  },
  {
   "cell_type": "code",
   "execution_count": null,
   "id": "71e9cb12-2902-4e00-8306-6f2c6e05f744",
   "metadata": {},
   "outputs": [],
   "source": []
  },
  {
   "cell_type": "code",
   "execution_count": null,
   "id": "6eb79203-76f3-4999-9b7f-ec67b4b61ac8",
   "metadata": {},
   "outputs": [],
   "source": [
    "plt.figure()\n",
    "plt.xscale(\"log\")\n",
    "plt.xlim(1e-2, 1e2)\n",
    "plt.plot(l.r, np.sqrt(l.v2R), label=\"No Binaries\")\n",
    "plt.xlabel(\"R [pc]\")\n",
    "plt.ylabel(\"Vr\")\n",
    "plt.plot(l_bin.r, np.sqrt(l_bin.v2R), label=\"Binaries\")\n",
    "plt.legend()"
   ]
  },
  {
   "cell_type": "code",
   "execution_count": null,
   "id": "5a08363f-e69b-4d01-95b7-e809f870433d",
   "metadata": {},
   "outputs": [],
   "source": [
    "plt.figure()\n",
    "plt.xscale(\"log\")\n",
    "plt.xlim(1e-2, 1e2)\n",
    "plt.plot(l.r, np.sqrt(l.v2T), label=\"No Binaries\")\n",
    "plt.xlabel(\"R [pc]\")\n",
    "plt.ylabel(\"Vt\")\n",
    "plt.plot(l_bin.r, np.sqrt(l_bin.v2T), label=\"Binaries\")\n",
    "plt.legend()"
   ]
  },
  {
   "cell_type": "code",
   "execution_count": null,
   "id": "c83688ad-3f3b-4e9e-992c-668dce52e223",
   "metadata": {},
   "outputs": [],
   "source": [
    "plt.figure()\n",
    "plt.xscale(\"log\")\n",
    "plt.xlim(1e-2, 1e2)\n",
    "plt.plot(l.r, np.sqrt(l.v2p), label=\"No Binaries\")\n",
    "plt.xlabel(\"R [pc]\")\n",
    "plt.ylabel(\"Vlos\")\n",
    "plt.plot(l_bin.r, np.sqrt(l_bin.v2p), label=\"Binaries\")\n",
    "plt.legend()"
   ]
  },
  {
   "cell_type": "code",
   "execution_count": null,
   "id": "6aa1d2b9-883e-4d10-b237-6ab36d72f7fe",
   "metadata": {},
   "outputs": [],
   "source": []
  },
  {
   "cell_type": "code",
   "execution_count": null,
   "id": "884f573f-542d-4a74-ae55-0371d2d8aef8",
   "metadata": {},
   "outputs": [],
   "source": [
    "plt.figure()\n",
    "plt.loglog()\n",
    "plt.xlim(1e-1, 1e2)\n",
    "plt.ylim(1e-0, 1e6)\n",
    "plt.plot(l.r, l.Sigma, label=\"No Binaries\")\n",
    "plt.xlabel(\"R [pc]\")\n",
    "plt.ylabel(r\"$\\Sigma$\")\n",
    "plt.plot(l_bin.r, l_bin.Sigma, label=\"Binaries\")\n",
    "plt.legend()"
   ]
  },
  {
   "cell_type": "code",
   "execution_count": null,
   "id": "25f94e31-6214-4aac-b7c3-03363ec30c5c",
   "metadata": {},
   "outputs": [],
   "source": []
  },
  {
   "cell_type": "code",
   "execution_count": null,
   "id": "8ff9ad43-a7f4-477a-b26a-134616bec44e",
   "metadata": {},
   "outputs": [],
   "source": []
  },
  {
   "cell_type": "code",
   "execution_count": null,
   "id": "e99be0bb-b40a-484e-a1c7-695a2a8663ec",
   "metadata": {},
   "outputs": [],
   "source": []
  },
  {
   "cell_type": "code",
   "execution_count": null,
   "id": "de6ea357-5012-4332-8729-3c8c24bf5693",
   "metadata": {},
   "outputs": [],
   "source": []
  },
  {
   "cell_type": "code",
   "execution_count": null,
   "id": "aa9f3423-dc3e-4519-b14a-c541d3ec6673",
   "metadata": {},
   "outputs": [],
   "source": []
  }
 ],
 "metadata": {
  "kernelspec": {
   "display_name": "gcfit",
   "language": "python",
   "name": "gcfit"
  },
  "language_info": {
   "codemirror_mode": {
    "name": "ipython",
    "version": 3
   },
   "file_extension": ".py",
   "mimetype": "text/x-python",
   "name": "python",
   "nbconvert_exporter": "python",
   "pygments_lexer": "ipython3",
   "version": "3.8.12"
  },
  "nteract": {
   "version": "0.28.0"
  }
 },
 "nbformat": 4,
 "nbformat_minor": 5
}
