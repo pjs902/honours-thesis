{
 "cells": [
  {
   "cell_type": "code",
   "execution_count": 1,
   "id": "94217554-aebf-4de3-b5af-b7a19cab0dad",
   "metadata": {},
   "outputs": [],
   "source": [
    "%matplotlib inline\n",
    "%config InlineBackend.figure_format = \"retina\"\n",
    "\n",
    "import matplotlib.pyplot as plt\n",
    "import seaborn\n",
    "\n",
    "seaborn.set(context=\"notebook\", style=\"darkgrid\")\n",
    "plt.rcParams[\"figure.figsize\"] = (8, 6)\n",
    "from tqdm.auto import tqdm, trange\n",
    "\n",
    "from ssptools import evolve_mf_3 as emf3\n",
    "from limepy import limepy\n",
    "\n",
    "import numpy as np\n",
    "import scipy as sp\n",
    "import astropy.units as u\n",
    "import astropy.constants as const\n",
    "\n",
    "from binaryshift import BinaryShift"
   ]
  },
  {
   "cell_type": "code",
   "execution_count": null,
   "id": "1863b5c3-2883-4478-84ec-3b0c11208070",
   "metadata": {},
   "outputs": [],
   "source": []
  },
  {
   "cell_type": "code",
   "execution_count": null,
   "id": "dcb88432-f76a-409e-8b11-007a5cc6728a",
   "metadata": {},
   "outputs": [],
   "source": []
  },
  {
   "cell_type": "code",
   "execution_count": 2,
   "id": "34a6f01c-723c-494f-b97b-cc4b3f44c1aa",
   "metadata": {},
   "outputs": [],
   "source": [
    "m123 = [0.1, 0.5, 1.0, 100]  # Slope breakpoints for initial mass function\n",
    "a12 = [-0.468, -1.178, -2.117]  # Slopes for initial mass function\n",
    "nbin12 = [5, 5, 20]\n",
    "\n",
    "# Output times for the evolution\n",
    "tout = np.array([11000])\n",
    "\n",
    "# Integration settings\n",
    "N0 = 5e5  # Normalization of stars\n",
    "Ndot = -0.0001  # Regulates how low mass objects are depleted default -20, 0 for 47 Tuc\n",
    "tcc = 0  # Core collapse time\n",
    "NS_ret = 0.1  # Initial neutron star retention\n",
    "BH_ret_int = 1  # Initial Black Hole retention\n",
    "BH_ret_dyn = 0.00235  # Dynamical Black Hole retention\n",
    "FeHe = -0.7  # Metallicity"
   ]
  },
  {
   "cell_type": "code",
   "execution_count": 3,
   "id": "97069263-e4ac-4fc8-b7a8-889c8b5aa94b",
   "metadata": {},
   "outputs": [
    {
     "name": "stderr",
     "output_type": "stream",
     "text": [
      "/home/peter/research/ssptools/ssptools/evolve_mf_3.py:321: RuntimeWarning: divide by zero encountered in true_divide\n",
      "  As = Ns / P1\n",
      "/home/peter/research/ssptools/ssptools/evolve_mf_3.py:246: RuntimeWarning: divide by zero encountered in double_scalars\n",
      "  Aj = Nj / self.Pk(alphaj, 1, m1, mto)\n"
     ]
    }
   ],
   "source": [
    "f = emf3.evolve_mf(\n",
    "    m123=m123,\n",
    "    a12=a12,\n",
    "    nbin12=nbin12,\n",
    "    tout=tout,\n",
    "    N0=N0,\n",
    "    Ndot=Ndot,\n",
    "    tcc=tcc,\n",
    "    NS_ret=NS_ret,\n",
    "    BH_ret_int=BH_ret_int,\n",
    "    BH_ret_dyn=BH_ret_dyn,\n",
    "    FeHe=FeHe,\n",
    "    natal_kicks=True,\n",
    "    vesc=100,\n",
    ")"
   ]
  },
  {
   "cell_type": "code",
   "execution_count": 4,
   "id": "01621e16-2a98-4354-a011-38c1bda1f298",
   "metadata": {},
   "outputs": [
    {
     "data": {
      "text/plain": [
       "<ssptools.evolve_mf_3.evolve_mf at 0x7f464fff27c0>"
      ]
     },
     "execution_count": 4,
     "metadata": {},
     "output_type": "execute_result"
    }
   ],
   "source": [
    "f"
   ]
  },
  {
   "cell_type": "code",
   "execution_count": 5,
   "id": "da017f9e-c551-4859-af62-1498bc539396",
   "metadata": {},
   "outputs": [],
   "source": [
    "cs = f.Ns[-1] > 10 * f.Nmin\n",
    "cr = f.Nr[-1] > 10 * f.Nmin\n",
    "mj = np.r_[f.ms[-1][cs], f.mr[-1][cr]]\n",
    "Mj = np.r_[f.Ms[-1][cs], f.Mr[-1][cr]]\n",
    "dms = f.mes[-1][1:] - f.mes[-1][0:-1]\n",
    "nms = len(f.ms[-1][cs])"
   ]
  },
  {
   "cell_type": "code",
   "execution_count": 6,
   "id": "1836d337-8903-4836-aed7-56802f6f2a76",
   "metadata": {},
   "outputs": [
    {
     "data": {
      "text/plain": [
       "0.1"
      ]
     },
     "execution_count": 6,
     "metadata": {},
     "output_type": "execute_result"
    }
   ],
   "source": [
    "f.Nmin"
   ]
  },
  {
   "cell_type": "code",
   "execution_count": null,
   "id": "24e43d32-4d9a-4cc2-97f0-9e84eb9c51aa",
   "metadata": {},
   "outputs": [],
   "source": []
  },
  {
   "cell_type": "code",
   "execution_count": 7,
   "id": "de8c7d31-bbb2-4c69-ade4-47b037de6be2",
   "metadata": {},
   "outputs": [],
   "source": [
    "bs = BinaryShift(mj=mj, Mj=Mj, MF=f, verbose=False)"
   ]
  },
  {
   "cell_type": "code",
   "execution_count": 8,
   "id": "c2e27b8d-43a0-4292-b725-4262f3d2d606",
   "metadata": {},
   "outputs": [
    {
     "name": "stdout",
     "output_type": "stream",
     "text": [
      "self.mj = array([0.11851084, 0.16351292, 0.22560363, 0.31127202, 0.42947124,\n",
      "       0.53616312, 0.6158897 , 0.70747148, 0.80754321, 0.6158897 ,\n",
      "       0.70747148, 0.80754321, 0.92779583, 1.11896564, 1.40869427,\n",
      "       2.81071458, 3.53848001, 4.45468241, 5.60811288, 7.06019582,\n",
      "       8.88825993])\n",
      "self.Mj = array([3.50653839e+03, 5.74173527e+03, 9.40172964e+03, 1.53947409e+04,\n",
      "       2.52079221e+04, 1.45666174e+04, 1.63248118e+04, 1.82952210e+04,\n",
      "       1.85600328e+04, 4.28216163e+04, 3.68811585e+04, 8.56110667e+03,\n",
      "       8.87107346e+03, 2.04048921e+04, 2.87933957e+03, 3.38905042e+00,\n",
      "       6.98416820e+00, 1.30644215e+01, 2.60412400e+01, 5.68695470e+01,\n",
      "       4.17703060e+01])\n",
      "self._nms = 8\n",
      "self._mWD_max = 1.2485309234871975\n",
      "self._mBH_min = 2.51188643150958\n"
     ]
    }
   ],
   "source": [
    "bs.dump()"
   ]
  },
  {
   "cell_type": "code",
   "execution_count": 9,
   "id": "5dbda990-0e03-4e99-b7ff-b6db1aed7b88",
   "metadata": {},
   "outputs": [
    {
     "data": {
      "text/plain": [
       "array([ True,  True,  True,  True,  True,  True,  True,  True,  True,\n",
       "       False, False, False, False, False, False, False, False, False,\n",
       "       False, False, False])"
      ]
     },
     "execution_count": 9,
     "metadata": {},
     "output_type": "execute_result"
    }
   ],
   "source": [
    "bs.MS_mask"
   ]
  },
  {
   "cell_type": "code",
   "execution_count": 10,
   "id": "2054a497-43f4-424b-9b1b-37cbe1926e06",
   "metadata": {},
   "outputs": [
    {
     "data": {
      "text/plain": [
       "array([0.11851084, 0.16351292, 0.22560363, 0.31127202, 0.42947124,\n",
       "       0.53616312, 0.6158897 , 0.70747148, 0.80754321])"
      ]
     },
     "execution_count": 10,
     "metadata": {},
     "output_type": "execute_result"
    }
   ],
   "source": [
    "bs.mj[bs.MS_mask]"
   ]
  },
  {
   "cell_type": "code",
   "execution_count": null,
   "id": "6c2bd1aa-2fb3-4769-bd55-c926f66273f2",
   "metadata": {},
   "outputs": [],
   "source": []
  },
  {
   "cell_type": "code",
   "execution_count": 11,
   "id": "5e7af1bc-e5f8-46b4-890c-fd8eda9e1ae9",
   "metadata": {},
   "outputs": [],
   "source": [
    "mj_new, Mj_new = bs.shift_flat(fb=0.3)\n",
    "# mj_new, Mj_new = bs.shift_equal(fb=0.25)\n",
    "# mj_new, Mj_new = bs.shift_solar(fb=0.25)"
   ]
  },
  {
   "cell_type": "code",
   "execution_count": 12,
   "id": "b97028cc-a798-4623-aa95-0dee62ec2654",
   "metadata": {},
   "outputs": [
    {
     "data": {
      "text/plain": [
       "0.1467547966832377"
      ]
     },
     "execution_count": 12,
     "metadata": {},
     "output_type": "execute_result"
    }
   ],
   "source": [
    "bs._q_min"
   ]
  },
  {
   "cell_type": "code",
   "execution_count": 13,
   "id": "703370f3-11dd-48de-8fbc-56bdf458fb4a",
   "metadata": {
    "tags": []
   },
   "outputs": [
    {
     "data": {
      "text/plain": [
       "Text(0.5, 0, 'mj [$M_\\\\odot$]')"
      ]
     },
     "execution_count": 13,
     "metadata": {},
     "output_type": "execute_result"
    },
    {
     "data": {
      "image/png": "[encoded data removed]",
      "text/plain": [
       "<Figure size 576x432 with 1 Axes>"
      ]
     },
     "metadata": {
      "image/png": {
       "height": 378,
       "width": 507
      }
     },
     "output_type": "display_data"
    }
   ],
   "source": [
    "plt.figure()\n",
    "plt.scatter(mj[bs.MS_mask], Mj[bs.MS_mask], label=\"Original MS\", s=70)\n",
    "\n",
    "# plt.scatter(mj, Mj, label=\"Original MF\", s=70)\n",
    "\n",
    "plt.yscale(\"log\")\n",
    "# plt.ylim(1e2, 1e5)\n",
    "plt.scatter(\n",
    "    mj_new[bs.MS_mask_new],\n",
    "    Mj_new[bs.MS_mask_new],\n",
    "    label=\"New MF (single MS)\",\n",
    "    marker=\"x\",\n",
    "    s=70,\n",
    "    alpha=0.7,\n",
    ")\n",
    "plt.scatter(\n",
    "    mj_new[bs.bin_mask],\n",
    "    Mj_new[bs.bin_mask],\n",
    "    label=\"New MF (binary MS)\",\n",
    "    marker=\"X\",\n",
    "    s=70,\n",
    ")\n",
    "plt.scatter(\n",
    "    mj_new[bs.WD_mask_new],\n",
    "    Mj_new[bs.WD_mask_new],\n",
    "    label=\"WD\",\n",
    "    marker=\"o\",\n",
    "    color=\"grey\",\n",
    "    s=40,\n",
    ")\n",
    "\n",
    "plt.legend()\n",
    "plt.ylabel(r\"Mj [$M_\\odot$]\")\n",
    "plt.xlabel(r\"mj [$M_\\odot$]\")\n",
    "# plt.savefig(\"shifted.png\",dpi=300)\n",
    "# plt.xlim(0, 1.7)"
   ]
  },
  {
   "cell_type": "code",
   "execution_count": 14,
   "id": "2c7bbcbc-45c2-4576-a2ce-8bf1c10a3a89",
   "metadata": {},
   "outputs": [
    {
     "data": {
      "text/plain": [
       "array([0.11851084, 0.16351292, 0.22560363, 0.31127202, 0.42947124,\n",
       "       0.53616312, 0.6158897 , 0.70747148, 0.80754321, 0.6158897 ,\n",
       "       0.70747148, 0.80754321, 0.92779583, 1.11896564, 1.40869427,\n",
       "       2.81071458, 3.53848001, 4.45468241, 5.60811288, 7.06019582,\n",
       "       8.88825993])"
      ]
     },
     "execution_count": 14,
     "metadata": {},
     "output_type": "execute_result"
    }
   ],
   "source": [
    "mj"
   ]
  },
  {
   "cell_type": "code",
   "execution_count": 15,
   "id": "d4832db7-7b8c-47ca-9277-6590eba70133",
   "metadata": {},
   "outputs": [
    {
     "data": {
      "text/plain": [
       "0.9381975141828359"
      ]
     },
     "execution_count": 15,
     "metadata": {},
     "output_type": "execute_result"
    }
   ],
   "source": [
    "# Mass ratio\n",
    "np.sum(Mj_new[bs.bin_mask]) / np.sum(Mj_new[bs.MS_mask_new])"
   ]
  },
  {
   "cell_type": "code",
   "execution_count": 16,
   "id": "95c34062-50fd-4369-a510-c97ff57d7462",
   "metadata": {},
   "outputs": [
    {
     "name": "stdout",
     "output_type": "stream",
     "text": [
      "np.sum(Mj) = 247566.655, np.sum(Mj_new) = 247566.655\n"
     ]
    }
   ],
   "source": [
    "# check mass conservation\n",
    "print(f\"{np.sum(Mj) = :.3f}, {np.sum(Mj_new) = :.3f}\")"
   ]
  },
  {
   "cell_type": "code",
   "execution_count": null,
   "id": "2fc45144-abea-49d4-b57d-8ae183d5000c",
   "metadata": {},
   "outputs": [],
   "source": []
  },
  {
   "cell_type": "code",
   "execution_count": 17,
   "id": "4eb021e9-3098-41b3-b063-60217b86ec9c",
   "metadata": {},
   "outputs": [],
   "source": [
    "# Have a look at Nj"
   ]
  },
  {
   "cell_type": "code",
   "execution_count": 18,
   "id": "7fd2d97e-8464-44c5-9ef7-50158acdbdd3",
   "metadata": {},
   "outputs": [],
   "source": [
    "Nj = Mj_new / mj_new"
   ]
  },
  {
   "cell_type": "code",
   "execution_count": 19,
   "id": "911f741d-abee-4f54-a167-dec3aee5ca88",
   "metadata": {},
   "outputs": [
    {
     "data": {
      "text/plain": [
       "array([ 954.4624116 , 1132.73780344,  876.39538314,  855.03432581,\n",
       "        834.1939368 ,  741.39777192,  954.4624116 , 1132.73780344,\n",
       "       1344.3117261 , 1893.39520602,  876.39538314,  855.03432581,\n",
       "        834.1939368 ,  741.39777192,  954.4624116 , 1132.73780344,\n",
       "       1344.3117261 , 1595.40375978, 1893.39520602,  876.39538314,\n",
       "        855.03432581,  834.1939368 ,  741.39777192,  954.4624116 ,\n",
       "       1132.73780344, 1344.3117261 , 1595.40375978, 1893.39520602,\n",
       "        876.39538314,  855.03432581,  834.1939368 ,  741.39777192,\n",
       "        954.4624116 , 1132.73780344, 1344.3117261 , 1595.40375978,\n",
       "       1893.39520602,  876.39538314,  855.03432581,  834.1939368 ,\n",
       "        741.39777192,  954.4624116 , 1132.73780344, 1344.3117261 ,\n",
       "       1595.40375978, 1893.39520602,  876.39538314,  855.03432581,\n",
       "        834.1939368 ,  741.39777192,  954.4624116 , 1132.73780344,\n",
       "       1344.3117261 , 1595.40375978, 1893.39520602,  876.39538314,\n",
       "        855.03432581,  834.1939368 ,  741.39777192,  954.4624116 ,\n",
       "       1132.73780344, 1344.3117261 , 1595.40375978, 1893.39520602,\n",
       "        876.39538314,  855.03432581,  834.1939368 ,  741.39777192,\n",
       "        954.4624116 , 1132.73780344, 1344.3117261 , 1595.40375978,\n",
       "       1893.39520602,  876.39538314,  855.03432581,  834.1939368 ,\n",
       "        741.39777192])"
      ]
     },
     "execution_count": 19,
     "metadata": {},
     "output_type": "execute_result"
    }
   ],
   "source": [
    "Nj[bs.bin_mask]"
   ]
  },
  {
   "cell_type": "code",
   "execution_count": 20,
   "id": "c649d0e6-c337-42c2-aef7-e38f3ef0861c",
   "metadata": {},
   "outputs": [
    {
     "data": {
      "text/plain": [
       "array([ 6827.72028321, 10620.44606174, 15160.60669254, 24228.64240777,\n",
       "       32614.28692748, 11066.00144734, 15425.66672171, 15432.36317476,\n",
       "       14436.6154068 ])"
      ]
     },
     "execution_count": 20,
     "metadata": {},
     "output_type": "execute_result"
    }
   ],
   "source": [
    "Nj[bs.MS_mask_new]"
   ]
  },
  {
   "cell_type": "code",
   "execution_count": 21,
   "id": "42609ec0-bac2-45cb-a621-41c85a905a39",
   "metadata": {},
   "outputs": [
    {
     "data": {
      "text/plain": [
       "0.5871757569546835"
      ]
     },
     "execution_count": 21,
     "metadata": {},
     "output_type": "execute_result"
    }
   ],
   "source": [
    "# This is the bad (old) definition\n",
    "np.sum(Nj[bs.bin_mask]) / np.sum(Nj[bs.MS_mask_new])"
   ]
  },
  {
   "cell_type": "code",
   "execution_count": null,
   "id": "07fafe06-9667-4a78-839f-ef8d9e46c870",
   "metadata": {},
   "outputs": [],
   "source": []
  },
  {
   "cell_type": "code",
   "execution_count": 22,
   "id": "94db3d08-fe69-4154-b2ff-a3e4e8ab67ca",
   "metadata": {},
   "outputs": [
    {
     "name": "stdout",
     "output_type": "stream",
     "text": [
      "Binary Fraction: 36.995\n"
     ]
    }
   ],
   "source": [
    "# This is the definition we want to use\n",
    "print(f\"Binary Fraction: {bs.fb_true * 100:.3f}\")"
   ]
  },
  {
   "cell_type": "code",
   "execution_count": null,
   "id": "4faacf7a-ca70-43c8-88c7-74f6692910db",
   "metadata": {},
   "outputs": [],
   "source": []
  },
  {
   "cell_type": "code",
   "execution_count": 23,
   "id": "4b7388a5-e631-4f48-a3cb-82c54dfc0edd",
   "metadata": {},
   "outputs": [
    {
     "name": "stdout",
     "output_type": "stream",
     "text": [
      "Input fb | True fb | Diff\n",
      "---------------------------\n",
      "0.0    | 0.00   | 0.00\n",
      "1.0    | 0.94   | 0.06\n",
      "2.0    | 1.89   | 0.11\n",
      "3.0    | 2.86   | 0.14\n",
      "4.0    | 3.85   | 0.15\n",
      "5.0    | 4.85   | 0.15\n",
      "6.0    | 5.87   | 0.13\n",
      "7.0    | 6.91   | 0.09\n",
      "8.0    | 7.96   | 0.04\n",
      "9.0    | 9.04   | -0.04\n",
      "10.0    | 10.13   | -0.13\n",
      "11.0    | 11.24   | -0.24\n",
      "12.0    | 12.38   | -0.38\n",
      "13.0    | 13.53   | -0.53\n",
      "14.0    | 14.71   | -0.71\n",
      "15.0    | 15.91   | -0.91\n",
      "16.0    | 17.13   | -1.13\n",
      "17.0    | 18.37   | -1.37\n",
      "18.0    | 19.64   | -1.64\n",
      "19.0    | 20.93   | -1.93\n",
      "20.0    | 22.25   | -2.25\n",
      "21.0    | 23.59   | -2.59\n",
      "22.0    | 24.96   | -2.96\n",
      "23.0    | 26.36   | -3.36\n",
      "24.0    | 27.79   | -3.79\n",
      "25.0    | 29.24   | -4.24\n",
      "26.0    | 30.73   | -4.73\n",
      "27.0    | 32.25   | -5.25\n",
      "28.0    | 33.79   | -5.79\n",
      "29.0    | 35.38   | -6.38\n",
      "30.0    | 37.00   | -7.00\n",
      "31.0    | 38.65   | -7.65\n",
      "32.0    | 40.34   | -8.34\n",
      "33.0    | 42.06   | -9.06\n",
      "34.0    | 43.83   | -9.83\n",
      "35.0    | 45.64   | -10.64\n",
      "36.0    | 47.49   | -11.49\n",
      "37.0    | 49.38   | -12.38\n",
      "38.0    | 51.32   | -13.32\n",
      "39.0    | 53.30   | -14.30\n"
     ]
    }
   ],
   "source": [
    "print(f\"Input fb | True fb | Diff\")\n",
    "print(\"---------------------------\")\n",
    "for fb in np.linspace(0,0.39,40):\n",
    "    bs.shift_flat(fb=fb)\n",
    "    \n",
    "    print(f\"{fb*100:.1f}    | {bs.fb_true*100:.2f}   | {(fb - bs.fb_true)*100:.2f}\") "
   ]
  },
  {
   "cell_type": "code",
   "execution_count": 24,
   "id": "4e79de49-3026-45ae-9b12-491465c448ad",
   "metadata": {},
   "outputs": [],
   "source": [
    "fbs = np.linspace(0,0.39,40)\n",
    "\n",
    "true_fbs = []\n",
    "\n",
    "for fb in fbs:\n",
    "    bs.shift_flat(fb=fb)\n",
    "    true_fbs.append(bs.fb_true)"
   ]
  },
  {
   "cell_type": "code",
   "execution_count": 25,
   "id": "0e6f9b2a-e241-4217-8cce-b99ccd0c20a9",
   "metadata": {},
   "outputs": [
    {
     "data": {
      "image/png": "[encoded data removed]",
      "text/plain": [
       "<Figure size 504x504 with 2 Axes>"
      ]
     },
     "metadata": {
      "image/png": {
       "height": 491,
       "width": 491
      }
     },
     "output_type": "display_data"
    }
   ],
   "source": [
    "fig, axes = plt.subplots(\n",
    "    2, 1, figsize=(7, 7), sharex=True, gridspec_kw={\"height_ratios\": [3, 1]}\n",
    ")\n",
    "axes[0].plot(np.array(fbs)*100,np.array(true_fbs)*100, \"o--\")\n",
    "axes[1].set_xlabel(\"Requested fb [%] \")\n",
    "axes[0].set_ylabel(\"True fb [%]\")\n",
    "axes[1].plot(np.array(fbs)*100, np.array(fbs-true_fbs)*100, \"o--\")\n",
    "axes[1].set_ylabel(\"Residuals [%]\")\n",
    "axes[1].set_ylim(-15,15)\n",
    "axes[1].axhline(0,color=\"green\")\n",
    "fig.tight_layout()"
   ]
  },
  {
   "cell_type": "code",
   "execution_count": null,
   "id": "ab126778-fcaa-4da2-9d6b-6593613c0aca",
   "metadata": {},
   "outputs": [],
   "source": []
  },
  {
   "cell_type": "code",
   "execution_count": null,
   "id": "b2928bd2-9393-498f-bc6d-84bbd24dbbdf",
   "metadata": {},
   "outputs": [],
   "source": []
  },
  {
   "cell_type": "code",
   "execution_count": null,
   "id": "0c3c8501-1e67-4acb-9f7d-be90c26e07fe",
   "metadata": {},
   "outputs": [],
   "source": []
  },
  {
   "cell_type": "code",
   "execution_count": 26,
   "id": "59845cf2-612b-42e3-992f-f3845f1be075",
   "metadata": {},
   "outputs": [
    {
     "ename": "NameError",
     "evalue": "name 'stop' is not defined",
     "output_type": "error",
     "traceback": [
      "\u001b[0;31m---------------------------------------------------------------------------\u001b[0m",
      "\u001b[0;31mNameError\u001b[0m                                 Traceback (most recent call last)",
      "\u001b[0;32m/tmp/ipykernel_854959/1640820313.py\u001b[0m in \u001b[0;36m<module>\u001b[0;34m\u001b[0m\n\u001b[1;32m      1\u001b[0m \u001b[0;31m# Have a look at models\u001b[0m\u001b[0;34m\u001b[0m\u001b[0;34m\u001b[0m\u001b[0;34m\u001b[0m\u001b[0m\n\u001b[0;32m----> 2\u001b[0;31m \u001b[0mstop\u001b[0m\u001b[0;34m\u001b[0m\u001b[0;34m\u001b[0m\u001b[0m\n\u001b[0m",
      "\u001b[0;31mNameError\u001b[0m: name 'stop' is not defined"
     ]
    }
   ],
   "source": [
    "# Have a look at models\n",
    "stop"
   ]
  },
  {
   "cell_type": "code",
   "execution_count": null,
   "id": "0d13d810-531a-4e05-bb03-2b7f6d82d297",
   "metadata": {},
   "outputs": [],
   "source": [
    "l = limepy(\n",
    "    M=1e6, phi0=6, g=0.8, mj=mj, Mj=Mj, delta=0.45, rh=8, ra=10 ** 1.23, project=True\n",
    ")"
   ]
  },
  {
   "cell_type": "code",
   "execution_count": null,
   "id": "8b947cea-1e8e-4a73-a64a-131664250285",
   "metadata": {},
   "outputs": [],
   "source": [
    "l_bin = limepy(\n",
    "    M=1e6,\n",
    "    phi0=6,\n",
    "    g=0.8,\n",
    "    mj=mj_new,\n",
    "    Mj=Mj_new,\n",
    "    delta=0.45,\n",
    "    rh=8,\n",
    "    ra=10 ** 1.23,\n",
    "    project=True,\n",
    ")"
   ]
  },
  {
   "cell_type": "code",
   "execution_count": null,
   "id": "4aa72d51-f99b-47ee-86dc-61e2323b3f11",
   "metadata": {},
   "outputs": [],
   "source": []
  },
  {
   "cell_type": "code",
   "execution_count": null,
   "id": "8d17ffa9-5840-4f48-9b53-3c7f51bdd7fd",
   "metadata": {},
   "outputs": [],
   "source": []
  },
  {
   "cell_type": "code",
   "execution_count": null,
   "id": "104a1a22-f6dd-4e1a-8674-0e637c65ab60",
   "metadata": {},
   "outputs": [],
   "source": [
    "plt.figure()\n",
    "plt.loglog()\n",
    "plt.xlim(1e-2, 1e2)\n",
    "plt.ylim(1e2, 1e7)\n",
    "plt.plot(l.r, l.mcp, label=\"No Binaries\")\n",
    "plt.xlabel(\"R [pc]\")\n",
    "plt.ylabel(\"Enclosed Mass\")\n",
    "plt.plot(l_bin.r, l_bin.mcp, label=\"Binaries\")\n",
    "plt.legend()"
   ]
  },
  {
   "cell_type": "code",
   "execution_count": null,
   "id": "71e9cb12-2902-4e00-8306-6f2c6e05f744",
   "metadata": {},
   "outputs": [],
   "source": []
  },
  {
   "cell_type": "code",
   "execution_count": null,
   "id": "6eb79203-76f3-4999-9b7f-ec67b4b61ac8",
   "metadata": {},
   "outputs": [],
   "source": [
    "plt.figure()\n",
    "plt.xscale(\"log\")\n",
    "plt.xlim(1e-2, 1e2)\n",
    "plt.plot(l.r, np.sqrt(l.v2R), label=\"No Binaries\")\n",
    "plt.xlabel(\"R [pc]\")\n",
    "plt.ylabel(\"Vr\")\n",
    "plt.plot(l_bin.r, np.sqrt(l_bin.v2R), label=\"Binaries\")\n",
    "plt.legend()"
   ]
  },
  {
   "cell_type": "code",
   "execution_count": null,
   "id": "5a08363f-e69b-4d01-95b7-e809f870433d",
   "metadata": {},
   "outputs": [],
   "source": [
    "plt.figure()\n",
    "plt.xscale(\"log\")\n",
    "plt.xlim(1e-2, 1e2)\n",
    "plt.plot(l.r, np.sqrt(l.v2T), label=\"No Binaries\")\n",
    "plt.xlabel(\"R [pc]\")\n",
    "plt.ylabel(\"Vt\")\n",
    "plt.plot(l_bin.r, np.sqrt(l_bin.v2T), label=\"Binaries\")\n",
    "plt.legend()"
   ]
  },
  {
   "cell_type": "code",
   "execution_count": null,
   "id": "c83688ad-3f3b-4e9e-992c-668dce52e223",
   "metadata": {},
   "outputs": [],
   "source": [
    "plt.figure()\n",
    "plt.xscale(\"log\")\n",
    "plt.xlim(1e-2, 1e2)\n",
    "plt.plot(l.r, np.sqrt(l.v2p), label=\"No Binaries\")\n",
    "plt.xlabel(\"R [pc]\")\n",
    "plt.ylabel(\"Vlos\")\n",
    "plt.plot(l_bin.r, np.sqrt(l_bin.v2p), label=\"Binaries\")\n",
    "plt.legend()"
   ]
  },
  {
   "cell_type": "code",
   "execution_count": null,
   "id": "6aa1d2b9-883e-4d10-b237-6ab36d72f7fe",
   "metadata": {},
   "outputs": [],
   "source": []
  },
  {
   "cell_type": "code",
   "execution_count": null,
   "id": "884f573f-542d-4a74-ae55-0371d2d8aef8",
   "metadata": {},
   "outputs": [],
   "source": [
    "plt.figure()\n",
    "plt.loglog()\n",
    "plt.xlim(1e-1, 1e2)\n",
    "plt.ylim(1e-0, 1e6)\n",
    "plt.plot(l.r, l.Sigma, label=\"No Binaries\")\n",
    "plt.xlabel(\"R [pc]\")\n",
    "plt.ylabel(r\"$\\Sigma$\")\n",
    "plt.plot(l_bin.r, l_bin.Sigma, label=\"Binaries\")\n",
    "plt.legend()"
   ]
  },
  {
   "cell_type": "code",
   "execution_count": null,
   "id": "25f94e31-6214-4aac-b7c3-03363ec30c5c",
   "metadata": {},
   "outputs": [],
   "source": []
  },
  {
   "cell_type": "code",
   "execution_count": null,
   "id": "8ff9ad43-a7f4-477a-b26a-134616bec44e",
   "metadata": {},
   "outputs": [],
   "source": []
  },
  {
   "cell_type": "code",
   "execution_count": null,
   "id": "e99be0bb-b40a-484e-a1c7-695a2a8663ec",
   "metadata": {},
   "outputs": [],
   "source": []
  },
  {
   "cell_type": "code",
   "execution_count": null,
   "id": "de6ea357-5012-4332-8729-3c8c24bf5693",
   "metadata": {},
   "outputs": [],
   "source": []
  },
  {
   "cell_type": "code",
   "execution_count": null,
   "id": "aa9f3423-dc3e-4519-b14a-c541d3ec6673",
   "metadata": {},
   "outputs": [],
   "source": []
  }
 ],
 "metadata": {
  "kernelspec": {
   "display_name": "gcfit",
   "language": "python",
   "name": "gcfit"
  },
  "language_info": {
   "codemirror_mode": {
    "name": "ipython",
    "version": 3
   },
   "file_extension": ".py",
   "mimetype": "text/x-python",
   "name": "python",
   "nbconvert_exporter": "python",
   "pygments_lexer": "ipython3",
   "version": "3.8.12"
  },
  "nteract": {
   "version": "0.28.0"
  }
 },
 "nbformat": 4,
 "nbformat_minor": 5
}
