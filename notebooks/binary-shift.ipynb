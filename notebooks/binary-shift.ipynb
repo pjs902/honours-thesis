{
 "cells": [
  {
   "cell_type": "code",
   "execution_count": 1,
   "id": "94217554-aebf-4de3-b5af-b7a19cab0dad",
   "metadata": {},
   "outputs": [],
   "source": [
    "%matplotlib ipympl\n",
    "%config InlineBackend.figure_format = \"retina\"\n",
    "\n",
    "import matplotlib.pyplot as plt\n",
    "import seaborn\n",
    "\n",
    "seaborn.set(context=\"notebook\", style=\"darkgrid\")\n",
    "plt.rcParams[\"figure.figsize\"] = (8, 6)\n",
    "from tqdm.auto import tqdm, trange\n",
    "\n",
    "from ssptools import evolve_mf_3 as emf3\n",
    "from limepy import limepy\n",
    "\n",
    "import numpy as np\n",
    "import scipy as sp\n",
    "import astropy.units as u\n",
    "import astropy.constants as const\n",
    "\n",
    "from binaryshift import BinaryShift"
   ]
  },
  {
   "cell_type": "code",
   "execution_count": null,
   "id": "1863b5c3-2883-4478-84ec-3b0c11208070",
   "metadata": {},
   "outputs": [],
   "source": []
  },
  {
   "cell_type": "code",
   "execution_count": null,
   "id": "dcb88432-f76a-409e-8b11-007a5cc6728a",
   "metadata": {},
   "outputs": [],
   "source": []
  },
  {
   "cell_type": "code",
   "execution_count": 2,
   "id": "34a6f01c-723c-494f-b97b-cc4b3f44c1aa",
   "metadata": {},
   "outputs": [],
   "source": [
    "m123 = [0.1, 0.5, 1.0, 100]  # Slope breakpoints for initial mass function\n",
    "a12 = [-0.468, -1.178, -2.117]  # Slopes for initial mass function\n",
    "nbin12 = [5, 5, 20]\n",
    "\n",
    "# Output times for the evolution\n",
    "tout = np.array([11000])\n",
    "\n",
    "# Integration settings\n",
    "N0 = 5e5  # Normalization of stars\n",
    "Ndot = -0.0001  # Regulates how low mass objects are depleted default -20, 0 for 47 Tuc\n",
    "tcc = 0  # Core collapse time\n",
    "NS_ret = 0.1  # Initial neutron star retention\n",
    "BH_ret_int = 1  # Initial Black Hole retention\n",
    "BH_ret_dyn = 0.00235  # Dynamical Black Hole retention\n",
    "FeHe = -0.7  # Metallicity"
   ]
  },
  {
   "cell_type": "code",
   "execution_count": 3,
   "id": "97069263-e4ac-4fc8-b7a8-889c8b5aa94b",
   "metadata": {},
   "outputs": [
    {
     "name": "stderr",
     "output_type": "stream",
     "text": [
      "/home/peter/research/ssptools/ssptools/evolve_mf_3.py:321: RuntimeWarning: divide by zero encountered in true_divide\n",
      "  As = Ns / P1\n",
      "/home/peter/research/ssptools/ssptools/evolve_mf_3.py:246: RuntimeWarning: divide by zero encountered in double_scalars\n",
      "  Aj = Nj / self.Pk(alphaj, 1, m1, mto)\n"
     ]
    }
   ],
   "source": [
    "f = emf3.evolve_mf(\n",
    "    m123=m123,\n",
    "    a12=a12,\n",
    "    nbin12=nbin12,\n",
    "    tout=tout,\n",
    "    N0=N0,\n",
    "    Ndot=Ndot,\n",
    "    tcc=tcc,\n",
    "    NS_ret=NS_ret,\n",
    "    BH_ret_int=BH_ret_int,\n",
    "    BH_ret_dyn=BH_ret_dyn,\n",
    "    FeHe=FeHe,\n",
    "    natal_kicks=True,\n",
    "    vesc=100,\n",
    ")"
   ]
  },
  {
   "cell_type": "code",
   "execution_count": 4,
   "id": "01621e16-2a98-4354-a011-38c1bda1f298",
   "metadata": {},
   "outputs": [
    {
     "data": {
      "text/plain": [
       "<ssptools.evolve_mf_3.evolve_mf at 0x7fde9cd11a00>"
      ]
     },
     "execution_count": 4,
     "metadata": {},
     "output_type": "execute_result"
    }
   ],
   "source": [
    "f"
   ]
  },
  {
   "cell_type": "code",
   "execution_count": 5,
   "id": "da017f9e-c551-4859-af62-1498bc539396",
   "metadata": {},
   "outputs": [],
   "source": [
    "cs = f.Ns[-1] > 10 * f.Nmin\n",
    "cr = f.Nr[-1] > 10 * f.Nmin\n",
    "mj = np.r_[f.ms[-1][cs], f.mr[-1][cr]]\n",
    "Mj = np.r_[f.Ms[-1][cs], f.Mr[-1][cr]]\n",
    "dms = f.mes[-1][1:] - f.mes[-1][0:-1]\n",
    "nms = len(f.ms[-1][cs])"
   ]
  },
  {
   "cell_type": "code",
   "execution_count": 6,
   "id": "1836d337-8903-4836-aed7-56802f6f2a76",
   "metadata": {},
   "outputs": [
    {
     "data": {
      "text/plain": [
       "0.1"
      ]
     },
     "execution_count": 6,
     "metadata": {},
     "output_type": "execute_result"
    }
   ],
   "source": [
    "f.Nmin"
   ]
  },
  {
   "cell_type": "code",
   "execution_count": 7,
   "id": "24e43d32-4d9a-4cc2-97f0-9e84eb9c51aa",
   "metadata": {},
   "outputs": [
    {
     "data": {
      "text/plain": [
       "array([2.95883348e+04, 3.51148719e+04, 4.16736635e+04, 4.94575166e+04,\n",
       "       5.86952514e+04, 2.71682569e+04, 2.65060641e+04, 2.58600120e+04,\n",
       "       2.29833309e+04, 6.95280608e+04, 5.21309472e+04, 1.06014224e+04,\n",
       "       9.56144999e+03, 1.82354947e+04, 2.04397763e+03, 1.20576114e+00,\n",
       "       1.97377636e+00, 2.93273915e+00, 4.64349427e+00, 8.05495321e+00,\n",
       "       4.69949195e+00])"
      ]
     },
     "execution_count": 7,
     "metadata": {},
     "output_type": "execute_result"
    }
   ],
   "source": [
    "Mj / mj"
   ]
  },
  {
   "cell_type": "code",
   "execution_count": 8,
   "id": "de8c7d31-bbb2-4c69-ade4-47b037de6be2",
   "metadata": {},
   "outputs": [],
   "source": [
    "bs = BinaryShift(mj=mj, Mj=Mj, MF=f, verbose=False)"
   ]
  },
  {
   "cell_type": "code",
   "execution_count": 9,
   "id": "c2e27b8d-43a0-4292-b725-4262f3d2d606",
   "metadata": {},
   "outputs": [
    {
     "name": "stdout",
     "output_type": "stream",
     "text": [
      "self.mj = array([0.11851084, 0.16351292, 0.22560363, 0.31127202, 0.42947124,\n",
      "       0.53616312, 0.6158897 , 0.70747148, 0.80754321, 0.6158897 ,\n",
      "       0.70747148, 0.80754321, 0.92779583, 1.11896564, 1.40869427,\n",
      "       2.81071458, 3.53848001, 4.45468241, 5.60811288, 7.06019582,\n",
      "       8.88825993])\n",
      "self.Mj = array([3.50653839e+03, 5.74173527e+03, 9.40172964e+03, 1.53947409e+04,\n",
      "       2.52079221e+04, 1.45666174e+04, 1.63248118e+04, 1.82952210e+04,\n",
      "       1.85600328e+04, 4.28216163e+04, 3.68811585e+04, 8.56110667e+03,\n",
      "       8.87107346e+03, 2.04048921e+04, 2.87933957e+03, 3.38905042e+00,\n",
      "       6.98416820e+00, 1.30644215e+01, 2.60412400e+01, 5.68695470e+01,\n",
      "       4.17703060e+01])\n",
      "self._nms = 8\n",
      "self._mWD_max = 1.2485309234871975\n",
      "self._mBH_min = 2.51188643150958\n"
     ]
    }
   ],
   "source": [
    "bs.dump()"
   ]
  },
  {
   "cell_type": "code",
   "execution_count": 10,
   "id": "5dbda990-0e03-4e99-b7ff-b6db1aed7b88",
   "metadata": {},
   "outputs": [
    {
     "data": {
      "text/plain": [
       "array([ True,  True,  True,  True,  True,  True,  True,  True,  True,\n",
       "       False, False, False, False, False, False, False, False, False,\n",
       "       False, False, False])"
      ]
     },
     "execution_count": 10,
     "metadata": {},
     "output_type": "execute_result"
    }
   ],
   "source": [
    "bs.MS_mask"
   ]
  },
  {
   "cell_type": "code",
   "execution_count": 11,
   "id": "2054a497-43f4-424b-9b1b-37cbe1926e06",
   "metadata": {},
   "outputs": [
    {
     "data": {
      "text/plain": [
       "array([0.11851084, 0.16351292, 0.22560363, 0.31127202, 0.42947124,\n",
       "       0.53616312, 0.6158897 , 0.70747148, 0.80754321])"
      ]
     },
     "execution_count": 11,
     "metadata": {},
     "output_type": "execute_result"
    }
   ],
   "source": [
    "bs.mj[bs.MS_mask]"
   ]
  },
  {
   "cell_type": "code",
   "execution_count": null,
   "id": "6c2bd1aa-2fb3-4769-bd55-c926f66273f2",
   "metadata": {},
   "outputs": [],
   "source": []
  },
  {
   "cell_type": "code",
   "execution_count": 12,
   "id": "5e7af1bc-e5f8-46b4-890c-fd8eda9e1ae9",
   "metadata": {},
   "outputs": [],
   "source": [
    "mj_new, Mj_new = bs.shift_flat(fb=0.15)\n",
    "# mj_new, Mj_new = bs.shift_equal(fb=0.25)\n",
    "# mj_new, Mj_new = bs.shift_solar(fb=0.25)"
   ]
  },
  {
   "cell_type": "code",
   "execution_count": 13,
   "id": "b97028cc-a798-4623-aa95-0dee62ec2654",
   "metadata": {},
   "outputs": [
    {
     "data": {
      "text/plain": [
       "0.1467547966832377"
      ]
     },
     "execution_count": 13,
     "metadata": {},
     "output_type": "execute_result"
    }
   ],
   "source": [
    "bs._q_min"
   ]
  },
  {
   "cell_type": "code",
   "execution_count": 14,
   "id": "703370f3-11dd-48de-8fbc-56bdf458fb4a",
   "metadata": {
    "tags": []
   },
   "outputs": [
    {
     "data": {
      "text/plain": [
       "Text(0.5, 0, 'mj [$M_\\\\odot$]')"
      ]
     },
     "execution_count": 14,
     "metadata": {},
     "output_type": "execute_result"
    },
    {
     "data": {
      "application/vnd.jupyter.widget-view+json": {
       "model_id": "be8c7d7661204bdf9fa30501c3255a33",
       "version_major": 2,
       "version_minor": 0
      },
      "text/html": [
       "\n",
       "            <div style=\"display: inline-block;\">\n",
       "                <div class=\"jupyter-widgets widget-label\" style=\"text-align: center;\">\n",
       "                    Figure\n",
       "                </div>\n",
       "                <img src='data:image/png;base64,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' width=800.0/>\n",
       "            </div>\n",
       "        "
      ],
      "text/plain": [
       "Canvas(toolbar=Toolbar(toolitems=[('Home', 'Reset original view', 'home', 'home'), ('Back', 'Back to previous …"
      ]
     },
     "metadata": {},
     "output_type": "display_data"
    }
   ],
   "source": [
    "plt.figure()\n",
    "plt.scatter(mj[bs.MS_mask], Mj[bs.MS_mask], label=\"Original MS\", s=70)\n",
    "\n",
    "# plt.scatter(mj, Mj, label=\"Original MF\", s=70)\n",
    "\n",
    "plt.yscale(\"log\")\n",
    "# plt.ylim(1e2, 1e5)\n",
    "plt.scatter(\n",
    "    mj_new[bs.MS_mask_new],\n",
    "    Mj_new[bs.MS_mask_new],\n",
    "    label=\"New MF (single MS)\",\n",
    "    marker=\"x\",\n",
    "    s=70,\n",
    "    alpha=0.7,\n",
    ")\n",
    "plt.scatter(\n",
    "    mj_new[bs.bin_mask],\n",
    "    Mj_new[bs.bin_mask],\n",
    "    label=\"New MF (binary MS)\",\n",
    "    marker=\"X\",\n",
    "    s=70,\n",
    ")\n",
    "plt.scatter(\n",
    "    mj_new[bs.WD_mask_new],\n",
    "    Mj_new[bs.WD_mask_new],\n",
    "    label=\"WD\",\n",
    "    marker=\"o\",\n",
    "    color=\"grey\",\n",
    "    s=40,\n",
    ")\n",
    "\n",
    "plt.legend()\n",
    "plt.ylabel(r\"Mj [$M_\\odot$]\")\n",
    "plt.xlabel(r\"mj [$M_\\odot$]\")\n",
    "# plt.savefig(\"shifted.png\",dpi=300)\n",
    "# plt.xlim(0, 1.7)"
   ]
  },
  {
   "cell_type": "code",
   "execution_count": 15,
   "id": "2c7bbcbc-45c2-4576-a2ce-8bf1c10a3a89",
   "metadata": {},
   "outputs": [
    {
     "data": {
      "text/plain": [
       "array([0.11851084, 0.16351292, 0.22560363, 0.31127202, 0.42947124,\n",
       "       0.53616312, 0.6158897 , 0.70747148, 0.80754321, 0.6158897 ,\n",
       "       0.70747148, 0.80754321, 0.92779583, 1.11896564, 1.40869427,\n",
       "       2.81071458, 3.53848001, 4.45468241, 5.60811288, 7.06019582,\n",
       "       8.88825993])"
      ]
     },
     "execution_count": 15,
     "metadata": {},
     "output_type": "execute_result"
    }
   ],
   "source": [
    "mj"
   ]
  },
  {
   "cell_type": "code",
   "execution_count": 16,
   "id": "d4832db7-7b8c-47ca-9277-6590eba70133",
   "metadata": {},
   "outputs": [
    {
     "data": {
      "text/plain": [
       "0.277914042324444"
      ]
     },
     "execution_count": 16,
     "metadata": {},
     "output_type": "execute_result"
    }
   ],
   "source": [
    "# Mass ratio\n",
    "np.sum(Mj_new[bs.bin_mask]) / np.sum(Mj_new[bs.MS_mask_new])"
   ]
  },
  {
   "cell_type": "code",
   "execution_count": 17,
   "id": "95c34062-50fd-4369-a510-c97ff57d7462",
   "metadata": {},
   "outputs": [
    {
     "name": "stdout",
     "output_type": "stream",
     "text": [
      "np.sum(Mj) = 247566.655, np.sum(Mj_new) = 247566.655\n"
     ]
    }
   ],
   "source": [
    "# check mass conservation\n",
    "print(f\"{np.sum(Mj) = :.3f}, {np.sum(Mj_new) = :.3f}\")"
   ]
  },
  {
   "cell_type": "code",
   "execution_count": null,
   "id": "2fc45144-abea-49d4-b57d-8ae183d5000c",
   "metadata": {},
   "outputs": [],
   "source": []
  },
  {
   "cell_type": "code",
   "execution_count": 18,
   "id": "4eb021e9-3098-41b3-b063-60217b86ec9c",
   "metadata": {},
   "outputs": [],
   "source": [
    "# Have a look at Nj"
   ]
  },
  {
   "cell_type": "code",
   "execution_count": 19,
   "id": "7fd2d97e-8464-44c5-9ef7-50158acdbdd3",
   "metadata": {},
   "outputs": [],
   "source": [
    "Nj = Mj_new / mj_new"
   ]
  },
  {
   "cell_type": "code",
   "execution_count": 20,
   "id": "911f741d-abee-4f54-a167-dec3aee5ca88",
   "metadata": {},
   "outputs": [
    {
     "data": {
      "text/plain": [
       "array([428.81644579, 508.91118705, 393.74285329, 384.14585652,\n",
       "       374.7827832 , 333.0917526 , 428.81644579, 508.91118705,\n",
       "       603.96613781, 850.6558172 , 393.74285329, 384.14585652,\n",
       "       374.7827832 , 333.0917526 , 428.81644579, 508.91118705,\n",
       "       603.96613781, 716.77560222, 850.6558172 , 393.74285329,\n",
       "       384.14585652, 374.7827832 , 333.0917526 , 428.81644579,\n",
       "       508.91118705, 603.96613781, 716.77560222, 850.6558172 ,\n",
       "       393.74285329, 384.14585652, 374.7827832 , 333.0917526 ,\n",
       "       428.81644579, 508.91118705, 603.96613781, 716.77560222,\n",
       "       850.6558172 , 393.74285329, 384.14585652, 374.7827832 ,\n",
       "       333.0917526 , 428.81644579, 508.91118705, 603.96613781,\n",
       "       716.77560222, 850.6558172 , 393.74285329, 384.14585652,\n",
       "       374.7827832 , 333.0917526 , 428.81644579, 508.91118705,\n",
       "       603.96613781, 716.77560222, 850.6558172 , 393.74285329,\n",
       "       384.14585652, 374.7827832 , 333.0917526 , 428.81644579,\n",
       "       508.91118705, 603.96613781, 716.77560222, 850.6558172 ,\n",
       "       393.74285329, 384.14585652, 374.7827832 , 333.0917526 ,\n",
       "       428.81644579, 508.91118705, 603.96613781, 716.77560222,\n",
       "       850.6558172 , 393.74285329, 384.14585652, 374.7827832 ,\n",
       "       333.0917526 ])"
      ]
     },
     "execution_count": 20,
     "metadata": {},
     "output_type": "execute_result"
    }
   ],
   "source": [
    "Nj[bs.bin_mask]"
   ]
  },
  {
   "cell_type": "code",
   "execution_count": 21,
   "id": "c649d0e6-c337-42c2-aef7-e38f3ef0861c",
   "metadata": {},
   "outputs": [
    {
     "data": {
      "text/plain": [
       "array([19362.5514442 , 24110.12986037, 29762.0003017 , 38122.80498059,\n",
       "       46977.71662966, 19933.91023487, 21527.91455331, 21175.12631835,\n",
       "       19143.50221634])"
      ]
     },
     "execution_count": 21,
     "metadata": {},
     "output_type": "execute_result"
    }
   ],
   "source": [
    "Nj[bs.MS_mask_new]"
   ]
  },
  {
   "cell_type": "code",
   "execution_count": 22,
   "id": "42609ec0-bac2-45cb-a621-41c85a905a39",
   "metadata": {},
   "outputs": [
    {
     "data": {
      "text/plain": [
       "0.16019706218324206"
      ]
     },
     "execution_count": 22,
     "metadata": {},
     "output_type": "execute_result"
    }
   ],
   "source": [
    "# This is the bad (old) definition\n",
    "np.sum(Nj[bs.bin_mask]) / np.sum(Nj[bs.MS_mask_new])"
   ]
  },
  {
   "cell_type": "code",
   "execution_count": null,
   "id": "07fafe06-9667-4a78-839f-ef8d9e46c870",
   "metadata": {},
   "outputs": [],
   "source": []
  },
  {
   "cell_type": "code",
   "execution_count": 23,
   "id": "94db3d08-fe69-4154-b2ff-a3e4e8ab67ca",
   "metadata": {},
   "outputs": [
    {
     "name": "stdout",
     "output_type": "stream",
     "text": [
      "Binary Fraction: 13.808\n"
     ]
    }
   ],
   "source": [
    "# This is the definition we want to use\n",
    "print(f\"Binary Fraction: {bs.fb_true * 100:.3f}\")"
   ]
  },
  {
   "cell_type": "code",
   "execution_count": null,
   "id": "4faacf7a-ca70-43c8-88c7-74f6692910db",
   "metadata": {},
   "outputs": [],
   "source": []
  },
  {
   "cell_type": "code",
   "execution_count": 24,
   "id": "4b7388a5-e631-4f48-a3cb-82c54dfc0edd",
   "metadata": {},
   "outputs": [
    {
     "name": "stdout",
     "output_type": "stream",
     "text": [
      "Input fb | True fb | Diff\n",
      "---------------------------\n",
      "0.0  | 0.00 | -0.00\n",
      "1.0  | 0.93 | -0.07\n",
      "2.0  | 1.86 | -0.14\n",
      "3.0  | 2.78 | -0.22\n",
      "4.0  | 3.71 | -0.29\n",
      "5.0  | 4.63 | -0.37\n",
      "6.0  | 5.56 | -0.44\n",
      "7.0  | 6.48 | -0.52\n",
      "8.0  | 7.40 | -0.60\n",
      "9.0  | 8.32 | -0.68\n",
      "10.0  | 9.24 | -0.76\n",
      "11.0  | 10.15 | -0.85\n",
      "12.0  | 11.07 | -0.93\n",
      "13.0  | 11.98 | -1.02\n",
      "14.0  | 12.90 | -1.10\n",
      "15.0  | 13.81 | -1.19\n",
      "16.0  | 14.72 | -1.28\n",
      "17.0  | 15.63 | -1.37\n",
      "18.0  | 16.54 | -1.46\n",
      "19.0  | 17.44 | -1.56\n",
      "20.0  | 18.35 | -1.65\n",
      "21.0  | 19.25 | -1.75\n",
      "22.0  | 20.15 | -1.85\n",
      "23.0  | 21.06 | -1.94\n",
      "24.0  | 21.96 | -2.04\n",
      "25.0  | 22.85 | -2.15\n",
      "26.0  | 23.75 | -2.25\n",
      "27.0  | 24.65 | -2.35\n",
      "28.0  | 25.54 | -2.46\n",
      "29.0  | 26.44 | -2.56\n",
      "30.0  | 27.33 | -2.67\n"
     ]
    }
   ],
   "source": [
    "print(f\"Input fb | True fb | Diff\")\n",
    "print(\"---------------------------\")\n",
    "bs.verbose = False\n",
    "for fb in np.linspace(0, 0.30, 31):\n",
    "    bs.shift_flat(fb=fb)\n",
    "    # bs.shift_solar(fb=fb)\n",
    "    # bs._shift_q(fb=[0.2,0.2],q=[1,1])\n",
    "    \n",
    "    \n",
    "\n",
    "    print(f\"{fb*100:.1f}  | {bs.fb_true*100:.2f} | {-1*(fb - bs.fb_true)*100:.2f}\")"
   ]
  },
  {
   "cell_type": "code",
   "execution_count": 25,
   "id": "4e79de49-3026-45ae-9b12-491465c448ad",
   "metadata": {},
   "outputs": [],
   "source": [
    "fbs = np.linspace(0, 0.30, 31)\n",
    "\n",
    "true_fbs = []\n",
    "\n",
    "for fb in fbs:\n",
    "    bs.shift_flat(fb=fb)\n",
    "    # bs.shift_solar(fb=fb)\n",
    "    \n",
    "    # bs.shift_q(fb=[fb],q=[0.4])\n",
    "\n",
    "    true_fbs.append(bs.fb_true)"
   ]
  },
  {
   "cell_type": "code",
   "execution_count": 26,
   "id": "0e6f9b2a-e241-4217-8cce-b99ccd0c20a9",
   "metadata": {},
   "outputs": [
    {
     "data": {
      "application/vnd.jupyter.widget-view+json": {
       "model_id": "07dc24a824e3410babc4f1bad9f07acc",
       "version_major": 2,
       "version_minor": 0
      },
      "text/html": [
       "\n",
       "            <div style=\"display: inline-block;\">\n",
       "                <div class=\"jupyter-widgets widget-label\" style=\"text-align: center;\">\n",
       "                    Figure\n",
       "                </div>\n",
       "                <img src='data:image/png;base64,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' width=600.0/>\n",
       "            </div>\n",
       "        "
      ],
      "text/plain": [
       "Canvas(toolbar=Toolbar(toolitems=[('Home', 'Reset original view', 'home', 'home'), ('Back', 'Back to previous …"
      ]
     },
     "metadata": {},
     "output_type": "display_data"
    }
   ],
   "source": [
    "fig, axes = plt.subplots(\n",
    "    2, 1, figsize=(6, 6), sharex=True, gridspec_kw={\"height_ratios\": [3, 1]}\n",
    ")\n",
    "axes[0].plot(np.array(fbs) * 100, np.array(true_fbs) * 100, \"o--\")\n",
    "axes[1].set_xlabel(\"Requested fb [%] \")\n",
    "axes[0].set_ylabel(\"True fb [%]\")\n",
    "axes[1].plot(np.array(fbs) * 100, np.array(true_fbs - fbs) * 100, \"o--\")\n",
    "axes[0].plot(np.array(fbs) * 100, np.array(fbs) * 100, \"--\")\n",
    "\n",
    "axes[1].set_ylabel(\"Difference [%]\")\n",
    "axes[1].set_ylim(-15, 15)\n",
    "axes[1].axhline(0, color=\"green\")\n",
    "fig.tight_layout()"
   ]
  },
  {
   "cell_type": "code",
   "execution_count": null,
   "id": "ab126778-fcaa-4da2-9d6b-6593613c0aca",
   "metadata": {},
   "outputs": [],
   "source": []
  },
  {
   "cell_type": "code",
   "execution_count": null,
   "id": "ec21cb25-df79-4683-aa58-dd8eebe7d172",
   "metadata": {},
   "outputs": [],
   "source": []
  },
  {
   "cell_type": "code",
   "execution_count": null,
   "id": "7ea1f9d4-1a1a-4629-8a52-d70d1f0f54d2",
   "metadata": {},
   "outputs": [],
   "source": []
  },
  {
   "cell_type": "markdown",
   "id": "9a44e411-d25e-4f3c-bc20-fadda55e4d4c",
   "metadata": {},
   "source": [
    "# Have a look at mass ratio distribution:\n",
    "\n",
    "## (None of these plots are really working right now)"
   ]
  },
  {
   "cell_type": "code",
   "execution_count": 27,
   "id": "a8a14d5d-aaa2-46c6-acb2-8ebb1afb799d",
   "metadata": {},
   "outputs": [],
   "source": [
    "mj_new, Mj_new = bs.shift_flat(fb=0.15)\n",
    "# mj_new, Mj_new = bs.shift_q(fb=[0.05,0.05],q=[1,0.9])\n",
    "\n",
    "qs = []\n",
    "for masses in bs.binary_components:\n",
    "    q = np.min(masses) / np.max(masses)\n",
    "    qs.append(q)"
   ]
  },
  {
   "cell_type": "code",
   "execution_count": 28,
   "id": "71c875e7-f576-4b2a-aff1-54a1a0166ec1",
   "metadata": {},
   "outputs": [
    {
     "data": {
      "text/plain": [
       "77"
      ]
     },
     "execution_count": 28,
     "metadata": {},
     "output_type": "execute_result"
    }
   ],
   "source": [
    "len(qs)"
   ]
  },
  {
   "cell_type": "code",
   "execution_count": 29,
   "id": "33860fe3-033a-494e-9e29-5f0a642da50f",
   "metadata": {},
   "outputs": [
    {
     "data": {
      "text/plain": [
       "77"
      ]
     },
     "execution_count": 29,
     "metadata": {},
     "output_type": "execute_result"
    }
   ],
   "source": [
    "len(bs.Nj_shifted[bs.bin_mask])"
   ]
  },
  {
   "cell_type": "code",
   "execution_count": 30,
   "id": "9f90fea0-cf98-4033-9ce6-a9e1a84f7eec",
   "metadata": {},
   "outputs": [
    {
     "data": {
      "text/plain": [
       "[0.1924221822274427,\n",
       " 0.2024819462578588,\n",
       " 0.2210350442453857,\n",
       " 0.1924221822274427,\n",
       " 0.23112298500735093,\n",
       " 0.2024819462578588,\n",
       " 0.27594593008982077,\n",
       " 0.3049686072381006,\n",
       " 0.31888723843779454,\n",
       " 0.27594593008982077,\n",
       " 0.3049686072381006,\n",
       " 0.2654905927517611,\n",
       " 0.31888723843779454,\n",
       " 0.2793703476684714,\n",
       " 0.38073078565607266,\n",
       " 0.38073078529162563,\n",
       " 0.4207742339831983,\n",
       " 0.38073078565607266,\n",
       " 0.38073078529162563,\n",
       " 0.4207742339831983,\n",
       " 0.366305246322124,\n",
       " 0.4399781824703281,\n",
       " 0.38545555603114906,\n",
       " 0.5253055591189354,\n",
       " 0.5253055588112888,\n",
       " 0.5253055591189354,\n",
       " 0.5253055588112888,\n",
       " 0.5253055584499219,\n",
       " 0.4207742339831983,\n",
       " 0.5054022145749578,\n",
       " 0.4399781824703281,\n",
       " 0.5318244651605075,\n",
       " 0.5253055591189354,\n",
       " 0.7247796625598754,\n",
       " 0.5253055591189354,\n",
       " 0.5253055588112888,\n",
       " 0.5253055584499219,\n",
       " 0.580554692640627,\n",
       " 0.5054022145749578,\n",
       " 0.6070509502674424,\n",
       " 0.6639435714108549,\n",
       " 0.7247796625598754,\n",
       " 0.7247796625598754,\n",
       " 0.724779662364683,\n",
       " 0.7247796621354063,\n",
       " 0.7247796618660943,\n",
       " 0.8010085315389087,\n",
       " 0.697318428160216,\n",
       " 0.7578582828589449,\n",
       " 0.6639435714108549,\n",
       " 1.0,\n",
       " 0.7247796625598754,\n",
       " 0.724779662364683,\n",
       " 0.7247796621354063,\n",
       " 0.7247796618660943,\n",
       " 0.8010085315389087,\n",
       " 0.8705505630764234,\n",
       " 0.7578582828589449,\n",
       " 0.7626708884829806,\n",
       " 1.0,\n",
       " 1.0,\n",
       " 1.0,\n",
       " 1.0,\n",
       " 1.0,\n",
       " 0.8010085315389087,\n",
       " 0.8705505630764234,\n",
       " 0.8705505630606484,\n",
       " 0.8760787952414981,\n",
       " 1.0,\n",
       " 1.0,\n",
       " 1.0,\n",
       " 1.0,\n",
       " 1.0,\n",
       " 1.0,\n",
       " 1.0,\n",
       " 1.0,\n",
       " 1.0]"
      ]
     },
     "execution_count": 30,
     "metadata": {},
     "output_type": "execute_result"
    }
   ],
   "source": [
    "qs"
   ]
  },
  {
   "cell_type": "code",
   "execution_count": 31,
   "id": "b8fc88cb-85f0-48e5-91a1-fbf65177e1ad",
   "metadata": {},
   "outputs": [],
   "source": [
    "sort_idx = np.argsort(qs)"
   ]
  },
  {
   "cell_type": "code",
   "execution_count": 32,
   "id": "69733d2d-7175-4044-82a0-fc5aa64b0cae",
   "metadata": {},
   "outputs": [
    {
     "data": {
      "text/plain": [
       "Text(0.5, 12.44444444444443, '$q$')"
      ]
     },
     "execution_count": 32,
     "metadata": {},
     "output_type": "execute_result"
    },
    {
     "data": {
      "application/vnd.jupyter.widget-view+json": {
       "model_id": "3bf36bd1ec204264a75bd9f8e4280876",
       "version_major": 2,
       "version_minor": 0
      },
      "text/html": [
       "\n",
       "            <div style=\"display: inline-block;\">\n",
       "                <div class=\"jupyter-widgets widget-label\" style=\"text-align: center;\">\n",
       "                    Figure\n",
       "                </div>\n",
       "                <img src='data:image/png;base64,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' width=800.0/>\n",
       "            </div>\n",
       "        "
      ],
      "text/plain": [
       "Canvas(toolbar=Toolbar(toolitems=[('Home', 'Reset original view', 'home', 'home'), ('Back', 'Back to previous …"
      ]
     },
     "metadata": {},
     "output_type": "display_data"
    },
    {
     "data": {
      "application/vnd.jupyter.widget-view+json": {
       "model_id": "97bdddb77d4e41cea84b392085003ffe",
       "version_major": 2,
       "version_minor": 0
      },
      "text/html": [
       "\n",
       "            <div style=\"display: inline-block;\">\n",
       "                <div class=\"jupyter-widgets widget-label\" style=\"text-align: center;\">\n",
       "                    Figure\n",
       "                </div>\n",
       "                <img src='data:image/png;base64,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' width=500.0/>\n",
       "            </div>\n",
       "        "
      ],
      "text/plain": [
       "Canvas(toolbar=Toolbar(toolitems=[('Home', 'Reset original view', 'home', 'home'), ('Back', 'Back to previous …"
      ]
     },
     "metadata": {},
     "output_type": "display_data"
    }
   ],
   "source": [
    "# this is just all of the q values, not how many stars per q value\n",
    "plt.figure()\n",
    "# seaborn.histplot(qs)\n",
    "seaborn.displot(x=np.array(qs)[sort_idx], y=bs.Nj_shifted[bs.bin_mask][sort_idx])\n",
    "\n",
    "plt.xlabel(r\"$q$\")"
   ]
  },
  {
   "cell_type": "code",
   "execution_count": 33,
   "id": "3e4cd09c-bbaf-4624-b31f-d1f96dbb7f1e",
   "metadata": {},
   "outputs": [
    {
     "data": {
      "text/plain": [
       "Text(0.5, 1.0, 'Mass ratio Distribution')"
      ]
     },
     "execution_count": 33,
     "metadata": {},
     "output_type": "execute_result"
    },
    {
     "data": {
      "application/vnd.jupyter.widget-view+json": {
       "model_id": "d678d7d3c14546bc87a747d704fb604e",
       "version_major": 2,
       "version_minor": 0
      },
      "text/html": [
       "\n",
       "            <div style=\"display: inline-block;\">\n",
       "                <div class=\"jupyter-widgets widget-label\" style=\"text-align: center;\">\n",
       "                    Figure\n",
       "                </div>\n",
       "                <img src='data:image/png;base64,iVBORw0KGgoAAAANSUhEUgAAAyAAAAJYCAYAAACadoJwAAAAOXRFWHRTb2Z0d2FyZQBNYXRwbG90bGliIHZlcnNpb24zLjQuMywgaHR0cHM6Ly9tYXRwbG90bGliLm9yZy/MnkTPAAAACXBIWXMAAA9hAAAPYQGoP6dpAACO1klEQVR4nOzdaXgUVd738V9Xdzp7QsISJCwKSDQYFZRNgSjCiEpUZFDnQXBhGcXtdnTUUWbuERGdUWHcAEFUwGU0OjKK4LjjMoILKCrKQGAkgEAC2SB7dz8vclfZlU5YklDpkO/nurjoVJ86ferUdv51TlW5AoFAQAAAAADgAKO5CwAAAACg9SAAAQAAAOAYAhAAAAAAjiEAAQAAAOAYAhAAAAAAjiEAAQAAAOAYAhAAAAAAjiEAAQAAAOAYAhAAAAAAjiEAAQAAAOAYAhAAAAAAjiEAAQAAAOAYAhAAAAAAjiEAAQAAAOAYAhAAAAAAjiEAAQAAAOAYAhAAAAAAjiEAAQAAAOAYAhAAAAAAjiEAAQAAAOAYAhAAAAAAjiEAAQAAAOAYAhAAAAAAjiEAAQAAAOAYAhAAAAAAjiEAAQAAAOAYAhAAAAAAjiEAAQAAAOAYAhAAAAAAjiEAAQAAAOAYAhAAAAAAjiEAAQAAAOAYAhAAAAAAjiEAAQAAAOAYAhAAAAAAjiEAAQAAAOAYAhAAAAAAjiEAAQAAAOAYAhAAAAAAjiEAAQAAAOAYAhAAAAAAjiEAAQAAAOAYAhAAAAAAjiEAAQAAAOAYAhAAAAAAjiEAAQAAAOAYAhAAAAAAjiEAAQAAAOAYAhAAAAAAjiEAAQAAAOAYAhAAAAAAjiEAAdCq/OMf/1BaWprS0tK0evXqkO8DgYBGjBihtLQ0jR8/vhlKeOTNmzdP7777bsj01atX11svDbFt2zarrtPS0tS7d28NGDBAY8aM0cyZM7Vx48YmK8Pzzz+vf/zjH4c1T12/deedd6pPnz6Hlc/BrFmzRo899piKi4tDvhs/fvxRu50BQH08zV0AAGgOsbGxeuWVVzRgwADb9M8//1xbt25VbGxsM5XsyHvyySd17rnnavjw4bbpvXv31ksvvaSePXs26e+NHz9eo0aNkt/vV0lJidavX69XX31Vzz33nH73u99p0qRJjS7Diy++qKSkJF1yySWHPM+RWt7a1q5dq8cff1yjR49WQkKC7bv//d//PaK/DQDhiB4QAK3S+eefr7ffflv79u2zTX/llVfUp08fderUqZlKdnh8Pp8qKyubJK+4uDideuqpiouLa5L8TMccc4xOPfVU9e3bV5mZmbruuuu0bNkynXHGGXrwwQe1cuXKI16GYFVVVaqurnbktw6mZ8+eRzwAAoBwQwACoFW64IILJEnLli2zppWUlOjtt9/WmDFj6pzn8ccf19ixY9W/f3/17dtXo0ePVnZ2tgKBgC3dZ599pvHjx2vAgAE6+eSTddZZZ+nGG29UWVmZleaFF17QhRdeqD59+qhPnz4aOXKkZs2adcAym0OaFixYoDlz5mjYsGHKyMjQqlWrVFFRoQceeEAXXXSRTjvtNPXv31+XXXZZyFCrtLQ0lZaW6rXXXrOGRplDgOob/vTee+/psssu0ymnnKI+ffro6quv1tq1aw9SwwcWFRWl++67TxEREVq4cKE1va4y5Obm6pZbbtHgwYN10kkn6YwzztCVV16pH374QZI0bNgwbdy4UZ9//rm1TMOGDbPlt3TpUj3wwAMaMmSIMjIy9NNPPx1wuNfGjRt15ZVX6tRTT9XAgQM1ffp02/oz10Vdw77S0tL02GOPSZIee+wx/fWvf5UknXPOOSHD/+oaglVYWKg///nPGjJkiE466SSdc845mj17dkigmZaWpunTp2vp0qU677zzdMopp+jCCy/UBx98cOgrAgCaAUOwALRKcXFxOvfcc/Xqq6/q8ssvl1QTjBiGofPOO0+LFi0KmWf79u267LLLrN6Rr7/+WjNmzNCuXbt0ww03SKppmP72t7/V6aefrvvuu08JCQnatWuXPv74Y1VVVSk6Olpvvvmm7rnnHo0fP1533HGHDMPQTz/9pE2bNh1S2ZcsWaJjjz1Wd9xxh+Li4tStWzdVVlaqqKhI11xzjVJSUlRVVaV///vfuvHGG3X//ffr4osvliS99NJLuvLKKzVgwABNnTrVqov6vPHGG7rttts0ePBgPfzww6qsrNRTTz2l8ePH69lnn9Xpp59+yHVeW0pKinr37q21a9equrpaHk/dp6TJkyfL7/fr97//vTp16qSCggKtXbvWuqfi8ccf10033aT4+HhrSJPX67XlMWvWLJ166qm65557ZBiG2rZtq/z8/Dp/r6qqSlOmTNFll12mKVOmaO3atZo7d6527NihefPmHdYyjh07VkVFRVqyZIkef/xxtW/fXpLq7fWoqKjQhAkTlJubqxtvvFFpaWn68ssvNX/+fP3www+aP3++Lf2HH36ob7/9VjfddJNiYmL01FNP6YYbbtBbb72lLl26HFZZAcApBCAAWq0xY8ZowoQJ2rhxo44//ni9+uqrGjlyZL0N8vvvv9/67Pf71b9/fwUCAS1evFjXX3+9XC6Xvv/+e1VUVOj222/XCSecYKXPysqyPq9Zs0YJCQmaNm2aNW3QoEGHXO7IyEgtXLhQERER9ZbP5/Np0KBBKi4u1qJFi6wA5NRTT5VhGEpOTtapp556wN/x+/3661//ql69emnBggUyjJpO88zMTI0YMUIPPfSQ/v73vx9yuevSqVMnff311yoqKlLbtm1Dvi8oKNCWLVt011136aKLLrKm/+pXv7I+p6enKyoqyhpSVZeuXbvq0UcfPaQyVVVV6eqrr9aECRMkSWeeeaY8Ho9mz56tr776SqeddtohL1/Hjh11zDHHSJJOPPFEde7c+YDpX3vtNW3YsEF/+9vfdN5551m/HxMTo4ceekiffvqpzjzzTCt9RUWFnnnmGWub7d27t4YMGaIVK1ZoypQph1xOAHASQ7AAtFr9+/dX165d9eqrr2rDhg369ttv6x1+JdUMrbrqqqt02mmn6cQTT1Tv3r316KOPqrCwUHv27JFU08iMiIjQH//4R7322mvKzc0NyScjI0PFxcX63e9+p3fffVd79+49rHIPGzYsJPiQpBUrVujyyy9Xnz59lJ6ert69e+uVV15RTk7OYeVv2rJli3bv3q2LLrrICj6kmhv4f/WrX+mbb76xDUtqiNrD12pr06aNunbtqoULF+qZZ57R+vXr5ff7D/t3ggOWQxEcMErSqFGjJKnJnhBWn1WrVikmJkYjR460TTdvrv/ss89s0wcMGGALmNu1a6e2bdtq+/btR7ScANAYBCAAWi2Xy6VLLrlEr7/+uv7+97/r2GOPrXdI0bp16zRx4kRJ0r333qsXX3xRr7zyiq699lpJUnl5uaSaK+3PPvus2rZtq+nTp2v48OEaPny4bUjXxRdfrJkzZ2rHjh266aabdMYZZ2js2LH69NNPD6nc5jCeYG+//bb+53/+RykpKXrwwQf10ksv6ZVXXtGYMWNUUVFxWPViKigoqPf3OnToIL/fX+ejZQ/Hjh075PV6lZiYWOf3LpdLzz77rAYPHqynnnpKo0eP1qBBgzRjxoyQBwgcSF3LUB+Px6OkpKQ65y8sLDzkfBqisLBQ7dq1k8vlsk1v27atPB5PyO+3adMmJA+v19vgdQ4ATmAIFoBW7ZJLLtGjjz6qv//977rlllvqTffmm2/K4/HoySefVGRkpDW9rvdpnH766Tr99NPl8/n03XffacmSJZo5c6batWtn3fw+ZswYjRkzRqWlpfriiy/02GOP6be//a3+9a9/KTU19YBlrt04laTXX39dnTt31t/+9jfb93Xdy3KozEZ4Xl5eyHe7d++WYRghj5U9HLt27dL333+vfv361Xv/hySlpqZq5syZkmp6ZVasWKHHH39clZWVmj59+iH9Vl11Vp/q6moVFBTYghCzDswGv7kN1L4x3AzaGqpNmzb65ptvFAgEbGXes2ePqqurQwIjAGiJ6AEB0KqlpKRo4sSJOvvss637JOricrnkdrttQ5HKy8v1+uuv1zuP2+3WKaecYt0Y/f3334ekiYmJUWZmpq699lpVVVUd8o3odZUvIiLC1mjNy8vTe++9F5LW6/VaPTYHctxxxyklJUXLli2zDZUqLS3V22+/rVNPPVXR0dENKm95ebnuvvtuVVdX294Dcihlmjp1qnr16qX169db0w91mQ7VG2+8YfvbfFpa//79JdUMdYqMjNSGDRts6eqrb0mH1CsxaNAglZaWhgS2S5cutb4HgJaOHhAArd5tt9120DSZmZl65plndOutt+qyyy5TYWGhFi5cGPK0pRdffFGrVq3SWWedpWOOOUYVFRV69dVXJUlnnHGGJGnatGmKiopS37591b59e+Xl5Wn+/PmKj49XRkZGg5bhrLPO0ttvv60///nPOvfcc7Vz507NmTNHHTp00H//+19b2l69eunzzz/X+++/r/bt2ys2Nlbdu3cPydMwDP3+97/Xbbfdpt/+9re67LLLVFlZqYULF6q4uFi33nrrIZXt559/1tdff229iPCHH37Qq6++qh07dujOO+/U4MGD6533xx9/1L333quRI0eqW7duioiI0KpVq7RhwwbbTda9evXSm2++qeXLl6tz586KjIxUWlraoVVeLREREXrmmWdUWlqqjIwM6ylYQ4cOtYbouVwuXXjhhXr11VfVtWtXnXDCCVq3bp3tsc7BZZNqeqNGjx4tj8ej4447rs6HHVx88cV6/vnndccdd2j79u3q1auXvvrqKz355JPKzMy0tiEAaMkIQADgEAwaNEgzZ87UggULdO211yolJUWXXnqpkpOTdffdd1vpTjzxRH366ad67LHHlJeXp5iYGPXq1Utz5861Gtqnn366/vGPf2jFihUqKipSUlKSTjvtNP3lL39RcnJyg8o3ZswY7dmzR3//+9/16quvqkuXLpoyZYp27typxx9/3Jb27rvv1j333KPf/e53KisrU//+/bVkyZI6883KylJ0dLTmz5+vW265xerVWbx4sfr27XtIZVuyZImWLFkit9utuLg4de7cWWeffbYuvfTSg76Er3379uratateeOEF7dy5U5LUpUsX3XHHHbb3Z9x4443Ky8vTtGnTtH//fqWmpur9998/pPLVFhERoXnz5mnGjBmaO3euoqKiNHbsWN1+++22dHfeeack6amnnlJpaakGDBigefPmWe8gMQ0YMEC//e1v9dprryk7O1t+v1+LFy/WgAEDQn47MjJSixcv1uzZs/XUU0+poKBAKSkpuuaaa6xHPQNAS+cKHOwRJAAAAADQRLgHBAAAAIBjCEAAAAAAOIYABAAAAIBjCEAAAAAAOIYABAAAAIBjCEAAAAAAOIYABAAAAIBjeBFhmAkEAvL7eTULAABAODIMl1wuV3MXo0UjAAkzfn9Ae/fub+5iAAAAoA7JybFyuwlAGoMhWAAAAAAcQwACAAAAwDEEIAAAAAAcQwACAAAAwDEEIAAAAAAcQwACAAAAwDEEIAAAAAAcQwACAAAAwDEEIAAAAAAcQwACAAAAwDEEIAAAAAAcQwACAAAAwDEEIAAAAAAcQwACAAAAwDEEIAAAAAAcQwACAAAAwDEEIAAAAAAcQwACAAAAwDGe5i4AEC527NiuZ59dIEm66qrJ6tQptZlLdPShjgEAAD0gwP9ZtGih1q37WuvWfa3Fixc2d3GOStRx+DEMlzwe47D/GYaruYuOZsR2A6Ax6AEB/s/27bnW523bcg+QEg1FHYcXw3CpTVKM3MbhX4vy+f0qLCiV3x84AiVDOKvZbmLlbkAw4fMHVFiwn+0GaOUIQACglTIMl9yGoQc/f1+5JQWHPF+X+CT9vv8wGYaLhmQrVLPduPT6FwXKL6k+5PnaxXt0Yb8kthsABCAA0NrllhQop3BPcxcDLUx+SbV2FR16AAIAJu4BAQAAAOAYAhAAAAAAjiEAAQAAAOAYAhAAAAAAjiEAAQAAAOAYAhAAAAAAjiEAAQAAAOAYAhAAAAAAjiEAAQAAAOAYAhAAAAAAjiEAAQAAAOAYAhAAAAAAjiEAAQAAAOAYAhAAAAAAjiEAAQAAAOAYAhAAAAAAjiEAAQAAAOCYVheAvPvuuxo7dqz69u2rM844QzfccIM2b94ckm7lypW6+OKLlZGRoREjRuj555+vM7+FCxdq2LBhysjI0JgxY7R69eojvQgAAABAi9WqApB///vfuuGGG3Tcccfpscce0x//+Edt2bJFV199tfbt22elW7t2raZOnar09HQtWLBAo0eP1owZM5SdnW3Lb+HChZo9e7bGjRun+fPnq1u3bpo8ebI2bNjg9KIBAAAALYKnuQvgpDfffFOdOnXSX/7yF7lcLklSamqqxo4dq6+++kqZmZmSpCeeeELp6emaOXOmJGngwIH6+eef9cgjj2jMmDEyDEOVlZWaO3euJkyYoIkTJ0qS+vfvr6ysLM2bN0+zZ89unoUEAAAAwlir6gGprq5WbGysFXxIUnx8vC1NZWWlVq1apQsuuMA2PSsrS3l5eVq/fr0kac2aNSopKdGoUaOsNG63W+eff75WrlypQCBwBJcEAAAAaJlaVQDy61//Wps3b9aSJUtUXFysbdu26S9/+Yt69OihQYMGSZK2bt2qqqoqde/e3TZvz549JUk5OTm2/2un69Gjh/bv369du3Yd6cUBAAAAWpxWNQSrX79+evzxx3XrrbdqxowZkmoCi6efflper1eSVFRUJElKSEiwzWv+bX5fXFwsr9erqKgoW7rExERJUmFhoTp27Nigcno8rSouDBvBPWMul4v1cARQx+HF7W5c/Td2frRMbDcAGqtVBSBr1qzR73//e40ZM0bDhg3Tvn37NG/ePE2ePFkvvvii4uLirLTBDaVgtRtQtZlDr+qb/2AMw6WkpNgGzYvGMQyX7TProelRx0eXhITo5i4CWiC2GwCtKgCZMWOGBg4cqLvvvtuadtppp2no0KHKzs7W1VdfbfVgmD0dpuLiYkm/9IQkJCSooqJCFRUVioyMDEln5nO4/P6AiotLGzQvGsfvD9g+FxTsb8bSHJ2o4/DidhuNagwWF5fJ5/M3YYnQErDdoLVLSIimJ6+RWlUAkpOTo2HDhtmmJScnq0OHDtq6daskqWvXroqIiNDmzZs1dOhQK92mTZsk1dzjEfx/Tk6O0tPTbb8RGxurlJSUBpezupoDc3MIfnBAIBBgPRwB1PHRxefzsw5x2NhuALSq8K1Tp076/vvvbdPy8vK0e/dupaamSpK8Xq8GDhyoFStW2NItW7ZM7du3t4KNvn37Kj4+XsuXL7fS+Hw+rVixQpmZmQ0eggUAAAAczVpVD8i4ceN07733avr06TrnnHNUXFysJ598UjExMbrwwgutdNdff72uuOIKTZs2TVlZWVqzZo2ys7M1ffp0GUZNzOb1enXddddp9uzZSk5OVnp6urKzs5Wbm6tZs2Y11yICAAAAYa3VBSARERF64YUX9NprrykmJkYZGRn6y1/+og4dOljp+vTpozlz5mjWrFlaunSpOnbsqGnTpmns2LG2/K655hoFAgEtWbJE+fn56tWrl+bPn6+0tDSnFw0AAABoEVpVAOJyuXTZZZfpsssuO2jazMxM683oB8pv0qRJmjRpUlMVEQAAADiqtap7QAAAAAA0LwIQAAAAAI4hAAEAAADgGAIQAAAAAI4hAAEAAADgGAIQAAAAAI4hAAEAAADgGAIQAAAAAI4hAAEAAADgGAIQAAAAAI4hAAEAAADgGAIQAAAAAI4hAAEAAADgGAIQAAAAAI4hAAEAAADgGAIQAAAAAI4hAAEAAADgGAIQAAAAAI4hAAEAAADgGAIQAAAAAI4hAAEAAADgGAIQAAAAAI4hAAEAAADgGAIQAAAAAI4hAAEAAADgGAIQAAAAAI4hAAEAAADgGAIQAAAAAI4hAAEAAADgGAIQAAAAAI4hAAEAAADgGAIQAAAAAI4hAAEAAADgGAIQAAAAAI7xNHcBAOBw7dixXc8+u0CSdNVVk9WpU2ozlwh1YT0BAOpCDwiAFmfRooVat+5rrVv3tRYvXtjcxUE9WE84GMNwyeMxDvufYbiau+gAGoEeEAAtzvbtudbnbdtyD5ASzYn1hAMxDJeSkmIbFEz4/QEVFOyX3x84AiUDcKQRgAAAAMcZhkuG4dJHXxSrqMR3yPMlxrs1tF+CDMNFAAK0UAQgAACg2RSV+LS3sLq5iwHAQa3qHpDx48crLS2tzn9vvvmmlW7lypW6+OKLlZGRoREjRuj555+vM7+FCxdq2LBhysjI0JgxY7R69WqnFgUAAABokVpVD8j//u//at++fbZpixYt0ttvv61BgwZJktauXaupU6fqoosu0p133qk1a9ZoxowZ8nq9Gjt2rDXfwoULNXv2bN1yyy1KT09Xdna2Jk+erOzsbKWlpTm6XAAAAEBL0aoCkJ49e4ZMu/XWW3XmmWcqOTlZkvTEE08oPT1dM2fOlCQNHDhQP//8sx555BGNGTNGhmGosrJSc+fO1YQJEzRx4kRJUv/+/ZWVlaV58+Zp9uzZzi0UAAAA0IK0qiFYta1Zs0bbtm1TVlaWJKmyslKrVq3SBRdcYEuXlZWlvLw8rV+/3pqvpKREo0aNstK43W6df/75WrlypQIBbooDAAAA6tKqA5Bly5YpOjpa55xzjiRp69atqqqqUvfu3W3pzJ6TnJwc2/+10/Xo0UP79+/Xrl27jnTRAQAAgBapVQ3BClZdXa233npL55xzjmJiYiRJRUVFkqSEhARbWvNv8/vi4mJ5vV5FRUXZ0iUmJkqSCgsL1bFjxwaXzeNp1XFhs3G5XLbPrIem11R1zLpqGm534+rtYPOzno5OTbXdHOntD0D4arUByKeffqo9e/bYhlGZgk+a9U2vK4059Kq++Q+F+WImOC/4ZVishyOjqeqYdRUeEhKiD/g96wl1Odh243Q+AJzXagOQZcuWqU2bNho8eLA1zezBMHs6TMXFxZJ+6QlJSEhQRUWFKioqFBkZGZLOzKch/P6AiotLGzw/Gi74hVbmW3bRtJqqjllXTcPtNhrViCsuLpPP56/3e9bT0amptpsjvf0BR0pCQjQ9cI3UKgOQ8vJyvffee8rKylJERIQ1vWvXroqIiNDmzZs1dOhQa/qmTZsk1dzjEfx/Tk6O0tPTrXQ5OTmKjY1VSkpKo8pXXc0BtTkEPzwgEAiwHo6Apqpj1lV48Pn8B6x71hPqcrDtxul8ADivVYZv77//vvbv3289/crk9Xo1cOBArVixwjZ92bJlat++vRVs9O3bV/Hx8Vq+fLmVxufzacWKFcrMzGzUECwAAADgaNYqe0DeeOMNderUSaeddlrId9dff72uuOIKTZs2TVlZWVqzZo2ys7M1ffp0GUZNvOb1enXddddp9uzZSk5Otl5EmJubq1mzZjm9OAAAAECL0eoCkKKiIn388ce68sor6+yp6NOnj+bMmaNZs2Zp6dKl6tixo6ZNm2Z7C7okXXPNNQoEAlqyZIny8/PVq1cvzZ8/n7egAwAAAAfQ6gKQxMREfffddwdMk5mZqczMzAOmcblcmjRpkiZNmtSUxQMAAACOaq3yHhAAAAAAzYMABAAAAIBjWt0QLADOMAyX7UV00qG9GdvvD9jeHwEAAI4uBCAAmlzNW6+jZRjukOn2NKFvxvb7fSooKCMIAQDgKEUAAqDJ1fR+uPXGZw9oT3GuNX1f2R7b52f/db1tvrYJXZQ16E4ZhosABACAoxQBCIAjZk9xrnYVbLL+9vmrbZ+DvwMAAK0DN6EDAAAAcAwBCAAAAADHEIAAAAAAcAwBCAAAAADHEIAAAAAAcAwBCAAAAADHEIAAAAAAcAwBCAAAAADHEIAAAAAAcAwBCAAAAADHEIAAAAAAcAwBCAAAAADHEIAAAAAAcIynuQsAAGj5DMMlw3DZprlcLttnjyf0mpffH5DfHzji5QMAhA8CEABAoxiGS22SYuQ2jJDpwZ+TkmJD5vX5/SosKCUIAYBWhAAEANAohuGS2zD00OcfK7ekyJq+t7zM9vnm95bZ5usSn6jb+g+RYbgIQACgFSEAAQA0idySIuUU7rX+rvb7bJ+DvwMAtF4EIGiVGjpeXWLMOgAAQGMQgKDVqRmLHi3DcIdMt6cJHa8uSX6/TwUFZQQhAAAADUAAglanpvfDrR/ff0ilhbnW9MrSvbbPa/5xc8i8MW266IRhtzFmHQAAoIEIQNBqlRbmav+eHOtvv6/a9jn4OwAAADQNXkQIAAAAwDH0gAAAAKDV27Fju559doEk6aqrJqtTp9RmLtHRix4QAAAAtHqLFi3UunVfa926r7V48cLmLs5RjQAEAAAArd727b88mGbbttwDpERjEYAAAAAAcAwBCAAAAADHEIAAAAAAcAwBCAAAAADHEIAAAAAAcAwBCAAAAADHEIAAAAAAcAwBCAAAAADHtMoAJDs7WxdeeKEyMjI0aNAgXXvttbbvV65cqYsvvlgZGRkaMWKEnn/++TrzWbhwoYYNG6aMjAyNGTNGq1evdqL4AAAAQIvV6gKQxx57TA888ICysrK0cOFCTZ8+XR06dLC+X7t2raZOnar09HQtWLBAo0eP1owZM5SdnW3LZ+HChZo9e7bGjRun+fPnq1u3bpo8ebI2bNjg9CIBAAAALYanuQvgpJycHM2dO1fz58/X4MGDrekjRoywPj/xxBNKT0/XzJkzJUkDBw7Uzz//rEceeURjxoyRYRiqrKzU3LlzNWHCBE2cOFGS1L9/f2VlZWnevHmaPXu2swsGHMCOHdv17LMLJElXXTVZnTqlNnOJji7U75FHHQPA0aVV9YD84x//UJcuXWzBR7DKykqtWrVKF1xwgW16VlaW8vLytH79eknSmjVrVFJSolGjRllp3G63zj//fK1cuVKBQODILQRwmBYtWqh1677WunVfa/Hihc1dnKMO9XvkUcc4EMNwyeMxGvTPMFzNXXygVWpVPSDffPONevXqpSeeeELPPfecSkpKdOqpp+ruu+/WiSeeqK1bt6qqqkrdu3e3zdezZ09JNT0oJ510knJyciQpJF2PHj20f/9+7dq1Sx07dnRmoYCD2L491/q8bVvuAVKiIajfI486Rn0Mw6WkpNgGBxJ+f0AFBfvl93PhEHBSqwpA8vLy9P3332vjxo265557FBERoccff1xXX3213n77bRUVFUmSEhISbPOZf5vfFxcXy+v1KioqypYuMTFRklRYWNioAMTjaVUdU45zuxtfv02Rh1NcLpftsxPbV2Pr52DzN8cytYSyHK6mWk+taX0jvLYbt7smCFmzqkT7iqsPa/64BI/6DoxXRIRbPp+/UWXB0YFjjXNaVQASCARUWlqqxx57TMcff7wkqXfv3jrnnHP00ksvqW/fvpLsG2Cw2htmXfkfaP5DYV7NQXhLSIhu7iIcsuArgy1l+zpY/YbTMoVTWZzWVPtBS1rfaLwjsd3sK65WUaGvWcuDlo9jjXNaVQCSmJiodu3aWcGHJHXo0EHdu3fXpk2bdPbZZ0v6pafDVFxcLOmXnpCEhARVVFSooqJCkZGRIenMnpCG8PsDKi4ubfD8ODi322j0Cae4uKzFXDELHlpgDjc40hpbxwer3+ZYppZQlsPVVOupNa1vhNd2IzU+gGhJx3McWYd6rElIiG5RIyHCUasKQHr06KEdO3aETA8EAjIMQ127dlVERIQ2b96soUOHWt9v2rTJmj/4/5ycHKWnp1vpcnJyFBsbq5SUlEaVs7qaA2G48/n8LWY9BT8UIRAItIhyH6x+w2mZwqksTmuq/aAlrW80XlNuN02hJR3PcWRxrHFOqwrfzjrrLOXn5+s///mPNW3Xrl3avHmz0tLS5PV6NXDgQK1YscI237Jly9S+fXsr2Ojbt6/i4+O1fPlyK43P59OKFSuUmZnZqCFYAAAAwNGsVfWAjBgxQr1799aNN96om2++WV6vV0888YSSk5N16aWXSpKuv/56XXHFFZo2bZqysrK0Zs0aZWdna/r06TKMmnjN6/Xquuuu0+zZs5WcnKz09HRlZ2crNzdXs2bNas5FBAAAAMJaqwpA3G63FixYoJkzZ+pPf/qTqqur1a9fPz388MOKiYmRJPXp00dz5szRrFmztHTpUnXs2FHTpk3T2LFjbXldc801CgQCWrJkifLz89WrVy/Nnz9faWlpzbFoAAAAQIvQqgIQSWrbtq0efvjhA6bJzMxUZmbmAdO4XC5NmjRJkyZNasriAQAAAEe1VnUPCAAAAIDmRQACAAAAwDEEIAAAAAAcQwACAAAAwDEEIAAAAAAcQwACAAAAwDGt7jG8AFoWw3DJMFy2aS6Xy/bZ4wm9luL3B+T3B454+QAAwOEhAAEQtgzDpTZJ0XIb7pDpwZ+TkmJD5vX5fSosKCMIAQAgzBCAAAhbhuGS23DrxdV/0e6SXGt6cfle2+dH3r3BNl+H+C76zYA7ZBguAhAAAMIMAQiAsLe7JFfbCzdZf/v8VbbPwd8BAIDwxk3oAAAAABxDAAIAAADAMQQgAAAAABxDAAIAAADAMQQgAAAAABxDAAIAAADAMQQgAAAAABxDAAIAAADAMQQgAAAAABxDAAIAAADAMQQgAAAAABxDAAIAAADAMZ7mLgAAAADgJMNwyTBctmkul8v22eMJvU7v9weOeNlaAwIQAAAAtBqG4VJyUoxchhEyPfhzUlJsyLwBv1/EII1HAAIAAIBWwzBcchmGit75Sr69+6zp/v3lts97X1ppm8+dHKfEEadJPr9jZT1aEYAAAACg1fHt3afq/CLr74Dfb/sc/B2aFjehAwAAAHAMAQgAAAAAxxCAAAAAAHAMAQgAAAAAxxCAAAAAAHAMAQgAAAAAxxCAAAAAAHAMAQgAAAAAxxCAAAAAAHAMb0IHAIQNw3DJMFy2aS6Xy/bZ4wm9dub3B+T3B454+QAAjUcAAgAIC4bhUpukGLkNI2R68OekpNiQeX1+vwoLSglCAKAFIAABAIQFw3DJbRh6aPUq5ZYUW9P3lpfZPt/87tu2+brEJ+i2AQNlGC4CEABoAVpVAPKPf/xDf/jDH0KmT548Wbfddpv198qVKzV79mzl5OSoY8eOuuqqqzRu3LiQ+RYuXKjnn39eeXl56tWrl26//XYNGDDgiC5DU9ixY7uefXaBJOmqqyarU6fUZi4R6sJ6QmuVW1KsnMIC6+9qv9/2Ofg74EjiOAwcGa3yJvSnnnpKL730kvUvOLhYu3atpk6dqvT0dC1YsECjR4/WjBkzlJ2dbctj4cKFmj17tsaNG6f58+erW7dumjx5sjZs2OD04hy2RYsWat26r7Vu3ddavHhhcxcH9WA9AUDz4jgMHBmtqgfE1Lt3byUnJ9f53RNPPKH09HTNnDlTkjRw4ED9/PPPeuSRRzRmzBgZhqHKykrNnTtXEyZM0MSJEyVJ/fv3V1ZWlubNm6fZs2c7tiwNsX17rvV527bcA6REczoa11NsG5fK99UMkYlLch0kNVo6V1IbBUr2W5+BluZoPA4D4aBV9oDUp7KyUqtWrdIFF1xgm56VlaW8vDytX79ekrRmzRqVlJRo1KhRVhq3263zzz9fK1euVCDAGGSgLicMMtQ21aW2qS6lDeTwc7SLOLOfjC6dZHTppIgz+zV3cQAAYaJV9oCMGjVKBQUF6tSpky699FJNmjRJbrdbW7duVVVVlbp3725L37NnT0lSTk6OTjrpJOXk5EhSSLoePXpo//792rVrlzp27OjMwgAtSGwbl047393cxYBDjKRERWaNaO5iAADCTKsKQNq3b68bb7xRp5xyilwul95//3397W9/065du/SnP/1JRUVFkqSEhATbfObf5vfFxcXyer2KioqypUtMTJQkFRYWNioAqesZ903pUJ6pfzRzuxu/vE2Rx8E01XpqjvXd2Pox52+qfI6klrw/hdt6agnrG0ff+j5QPi15/0b9GrvtuBhB3GitKgAZMmSIhgwZYv09ePBgRUZGatGiRbr22mut6a56tqzaB6LazKFX9c1/KOp7xn1TOpRn6uPAEhKij/hvNNV6aonru6nqtyWtp5Yo3NaTE+sbjRdu6/tA+bTm/Rv1MwwC0cZqVQFIXc477zw9/fTT+uGHH5SaWvN4PbOnw1RcXPM8erMnJCEhQRUVFaqoqFBkZGRIOrMnpCH8/oCKi0sbPP+h/kbw54KC/Uf098KN2200+sRVXFwmn89/8ISN0FTrqTnWd2Pr2KzfpsrnSGrJ+1O4raeWsL4RXtuN1PhA5EDbTUvev1G/xm57fr+fIKSRWn0AEqxr166KiIjQ5s2bNXToUGv6pk2bJNXc4xH8f05OjtLT0610OTk5io2NVUpKSqPKUV19ZE+gwTfJBwKBI/57RyOfz99i1lNLXN9NVb8taT21ROG2npxY32i8plzfTeFA5WnN+zfqx7OGGq/Vh2/Lly+X2+1Wenq6vF6vBg4cqBUrVtjSLFu2TO3bt7eCjb59+yo+Pl7Lly+30vh8Pq1YsUKZmZmNGoIFAAAAHM1aVQ/IxIkTNXDgQPXq1UuS9N577+nll1/WhAkT1L59e0nS9ddfryuuuELTpk1TVlaW1qxZo+zsbE2fPt3qbvN6vbruuus0e/ZsJScnKz09XdnZ2crNzdWsWbOabfkAAACAcNeqApDjjjtOr7zyinbu3Cm/369jjz1Wd911l8aPH2+l6dOnj+bMmaNZs2Zp6dKl6tixo6ZNm6axY8fa8rrmmmsUCAS0ZMkS5efnq1evXpo/f77S0tKcXixAUs0NksE3TJoO5Skufn/ANtYZAFqbuo6hHD+BIyPsA5ATTzxRL730kk4++eSQ77777juNHTtWP/zwwyHlNW3atENKl5mZqczMzAOmcblcmjRpkiZNmnRIeQJHUs3TWaJlGKHv2DiUp7j4/T4VFJRxEgXQKpnHxtoByKEdP2tuTuf4CRy6sA9ADvRWcb/fz/0WgMwrd2599NEDKircavuutHSP7fMbr0+1fZ/YpquGDr1ThuHiBAqgVTJ7P378pFilxT5remWZ3/Z5zfIC23wxCW6dMDiB4ydwmMI+ADmQ77//XvHx8c1dDCBsFBVu1d69m2zT/H5f0OfqkO8BADVKi33at7fa+rv2Y3iDvwPQcGEZgCxatEiLFy+WVDPU6frrr5fX67Wlqaio0J49e3Tuuec2RxEBAAAANEBYBiBt27bV8ccfL0navn27unTpYr0E0OT1etWrVy9NmDChOYoIAAAAoAHCMgAZNWqURo0aJUkaP368/vznP1sv/wMAAADQcoVlABJsyZIlzV0EAAAAAE0k7AMQqeZJWN9++622b9+uioqKkO8vvvhi5wsFAAAA4LCFfQCyZcsWXXfddfrpp5/qfCSvy+UiAAEAAABaiLAPQKZPn67KykrNnj1baWlpIU/DAgAAANByhH0Asm7dOt17770aOXJkcxcFAAAAQCMZzV2Ag4mJiVFcXFxzFwMAAABAEwj7AOSSSy7RsmXLmrsYACDDcMnjMWz/XC6X9b3LFfq9x2PIMFwHyBUAEA5S45Otz52DPqPphf0QrF69eunNN9/Utddeq2HDhqlNmzYhaX71q185XzAArYphuNQmKUZuwwiZHvw5KSk2ZF6f36/CglL5/aEP0gAAhIcJJ2dq0TcfSpLGn5zZvIU5yoV9AHLrrbdKkrZt26YPP/ww5HuXy6UffvjB4VIBaG0MwyW3YeivXy7R1pJd1vS95cW2zzd88JBtvq7xKbr99PEyDBcBCACEsU7xSfrD4NHNXYxWIewDkMWLFzd3EQDAsrVkl3KKtll/V/mrbZ+DvwMAAKHCPgDp379/cxcBAAAAQBMJ+5vQAQAAABw9wr4HZMKECQf83uVyadGiRQ6VBgAAAEBjhH0AEgiE3rRZWFioLVu2KDk5Wccee6zzhQKamGG4Qh7VWtfjXWvz+wPc2AwAAFqUsA9AlixZUuf0LVu2aOrUqbrhhhscLhHQtGoe3Rotw3CHTLenCX28q9/vU0FB2REvIwAAQFMJ+wCkPscdd5wmTpyoBx98UNnZ2c1dHKDBano/3Fq98i8qKcq1ppeX7rV9fvd1e7Adn9hFAzLv4CV3AHCEtE9MVdG+/P/73LmZSwMcPVpsACJJqamp2rhxY3MXA2gSJUW5Ktyzyfrb76+yfQ7+DgBw5J074EoFVj37f58PfE8qgEPXogOQt99+Wx06dGjuYgAAgKNQu8ROuuLcu5q7GMBRJ+wDkD/84Q8h0yorK/Wf//xHmzZt0u9///tmKBUAAACAhgj7AGT16tUh0yIjI5WamqopU6YoKyurGUoFAAAAoCHCPgB5//33m7sIAAAAAJoIb0IHAAAA4Jiw7wGRal48+Oyzz2rVqlUqKChQUlKSzjjjDF155ZVKTExs7uIBAAAAOERhH4Ds2rVLv/nNb7Rjxw716NFDnTp10u7duzVnzhwtXbpUL774olJSUpq7mI7YsWO7nn12gSTpqqsmq1On1GYuEQAAAHB4wn4I1qxZs1ReXq6XX35Zb775pp555hm9+eabevnll1VRUaHZs2c3dxEds2jRQq1b97XWrftaixcvbO7iAAAAAIct7AOQjz/+WP/zP/+jk08+2Tb95JNP1k033aSPPvqomUrmvO3bf3lL9rZtuQdIiYZon+iq8zPCT1SbX9ZPVBLr6mjnapP0y+ekpAOkBAC0BGE/BKukpESpqXUPNercubNKSkocLhGOViP7RGhFoMr6jPDV5Uy3cj/11Xw+w93MpcGRFnHmIFV9Gqj5fMagZi4NAKCxwj4A6dy5sz788EOdeeaZId999NFH6ty5czOUCkejdgmGxp8V2dzFwCGISnLp+FFhf/hCEzGS2ihy1PnNXQwAQBMJ+zP4JZdcoocffliBQEAXX3yx2rdvr7y8PL3++ut67rnndOuttzZ3EcOWYbhkGKHDU1wul+2zxxM6Es/vD8jvDxzR8gEAAKD1CfsAZNKkScrNzdVzzz2n559/3poeCAR06aWXauLEic1YuvBlGC4lJ8XIZYQGF8FBiWG4lJQUG5Im4Pdrb0EpQQgAAACaVNgHIC6XS9OnT9dVV12l1atXq7CwUG3atNHAgQN13HHHNXfxwpZhuOQyDBW/9458BXtt3/lL99s+F7zyku17d1KyEs4ZIcNwEYAAAACgSYVlAFJUVKRp06bpkksu0dlnny1J6t69u7p3726l+eCDDzRr1ixNnz5dSTwVpV6+gr2qzs+3TQv4/LbPtb8HAAAAjpSwfAxvdna2fvzxRw0ZMqTeNEOGDNF//vMf27AsAAAAAOEtLAOQ5cuXa+zYsfJ46u+g8Xg8Gjt2rN5//30HSwYAAACgMcIyANmyZYsyMjIOmq53797673//26Df2L9/v4YOHaq0tDR9++23tu9Wrlypiy++WBkZGRoxYkS9vSwLFy7UsGHDlJGRoTFjxmj16tUNKgsAAADQWoRlAOLz+Q7Y+2HyeDyqrq5u0G/MmTNHPp8vZPratWs1depUpaena8GCBRo9erRmzJih7OxsW7qFCxdq9uzZGjdunObPn69u3bpp8uTJ2rBhQ4PKAwAAALQGYRmAtG/fXps2bTpouo0bN6pdu3aHnX9OTo5eeOEF3XjjjSHfPfHEE0pPT9fMmTM1cOBATZ06Vb/+9a/1yCOPyO+vuXm7srJSc+fO1YQJEzRx4kQNGjRIDz74oDp37qx58+YddnnqYhg17+cI/lfX+ztq/6vrvR8AAABAuAjLAKR///564YUXVFVVVW+aqqoqvfjiixowYMBh53/ffffp8ssvD3mMb2VlpVatWqULLrjANj0rK0t5eXlav369JGnNmjUqKSnRqFGjrDRut1vnn3++Vq5cqUCgcY+uNd/hkZQUa/tX1/s7av9LToohCAEAAEDYCsvH8F555ZX69a9/rRtuuEHTp09XSkqK7ftdu3bpj3/8o7Zs2aKHHnrosPJ+66239OOPP+rRRx/V999/b/tu69atqqqqsj3uV5J69uwpqabn5KSTTlJOTo4khaTr0aOH9u/fr127dqljx46HVa5g1js83v1EvoJia7p/f5ntc0H2ctt87qQEJQwfTAACAACAsBWWAcgJJ5ygP/3pT7rnnnt0zjnn6KSTTlJqaqokafv27fruu+8UCAT05z//WWlpaYecb1lZmR544AH97ne/U1xcXMj3RUVFkqSEhATbdPNv8/vi4mJ5vV5FRUXZ0iUmJkqSCgsLGxWAuN01HVO+gmJV5//yEsGA32/7HPxdXfM3VlPlE26aYrmasm4am1c4ru+mWqZwqZumyCsc96dwW09HYx0fjY629R1u5wQceY1dXy6u8zZaWAYgknTppZfq+OOP15NPPqnVq1fr66+/liRFR0dryJAh+u1vf6tTTz31sPKcO3eu2rZtq0suueSA6Vz1bFm178GozRx6Vd/8h8IwXEpIiG7w/JIaPX9T53M0Cqe6ORrXN8vUMoTbejoa6/hoFG7ruynyYdtrXQyDgLOxwjYAkaQ+ffpo3rx58vv9KigokCQlJSU1aMVv375dTz/9tJ544gnt27dPklRaWmr9v3//fqsHw+zpMBUX1wyDMntCEhISVFFRoYqKCkVGRoakM/NpCL8/oP37yxt1MCsuLvu/cjbugFhcXCZf0FvTjxZutxFWddPY8oTj+m6KZfL5/E2WT1MIp7I0lXBbT0djHR+Nwml9S01z7GtsPmx7LUtjtz2/308Q0khhHYCYDMNQ27ZtG5XHtm3bVFVVpSlTpoR8N2HCBJ1yyil67rnnFBERoc2bN2vo0KHW9+YTuXr06GH7PycnR+np6Va6nJwcxcbGhtyzcrgaexBrqoOgz+dXdbVfhuFq0H0lfn9Afn/jbsgPV2bdhIOmXt/hoKnKcjQuUzgJt/XU1HXMse/IaMr13RSaIp9w3b/Zho+MRj5rCGohAUhTOPHEE7V48WLbtB9++EH333+/7rnnHmVkZMjr9WrgwIFasWKFrrrqKivdsmXL1L59eyvY6Nu3r+Lj47V8+XJrms/n04oVK5SZmdmoIVjhxnwil6sBkX7A79feglIOYg3UJtGlkv01dZeUePRsU0cbV1KkAiU1T+xzJUceJDVaCsNwqU1SjNwNOPb5/H4VcuxDM6s5f8fK1YAAJOAPaG/BfrZhHDGtJgBJSEio95G9vXv3Vu/evSVJ119/va644gpNmzZNWVlZWrNmjbKzszV9+nSru83r9eq6667T7NmzlZycrPT0dGVnZys3N1ezZs1ybJmcYD6Rq+CdbFUX5B3yfJ6k9koaMVaG4eIA1kBnnubWp4Gal2WecZq7mUuD+niGdlL1RztqPg/p1MylQVMxDJfchqFZq9cpt2TfIc/XJT5OvxtwMsc+NLua87dLhcvyVb2n/tca1OZpG6E2o9qxDeOIajUByKHq06eP5syZo1mzZmnp0qXq2LGjpk2bprFjx9rSXXPNNQoEAlqyZIny8/PVq1cvzZ8//7CeytWSVBfkqTr/5+YuRquSlOjSqHPYRcOdKylSERcdd/CEaJFyS/Zpc2FJcxcDaLDqPVWq3l3Z3MUAbFp162bAgAHasGFDyPTMzExlZmYecF6Xy6VJkyZp0qRJR6p4AAAAwFGnVQcgaJm4qe7Ion5bhoauJ4l11Zqxf6M5sf3BRADSgqTGJyq/tGYscueEhj/qtyUzDJeSkqJlGId/T4Tf71NBQdnBE7ZiTVG/nCSOvMbcIC39cpM0Wpea7SZW7gY0AH3+gAq5KRmNwENtEIwApAW58tQBevbrVZKkCafUfUP90a7m6olbP737sMoLcg95vqikLuo2/NYGXzFuLcz6feeTB1RQfOj1m5TQRSMG38lNiw4xb5B+8IsVyi3Ze1jzdolP1u/7nce+0ArVbDcuPfFFvnaUHPpNyZ3iI3R9P25KRuOYD7Upemujqvce+sVAT3K0Ekcez/Z3lCEAaUE6xSfqriHnNncxwkJ5Qa7K8jc3dzGOWgXFucrfu6m5i4GDyC3Zq5zCQ386HSBJO0qq9N9CbkpG86jeW6bqPHpgWzte4wgAAADAMfSAwDHcfAbUYF9oXVjfrcvRuL6PxmVC8yIAgSO4ubn5JCZK+/fXfG7TOp9dEFaa4g3baDl4o3rrUnOui21wY70gDG/0543qOBIIQOAI8+bm/H/NUtXebYc8X0RyZ7U793fcfNYI/U439PkXfknS6acz6rK5mTeQ//WLpcotyT/k+brEt9Pt/S7m5vEWxlzfsz/foG0lhx48do6P0S390zj2tTBmT8F/PyhSeaHvkOeLauPWsWcnhuX6tt6ovjxX1XvLD3k+T3KU2pzfJSyXCc2PAASOqtq7TZV53DzupMREl0YMP/yeJxxZuSX5yina2dzFgEO2lZRqc+H+5i4GHFJe6FPZnurmLkaTqt5brurdhx6AAAfC5VAAAAAAjiEAAQAAAOAYAhAAAAAAjiEAAQAAAOAYAhAAAAAAjiEAAQAAAOAYAhAAAAAAjiEAAQAAAOAYAhAAAAAAjiEAAQAAAOAYAhAAAAAAjiEAAQAAAOAYAhAAAAAAjiEAAQAAAOAYAhAAAAAAjiEAAQAAAOAYAhAAAAAAjiEAAQAAAOAYT3MXAGjJDMMlw3Ad9nx+f0B+f+AIlAh1aeh6klhXLdHRuL6PxmVC/Vjf9aNujg4EIK1QakK88ktLJUmdE+KbuTQtl2G4lJQULcNwH/a8fr9PBQVlHAgdYBgutUmKlrsB60mSfH6fCgvKmrhUOFJq1neM3EbDOvh9fr8KC0qbuFSNU7NMsXI3sNHl8wdUWLC/iUuFI6Xm3BLbqEZ2wVG6vg3DpeSkGLkauH8H/H7tDbP9u7UiAGmFrjz1ZD279htJ0oRTT27m0rRcNVdh3Prmw79qf2HuIc8X26aLTjnrdhmGiwDEAYbhkttwa9ZXf9G2kkNfT5LUOb6LfnfaHQ1uCMB5Nevb0EOrv9K2kpLDmrdzfLxuG3Ba2K3vmmVy6ZHPf9K2kvLDmrdzfJRu7t8t7JYJ9TOv8O/6V6Eq91Yf1rzeZI9Szm1z1K5vw3DJZRgq+td38h1mIOFOilHiuScdtXXT0hCAtEKd4uN119DBzV2Mo8b+wlwV78lp7mLgILaV5Gpz0abmLgYcsq2kRDmFRc1djCa1raRcWwrpjWstKvdWqzLv8AKQ1sJXUKrqvMO7wIDwwk3oAAAAABxDAAIAAADAMQQgAAAAABxDAAIAAADAMQQgAAAAABxDAAIAAADAMQQgAAAAABxDAAIAAADAMa0qAPn44491xRVXaODAgTrppJN0zjnn6P7771dJrbflrly5UhdffLEyMjI0YsQIPf/883Xmt3DhQg0bNkwZGRkaM2aMVq9e7cRiAAAAAC1WqwpAioqK1KdPH917771auHChrr76ai1dulQ333yzlWbt2rWaOnWq0tPTtWDBAo0ePVozZsxQdna2La+FCxdq9uzZGjdunObPn69u3bpp8uTJ2rBhg9OLBQAAALQYnuYugJNGjRqlUaNGWX8PGDBAXq9Xf/zjH7Vr1y6lpKToiSeeUHp6umbOnClJGjhwoH7++Wc98sgjGjNmjAzDUGVlpebOnasJEyZo4sSJkqT+/fsrKytL8+bN0+zZs5tl+QAAAIBw16p6QOrSpk0bSVJ1dbUqKyu1atUqXXDBBbY0WVlZysvL0/r16yVJa9asUUlJiS2YcbvdOv/887Vy5UoFAgHHyg8AAAC0JK0yAPH5fKqoqND333+vJ554QmeffbZSU1O1detWVVVVqXv37rb0PXv2lCTl5OTY/q+drkePHtq/f7927drlwFIAAAAALU+rGoJlOvvss60gYciQIZo1a5akmntEJCkhIcGW3vzb/L64uFher1dRUVG2dImJiZKkwsJCdezYscHlc7sbFxc2dv6mzMfMo6mWibo5MmVpqnxY3wfPg2U68vk0VjjWTWOF4zJRN0emLE2VD+u7fi5XExSklWuVAcj8+fNVWlqqTZs2ac6cObr22mv1zDPPWN+76tmygqfXlcYcelXf/IfCMFxKSIhu8PySGj1/U+YTTmUJt3zCqSxNlU84lSXc8gmnsjRVPuFUlnDLJ5zK0lT5hFNZwi2fcCpLU+UTTmUJt3wMo1UOIGpSrTIAOeGEEyRJffv2VXp6usaMGaN33nnHGmpl9nSYiouLJf3SE5KQkKCKigpVVFQoMjIyJJ3ZE9IQfn9A+/eXN2oHKS4u+79yNm4na4p8iovL5PP55XYbYZOPdPTVTWPL0lT5sL4PnAfLdOTzkY6+umlsWZoqH9b3gfNgmY58PlJ41I3f7ycIaaRWX3snnnii3G63tm7dqq5duyoiIkKbN2+2pdm0aZOkmns8gv837wUx5eTkKDY2VikpKY0qk8/nb/T8jc2jqfLx+fyqrg6vfI7Gujkal4m6OXJlaap8WN8HzoNlOvL5HI11czQu09FWNzxrqPFafQCydu1a+Xw+de7cWV6vVwMHDtSKFStsaZYtW6b27dsrPT1dUk3PSXx8vJYvX26l8fl8WrFihTIzMxs1BAsAAAA4mrWqIVg33HCDTjrpJKWlpSkqKko//vijnnrqKaWlpWn48OGSpOuvv15XXHGFpk2bpqysLK1Zs0bZ2dmaPn261d3m9Xp13XXXafbs2UpOTlZ6erqys7OVm5tr3dAOAAAAIFSrCkBOPvlkLV++XPPnz1cgEFBqaqouvfRSTZw4UV6vV5LUp08fzZkzR7NmzdLSpUvVsWNHTZs2TWPHjrXldc011ygQCGjJkiXKz89Xr169NH/+fKWlpTXHogEAAAAtQqsKQKZMmaIpU6YcNF1mZqYyMzMPmMblcmnSpEmaNGlSUxUPAAAAOOq1+ntAAAAAADiHAAQAAACAYwhAAAAAADiGAAQAAACAYwhAAAAAADiGAAQAAACAYwhAAAAAADiGAAQAAACAYwhAAAAAADiGAAQAAACAYwhAAAAAADiGAAQAAACAYwhAAAAAADiGAAQAAACAYwhAAAAAADiGAAQAAACAYwhAAAAAADiGAAQAAACAYwhAAAAAADiGAAQAAACAYwhAAAAAADiGAAQAAACAYwhAAAAAADiGAAQAAACAYwhAAAAAADiGAAQAAACAYwhAAAAAADiGAAQAAACAYwhAAAAAADiGAAQAAACAYwhAAAAAADiGAAQAAACAYwhAAAAAADiGAAQAAACAYwhAAAAAADiGAAQAAACAYwhAAAAAADiGAAQAAACAYwhAAAAAADimVQUgK1as0NSpU5WZmalTTz1VWVlZeuGFF+T3+23pVq5cqYsvvlgZGRkaMWKEnn/++TrzW7hwoYYNG6aMjAyNGTNGq1evdmIxAAAAgBarVQUgzzzzjLxer26//XbNmzdPw4cP13333acHH3zQSrN27VpNnTpV6enpWrBggUaPHq0ZM2YoOzvbltfChQs1e/ZsjRs3TvPnz1e3bt00efJkbdiwwenFAgAAAFoMT3MXwEnz5s1TcnKy9ffAgQNVWlqq559/Xrfccou8Xq+eeOIJpaena+bMmVaan3/+WY888ojGjBkjwzBUWVmpuXPnasKECZo4caIkqX///srKytK8efM0e/bsZlk+AAAAINy1qh6Q4ODDdOKJJ6qiokKFhYWqrKzUqlWrdMEFF9jSZGVlKS8vT+vXr5ckrVmzRiUlJRo1apSVxu126/zzz9fKlSsVCASO7IIAAAAALVSrCkDq8tVXX6lNmzZq27attm7dqqqqKnXv3t2WpmfPnpKknJwc2/+10/Xo0UP79+/Xrl27HCg5AAAA0PK0qiFYtX377bf6xz/+oeuvv15ut1tFRUWSpISEBFs682/z++LiYnm9XkVFRdnSJSYmSpIKCwvVsWPHBpfL7W5cXNjY+ZsyHzOPplom6ubIlKWp8mF9HzwPlunI59NY4Vg3jRWOy0TdHJmyNFU+rO/6uVxNUJBWrtUGIHl5ebrpppuUkZGhyZMn275z1bNlBU+vK4059Kq++Q+FYbiUkBDd4PklNXr+pswnnMoSbvmEU1maKp9wKku45RNOZWmqfMKpLOGWTziVpanyCaeyhFs+4VSWpsonnMoSbvkYRqsfQNRorTIAKSkp0eTJkxUVFaW5c+cqIiJC0i89GGZPh6m4uFjSLz0hCQkJqqioUEVFhSIjI0PSmfk0hN8f0P795Y3aQYqLy/6vnI3byZoin+LiMvl8frndRtjkIx19ddPYsjRVPqzvA+fBMh35fKSjr24aW5amyof1feA8WKYjn48UHnXj9/sJQhqp1dVeRUWFrrvuOuXn5+upp55SUlKS9V3Xrl0VERGhzZs32+bZtGmTpJp7PIL/N+8FMeXk5Cg2NlYpKSmNKqPP5z94ooPM39g8miofn8+v6urwyudorJujcZmomyNXlqbKh/V94DxYpiOfz9FYN0fjMh1tdcOzhhqvVQUg1dXVuvnmm/Xjjz/qqaeeUmpqqu17r9ergQMHasWKFbbpy5YtU/v27ZWeni5J6tu3r+Lj47V8+XIrjc/n04oVK5SZmdmoIVgAAADA0axVDcGaPn26PvjgA/3+979XeXm5vv76a+u7nj17Ki4uTtdff72uuOIKTZs2TVlZWVqzZo2ys7M1ffp0q7vN6/Xquuuu0+zZs5WcnKz09HRlZ2crNzdXs2bNaqalAwAAAMJfqwpAPvnkE0myvfnctHjxYg0YMEB9+vTRnDlzNGvWLC1dulQdO3bUtGnTNHbsWFv6a665RoFAQEuWLFF+fr569eql+fPnKy0tzZFlAQAAAFqiVhWAvP/++4eULjMzU5mZmQdM43K5NGnSJE2aNKkpigYAAAC0Cq3qHhAAAAAAzYsABAAAAIBjCEAAAAAAOIYABAAAAIBjCEAAAAAAOIYABAAAAIBjCEAAAAAAOIYABAAAAIBjCEAAAAAAOIYABAAAAIBjCEAAAAAAOIYABAAAAIBjCEAAAAAAOIYABAAAAIBjCEAAAAAAOIYABAAAAIBjCEAAAAAAOIYABAAAAIBjCEAAAAAAOIYABAAAAIBjCEAAAAAAOIYABAAAAIBjCEAAAAAAOIYABAAAAIBjCEAAAAAAOIYABAAAAIBjCEAAAAAAOIYABAAAAIBjCEAAAAAAOIYABAAAAIBjCEAAAAAAOIYABAAAAIBjCEAAAAAAOIYABAAAAIBjCEAAAAAAOIYABAAAAIBjCEAAAAAAOIYABAAAAIBjWlUA8tNPP+lPf/qTLrroIqWnp2vUqFF1plu5cqUuvvhiZWRkaMSIEXr++efrTLdw4UINGzZMGRkZGjNmjFavXn0kiw8AAAC0eK0qANm4caNWrlypbt26qUePHnWmWbt2raZOnar09HQtWLBAo0eP1owZM5SdnW1Lt3DhQs2ePVvjxo3T/Pnz1a1bN02ePFkbNmxwYlEAAACAFsnT3AVw0rBhwzR8+HBJ0p133qnvvvsuJM0TTzyh9PR0zZw5U5I0cOBA/fzzz3rkkUc0ZswYGYahyspKzZ07VxMmTNDEiRMlSf3791dWVpbmzZun2bNnO7dQAAAAQAvSqnpADOPAi1tZWalVq1bpggsusE3PyspSXl6e1q9fL0las2aNSkpKbEO43G63zj//fK1cuVKBQKDpCw8AAAAcBVpVAHIwW7duVVVVlbp3726b3rNnT0lSTk6O7f/a6Xr06KH9+/dr165dDpQWAAAAaHla1RCsgykqKpIkJSQk2Kabf5vfFxcXy+v1KioqypYuMTFRklRYWKiOHTs2uBxud+PiwsbO35T5mHk01TJRN0emLE2VD+v74HmwTEc+n8YKx7pprHBcJurmyJSlqfJhfdfP5WqCgrRyBCB1cNWzZQVPryuNOfSqvvkPhWG4lJAQ3eD5JTV6/qbMJ5zKEm75hFNZmiqfcCpLuOUTTmVpqnzCqSzhlk84laWp8gmnsoRbPuFUlqbKJ5zKEm75HGxIPw6OACSI2YNh9nSYiouLJf3SE5KQkKCKigpVVFQoMjIyJJ2ZT0P4/QHt31/eqB2kuLjs/8rZuJ2sKfIpLi6Tz+eX222ETT7S0Vc3jS1LU+XD+j5wHizTkc9HOvrqprFlaap8WN8HzoNlOvL5SOFRN36/nyCkkai9IF27dlVERIQ2b95sm75p0yZJsh7da/5v3gtiysnJUWxsrFJSUhpVDp/P3+j5G5tHU+Xj8/lVXR1e+RyNdXM0LhN1c+TK0lT5sL4PnAfLdOTzORrr5mhcpqOtbnjWUOMRgATxer0aOHCgVqxYYZu+bNkytW/fXunp6ZKkvn37Kj4+XsuXL7fS+Hw+rVixQpmZmY0aggUAAAAczVrVEKyysjKtXLlSkrR9+3bt27dPb731lqSa93gkJyfr+uuv1xVXXKFp06YpKytLa9asUXZ2tqZPn251t3m9Xl133XWaPXu2kpOTlZ6eruzsbOXm5mrWrFnNtnwAAABAuGtVAciePXt0880326aZfy9evFgDBgxQnz59NGfOHM2aNUtLly5Vx44dNW3aNI0dO9Y23zXXXKNAIKAlS5YoPz9fvXr10vz585WWlubY8gAAAAAtTasKQDp37qwNGzYcNF1mZqYyMzMPmMblcmnSpEmaNGlSUxUPAAAAOOpxDwgAAAAAxxCAAAAAAHAMAQgAAAAAxxCAAAAAAHAMAQgAAAAAxxCAAAAAAHAMAQgAAAAAxxCAAAAAAHAMAQgAAAAAxxCAAAAAAHAMAQgAAAAAxxCAAAAAAHAMAQgAAAAAxxCAAAAAAHAMAQgAAAAAxxCAAAAAAHAMAQgAAAAAxxCAAAAAAHAMAQgAAAAAxxCAAAAAAHAMAQgAAAAAxxCAAAAAAHAMAQgAAAAAxxCAAAAAAHAMAQgAAAAAxxCAAAAAAHAMAQgAAAAAxxCAAAAAAHAMAQgAAAAAxxCAAAAAAHAMAQgAAAAAxxCAAAAAAHAMAQgAAAAAxxCAAAAAAHAMAQgAAAAAxxCAAAAAAHAMAQgAAAAAxxCAAAAAAHAMAQgAAAAAxxCANMKWLVs0ceJEnXrqqRo0aJBmzJih8vLy5i4WAAAAELY8zV2Alqq4uFhXXnmlOnXqpEcffVR79+7V/fffr8LCQj300EPNXTwAAAAgLBGANNDf//53FRcXa+nSpUpOTpYkud1u3XbbbbruuuvUo0ePZi4hAAAAEH4YgtVAH330kQYNGmQFH5J07rnnyuv1auXKlc1YMgAAACB8EYA0UE5OTkgvh9frVdeuXZWTk9NMpQIAAADCmysQCASauxAtUe/evXXzzTdrypQptum/+c1v1LZtWz3++OMNyjcQCCgQCMgwDPlLyxXw+w95XpdhyIiJkv//5jEMQ/6yUgV8h56HJLnchozoGFs+vtJ9kt936JkYbrlj4uT3+xUISC6XmU+hAoeRj8twyx3TJiSfqtJCBfzVh5GPRxH/l4+5TJVlh5eHmY832p5PxWHm4zI8iowOXabyskL5DyMfw/AoqlZZyg4zDzOf6Fr5lJYfflliokKXaX8D8omtI5995YXyHUY+bsOjuCj7MhVWHF4eZj5tImvnU6Lqw9iGPYZbbSLjQ5apsHy/qgOHkY/LrTZRsfaylJceVh6/5BNTK58yVQcO/TjhcRlqExVdxzI1VT7lqj6MY5/HMNQmKqrWMlUcVh6/5BMZko/Pf+inSbfhsvIIXqai8kpVH8bp1uNyKTHKaytLUXnVYeXxSz4RtfLxyXcY+bhdLiVGuevYv306jKqR4ZJi68inrNwv/2GUx3C5FB1l2I/D5X75D6cwkgzDpcha+VSW+xU4jHxchkve/8vDdo4qO/x8IqLtZaku9UmHtwlLhuSJcdvP3/t9OtwV5Y4NXU++0mrJdxj5uF1yx3hC8vGXVjWgbWPfhv2llYeVxy/5eGvlU9GAskQqEAjI5XId1u/DjntAmlhjN0qXy2XNb8RENSgPw/ilY8uIjmlwWYLzccfENTqPmnzaNEk+EU2Qjze6YXnUzieygfnUXqaoJsgnuomWKSaq8WWRpNgmyieuCfJpE9mwPELziW90HpLUJiq28WWJapr9u01UdKPzaNp8Gn/saxMV2aA8miqf2suUGOVtdD6JURENyiM0H3ej85BqgommyCc6qmGDMWzH4QbmUTsfbxOURZIiohufjyemYfVbOx93bNOsJ3dMw5qMtfMxYhq2HdvaNjEN259C82nY/k3w0XgMwWqghIQEFRcXh0wvKSlRQkJCM5QIAAAACH8EIA3Uo0ePkHs9KisrtXXrVp6ABQAAANSDAKSBhg4dqlWrVqmgoMCa9s4776iyslKZmZnNWDIAAAAgfHETegMVFxdr1KhRSk1N1dSpU7Vnzx498MADGjx4MC8iBAAAAOpBANIIW7Zs0YwZM/TVV18pKipKo0aN0m233aaoBt5ACQAAABztCEAAAAAAOIZ7QAAAAAA4hgAEAAAAgGMIQAAAAAA4hgAEAAAAgGMIQAAAAAA4hgAEAAAAgGM8Tv1Q8DszoqOjdcEFFxzSOzOWL1+uFStW6Ouvv9bu3bt13HHHaefOnSF57Nq1S/fff78+/vhj+f1+DRgwQHfffbeSkpL0zDPP6KOPPtLGjRvl8/kUCARUXV0tSYqKitIll1yi22+/XW63W48++qhee+01lZSU6OSTT9a1116rG264QaWlpUpNTdWOHTsU/OTiiIgIuVwuxcTE6KSTTtLll1+uVatW6bPPPtP27dtlGIaqq6tVWVkpSfJ6vRo8eLBuueUWvfzyy1q1apU2btwYstyGYeill17SySefrHXr1ummm27Szp07VddTkw3DUPv27RUREaH8/HxVVFTY0rndbiUkJKikpMRa7saIjIzUmWeeqffff/+Q5/F6vVYdNCbNoYqJiVFpaWmT5NXU3G63fD5fo/MxDEMej6fJ6uxAmqrMRxOXy1Xn/oimYRiG/H5/cxcDhyg6OloVFRXNus4SExNVXl6uioqKI5K/y+WSy+U6KrfLQ93fDMOQy+VqkvOBy+WSJMXFxckwDBUXF1vH1EM9vtZuN3g8HkVGRqqsrMzKJzo62moPBAKBQ8rX5XIpPj5e8fHx2rt3ryIiIlRRUXHAbevFF1/Uvffeq/Xr10uqqauEhASlp6frwgsv1HvvvafVq1eruLhYhmGoY8eOGjRokMaNG6crrrhCpaWl+uyzz7Rjxw7NmjVL69atU0lJiTwejy666CLdfPPNSklJkaSQNu+pp56qNWvWqLy8XJ999pmSk5MlSV988YUeffRR/fjjjzIMQ+np6brlllt08sknW+X+9ttv9cILL+jrr7/Wli1blJmZqSeffPKgddRYjvSAFBcX68orr9T+/fv16KOP6o477tAbb7yhadOmHXTet956S7m5uTrzzDMlSZWVlSF5+Hw+TZo0Sd99952mT5+uBx98UDt37tSVV16pnJwcvfTSSzrjjDOUnp6u7t27WzvZOeecI5/Pp5dfflnTpk3T/fffr+eff1433XST5syZI4/Ho9/+9rfyer2SalZ4SkqKUlNT5fV65XK5VF1drUAgYOV788036+OPP9all16qP/3pT/L5fLado3Pnznr//fc1fvx4vfHGG8rJybG+M4MZSfL7/bryyiv12Wef6aqrrtKePXvUtWtX63upZuMeMmSIAoGAdu/erZ9//lnV1dXWhmeqHXT16NFDv/rVr2QYhpWPJLVt29b6OzExUfHx8bZ8oqOjNWTIEBmGYQs+OnToYOURnJ9U03A111vw3x6PR2lpabb8q6ur5XK5rDS18zKXfeTIkWrfvr1t3uB0kmzBx7HHHisnmNtJRESEYmJi6k3n8/kUGRlZZ5radX4gfr9fVVVVkqRjjjlG3bt3t74L3k4ONO1AoqKirHoNPtmkpKTorLPOUkZGxiHn5fGEXutISUlRu3btFB0dbVvnByp7ZGRkyLo2RUREHHJ5Dla2uLg46zdjYmJCypSQkFDnSczlcikyMjJkemJiYkgewRdfzH2/9rLVtazmdhacpva0iIgIq6FQX35dunQ55G3CvMhxIPHx8VZDoi7m8tV10an2dh8REWFrDB2onMH7Ue16CBYZGRmyDElJSQfNv/bxKLj8hmHYvm8swzAOuI3XlT4mJkYXXHCBrR4OtUzHHXecBg4caP19sAuCB6qnsrIy+f1+23ZsGIYMw1BSUlKd8xqGYWsImeeuuvYhc5kOVIaioiKrgRh8Pj0cdf22KRAI1Ltuate5x+NRXFycpPrLbDYmD6au80Jd23rw79QuT/Dx0dzuJalbt25KTk4OKaNZD7Wnp6Sk2M4Hbdq0sX3fu3dvjRw5Ur1791Z6erqk0OPYscceK8MwrGPovn37VFRUZDumBgIBeTweeb3ekHUf3HaorKxUTEyMkpKSlJCQoOrqapWXlysQCKhfv37y+XwqLy+X3+9Xhw4dbL8RHx+vmJgYTZs2zdZuGj9+vE477TSVlZUpLy9PvXv3VmVlpSoqKhQZGamzzjrLKstpp52mfv36KTk5WevXr9eOHTus+u/YsaPuv/9+lZWV6U9/+pM+//xzBQIBJSYmKiMjQ//zP/+jL774QuPGjVN0dLT1+yUlJeratasiIiKUmJio5ORkrVq1SpMmTVJlZWWdbd5vv/025GLkxo0bNXHiREVGRuqhhx6yynLVVVdp27ZtVro1a9boyy+/VHp6ujp16iSnOBKA/P3vf1dxcbHmzJmjoUOH6uKLL9a0adNCGuB1+dvf/qalS5dajavRo0eH5LFo0SL95z//0RNPPKELLrhAw4cP15NPPqm8vDytXr1a77zzjm655RY9/vjjuuCCCxQREaHk5GQlJCTo97//vaqqqvTGG2/oxRdf1K233qpLL71UZ555psaPH6/q6mpr53/llVf02muv6f3339ef//xnBQIBtWnTRieeeKLWrFmjP/3pT2rTpo369u2rq666Suedd55mzpxpHYQk6emnn1ZSUpIKCws1YMAAK3KNiYnRd999pwcffNBKW1VVpYcfflgJCQn64osv9NZbb9lOoJGRkXrqqac0btw468Do8Xi0bNkyff311+rTp4+14z/yyCNq166dJGnMmDH6y1/+opkzZ8rlcqlbt26SpKFDh0qqadgWFRVp5MiRthN0WVmZJkyYoLvuusu2jszeI3M5zR08MjJSPp9PHTp0sHZur9eryMhI+f1+bdiwQYmJiVY+CxYskNfrtYI7syzmfGa+3bp1U15entxut5UuOTk5pDFgLvvxxx9f7/Y1ZMgQ2wH2YCesiIgIDRgwQAkJCSENXnPnr6qq0jHHHBMyX/D/FRUV8vl8tsZvVFSUTjzxROvv4HXt8XjqbOwEAgGdc845+vDDD+Xz+eR2uxUVFWXVVVpamrVMixYtUp8+fepcrmHDhtn+TkxM1NChQ+ts1A8cOFBPPvmk4uLi1KlTJ9sBq/aJ0mwU/b//9/+s7c/UuXNnlZaWqm/fvtYJrXfv3oqKigpJGwgEdOyxx+r++++3Av3azGBMqgkQDMPQH/7whzqXNyYmRueee67atGmjdu3a1bmc5rSRI0eqU6dOmjRpkqSaCxfFxcV15hsfH6/k5OSQRsyf//xnHXfccbYg8emnn9bgwYMVHR2t008/XUuXLrUacKZLLrnEls8dd9yh1atX6+6777am+f1+vf7667bjTJs2bTRlyhTbybZHjx4yDEMdOnSQJG3fvt0Krjwej2JiYkIaROY+FBMTo7POOiuksRGspKRE8fHx6tevn2JjY636MAUCAfn9flVXV1t1a9bHb37zGytdYmKiqqqqbNv6WWedJcneiDIbITfccIN69OihTp061dkbaO5jFRUVuvHGGyXJOsbcd999kmTb3oIbAtIvwbfL5dKHH35ouwLq8Xhsx1mz/Kbghp4pISFBkZGRevnll618zeNjRESEvvzyS40YMSJkPpfLpenTp9um+f1+lZaW6qSTTlJpaal1/KjvOBZcpx07dtT27dv1zTffWNOqqqpkGIa6du1qTYuKirLyCwQC1rqVpJtuusmWv9nA8/v9GjZsmPx+v2JjY/X//t//qzNg9/v9mjFjhqSa4/q9994rSXVeXTevyNZ3sSt4uePi4lRVVaXY2Fj97//+b511Idkb8eaxwly/LpfL2ufN/dkc0SDJOsaPHj1abrdbiYmJ+n//7/9Z8w4ePFj79u2TpJBGr5lXz549relmvT766KMh5ezVq5ft7w4dOti2M9NJJ50UctFo0KBB1t9mQFhQUCCXy6WLL75Y+/bt0zvvvGOr87Zt21r1EAgE5HK5rLr6+eefbfvIqFGjrM+RkZE644wz9Mgjj+gf//iH7rzzTkmhF4dyc3N111136fjjj7f1SHTp0kVSzXYaHx+v6upqPfroowoEAmrfvr0CgYC6du2qzp07W3klJyertLRUS5YsUdu2bRUTE2NddI2KilJ0dLSqq6vl9Xq1a9cujR8/3jrmdezYUampqcrLy5PP55PL5VL37t01bdo0PfbYY/rggw9UWVmpNWvWqF27djrzzDNVUVGhn376SVOnTlVkZKS2bNmi77//XmeddZYee+wxa5/v06ePYmNjNWzYMD3++OOqrKzUlClT9MUXXygtLU1JSUm66KKLNHnyZJWVlWnAgAHWMg0aNEhJSUnq0aOHhg0bpsTERN177736z3/+o++++05vvfWWrc0bGxtr9c4Fe+eddyRJjz/+uDIzM62y7N+/Xx999JGVbvz48XrnnXf08MMPKzU1NWS7OlIcCUA++ugjDRo0yBZhnnvuufJ6vVq5cuUB5zV3JrOygq/ymHl88MEHat++vS0qTklJ0fHHH69PPvnE2lmSk5P10Ucf6YwzztDxxx+v3bt3WxG62+2W3+/XBRdcIKnmQPzQQw/p5JNP1s6dO608zWXIysqS1+tVfHy8tfMUFhbq+OOPV15enqSanW7OnDn6n//5H2s5IiMjrXJ+9913crlctgP6ueeea7va+9///lfDhw+3rkaXlJRYac0DxuDBgyXVHCjMBlB0dLTtKuKXX35pO9hFRERowYIF6tatm3XS/v77762dp127dvrggw80fvx4STUnh9TUVH3wwQd69tlnbevo8ccfV/v27dWjRw+rHMHrqnPnzlY9R0dHKzo62ipX8NVvs5fG5/OFHLA6duxoff7vf/8rqeYgaf7Wnj171L59e9tVU7POP/vsM1vjTPrlRBUc2ATPU18PRnx8vPx+v1JTU20N3tqCA2uv12vlGxxwmAdJs9EXHx+vHTt2WGUzG7kdOnRQdXW12rZtW+eJed++fcrNzdVPP/0kt9ttnSiio6N1xRVXWMvXt2/fkAZkcN0Hi46O1s6dO20nY5PZtb1v3z7t3LnT9p0Z7NXuXVu2bFlIUFZQUKDS0lJbgy4lJcW6khp8gjUD5Y8++khpaWnWib0+sbGxOuOMM3TppZfW+X1paamuvvpq9ezZU/n5+bZ9UKpZ/71795Ykvffee7rssstUUFAg6cBXiYcMGaLCwsKQ9VRQUKDNmzdr5MiR1rTCwkKNGjVKZWVlqqioCOkRNJfblJKSog8//FAxMTG6/PLLbekKCwutCwlSzfHLvMJl5tGxY0dVV1db+5Lf77e2x+rqanXu3DlkPzEdf/zx+vTTT62g2OwtNZnH2GOPPVZ+v99a72bvY+0rs2Zvp9mw+/bbb63vzXXbt29f6ziQn59vLZcp+HgWfEGgdi+qyev16oUXXlDHjh1VWVmpQCCgH374QZKsdSv90giS7A1cj8ejTz75RIFAwArcKisrtW/fPtu2WlRUZH0ObijVLqvZg2j2oEs1x12v16tVq1aFzNe+ffs6Gwcul0vPP/+8pJrgWJLVSG7Xrp21DHFxcbb9f+TIkaqsrFRcXJy1Pn0+n/x+v9LT061to6qqynbcMrcBwzBChqP86le/klRzfjGPBTExMVqxYkVIuc08zHO7x+PRypUrrQtUtYM3c9uMjY21lsnv99vODcEXeKKionTmmWdaF9bM3zB/N/hvSUpPT7et727dulnbQnR0tLxer3V+cblcKigokNfrVWpqqrV9B9dH7ZEIJnO7jYqK0ldffWVNN3uJzj777JB59uzZY32OjY1VYWGhhgwZErLcwctmSkhIkBR6jO/Xr59SUlIUCAT0/vvvh4yuCJaSkmIL1szt0OVyac2aNdY5rEOHDrY23b///W9JNfUSERFh7Zc+n0+DBw+2HXe9Xq/Ve+DxeKy0iYmJtt7+mJgYbd261ZrP5/MpOjpanTt31n//+1/rgljHjh315ZdfWsfFuLg4RUdH6+qrr1YgEFBcXJx27dolSXr11VfVo0cPBQIBXXjhhZJq1p8ZLKampmrbtm26/PLLZRiG8vPzNXnyZEVHR2vv3r0qLS1VQUGBMjIyrLIF16fZMxwdHW2bXlVVpWeeeSZkSNvWrVv1zDPP2EYJmftudXW11q9fb7V5q6qqdO+99+rmm2+27Qtm2oiICNsFMbMsdbV7nObIr+bk5FiNU5PX61XXrl0P2gMSnEdtZh579+6tszvS6/Vq8+bNIfl07dpVP/zwg7p3764vv/zSunofGRlpreTFixfL7XZr+PDhdTY0vV6vOnfurJ9//tnaWTp06GDlG5zHiSeeaB24ysrKrJNtUVGR0tLStG7dOvl8PpWUlOiLL76wfsPlcqmkpMRWd8HjI/1+v3JycjRv3jxFRUVZvTXFxcVaunSp7eD27LPPWie1xx57TCeffLI2b96s7du3WweBjRs32k7E+fn5VmPzp59+0q5du/T666+HnHT++9//WkPAgpkn4urqav3nP/+xphUWFlppdu7cafUEPPfcczrppJPqvIoZ3F1oRvW7d++2TiCBQEB5eXm2nco8Ce/bty+kwRoZGanIyEjb8kq/BHX1dT/v3btXubm5VsPlUJhdt9IvJ6jgA4B5EMzLy9O2bdus6WZaMxgKPgkFW716tf70pz9JqjlRmoFLWVmZrUftzTff1Kefflrn8n7yySeSahqHhmFYZYqMjAy5svL2229r6NCh2r59uwKBgHXSkGQ7MUi/NFb27t0bcq/Tli1b5HK59OWXX1rTPvjgA0nS/v37bY2tQCCglStX6q233lKbNm2sdHUNn5JqrtJ9+umndV5JNt1888366quvVF1dbWs0SjXb1tq1ayXVbLOzZs3Sq6++KqmmHs26qe2tt95SWVlZyL1Wf/nLXyTZr0BPnTrVuuLbv39/a/8M3oZfeeUV6/OuXbv0+eef6y9/+UvIWG2Px2Or38LCQi1btsyWn7nu161bZ6UrKiqy1m1VVZVtXUq/9ECuXbtWO3bssH6jduPKPE58++23+vnnn60LJeaxrvZ+aV71NI8Lq1evtr43t8kRI0ZYv2+OqQ5mroe//vWvWrt2rX766aeQNObvmf/n5OTYyvLEE09I+qWHUZJVpuDlN8tl9piYQzykmoZr8DHN1LZtW2soaPB637Ztm/bv36+rr77ammbuA/v27dOtt94asj1KNdvkzTffHBIkBgIBbdu2TTExMdb2bq7Tk046yVqGPn362PI1j2F5eXkhv/fee+9Z9ebz+Wzbs3kByO/368UXX7TNZ647wzD0zDPPSKrZbrds2WKlCd5v/H6/nnrqKUnS5s2b9fLLL1vBYe1j8x//+EdJNRdmgtdLSUmJtbxmIFxVVWWNhX/rrbckyRqeY/6uZB+qe/XVV9vybdu2rebMmSOpZn8KPi8FAgGVl5ersrJSc+bMUXV1tS677DK988471r0L5nk1+PgZGRlpHVdKS0tVXl5u5VlQUCCPx6OJEyeGHNfMOpdqjo2VlZVavny5bd9t166ddu/eHXLs+de//mWrb3MZN2zYoCVLllgjIoK3K/Miqmnnzp3av3+/LR/T+vXrrXNTbm6u/vOf/+jEE0/UxIkTrcDYLGPwfO+++66+++47K3jq1KmTtf1UVFSosLBQ7dq106xZs6x1cOyxx2rTpk22dVFUVKSysjJdfvnlCgQC1nmzU6dO2r9/v7Vfm/X99NNPW/kVFxdr48aNys/Pt/J85JFH1K9fP91555265557bD2Ct956q3VxLD8/3yp7mzZttGrVKlVWVloBb25urnw+n/Ly8nTfffcpOTlZ5513nq1eFy9erKqqKquHx3Tffffpoosu0vHHH28N43/wwQfVu3dv9e3bVxUVFVab12xn/uY3vwnZbrKysuT3+/Xwww9r7969ByxLc3DsHhAzCg+WkJBQ54G2vjzqkpCQII/Ho507d1qNJqlmJ920aVPIiaG4uFjr1q1TWVmZRowYoaeeekqjR4+2Rdy7du3SE088obvuuqvOLnTTvn37rMb16NGjtWjRIpWVlemKK66w8rj99tv1wAMPWBvX3LlzVVpaqs6dO6u8vFznnXeeunTpooqKCp1++um65pprrBOb2WgJrjszGDJ7C84//3zb8KfNmzerX79+uvvuu61hCyaPx6MuXbqorKxMbrfbip6DG/dSzQFz7969kmSdRE455RT16NFD+/bts7pvzWELN9xwg7p27ardu3fbfss82GzdutU6QHXv3r3Oq6xRUVFau3atzj//fEmyHWCSkpKs+jN7qtxut9q2bWs72NZulPXv39+ap/Z6LC8vV5cuXWwnxmDmyc88wAc3IMwesWCRkZGKi4uzuuLrY149DQQC8vl8tuEdwVeVg69IBJ/w6+LxeKwrTbX3p+D95u677w65cm4ytyvzCugJJ5ygdevWWQ80CA5AzjnnHCvwr31Dn3mlOioqKuQ+l+CTrVkXbdu2teVtHlQrKipsjc4pU6aoZ8+eKi8v1+rVq60LC/Hx8daJvvZVnEAgUGfD0BQcsDbk/hFzPHCw+m7MNE+Kjz32mG15zQbQvHnzdNVVV4WUpfZVy0AgoOeee842BM3tduvXv/51SOBeu1enNrOxZp5ct2zZYgUStfOoXT/mfpOammpbx/v27dO2bdsOWJ9mHUVERFjDweratmfOnGldzTzYzbHB6z4QCNTZA2JeRTXPE8FX/s0x4gfi9/vVtWtXqxfUdOyxx9qGT5j27NljXTgL3i569+6tjIyMOns5ioqKrMCxLvv27bO2ueDhfFJNEHjPPffYpn344YfWZ4/HYztefvHFF/J6vTrhhBNCGq3B90BJoduhuc5rb3NmQFJRUWHb/oLnD6672NhYa12Zx+jgY0pwb0dwgH3GGWdYn/fv32+Vta7jn3kR5pZbblFtB7ry+9VXX6m4uLjOIVzBdWMuz9y5c203UWdnZ1tpzGlVVVW2XtBgfr9fM2fO1Oeffx6yPuq6vyc4CJZqjr27du2y9eAFq70Oi4qKVFpaqgULFig/P982uqL2chqGYetJ2rx5s1wul/74xz/K4/HY9mmpps3y6aef2nozJdnO/Q899JCqq6ut5QkOsoYOHark5GTl5+fbLsrm5uZq4sSJtosNbrdbQ4cOtdojZjvEXLfmOdB8QMI333yjyMhIq9fGTPfdd98pJibGuoj72muvafny5TIMwyqD1+u17i2aMmWKte79fr/OPvts/fjjj9Ywz/z8fG3evFmDBw/Whx9+qKefftp24aaiokKPP/64PB6PjjvuOJ1wwgmSpI8//lhr167VzTffrCuuuEKvv/66fvrpJ5WUlGj+/PlW+p07d+r777+32qrl5eW2NrBUc4/Xs88+q9dee02DBg2qtyzNpVkfw1u7YdPQPI455hjFx8frD3/4g7Zu3apdu3bpj3/8o0pLS0MOMH6/X2vWrNHvfvc7PfDAA2rbtq3uuOMOW5q//vWvOvPMMzVo0KB6n5bwxhtvaPfu3daNjaeccooWLVqkO++8U926dbPyeOedd7Rx40ZrKEh2drbcbrf+9re/SarZ2P773//K6/XqsccesxohUs29FZLqPBGYAdNDDz2kn376Sfn5+VZ3/3nnnaexY8fabhQvKSnRXXfdpXfffVcpKSkyDEM//vijfvvb31oNQ/M+kpSUFKub2LzPpUOHDiopKZFhGNq/f7/at29vdfeNGzdOf/7zn231E3wADR6SUldvhDn9+uuvr3PoU/DNaS6XSxEREVaPkRmc1RXUmD1AwUO+gnk8HhUUFNQ59MUUfGO56bTTTgvZbisqKlReXq7bbrvNdhI00wWPoa7r6VyRkZFW0GeO0zUd7KawuoYrGIahO++803ZPyYQJE/T888+HDAsJHs9r3mdiXh01xykHX9ls3769duzYETIuObgxbhiGKisrbQFAXft6fn6+FbC5XC6rq/65556z9Wr6/X5t27bNKqvZuCkoKFBSUpKio6MPePNoXcz7SqS6A4cePXrUe3wyrzTVvrBS3xj84Do2v7vuuuts93hERETo7LPPtvW41hVEZGVl2RqW5tC22jfyBx+74uLirJt9zbKbwcaBxtSbVz0nTpxoW15z/zbHRNdm3ktQ143r5m9UVVXV21iSapbdvDjSrl27kDo1x6V37tw5ZP8Ovg/NVPvqoGEYtl7F4O0tePx/sB07doQEV99++62tB+dgfD6frZcluJwZGRn13pPWr18/RUREWGU2y2vWZ+fOnbVmzZqQ3zMbGt9//71t/UZGRioxMVF9+/YN2XciIyMVCATqDSQ//vhjtWnTJiQACS6v2fCrvTzB23dERIROPfVUSTX7clxcnDX0UarZzszeqeBhneYFl7oED3cONnPmTNvfqamptu2mdqPf5XIpJSVFf/3rX0N+I7jtEnzOCt7GzP0i+NicmJhoDVGqva+VlZXp9ttvV9u2bUOGq5rnDK/Xax2ram/PZjlyc3NDvqs9QqT2Td333nuv7VgTGxurlJQUq/cmMjJSn332mW1+r9erefPmye/32wIsqeZ+GjOQjIuLs9ocwedac/3UvjAl1fTWmgFR+/btrXNWbGys1WNmMnsZZsyYYT2pSvplfda+YDh79mwlJiZaI0uCt4GKigoNHTpUTz/9tMaOHavy8nKrx1aqaafcf//9euSRR7R582bbPT7ffPONbrzxRmu7T0hIUGpqqubPn69evXppypQpth7mnJwcJScn6+eff9aDDz5orZNHHnlEN954o5KTk3XfffcpMzNTKSkpqqio0NVXX619+/Zp1KhRio+P15QpU9SnTx91795df/zjH0P2xy1btujGG2/UwIED9fTTT9dblubiSACSkJBQZw9GcAPyUPKoS0lJidq2batZs2Zp06ZNGjFihIYOHardu3fr4osvtt1c+Omnn8rv9ysjI0OffPKJdu3apaeeekoJCQnW1ei1a9fqX//6l6677joVFxfbuiL379+vsrIyffrpp/rDH/4gj8ejQCCga6+9VtOnT9fEiRM1btw4K4/k5GS98sormjFjhq0h9tBDDykjI0OxsbH68ssvddZZZ8nj8ehXv/qV/vCHP1gHEjNCNxu0wVeGzGAhOTnZyrtLly66/fbb9cEHH+jFF1+0NUCOP/54q2y7d+9WRUWFxo0bp0mTJtluFD377LPVvn1766Tl8/kUFRVlDc8wd9aLLrrIukK9c+dOHXfccbYx6PX5+eef671x0OPx6Oeffw5paPj9fqtxXl1dbQVH3bp1s/Lq1q1byMkyOOiJj4+3rrZKNQf/DRs2qFOnTurSpUu9T8+pfZBs06aNtmzZYvXUBF9FqK6u1vfff2+bv746CV43sbGxiouLs6aZw+nMejAPFPU9IeuSSy7R8OHDbdP8fr8uvPBC202rI0eOVHp6uq3Hy+PxqKyszDrhmevXPBgOHz5ceXl5Vj0HAgGtW7dOLpcrpOcsuCHas2fPkOFZwUGkudzSLzeMm9+3b99enTp1so1Xf/bZZ/XrX/9aPXv2VFxcnK2xsG3bNpWVldl6MU21GxXB3wcCAeuqW+2b3qOionTsscfWewHCzNc8Ppj7qnnFu/Z8wduBuZ0WFRXZeqRGjx5tuypuBvsm82p97WB727Zt1rHokUcesdZV8Djtqqoq67gS3LjxeDy2XsDgfTN4nwh+slCwl19+WT6fzypbcGPM7/db9wQEb7tRUVHWeqh91dXlclnH+uCHKZSXl+u0006z0pk9oJWVlSHbofRLQyh4eWpvC/v27bMN8ws+eZtPbqpd10VFRdq7d6/tGPXOO+8c9OlRJo/Hox9//FHl5eW2bdHsOfj2229tZQ5ujG/dulVjx461/t6wYYOkmvWUmJhoO8cG98KaF9h2795t2y4HDhxonYNrP3xg586d6t+/f8i9PlLNBRi/32+7J0Kyrzvpl32i9rEuWGVlpZVHIBDQ6NGjbTfAm1etZ8+ebTWqawebCQkJtml+v19dunTRww8/bKvj4MCnvidq1e6NHT16dEivoFQTKJoPfQnO1+wFD17u4HN/UVGRtR3XHq9vHgMffPDBkPOR+XfwhZLg/dvtdltBisvlsm3rAwYMsLZt89xp1pe5Psx770x9+/ZVXl6eFVxUVVXZftvtdquiokK7d++W3++3bT+GYdh6f3r16qUPPvjAurfHVPuiWe1tw1zfWVlZGjt2rFwul4qLi0MuFhmGoR9++EFnnXWW7UEtX3/9taRf7ukyey5SU1Oti6l13bj90EMP6cwzz9S4ceOs+jT3yYyMDGVmZqpLly6Ki4uzjovmxaqhQ4daw/bMdkWfPn30yCOPyOfzWcO/SkpKtHv3bu3YsUMzZsxQt27dbPVvPuikXbt21tMFH330UW3evFkvvfSSEhMTNXXqVOXn5+uTTz7R0KFDtWPHDusik9lWnT17ttq1a2ctU2ZmpubMmWMrS3NyJADp0aNHyD0clZWV2rp1a8i9IQfKo7bgPM4880x98MEHWr58ud59910999xzys/Pt66urFu3TjfccIOSk5O1a9curV27VvPnz1eXLl2sGwkrKir0/fffq6qqSqNHj1a/fv1sT6QYPny4pk6dqhtuuEHt2rVTdXW1hg8frunTp2vkyJH6/e9/L6km6qyqqtLf//53+Xw+3XbbbbaxkG+//bakXxo9wVcJKysrrcZu586d5fF4rLozh7xIv9zAfMMNN1gn+cjISE2cOFGrVq3S66+/buvqNXemjz76yMrj+eefV79+/WxX7L/99lv16NHD1o25d+/ekK69BQsWWAeT0aNHa8iQISFjsK+55po6x+jXd7Vy+vTpmjNnTp2NvuADqnl1fuPGjdbB3Vxv9dm2bZttiJjf71dUVJTOPvtsbdmyxbpJvvYV2dpjuBMTE7V3716roVW7N+fHH3+0/W02cGsvU/AJJjo6us4A22womgfq4C7wYOeff35IA1qqecpR8H737LPP2m72dbvd1nIFlyd4aNjbb7+toqIiWyNh/fr12rZt2wHfs2Ie/IOX2wwozKDO/H/r1q22bWLHjh0aNmyYbX1VV1dr3bp16tGjh3Xjutnou+iii5SSkqKLLrpIcXFx6tChQ71Pa6pviFTt7Tv4BsVDYaat750swduFmaa0tFTPPfecNf3nn39WWVmZtb6jo6MVExNj9TSZ9R389BLplwbHn//8Z40cOdJqyJhDVsxx0WZwk5uba80bfHXP/NsUHDRs3LjRNqzSPCGb44hrX3U2T+rmULng9VtaWmqth9r3UgUCAashHdw7UVJSYrtXyOfzWcP96nvQgCTbST24YZ+UlCS/32+ri2A+n0/ffPNNvdu4+SQd04F6coIFXzCRagK2du3aqXfv3lZ+wdvod999Z33etWuXLSAwz4nl5eUqKiqyHceDG73BPfzB6/qDDz5QeXm55s2bF3LvliR9/vnndQ43/eqrr9SvXz/b/mnmHVyGuq6w1j5elpaWWvdzSTWNzdq9ZsnJyRo5cqS1vLUvxNR1cTM3N1c33HBDvft7IBDQzp07lZmZKalmu42IiLDVTyAQsC4oGYZhC75POeUUK63ZxpBqzum1f7N2cGTeb1ff/VbXXHNNyLnUPGaY699sjEuyAkFz26r9WOXg4MDcv2v3WAQPJ5JkvVsi+Kbx4HO5eeP9iSeeaN0kbkpOTraO/5Ksd1OUlZXZeuhqr8fgiy0+n09lZWXWQ3p++ukn9ezZ0/aQldqP5F2yZInOOOMM61zarl07xcTEWBcRzF5y8zhbVVWl+Ph42ygFj8djG60g1QRCZqDx7bffql+/furXr59tW/7666+1bds2/epXv9Lnn38uSfrmm2+0ZcsW9evXT2+88YaOO+44az8z9x2/36/bbrtN/fr1sy4Wbt++XWeffbb1O8uWLVNOTo7OO+88xcXFWdtG7fpbu3atVe/Dhw/XXXfdpU2bNtmehCnVbOvBZWlOjgQgQ4cO1apVq2w3lb3zzjuqrKy0DgCHkodkP6HUzsPtdqtHjx7q0qWLcnJy9O9//1tjx45VTk6OJk+erL59+6pz587avXu3HnjgAevq0jvvvKPq6moZhqGysjItXrxYixcv1vz58xUXF2c1BG+99VZ99913SkhIsBocH330kfr27av777/f9iQMl8ulSy65RPfff7/t6tgTTzyh66+/XpKsccO1b7A2d+affvpJ7du313vvvafKykolJyfbruhUV1erb9++1lUN88ATHR0tj8ej9957T1LNjnX++ecrJydHzz//vOLj49WlSxfdf//9tobnRRddpOLiYp1++ulWw8F8yY/Z22Fe+Zk5c6b1xLDajRBzWEtMTIy8Xq8eeeQRq0FoPtc7mPmd+VSYXr16WdMuv/xyDRw40Dr4x8fHWwf8k08+2bZjBZ8gPB6PzjjjDPXq1cuq79rKysp01llnqVOnTtYN9MHbqGEYtnsjpJoTe3R0tD755BMlJCSEPLLTPIjWXsbaV1mCT1L5+fm2E465jZuPNzSHJpiBa227du3SDz/8EPLkqc6dO+v111+30i1fvtx2xTf4HTV13cAb/D6C4CcM9e7du946Na+81n70sdlbJ/0SzJ1wwgkyDEPXXHONlc7j8ahdu3a2x7Kav3vsscfabmQ0A/XjjjtOu3btUq9evVRSUmLdlGjOV5eIiAj169dPHo9HHo/HFgAec8wx1lW1A+Uh/dIbUfvpObWHp8XHx9semCDV7L///Oc/rbr95JNPbOOp9+/fr2HDhln3MgU/EKK2m266SZdddpl10na73brooous7yMjI9W3b1/b1TypZliPeSXXZK6f4AbBd999Zw17lH5pLJmBuNkTZDZ8a/eUBL+LJyIiIuT74Do2j8vB74c455xzbPdJuVwutW/fXvHx8bYgu/bwwlNOOaXOK+fdu3dXREREnfcFBL/LpPbFksTERLndbm3ZskWBQEAdOnRQVFSU7WEnDzzwgHUvRvDxITIyUpWVlerYsaO2bdtmradLL73Udu+A2RiWZLuRWZItYA0OMtq0aWNrkJj17Xa7bftXsE6dOikiIkKjR48OWf4HHnhAHo/Htt7Mhuwtt9xS58Mdxo4dq8WLF+vYY4+Vy+UK6ZWVfnliY7ApU6ZIqtn3TznlFNtQH6nm+Ld9+3Zr2FpwG6C+ffPss8/WggUL6n0fitm4NnvFKyoqQi5gVVZWWkMdg88FUs153+yJDb5yb26LHo9HGRkZdV40Mo+DdfXYSrLuITB/N/h/M+hu166d1QB2u90KBAJWEBL8MJiKigrbU6lq9xaa59naw8zMc3Hw/hS8z5oPr9i6dauOPfZY5eXlWeuidp0kJyerTZs2SkxMtPUET5kyRccdd5ztd4PvpTIDwnbt2un9999X7969rXNWUlKSAoGAevbsaesx/frrr1VVVSWXy6X8/Hz169fPuhBTWlqqqqoqZWdnKzIyUj/88IMteDKHHJr74WeffWatd5fLpY4dO2rAgAFavHixbch5dHS0Jk+erNtuu01/+MMfrIsRXbt2Vbt27bR48WKdccYZysnJUWpqqt58803t2bNHHTt2tNqaixcv1uTJkyXVPBzl/vvvt6YPHjxYqampmjVrloqLi638hwwZYpv/gQcesLYTs53ZqVMn/fDDD7bAuqyszCpLc3MF6htj0ISKi4s1atQopaamaurUqdqzZ48eeOABDR48WA899JCV7q677tLSpUttN59u2rRJmzZtUmlpqf7whz8oOTlZl156qSoqKrR06VIrjwcffFCnnnqqXnrpJX3yySdKTEzUiBEjdMstt2jMmDGqrq5WZmamXnnlFUVFRalDhw4aPny4oqOjrQ2kXbt2+uc//6k777xTb731lj755BO1adNG11xzjWbNmmW93Mscpy7VnCwuv/xydevWTW+99Zb+/e9/y+12q2/fvpo0aZJuu+02FRcXKzk5WXv37tWdd96p2NhYRUREKC8vT3/729+sBkeXLl20Y8cO62+3260rrrhCzz33nHw+n6ZOnaoXXnjBduI57rjjrKcJ/frXv1ZeXp6OOeYY/f3vf7dtdKeffrq++eYb6ybjCy+8UP/6179sw2aysrL03nvvyePx1HlVKTo6WlVVVUpKSlJeXp5OOukk61HC5lO5JPubSbt37668vDyVlJSoY8eO1njNYBEREbaDe69evayTTVxcXMhVM/P9H8FXa2uPeTd3xB49esjr9YYMjTLTx8fHKzo6Wrt37w7Jo7aDfR+s9g2ftR3szeLmkLx///vfB7yRur5yRUVFye/313lF/nCWw+v1qrq62jq5BQI1L1E6+eSTQ67Em+krKytDGnB1rUeXy6WMjAyddNJJeuGFF2zLbvbwmdq2bVvnU8DMejavzgc/p/9AoqKirAAmPj7eNhQoOjq6zmEXtcverl27kG25dt6Ho127dgoEArblrH01ri5ut9tafnM/atu2bcjjgGuvA/PqaO2Apvb2UftNw/UxjIa/uTwxMdF29byuvFwulxITE237Q+1jR+2/zflq15/L5VJSUpI1tPNQ1d42unfvrm3bttnqp/bxMFhsbKxKS0ttwxHNfaz2EBezUXkg5jCS4HH4Us3jUDt06KDvvvtOkZGR9b69OT09XTk5Obb7FQoLC2UYhk444YSQ46Y57KSu3maznjt37mw1dIOPc3XtM2awtW/fPutqd/A2ajYIzeOBeQyqvT47duxYZ29NfWU8kLq2IVPwdnmgvAzD0NVXX63du3frjTfeaFR5TGZdHup+dqjpIiMjrbd91162uspnBtJSzXGpru0rJiZG5eXl1hC1jIwM/fDDD3K5ah5d3aZNG3Xs2NHWM2wYho455hht37495PfMd1yZv5OammoN1/b5fIqJiVFVVZXVq1FVVaWKigp1795dOTk51jo1yxr8DrHa55p+/fopPz/fNjS1TZs2ioyM1K5du3T66acrJyfHGg42bNgwzZ0710qbnZ1tvdgwKipK06ZN06JFi/TVV19p7Nixevnll+X1enXMMcdYF4n69OmjdevW6aGHHtJnn32mv/3tb0pKSlJGRoZefPFFbdiwQdHR0aqoqNA///lPJSUlWW3euLg4bdiwQXPnztXxxx+vL774wnoT+vvvv6/rrrtO559/vkaPHq2qqiotWrRIa9as0SuvvGLd+L53716r5+axxx5TZGSkdWEgMzMz5EJrU3EkAJFqhiXNmDFDX331laKiojRq1Cjddttttt6BO++8U6+99po1tlWqqYzHH388JD/DMDRu3Dgrj1tvvVWrVq3Snj17FAgEdMcdd+jKK6/Ul19+qQkTJhy0fNOnT9fo0aP16KOP6rXXXrN2xn/+859av359vS80c0JaWpqtTlqa2jch1j4oHsqBMjhNZGRkyCP9jqT4+Hh1795dP/74Y70ncqmmcWG+w6KxTjzxRG3cuPGQGtONafg1VO2GRe3DSM+ePTVgwADb0MP6HKiBdKDGABrucBo+Tc0ci30oQc2REBsbq+rq6gPuy03tSG/HB9qHmkvtwN58gmFzbXfNrTn3ubrULk9zlS8yMlJJSUkqLy+3HrF8oCBeqjnnxcfHy+fzaf/+/VawFDycKjg4j4yMVFlZWZ3Ba7D27dsrPz//kOshJiZGo0ePth6DL9X0Mp1zzjlWeyAhIUFpaWkaPny49RjvuvTt21dr1qzRZ599pvfff18vv/yytmzZon379sntduvyyy/Xtddeaw23Ntu8RUVFSk1N1WWXXaaEhATdfffdVgAi1Qyjfuqpp7R582br6ac33XSTTj/9dOu3V69eXW87+b333qvzfUZNwbEABAAAAACa9TG8AAAAAFoXAhAAAAAAjiEAAQAAAOAYAhAAAAAAjiEAAQAAAOAYAhAAAAAAjiEAAQAAAOAYAhAAAAAAjiEAAYAW6h//+IfS0tKUlpam1atXh3wfCAQ0YsQIpaWlafz48c1QwiNv3rx5evfdd0Omr169ut56AQA0LwIQAGjhYmNj9corr4RM//zzz7V161bFxsY2Q6mc8eSTT9YZgPTu3VsvvfSSevfu3QylAgAcCAEIALRw559/vt5++23t27fPNv2VV15Rnz591KlTp2Yq2eHx+XyqrKxskrzi4uJ06qmnKi4urknyAwA0HQIQAGjhLrjgAknSsmXLrGklJSV6++23NWbMmDrnefzxxzV27Fj1799fffv21ejRo5Wdna1AIGBL99lnn2n8+PEaMGCATj75ZJ111lm68cYbVVZWZqV54YUXdOGFF6pPnz7q06ePRo4cqVmzZh2wzNu2bVNaWpoWLFigOXPmaNiwYcrIyNCqVatUUVGhBx54QBdddJFOO+009e/fX5dddllIT0daWppKS0v12muvWUPRzKFm9Q3Beu+993TZZZfplFNOUZ8+fXT11Vdr7dq1B6lhAEBT8jR3AQAAjRMXF6dzzz1Xr776qi6//HJJNcGIYRg677zztGjRopB5tm/frssuu8zqHfn66681Y8YM7dq1SzfccIOkmiDht7/9rU4//XTdd999SkhI0K5du/Txxx+rqqpK0dHRevPNN3XPPfdo/PjxuuOOO2QYhn766Sdt2rTpkMq+ZMkSHXvssbrjjjsUFxenbt26qbKyUkVFRbrmmmuUkpKiqqoq/fvf/9aNN96o+++/XxdffLEk6aWXXtKVV16pAQMGaOrUqVZd1OeNN97QbbfdpsGDB+vhhx9WZWWlnnrqKY0fP17PPvusTj/99EOucwBAwxGAAMBRYMyYMZowYYI2btyo448/Xq+++qpGjhxZb4P8/vvvtz77/X71799fgf/f3v2EJv3HcRx/qbm1RYOJzqIc1UHaQRITwQpcQX8IBjWhQRA7LNogiP0rgi36B4OiQ7SotiW1GcwIO4xiJNUtioIOrR061XFMRuXBzUL7HQLJn1uZ8Pse9ns+TvL9vv341tuLz+f99ccPjY2N6fjx4zKZTJqenlYmk9GpU6e0efPmfH1TU1P+9du3b1VTU6P+/v78tWAwWHLflZWVikQislqtS/aXzWYVDAaVSqU0OjqaDyBer1dms1k2m01er/e3n5PL5XT58mW53W6NjIzIbP55ACAUCmn37t26cuWKYrFYyX0DAMpHAAGAZSAQCKi+vl7xeFwHDx7U1NSUTp8+vWT9y5cvNTQ0pKmpqaLZkbm5OdntdjU0NMhqterMmTM6fPiw/H6/XC5XQa3H49G9e/fU3d2t/fv3y+fzyWazldz3rl27isKHJE1OTmp0dFQfPnxQOp3OX6+srCx57V99/PhRs7Ozam1tzYcP6ecA/549e3T//n3Nz8+rqqqqrPUBAKUjgADAMmAymdTc3KxoNKpMJqMNGzYseaTo3bt3amtrUyAQ0MWLF7VmzRpZrVY9ffpUt27d0sLCgiSpvr5ed+/e1e3bt3XhwgWl02m5XC4dOXJEra2tkqQDBw4om83qwYMHOnHihHK5nDwejzo7O7V9+/Y/9u1wOIquJRIJdXZ2at++fTp69KjsdrssFovGx8cVj8fL+n0+f/685OfV1dUpl8splUoRQADAAAQQAFgmmpubde3aNcViMXV1dS1Z9/jxY61YsUJDQ0MFOwqLPc7W7/fL7/crm83q/fv3ikajGhgYkN1uzw+/h8NhhcNhpdNpvXnzRoODg2pvb9eTJ0+0bt263/ZsMpmKrk1MTGj9+vW6evVqwf3FZllKVVtbK0lKJpNF92ZnZ2U2m1VTU1P2+gCA0vEULABYJpxOp9ra2rRz5878nMRiTCaTLBZLwVGkhYUFTUxMLPkei8WiLVu26OzZs5Kk6enpoprq6mqFQiF1dHTo+/fvJQ+iL9af1WotCB/JZFLPnj0rqq2oqMjv2PzOxo0b5XQ69ejRo4InfaXTaSUSCXm9XnY/AMAg7IAAwDLS29v7x5pQKKQ7d+6op6dHLS0t+vLliyKRiCoqKgrqxsfH9erVKzU2Nmrt2rXKZDL5I1Dbtm2TJPX392vlypXy+XxyOBxKJpMaHh7W6tWr5fF4yvoOjY2NSiQSOnfunPbu3auZmRnduHFDdXV1+vTpU0Gt2+3W69ev9fz5czkcDq1atUqbNm0qWtNsNuvkyZPq7e1Ve3u7Wlpa9O3bN0UiEaVSKfX09JTVKwDg7xFAAOB/JhgMamBgQCMjI+ro6JDT6dShQ4dks9nU19eXr2toaNCLFy80ODioZDKp6upqud1u3bx5Uzt27JD084jWw4cPNTk5qa9fv6q2tlZbt27VpUuX/moY/VfhcFhzc3OKxWKKx+NyuVw6duyYZmZmdP369YLavr4+nT9/Xt3d3Zqfn1cgEFA0Gl103aamJlVVVWl4eFhdXV35XZ2xsTH5fL6yegUA/D3Tj3//6xQAAAAA/EeYAQEAAABgGAIIAAAAAMMQQAAAAAAYhgACAAAAwDAEEAAAAACGIYAAAAAAMAwBBAAAAIBhCCAAAAAADEMAAQAAAGAYAggAAAAAwxBAAAAAABiGAAIAAADAMAQQAAAAAIYhgAAAAAAwDAEEAAAAgGEIIAAAAAAMQwABAAAAYBgCCAAAAADDEEAAAAAAGOYfyl+z5MbdXbAAAAAASUVORK5CYII=' width=800.0/>\n",
       "            </div>\n",
       "        "
      ],
      "text/plain": [
       "Canvas(toolbar=Toolbar(toolitems=[('Home', 'Reset original view', 'home', 'home'), ('Back', 'Back to previous …"
      ]
     },
     "metadata": {},
     "output_type": "display_data"
    }
   ],
   "source": [
    "# TODO: this isnt quite what im looking for, want to plot number of Stars in each bin associated with its q value\n",
    "# so i guess im looking for this but collapsed in the y direction? or binned together by x value?\n",
    "\n",
    "plt.figure()\n",
    "\n",
    "seaborn.barplot(x=np.array(qs)[sort_idx], y=bs.Nj_shifted[bs.bin_mask][sort_idx])\n",
    "\n",
    "plt.xlabel(\"Mass ratio\")\n",
    "plt.ylabel(\"Count\")\n",
    "plt.title(\"Mass ratio Distribution\")"
   ]
  },
  {
   "cell_type": "code",
   "execution_count": 34,
   "id": "9865905e-287d-4330-88c8-da66f9deeb64",
   "metadata": {},
   "outputs": [],
   "source": [
    "q_vals = [0.1, 0.2, 0.3, 0.4, 0.5, 0.6, 0.7, 0.8, 0.9, 1.0]\n",
    "idxs = np.digitize(qs, bins=q_vals)"
   ]
  },
  {
   "cell_type": "code",
   "execution_count": 35,
   "id": "adee7a11-6240-476a-bf05-cda22d39ed61",
   "metadata": {},
   "outputs": [
    {
     "data": {
      "text/plain": [
       "array([ 1,  2,  2,  1,  2,  2,  2,  3,  3,  2,  3,  2,  3,  2,  3,  3,  4,\n",
       "        3,  3,  4,  3,  4,  3,  5,  5,  5,  5,  5,  4,  5,  4,  5,  5,  7,\n",
       "        5,  5,  5,  5,  5,  6,  6,  7,  7,  7,  7,  7,  8,  6,  7,  6, 10,\n",
       "        7,  7,  7,  7,  8,  8,  7,  7, 10, 10, 10, 10, 10,  8,  8,  8,  8,\n",
       "       10, 10, 10, 10, 10, 10, 10, 10, 10])"
      ]
     },
     "execution_count": 35,
     "metadata": {},
     "output_type": "execute_result"
    }
   ],
   "source": [
    "idxs"
   ]
  },
  {
   "cell_type": "code",
   "execution_count": 36,
   "id": "b2928bd2-9393-498f-bc6d-84bbd24dbbdf",
   "metadata": {},
   "outputs": [],
   "source": [
    "Nstars_per_q = np.zeros_like(q_vals)\n",
    "\n",
    "for i, N in enumerate(bs.Nj_shifted[bs.bin_mask]):\n",
    "    Nstars_per_q[idxs[i] - 1] += N"
   ]
  },
  {
   "cell_type": "code",
   "execution_count": 37,
   "id": "251b61f0-b924-464e-9fb9-186371258ab7",
   "metadata": {},
   "outputs": [],
   "source": [
    "data = np.array([q_vals, Nstars_per_q])\n",
    "# data = np.array([qs,bs.Nj_shifted[bs.bin_mask]])"
   ]
  },
  {
   "cell_type": "code",
   "execution_count": 38,
   "id": "a047122d-5e2f-454c-bd2f-489872e1e988",
   "metadata": {},
   "outputs": [
    {
     "data": {
      "text/plain": [
       "array([[1.00000000e-01, 2.00000000e-01, 3.00000000e-01, 4.00000000e-01,\n",
       "        5.00000000e-01, 6.00000000e-01, 7.00000000e-01, 8.00000000e-01,\n",
       "        9.00000000e-01, 1.00000000e+00],\n",
       "       [8.12962302e+02, 3.60723845e+03, 5.10379962e+03, 2.14101741e+03,\n",
       "        7.20446551e+03, 1.42511214e+03, 7.38100244e+03, 2.65739481e+03,\n",
       "        0.00000000e+00, 8.13283007e+03]])"
      ]
     },
     "execution_count": 38,
     "metadata": {},
     "output_type": "execute_result"
    }
   ],
   "source": [
    "data"
   ]
  },
  {
   "cell_type": "code",
   "execution_count": 39,
   "id": "0c3c8501-1e67-4acb-9f7d-be90c26e07fe",
   "metadata": {},
   "outputs": [
    {
     "data": {
      "text/plain": [
       "<AxesSubplot:>"
      ]
     },
     "execution_count": 39,
     "metadata": {},
     "output_type": "execute_result"
    },
    {
     "data": {
      "application/vnd.jupyter.widget-view+json": {
       "model_id": "a101338a194748a6ba03634aeb8095fb",
       "version_major": 2,
       "version_minor": 0
      },
      "text/html": [
       "\n",
       "            <div style=\"display: inline-block;\">\n",
       "                <div class=\"jupyter-widgets widget-label\" style=\"text-align: center;\">\n",
       "                    Figure\n",
       "                </div>\n",
       "                <img src='data:image/png;base64,iVBORw0KGgoAAAANSUhEUgAAAyAAAAJYCAYAAACadoJwAAAAOXRFWHRTb2Z0d2FyZQBNYXRwbG90bGliIHZlcnNpb24zLjQuMywgaHR0cHM6Ly9tYXRwbG90bGliLm9yZy/MnkTPAAAACXBIWXMAAA9hAAAPYQGoP6dpAABIVklEQVR4nO3dfXhU9Z3//9fMwBAgGSCKZImFQmiyDEZMuppwiQxF2VpJqmzElQukRcDlppZaakuXQMuNKK0kjciNobGXsHSraYW2SGxtWSJbxO3XULpFa5uhP0FMuVHDIQFyM3N+f3BldAgrkEw+k5w8H9fFFXLmPSfv95xJyIvPOTMu27ZtAQAAAIAB7ng3AAAAAKD7IIAAAAAAMIYAAgAAAMAYAggAAAAAYwggAAAAAIwhgAAAAAAwhgACAAAAwBgCCAAAAABjCCAAAAAAjCGAAAAAADCGAAIAAADAGAIIAAAAAGMIIAAAAACMIYAAAAAAMIYAAgAAAMAYAggAAAAAYwggAAAAAIwhgAAAAAAwhgACAAAAwBgCCAAAAABjCCAAAAAAjCGAAAAAADCGAAIAAADAGAIIAAAAAGMIIAAAAACMIYAAAAAAMIYAAgAAAMAYAggAAAAAYwggAAAAAIwhgAAAAAAwhgACAAAAwBgCCAAAAABjCCAAAAAAjCGAAAAAADCGAAIAAADAGAIIAAAAAGMIIAAAAACMIYAAAAAAMIYAAgAAAMAYAggAAAAAYwggAAAAAIwhgAAAAAAwhgACAAAAwBgCCAAAAABjCCAAAAAAjCGAAAAAADCGAAIAAADAGAIIAAAAAGMIIAAAAACMIYAAAAAAMIYAAgAAAMAYAggAAAAAYwggAAAAAIwhgAAAAAAwhgACAAAAwBgCCAAAAABjCCAAAAAAjCGAAAAAADCGAAIAAADAGAIIAAAAAGMIIAAAAACMIYAAAAAAMIYAAgAAAMAYAggAAAAAYwggAAAAAIwhgAAAAAAwhgACAAAAwBgCCAAAAABjCCAAAAAAjCGAAAAAADCGAAIAAADAmB7xbgDRbNtWOGzHuw0AAABcgtvtksvlincbXRoBpJMJh2198EF9vNsAAADAJSQn95XHQwBpD07BAgAAAGAMAQQAAACAMQQQAAAAAMYQQAAAAAAYQwABAAAAYAwBBAAAAIAxBBAAAAAAxhBAAAAAABhDAAEAAABgDAEEAAAAgDEEEAAAAADGEEAAAAAAGEMAAQAAAGAMAQQAAACAMQQQAAAAAMYQQAAAAAAYQwABAAAAYAwBBAAAAIAxBBAAAAAAxvSIdwMAAABwFrfbJbfbFe822i0cthUO2/Fuw3EIIAAAAIgZt9ul/gP6yOPu+ifahMJh1X54lhASY44JIL/5zW/0zDPPKBgMKiEhQdnZ2fr617+u4cOHR9VVVlaquLhYwWBQKSkp+vKXv6xp06a12l9ZWZm2bdumkydPKj09Xd/85jeVk5MTVVNXV6fvfe97+tWvfqXGxkbl5ORo6dKlSk1N7dBZAQAAOiu32yWP263/+P1bOn7mbLzbabNBSX00/eaRcrtdBJAYc0QA2bdvn77yla/oi1/8or72ta/Jsiw9/fTTmjlzpl566SUlJiZKkg4cOKD58+fr7rvv1uLFi1VVVaVVq1bJ6/VqypQpkf2VlZWpuLhYjzzyiPx+v8rLyzVnzhyVl5crIyMjUrdo0SIdOnRIS5cuVWJiop566inNnDlTv/jFL5SQkGD8cQAAAOgsjp85q2On6+LdBjohRwSQl156SYMHD9aaNWvkcl043zA1NVVTpkzRG2+8oUAgIElav369/H6/Vq9eLUnKzc1VTU2NSkpKVFBQILfbrcbGRm3cuFEzZszQrFmzJEm33HKL8vPztWnTJhUXF0uSDh48qD179qi0tDSy//T0dE2cOFHbt2/X1KlTTT8MAAAAQKfX9U/Ok9Tc3Ky+fftGwockJSUlRdU0NjZq//79mjRpUtT2/Px8nTx5Um+++aYkqaqqSmfOnFFeXl6kxuPx6K677lJlZaVs+8ISXGVlpXw+n8aNGxepGzx4sLKzs1VZWRnzGQEAAAAncEQAuffee3X48GFt3bpVlmXp3Xff1Zo1a5SWlqYxY8ZIko4cOaKmpqZW14SMGDFCkhQMBqM+XlyXlpam+vp6HT9+PFI3bNiwqNDTsr+WfQAAAACI5ohTsG6++WY9/fTTWrRokVatWiXpQhB49tln5fV6JUmnT5+WJPl8vqj7tnzecrtlWfJ6va2u4ejXr58kqba2VikpKbIsq9UqS8v+WvbVVj16OCIXAgCAbsjjcdbvMU6bpzNwRACpqqrSo48+qoKCAk2YMEF1dXXatGmT5syZo//8z/+MXIQuqdWKxaW2X6qm5dSry9V90vYr4Xa7NGBA3zbfHwAAALHj8/WOdwuO44gAsmrVKuXm5mrJkiWRbZ/97Gc1btw4lZeXa+bMmZEVjItXJyzLkvTRSojP51NDQ4MaGhrUq1evVnUt+/H5fKqpqWnVi2VZrVZZrkY4bMuyuu5L1gEAgO7N43E76pd2yzqnUCgc+dzn682qSDs5IoAEg0FNmDAhaltycrKuu+46HTlyRJI0ZMgQ9ezZU4cPH466cLy6ulrShWs8Pv4xGAzK7/dHfY2+fftq0KBBkbp9+/bJtu2oFY/q6urIPtqquTl8+SIAAAB0uFAozO9mMeaI+DZ48GAdOnQoatvJkyd14sSJyJsCer1e5ebmqqKiIqpu586dGjhwYCRsZGdnKykpSbt27YrUhEIhVVRUKBAIRMJGIBCQZVnau3dvpK6mpkZVVVWRl+UFAAAAEM0RKyDTpk3TypUrtWLFCt1+++2yLEvPPPOM+vTpoy9+8YuRugULFmj69OkqLCxUfn6+qqqqVF5erhUrVsjtvpDFvF6v5s2bp+LiYiUnJ0feiPDo0aMqKiqK7Gv06NEaP368lixZosWLFysxMVElJSVKTU3V5MmTjT8GAAAAQFfgsluuru7CbNvWCy+8oB//+Mc6cuSI+vTpo8zMTD3yyCNR71wuXXj/jqKiIgWDQaWkpGjmzJmaNm1aq/2VlZVp27ZtOnXqlNLT0/Xoo48qNzc3qq6urk5r1qzRr371KzU1NSknJ0dLly6NrLq0RSgU1gcf1Lf5/gAAAPHUo4dbAwb01drdb3Tpd0JP7ZeoRRM+qw8/rI86BSs5uS/XgLSTIwKIkxBAAABAV0YAweXw6AEAAAAwhgACAAAAwBgCCAAAAABjCCAAAAAAjCGAAAAAADCGAAIAAADAGAIIAAAAAGMIIAAAAACMIYAAAAAAMIYAAgAAAMAYAggAAAAAYwggAAAAAIwhgAAAAAAwhgACAAAAwBgCCAAAAABjCCAAAAAAjCGAAAAAADCGAAIAAADAGAIIAAAAAGMIIAAAAACMIYAAAAAAMIYAAgAAAMAYAggAAAAAYwggAAAAAIwhgAAAAAAwhgACAAAAwJge8W4AAIDuxO12ye12xbuNdguHbYXDdrzbANAFEUAAADDE7XZpwIA+cru7/gkI4XBYH354lhAC4KoRQAAAMOTC6odb77zypho+PBvvdtqs14A+GjrRL7fbRQABcNUIIAAAGNbw4VmdO1UX7zYAIC66/howAAAAgC6DAAIAAADAGAIIAAAAAGMIIAAAAACMIYAAAAAAMIZXwQKAOOON6QAA3QkBBADiyO12qX//PvJ4uv6CdCgUVm0tb0wHAPhkBBAAiCO32yWPx62fv/C6Tp08E+922uzagUm6+74c3pgOAHBZBBAA6AROnTyj4+/VxrsNAAA6XNdf8wcAAADQZRBAAAAAABjjiADywAMPKCMj45J/XnrppUhdZWWl7rnnHmVmZmrixInatm3bJfdXVlamCRMmKDMzUwUFBXr99ddb1dTV1WnZsmXKyclRVlaW5s6dq2PHjnXYjAAAAIATOOIakO985zuqq6uL2vbcc8/p17/+tcaMGSNJOnDggObPn6+7775bixcvVlVVlVatWiWv16spU6ZE7ldWVqbi4mI98sgj8vv9Ki8v15w5c1ReXq6MjIxI3aJFi3To0CEtXbpUiYmJeuqppzRz5kz94he/UEJCgpnBAQAAgC7GEQFkxIgRrbYtWrRIt956q5KTkyVJ69evl9/v1+rVqyVJubm5qqmpUUlJiQoKCuR2u9XY2KiNGzdqxowZmjVrliTplltuUX5+vjZt2qTi4mJJ0sGDB7Vnzx6VlpYqEAhIktLT0zVx4kRt375dU6dONTE2AAAA0OU44hSsi1VVVendd99Vfn6+JKmxsVH79+/XpEmToury8/N18uRJvfnmm5H7nTlzRnl5eZEaj8eju+66S5WVlbLtCy8tWVlZKZ/Pp3HjxkXqBg8erOzsbFVWVnb0eAAAAECX5cgAsnPnTvXu3Vu33367JOnIkSNqamrS8OHDo+paVk6CwWDUx4vr0tLSVF9fr+PHj0fqhg0bJpcr+p2LR4wYEdkHAAAAgNYccQrWxzU3N+vll1/W7bffrj59+kiSTp8+LUny+XxRtS2ft9xuWZa8Xm+razj69esnSaqtrVVKSoosy1JSUlKrr+3z+SL7ao8ePRyZCwFcghPeAf3jnDZPrDnt8XHaPIgNpz0vnDZPZ+C4APK73/1O77//ftRpVC0uXrG41PZL1bScenW5uk/afqXcbpcGDOjbrn0AQLz4fL3j3QIM4nijO+B5HnuOCyA7d+5U//79NXbs2Mi2lhWMi1cnLMuS9NFKiM/nU0NDgxoaGtSrV69WdS378fl8qqmpafW1LctqtcpytcJhW5Z1tl37ANB1eDxuR/3jZlnnFAqF491Gp8XxRnfg9Oe5z9ebVZF2clQAOX/+vH77298qPz9fPXv2jGwfMmSIevbsqcOHD0ddOF5dXS3pwjUeH/8YDAbl9/sjdcFgUH379tWgQYMidfv27ZNt21ErHtXV1ZF9tEdzMz/MAXRNoVCYn2HdCMcb3QHP89hzVHzbvXu36uvrI69+1cLr9So3N1cVFRVR23fu3KmBAwdGwkZ2draSkpK0a9euSE0oFFJFRYUCgUAkbAQCAVmWpb1790bqampqVFVVFXlZXgAAAACtOWoF5Je//KUGDx6sz372s61uW7BggaZPn67CwkLl5+erqqpK5eXlWrFihdzuCznM6/Vq3rx5Ki4uVnJycuSNCI8ePaqioqLIvkaPHq3x48dryZIlWrx4sRITE1VSUqLU1FRNnjzZ2LwAAABAV+OYAHL69Gnt3btXX/rSly55IXhWVpY2bNigoqIi7dixQykpKSosLIx6F3RJevDBB2XbtrZu3apTp04pPT1dpaWlUe+CLklr167VmjVrtHz5cjU1NSknJ0fr1q3jXdABAACAT+CYANKvXz/96U9/+sSaQCBw2VOkXC6XZs+erdmzZ39iXWJiolauXKmVK1deda8AAABAd+Woa0AAAAAAdG4EEAAAAADGEEAAAAAAGEMAAQAAAGAMAQQAAACAMQQQAAAAAMYQQAAAAAAYQwABAAAAYAwBBAAAAIAxBBAAAAAAxhBAAAAAABhDAAEAAABgDAEEAAAAgDEEEAAAAADGEEAAAAAAGEMAAQAAAGAMAQQAAACAMQQQAAAAAMYQQAAAAAAYQwABAAAAYAwBBAAAAIAxBBAAAAAAxhBAAAAAABhDAAEAAABgDAEEAAAAgDEEEAAAAADGEEAAAAAAGEMAAQAAAGAMAQQAAACAMQQQAAAAAMYQQAAAAAAYQwABAAAAYAwBBAAAAIAxBBAAAAAAxhBAAAAAABhDAAEAAABgDAEEAAAAgDEEEAAAAADGEEAAAAAAGEMAAQAAAGAMAQQAAACAMY4KIOXl5friF7+ozMxMjRkzRnPnzo26vbKyUvfcc48yMzM1ceJEbdu27ZL7KSsr04QJE5SZmamCggK9/vrrrWrq6uq0bNky5eTkKCsrS3PnztWxY8c6ZC4AAADAKRwTQNatW6cnnnhC+fn5Kisr04oVK3TddddFbj9w4IDmz58vv9+vzZs3a/LkyVq1apXKy8uj9lNWVqbi4mJNmzZNpaWlGjp0qObMmaO33347qm7RokXavXu3li5dquLiYp04cUIzZ87U+fPnjcwLAAAAdEU94t1ALASDQW3cuFGlpaUaO3ZsZPvEiRMjf1+/fr38fr9Wr14tScrNzVVNTY1KSkpUUFAgt9utxsZGbdy4UTNmzNCsWbMkSbfccovy8/O1adMmFRcXS5IOHjyoPXv2qLS0VIFAQJKUnp6uiRMnavv27Zo6daqp0QEAAIAuxRErIC+++KI+9alPRYWPj2tsbNT+/fs1adKkqO35+fk6efKk3nzzTUlSVVWVzpw5o7y8vEiNx+PRXXfdpcrKStm2LenCqVw+n0/jxo2L1A0ePFjZ2dmqrKyM9XgAAACAYzgigBw8eFDp6elav369xowZoxtuuEHTp0/XW2+9JUk6cuSImpqaNHz48Kj7jRgxQtKFFZSPf7y4Li0tTfX19Tp+/HikbtiwYXK5XK3217IPAAAAAK054hSskydP6tChQ/rrX/+q5cuXq2fPnnr66ac1c+ZM/frXv9bp06clST6fL+p+LZ+33G5ZlrxerxISEqLq+vXrJ0mqra1VSkqKLMtSUlJSqz58Pl9kX+3Ro4cjciGAK+DxOOv73WnzxJrTHh+nzYPYcNrzwmnzdAaOCCC2bevs2bNat26dPvOZz0iSRo0apdtvv13PP/+8srOzJanVikWLj2+/VE3LqVeXq/uk7VfK7XZpwIC+7doHAMSLz9c73i3AII43ugOe57HniADSr18/XXvttZHwIUnXXXedhg8frurqan3uc5+TpFarE5ZlSfpoJcTn86mhoUENDQ3q1atXq7qWlRCfz6eamppWfViW1WqV5WqFw7Ys62y79gGg6/B43I76x82yzikUCse7jU6L443uwOnPc5+vN6si7eSIAJKWlqb33nuv1XbbtuV2uzVkyBD17NlThw8fjrpwvLq6OnL/j38MBoPy+/2RumAwqL59+2rQoEGRun379sm27agVj+rq6sg+2qO5mR/mALqmUCjMz7BuhOON7oDneew5Ir6NHz9ep06d0l/+8pfItuPHj+vw4cPKyMiQ1+tVbm6uKioqou63c+dODRw4MBI2srOzlZSUpF27dkVqQqGQKioqFAgEImEjEAjIsizt3bs3UldTU6OqqqrIy/ICAAAAaM0RKyATJ07UqFGj9PDDD2vhwoXyer1av369kpOTdd9990mSFixYoOnTp6uwsFD5+fmqqqpSeXm5VqxYIbf7Qg7zer2aN2+eiouLlZycLL/fr/Lych09elRFRUWRrzd69GiNHz9eS5Ys0eLFi5WYmKiSkhKlpqZq8uTJcXkMAAAAgK7AEQHE4/Fo8+bNWr16tZYtW6bm5mbdfPPNWrt2rfr06SNJysrK0oYNG1RUVKQdO3YoJSVFhYWFmjJlStS+HnzwQdm2ra1bt+rUqVNKT09XaWmpMjIyourWrl2rNWvWaPny5WpqalJOTo7WrVvX6hW0AAAAAHzEZbe8xBM6hVAorA8+qI93GwAM6dHDrQED+qps/W90/L3aeLfTZoMG99esBXfoww/rOVf6E7Qc77+88P907lRdvNtps97XJir9vn/ieOOSWp7na3e/oWOnu+7zPLVfohZN+Gyr53lycl8uQm8nHj0AAAAAxhBAAAAAABhDAAEAAABgDAEEAAAAgDEEEAAAAADGEEAAAAAAGEMAAQAAAGAMAQQAAACAMQQQAAAAAMYQQAAAAAAYQwABAAAAYAwBBAAAAIAxBBAAAAAAxhBAAAAAABhDAAEAAABgDAEEAAAAgDEEEAAAAADGEEAAAAAAGEMAAQAAAGAMAQQAAACAMQQQAAAAAMYQQAAAAAAYQwABAAAAYAwBBAAAAIAxBBAAAAAAxhBAAAAAABhDAAEAAABgDAEEAAAAgDEEEAAAAADGEEAAAAAAGEMAAQAAAGAMAQQAAACAMQQQAAAAAMYQQAAAAAAYQwABAAAAYAwBBAAAAIAxBBAAAAAAxhBAAAAAABhDAAEAAABgDAEEAAAAgDEEEAAAAADGOCKAvPjii8rIyGj158knn4yqq6ys1D333KPMzExNnDhR27Ztu+T+ysrKNGHCBGVmZqqgoECvv/56q5q6ujotW7ZMOTk5ysrK0ty5c3Xs2LEOmQ/dj9vtUo8e7i7/x+12xfuhBAAAnUyPeDcQSz/84Q+VlJQU+XzQoEGRvx84cEDz58/X3XffrcWLF6uqqkqrVq2S1+vVlClTInVlZWUqLi7WI488Ir/fr/Lycs2ZM0fl5eXKyMiI1C1atEiHDh3S0qVLlZiYqKeeekozZ87UL37xCyUkJJgZGI7kdrvUf0BvedyeeLfSbqFwSLUfnlM4bMe7FQAA0Ek4KoCMGjVKycnJl7xt/fr18vv9Wr16tSQpNzdXNTU1KikpUUFBgdxutxobG7Vx40bNmDFDs2bNkiTdcsstys/P16ZNm1RcXCxJOnjwoPbs2aPS0lIFAgFJUnp6uiZOnKjt27dr6tSpBqaFU7ndLnncHj1TuUXvnT4e73babHC/Qfq3wAy53S4CCAAAiHBUAPm/NDY2av/+/frGN74RtT0/P18vvPCC3nzzTd1www2qqqrSmTNnlJeXF6nxeDy666679Oyzz8q2bblcLlVWVsrn82ncuHGRusGDBys7O1uVlZUEEMTEe6eP65333413GwAAADHliGtAWuTl5WnkyJG6/fbb9cwzzygUCkmSjhw5oqamJg0fPjyqfsSIEZKkYDAY9fHiurS0NNXX1+v48eORumHDhsnlij6/fcSIEZF9AAAAAGjNESsgAwcO1MMPP6zRo0fL5XJp9+7d+sEPfqDjx49r2bJlOn36tCTJ5/NF3a/l85bbLcuS1+ttdQ1Hv379JEm1tbVKSUmRZVlR15p8fH8t+2qPHj0clQtxlTweZx1/p80Ta057fJw2T6w57fFx2jyIDac9L5w2T2fgiABy22236bbbbot8PnbsWPXq1UvPPfec5s6dG9l+8YrFpbZfqsa27Suq+6TtV8rtdmnAgL7t2gfQmfh8vePdAgzieHcvHG90BzzPY88RAeRSvvCFL+jZZ5/VW2+9pdTUVElqtTphWZakj1ZCfD6fGhoa1NDQoF69erWqa1kJ8fl8qqmpafU1LctqtcpytcJhW5Z1tl37QNfm8bgd9cPOss4pFArHu41Oi+PdvXC80R04/Xnu8/VmVaSdHBtAPm7IkCHq2bOnDh8+HHXheHV1taQL13h8/GMwGJTf74/UBYNB9e3bN/Kyvmlpadq3b1/kovSP769lH+3R3MwPczhHKBTmOd2NcLy7F443ugOe57Hn2Pi2a9cueTwe+f1+eb1e5ebmqqKiIqpm586dGjhwYCRsZGdnKykpSbt27YrUhEIhVVRUKBAIRMJGIBCQZVnau3dvpK6mpkZVVVWRl+UFAAAA0JojVkBmzZql3NxcpaenS5J++9vf6oUXXtCMGTM0cOBASdKCBQs0ffp0FRYWKj8/X1VVVSovL9eKFSvkdl/IYV6vV/PmzVNxcbGSk5Mjb0R49OhRFRUVRb7e6NGjNX78eC1ZskSLFy9WYmKiSkpKlJqaqsmTJ5t/AAAAAIAuwhEBZNiwYfrpT3+qv//97wqHw/r0pz+tf//3f9cDDzwQqcnKytKGDRtUVFSkHTt2KCUlRYWFhVHvgi5JDz74oGzb1tatW3Xq1Cmlp6ertLQ06l3QJWnt2rVas2aNli9frqamJuXk5GjdunW8CzoAAADwCRwRQAoLC6+oLhAIXPYUKZfLpdmzZ2v27NmfWJeYmKiVK1dq5cqVV9wnAAAA0N059hoQAAAAAJ0PAQQAAACAMQQQAAAAAMYQQAAAAAAYQwABAAAAYAwBBAAAAIAxBBAAAAAAxhBAAAAAABhDAAEAAABgDAEEAAAAgDEEEAAAAADGEEAAAAAAGEMAAQAAAGAMAQQAAACAMQQQAAAAAMYQQAAAAAAYQwABAAAAYAwBBAAAAIAxBBAAAAAAxhBAAAAAABhDAAEAAABgDAEEAAAAgDEEEAAAAADGEEAAAAAAGEMAAQAAAGAMAQQAAACAMQQQAAAAAMYQQAAAAAAYQwABAAAAYAwBBAAAAIAxBBAAAAAAxhBAAAAAABhDAAEAAABgDAEEAAAAgDEEEAAAAADGEEAAAAAAGEMAAQAAAGAMAQQAAACAMQQQAAAAAMYQQAAAAAAYQwABAAAAYAwBBAAAAIAxjgwg9fX1GjdunDIyMvS///u/UbdVVlbqnnvuUWZmpiZOnKht27Zdch9lZWWaMGGCMjMzVVBQoNdff71VTV1dnZYtW6acnBxlZWVp7ty5OnbsWIfMBAAAADiBIwPIhg0bFAqFWm0/cOCA5s+fL7/fr82bN2vy5MlatWqVysvLo+rKyspUXFysadOmqbS0VEOHDtWcOXP09ttvR9UtWrRIu3fv1tKlS1VcXKwTJ05o5syZOn/+fIfOBwAAAHRVjgsgwWBQP/7xj/Xwww+3um39+vXy+/1avXq1cnNzNX/+fN17770qKSlROByWJDU2Nmrjxo2aMWOGZs2apTFjxuj73/++rr/+em3atCmyr4MHD2rPnj167LHHlJeXp/Hjx+vpp5/WsWPHtH37dmPzAgAAAF2J4wLIY489pvvvv1/Dhg2L2t7Y2Kj9+/dr0qRJUdvz8/N18uRJvfnmm5KkqqoqnTlzRnl5eZEaj8eju+66S5WVlbJtW9KFU7l8Pp/GjRsXqRs8eLCys7NVWVnZUeMBAAAAXZqjAsjLL7+sP//5z1qwYEGr244cOaKmpiYNHz48avuIESMkXVg5+fjHi+vS0tJUX1+v48ePR+qGDRsml8vVan8t+wAAAAAQrUe8G4iVc+fO6YknntDXv/51JSYmtrr99OnTkiSfzxe1veXzltsty5LX61VCQkJUXb9+/SRJtbW1SklJkWVZSkpKavV1fD5fZF9t1aOHo3IhrpLH46zj77R5Ys1pj4/T5ok1pz0+TpsHseG054XT5ukMHBNANm7cqGuuuUb/8i//8ol1F69YXGr7pWpaTr26XN0nbb8SbrdLAwb0bfP9gc7G5+sd7xZgEMe7e+F4ozvgeR57jgggx44d07PPPqv169errq5OknT27NnIx/r6+sgKxsWrE5ZlSfpoJcTn86mhoUENDQ3q1atXq7qW/fh8PtXU1LTqxbKsVqssVyMctmVZZ9t8f3R9Ho/bUT/sLOucQqFwvNvotDje3QvHG92B05/nPl9vVkXayREB5N1331VTU5MeeuihVrfNmDFDo0eP1n/8x3+oZ8+eOnz4cNSF49XV1ZIuXOPx8Y/BYFB+vz9SFwwG1bdvXw0aNChSt2/fPtm2HbXiUV1dHdlHWzU388MczhEKhXlOdyMc7+6F443ugOd57Dkivo0cOVJbtmyJ+vPtb39bkrR8+XJ95zvfkdfrVW5urioqKqLuu3PnTg0cODASNrKzs5WUlKRdu3ZFakKhkCoqKhQIBCJhIxAIyLIs7d27N1JXU1OjqqoqBQKBjh4ZAAAA6JIcsQLi8/mUk5NzydtGjRqlUaNGSZIWLFig6dOnq7CwUPn5+aqqqlJ5eblWrFght/tCFvN6vZo3b56Ki4uVnJwsv9+v8vJyHT16VEVFRZH9jh49WuPHj9eSJUu0ePFiJSYmqqSkRKmpqZo8eXLHDw0AAAB0QY4IIFcqKytLGzZsUFFRkXbs2KGUlBQVFhZqypQpUXUPPvigbNvW1q1bderUKaWnp6u0tFQZGRlRdWvXrtWaNWu0fPlyNTU1KScnR+vWrWv1CloAAAAALnBsAMnJydHbb7/dansgELjsKVIul0uzZ8/W7NmzP7EuMTFRK1eu1MqVK9vVKwAAANBdOOIaEAAAAABdAwEEAAAAgDEEEAAAAADGEEAAAAAAGEMAAQAAAGAMAQQAAACAMQQQAAAAAMYQQAAAAAAYQwABAAAAYAwBBAAAAIAxBBAAAAAAxhBAAAAAABhDAAEAAABgTI94NwB8ErfbJbfbFe822i0cthUO2/FuAwAAIO4IIOi03G6XBgzoLbfbE+9W2i0cDunDD88RQgAAQLdHAEGndWH1w6O/7dysc+/XxLudNut9zT9oWN4cud0uAggAAOj2CCDo9M69X6Nzx4/Euw0AAADEABehAwAAADCGAAIAAADAGAIIAAAAAGMIIAAAAACMIYAAAAAAMIYAAgAAAMAYAggAAAAAYwggAAAAAIwhgAAAAAAwhgACAAAAwBgCCAAAAABjCCAAAAAAjCGAAAAAADCGAAIAAADAGAIIAAAAAGMIIAAAAACMIYAAAAAAMIYAAgAAAMAYAggAAAAAYwggAAAAAIwhgAAAAAAwhgACAAAAwBgCCAAAAABjCCAAAAAAjHFEANm7d6+mT5+u3Nxc3XDDDbr99tv1+OOP68yZM1F1lZWVuueee5SZmamJEydq27Ztl9xfWVmZJkyYoMzMTBUUFOj1119vVVNXV6dly5YpJydHWVlZmjt3ro4dO9Yh8wEAAABO4YgAcvr0aWVlZWnlypUqKyvTzJkztWPHDi1cuDBSc+DAAc2fP19+v1+bN2/W5MmTtWrVKpWXl0ftq6ysTMXFxZo2bZpKS0s1dOhQzZkzR2+//XZU3aJFi7R7924tXbpUxcXFOnHihGbOnKnz588bmRkAAADoinrEu4FYyMvLU15eXuTznJwceb1eLV26VMePH9egQYO0fv16+f1+rV69WpKUm5urmpoalZSUqKCgQG63W42Njdq4caNmzJihWbNmSZJuueUW5efna9OmTSouLpYkHTx4UHv27FFpaakCgYAkKT09XRMnTtT27ds1depUw48AAAAA0DU4YgXkUvr37y9Jam5uVmNjo/bv369JkyZF1eTn5+vkyZN68803JUlVVVU6c+ZMVJjxeDy66667VFlZKdu2JV04lcvn82ncuHGRusGDBys7O1uVlZUdPBkAAADQdTkqgIRCITU0NOjQoUNav369Pve5zyk1NVVHjhxRU1OThg8fHlU/YsQISVIwGIz6eHFdWlqa6uvrdfz48UjdsGHD5HK5Wu2vZR8AAAAAWnPEKVgtPve5z0VCwm233aaioiJJF64RkSSfzxdV3/J5y+2WZcnr9SohISGqrl+/fpKk2tpapaSkyLIsJSUltfr6Pp8vsq/26NHDUbmwzTweZz0OVzpPd527u3La4+O0eWLNaY+P0+ZBbDjteeG0eToDRwWQ0tJSnT17VtXV1dqwYYPmzp2rH/3oR5HbL16xuNT2S9W0nHp1ubpP2n6l3G6XBgzo2659oHPy+XrHu4W46K5zd1cc7+6F443ugOd57DkqgPzjP/6jJCk7O1t+v18FBQV65ZVXIqdaXbw6YVmWpI9WQnw+nxoaGtTQ0KBevXq1qmtZCfH5fKqpqWn19S3LarXKcrXCYVuWdbZd+3AKj8ftqG96yzqnUCh82bruOnd3xfHuXjje6A6c/jz3+XqzKtJOjgogHzdy5Eh5PB4dOXJEEyZMUM+ePXX48OGoC8erq6slXbjG4+Mfg8Gg/H5/pC4YDKpv374aNGhQpG7fvn2ybTtqxaO6ujqyj/ZobuaHuROFQuFueWy769zdFce7e+F4ozvgeR57jo1vBw4cUCgU0vXXXy+v16vc3FxVVFRE1ezcuVMDBw6MhI3s7GwlJSVp165dkZpQKKSKigoFAoFI2AgEArIsS3v37o3U1dTUqKqqKvKyvAAAAABac8QKyFe+8hXdcMMNysjIUEJCgv785z/rhz/8oTIyMnTHHXdIkhYsWKDp06ersLBQ+fn5qqqqUnl5uVasWCG3+0IO83q9mjdvnoqLi5WcnCy/36/y8nIdPXo0ckG7JI0ePVrjx4/XkiVLtHjxYiUmJqqkpESpqamaPHlyXB4DAAAAoCtwRAC58cYbtWvXLpWWlsq2baWmpuq+++7TrFmz5PV6JUlZWVnasGGDioqKtGPHDqWkpKiwsFBTpkyJ2teDDz4o27a1detWnTp1Sunp6SotLVVGRkZU3dq1a7VmzRotX75cTU1NysnJ0bp161q9ghYAAACAjzgigDz00EN66KGHLlsXCAQue4qUy+XS7NmzNXv27E+sS0xM1MqVK7Vy5cqr6hUAAADozhx7DQgAAACAzocAAgAAAMAYAggAAAAAYwggAAAAAIwhgAAAAAAwhgACAAAAwBgCCAAAAABjCCAAAAAAjCGAAAAAADCGAAIAAADAmB7xbgAAADif2+2S2+2KdxvtFg7bCofteLcBdGkEEAAA0KHcbpcGDOgjt7vrn3gRDof14YdnCSFAOxBAAABAh7qw+uHWSy+9pA8++CDe7bRZcnKyJk2aJLfbRQAB2oEAAgAAjPjggw904sSJeLcBIM66/looAAAAgC6DAAIAAADAGAIIAAAAAGMIIAAAAACMIYAAAAAAMIYAAgAAAMAYAggAAAAAYwggAAAAAIwhgAAAAAAwhgACAAAAwBgCCAAAAABjCCAAAAAAjCGAAAAAADCGAAIAAADAGAIIAAAAAGMIIAAAAACMIYAAAAAAMIYAAgAAAMAYAggAAAAAYwggAAAAAIwhgAAAAAAwhgACAAAAwBgCCAAAAABjCCAAAAAAjOkR7wYAoIXb7ZLb7Yp3G+0WDtsKh+14twEAQKdEAAHQKbjdLg3o31tujyferbRbOBTSh7XnCCEAAFwCAQRAp+B2u+T2ePSHjc+o7r2aeLfTZomD/0E3zfs3ud0uAggAAJfgiABSUVGhX/7ylzp06JBOnz6tT33qU5o6daruv/9+ud0fXeZSWVmp4uJiBYNBpaSk6Mtf/rKmTZvWan9lZWXatm2bTp48qfT0dH3zm99UTk5OVE1dXZ2+973v6Ve/+pUaGxuVk5OjpUuXKjU1tcPnBZys7r0aWe+8E+82AABAB3HEReg/+tGP5PV69c1vflObNm3SHXfcoccee0zf//73IzUHDhzQ/Pnz5ff7tXnzZk2ePFmrVq1SeXl51L7KyspUXFysadOmqbS0VEOHDtWcOXP09ttvR9UtWrRIu3fv1tKlS1VcXKwTJ05o5syZOn/+vJGZAQAAgK7IESsgmzZtUnJycuTz3NxcnT17Vtu2bdMjjzwir9er9evXy+/3a/Xq1ZGampoalZSUqKCgQG63W42Njdq4caNmzJihWbNmSZJuueUW5efna9OmTSouLpYkHTx4UHv27FFpaakCgYAkKT09XRMnTtT27ds1depUw48AAAAA0DU4YgXk4+GjxciRI9XQ0KDa2lo1NjZq//79mjRpUlRNfn6+Tp48qTfffFOSVFVVpTNnzigvLy9S4/F4dNddd6myslK2feF87srKSvl8Po0bNy5SN3jwYGVnZ6uysrIjRgQAAAAcwREB5FLeeOMN9e/fX9dcc42OHDmipqYmDR8+PKpmxIgRkqRgMBj18eK6tLQ01dfX6/jx45G6YcOGyeWKfrnQESNGRPYBAAAAoDVHnIJ1sf/93//Viy++qAULFsjj8ej06dOSJJ/PF1XX8nnL7ZZlyev1KiEhIaquX79+kqTa2lqlpKTIsiwlJSW1+ro+ny+yr/bo0cOxufCqeDzOehyudB7mdgbmxqU47fHheY5Lcdrj47R5OgPHBZCTJ0/qq1/9qjIzMzVnzpyo2y5esbjU9kvVtJx6dbm6T9p+pdxulwYM6NuufaBz8vl6x7uFuGDu7qW7zt1dddfj3V3n7q443rHnqABy5swZzZkzRwkJCdq4caN69uwp6aMVjItXJyzLkvTRSojP51NDQ4MaGhrUq1evVnUt+/H5fKqpaf0+BZZltVpluVrhsC3LOtuufTiFx+N21De9ZZ1TKBS+bB1zOwNz41K66/HurnN3V04/3j5fb1ZF2skxAaShoUHz5s3TqVOn9Pzzz2vAgAGR24YMGaKePXvq8OHDUReOV1dXS7pwjcfHPwaDQfn9/khdMBhU3759NWjQoEjdvn37ZNt21IpHdXV1ZB/t0dzMDzUnCoXC3fLYMnf30l3n7q666/HurnN3Vxzv2HNEfGtubtbChQv15z//WT/84Q9bvRmg1+tVbm6uKioqorbv3LlTAwcOjISN7OxsJSUladeuXZGaUCikiooKBQKBSNgIBAKyLEt79+6N1NXU1KiqqirysrwAAAAAWnPECsiKFSv0X//1X3r00Ud1/vx5/eEPf4jcNmLECCUmJmrBggWaPn26CgsLlZ+fr6qqKpWXl2vFihWRd0v3er2aN2+eiouLlZycLL/fr/Lych09elRFRUWRfY4ePVrjx4/XkiVLtHjxYiUmJqqkpESpqamaPHmy6fEBAACALsMRAeS///u/JSnqnc9bbNmyRTk5OcrKytKGDRtUVFSkHTt2KCUlRYWFhZoyZUpU/YMPPijbtrV161adOnVK6enpKi0tVUZGRlTd2rVrtWbNGi1fvlxNTU3KycnRunXrWr2CFgAAAICPOCKA7N69+4rqAoHAZU+Rcrlcmj17tmbPnv2JdYmJiVq5cqVWrlx5xX0CAAAA3Z0jrgEBAAAA0DUQQAAAAAAYQwABAAAAYAwBBAAAAIAxBBAAAAAAxhBAAAAAABhDAAEAAABgDAEEAAAAgDEEEAAAAADGEEAAAAAAGEMAAQAAAGAMAQQAAACAMQQQAAAAAMYQQAAAAAAYQwABAAAAYAwBBAAAAIAxBBAAAAAAxhBAAAAAABhDAAEAAABgDAEEAAAAgDEEEAAAAADGEEAAAAAAGEMAAQAAAGBMj3g3AADontxul9xuV7zbaLdw2FY4bMe7DQDoMgggAADj3G6XBvTvLbfHE+9W2i0cCunD2nOEEAC4QgQQAIBxbrdLbo9Hu54v0wcnauLdTpslX/cPuutfZ8ntdhFAAOAKEUAAAHHzwYkanXjvaLzbAAAYxEXoAAAAAIwhgAAAAAAwhgACAAAAwBgCCAAAAABjCCAAAAAAjCGAAAAAADCGAAIAAADAGAIIAAAAAGMIIAAAAACMIYAAAAAAMIYAAgAAAMAYAggAAAAAYwggAAAAAIwhgAAAAAAwxhEB5J133tGyZct09913y+/3Ky8v75J1lZWVuueee5SZmamJEydq27Ztl6wrKyvThAkTlJmZqYKCAr3++uutaurq6rRs2TLl5OQoKytLc+fO1bFjx2I6FwAAAOA0jgggf/3rX1VZWamhQ4cqLS3tkjUHDhzQ/Pnz5ff7tXnzZk2ePFmrVq1SeXl5VF1ZWZmKi4s1bdo0lZaWaujQoZozZ47efvvtqLpFixZp9+7dWrp0qYqLi3XixAnNnDlT58+f77A5AQAAgK6uR7wbiIUJEybojjvukCQtXrxYf/rTn1rVrF+/Xn6/X6tXr5Yk5ebmqqamRiUlJSooKJDb7VZjY6M2btyoGTNmaNasWZKkW265Rfn5+dq0aZOKi4slSQcPHtSePXtUWlqqQCAgSUpPT9fEiRO1fft2TZ061cTYAAAAQJfjiBUQt/uTx2hsbNT+/fs1adKkqO35+fk6efKk3nzzTUlSVVWVzpw5E3UKl8fj0V133aXKykrZti3pwqlcPp9P48aNi9QNHjxY2dnZqqysjNVYAAAAgOM4IoBczpEjR9TU1KThw4dHbR8xYoQkKRgMRn28uC4tLU319fU6fvx4pG7YsGFyuVyt9teyDwAAAACtOeIUrMs5ffq0JMnn80Vtb/m85XbLsuT1epWQkBBV169fP0lSbW2tUlJSZFmWkpKSWn0dn88X2Vd79OjRLXLhZXk8znocrnQe5nYG5o5NXVfB3LGp6yqcNk+sOe3xcdo8nUG3CCAtLl6xuNT2S9W0nHp1ubpP2n6l3G6XBgzo2659oHPy+XrHu4W4YO7uhbm7F+ZGd8Dxjr1uEUBaVjAuXp2wLEvSRyshPp9PDQ0NamhoUK9evVrVtezH5/Oppqam1dexLKvVKsvVCodtWdbZdu3DKTwet6O+6S3rnEKh8GXrmNsZmPuTMbczMDcuxenH2+frzapIO3WLADJkyBD17NlThw8fjrpwvLq6WpIiL93b8jEYDMrv90fqgsGg+vbtq0GDBkXq9u3bJ9u2o1Y8qqur/8+XAb4azc38UHOiUCjcLY8tc3cvzN29MDe6A4537HWL+Ob1epWbm6uKioqo7Tt37tTAgQMjYSM7O1tJSUnatWtXpCYUCqmiokKBQCASNgKBgCzL0t69eyN1NTU1qqqqirwsLwAAAIDWHLECcu7cucjL3x47dkx1dXV6+eWXJV14H4/k5GQtWLBA06dPV2FhofLz81VVVaXy8nKtWLEi8jK+Xq9X8+bNU3FxsZKTk+X3+1VeXq6jR4+qqKgo8vVGjx6t8ePHa8mSJVq8eLESExNVUlKi1NRUTZ482fwDAAAAAHQRjggg77//vhYuXBi1reXzLVu2KCcnR1lZWdqwYYOKioq0Y8cOpaSkqLCwUFOmTIm634MPPijbtrV161adOnVK6enpKi0tVUZGRlTd2rVrtWbNGi1fvlxNTU3KycnRunXrWr2CFgAAAICPOCKAXH/99Xr77bcvWxcIBC57ipTL5dLs2bM1e/bsT6xLTEzUypUrtXLlyqvqFQAAAOjOusU1IAAAAAA6BwIIAAAAAGMccQpWd+B2u+R2t+9NDjuDcNhWOGzHuw0AAADECQGkC3C7Xerfv48j3vQmFAqrtvYsIQQAAKCbIoB0AW63Sx6PW+v/83c6duL05e/QSaVe108Lpt4qt9tFAAEAAOimCCBdyLETp/X/Hfsw3m0AAAAAbdb1z+kBAAAA0GUQQAAAAAAYQwABAAAAYAwBBAAAAIAxBBAAAAAAxhBAAAAAABhDAAEAAABgDAEEAAAAgDEEEAAAAADGEEAAAAAAGEMAAQAAAGAMAQQAAACAMQQQAAAAAMYQQAAAAAAYQwABAAAAYAwBBAAAAIAxBBAAAAAAxhBAAAAAABhDAAEAAABgDAEEAAAAgDEEEAAAAADGEEAAAAAAGEMAAQAAAGAMAQQAAACAMQQQAAAAAMYQQAAAAAAYQwABAAAAYAwBBAAAAIAxBBAAAAAAxhBAAAAAABhDAAEAAABgDAEEAAAAgDEEEAAAAADGEEAAAAAAGEMAAQAAAGAMAaQd/va3v2nWrFm66aabNGbMGK1atUrnz5+Pd1sAAABAp9Uj3g10VZZl6Utf+pIGDx6sp556Sh988IEef/xx1dbW6sknn4x3ewAAAECnRABpo5/85CeyLEs7duxQcnKyJMnj8egb3/iG5s2bp7S0tDh3CAAAAHQ+nILVRq+++qrGjBkTCR+S9PnPf15er1eVlZVx7AwAAADovAggbRQMBlutcni9Xg0ZMkTBYDBOXQEAAACdm8u2bTveTXRFo0aN0sKFC/XQQw9FbZ86daquueYaPf30023ar23bCoejD4nLJbndbp2uO69QKNzmnuPN43GrX2KCwuGwruRZ1zJ3U70lOxzq+AY7iMvtUc++vque2zp3Rs1deO4ebo98vZOueu4Gy5Ld3HXndvXwqJfv6o93vQO+v/u24fv7bJ2lUKjrHm+Px6M+iVd/vJvONsoOd91/fl1ul3r28V798T57tusf7z59rnjuFi5Xx/VkytXO63a7deZ8o0Jd+NdMj8ulpITWz3O32yWXEw5qHHENSIzZtt2uJ6XL5ZLHc+n790tMaPN+OxO3++oW3nr29XVQJ2Zd7dy+3kkd1IlZVzt3L1/3PN59u+n3d5/E7nm8e/bxdlAnZl318e7Tp4M6Metq5+6ukhK65/Mcl8cj2kY+n0+WZbXafubMGfkc8gsUAAAAEGsEkDZKS0trda1HY2Ojjhw5witgAQAAAP8HAkgbjRs3Tvv379eHH34Y2fbKK6+osbFRgUAgjp0BAAAAnRcXobeRZVnKy8tTamqq5s+fr/fff19PPPGExo4dyxsRAgAAAP8HAkg7/O1vf9OqVav0xhtvKCEhQXl5efrGN76hhARnXEwKAAAAxBoBBAAAAIAxXAMCAAAAwBgCCAAAAABjCCAAAAAAjCGAAAAAADCGAAIAAADAGAIIAAAAAGMIIN3A3/72N82aNUs33XSTxowZo1WrVun8+fOXvd+uXbv08MMP67bbblNGRobKysoMdBs7bZm7rq5O69at05QpU/RP//RPys3N1axZs3To0CFDXbdfW4/397//fU2aNElZWVnKzs5WQUGBXnrpJQMdx0Zb5/64V155RRkZGcrLy+ugLmOvrXM/8MADysjIaPUnGAwa6Lr92nO8a2tr9d3vfldjx45VZmamPv/5z+snP/lJB3ccG22Z+913373ksc7IyNANN9xgqPP2aevxPnv2rJ588kndcccdGj16tP75n/9Z69atU2Njo4Gu26+tczc2Nur73/++xo4dqxtvvFH33nuvXnvtNQMdt98777yjZcuW6e6775bf77+qn8fbt2/XnXfeqczMTOXl5amioqIDO0V79Ih3A+hYlmXpS1/6kgYPHqynnnpKH3zwgR5//HHV1tZe9h3bX375ZR09elSf+9zn9PzzzxvqODbaOvd7772n559/XgUFBfrqV7+q5uZmbdmyRffff79+8pOfaNSoUQanuHrtOd7nzp3T/fffr2HDhsm2bf3qV7/S17/+dYXDYeXn5xuaoG3aM3eL8+fP6/HHH9e1117bwd3GTnvnzs7O1re+9a2obddff31HtRsz7Zm7vr5eDzzwgHr16qV///d/1zXXXKN33nlHTU1Nhrpvu7bOfd1117X6GW7btubMmaOcnJyObrvd2nO8v/vd7+o3v/mNHnnkEX3mM5/RH//4Rz311FM6ffq0CgsLDU3QNu2Ze/Xq1fr5z3+ur33taxo+fLhefPFFzZkzR88//3yn/3fsr3/9qyorKzV69GiFw2Fd6dvVvfzyy1q8eLEeeugh3XrrrZHjnpSUpLFjx3Zw17hqNhztmWeesUePHm2///77kW2/+MUv7PT0dLu6uvoT7xsKhSJ/T09Pt3/4wx92WJ+x1ta56+vr7bNnz0ZtO3/+vH3rrbfaixcv7rB+Y6U9x/tS/vVf/9WeOXNmLFvsELGY+wc/+IE9bdo0+1vf+pY9adKkjmo1ptoz9/Tp0+2HHnqoo1vsEO2Ze+3atfYdd9xhnzt3rqPbjLlYfn/v37/fTk9Pt3ft2hXrNmOurXM3NTXZmZmZdklJSdT273znO/aYMWM6rN9Yaevcf//73+2RI0faW7ZsiWwLh8N2Xl6ePXfu3A7tORY+/rvH1fw8vvPOO+2vfvWrUdsefPBBe8qUKTHtD7HBKVgO9+qrr2rMmDFKTk6ObPv85z8vr9erysrKT7yv2911nx5tnbtPnz7q3bt31LZevXopLS1NJ06c6LB+Y6U9x/tS+vfv3yX+Z7i9cx85ckQ/+tGPOv3/iF4s1se7q2jP3D/72c907733KiEhoaPbjLlYHu+dO3cqMTFREyZMiHWbMdfWuW3bVigUUlJSUtR2n893xf+rHk9tnfvPf/6zQqFQ1P/6u1wujR07Vv/93//d6U8/a8vvHkePHtXhw4dbna6Vl5enP/7xj/rggw9i1R5ipOv+hokrEgwGlZaWFrXN6/VqyJAhXeZc77aI5dxnz57VW2+9peHDh8eyxQ7R3rlt21Zzc7Msy9KOHTv0u9/9TtOmTeuodmOmvXM/9thjuvvuu/WP//iPHdVih2jv3P/zP/+jm266SZmZmZo+fbp+//vfd1SrMdXWuY8ePapTp07J5/Pp3/7t33TDDTcoJydHy5cvv+rrheIhVj/Xmpqa9Otf/1oTJ05Ur169Yt1mzLV17p49e+pf/uVftHXrVh08eFD19fXav3+/XnjhBUf/XGsJGD179mx138bGRr377ruxbzbODh8+LEmt/p1OS0uTbduR29F5cA2Iw1mWJZ/P12q7z+fT6dOn49CRGbGc+wc/+IHOnTun6dOnx6q9DtPeuV977TXNnDlTktSjRw8tXbpUd955Z8z7jLX2zL17924dOHBAL7/8cke112HaM/fNN9+su+++W5/+9Kd14sQJlZWVaebMmdq6dauysrI6quWYaOvcp06dkiR973vf05133qnNmzerurpaRUVFampq0qpVqzqs51iI1c+1V199VbW1tV3mxRbaM/d3v/tdfec739F9990X2fbAAw/oK1/5Ssz7jLW2zv3pT39akvTHP/4x6pquP/zhD5LkyH/7W2a6+PHq169f1O3oPAgg3ZRt23K5XPFuw7irnfuXv/ylnnvuOS1btkxDhw7twM461pXOfeONN+qnP/2p6urq9Oqrr2rlypXyeDyaMmWKgS5j73JzNzQ0aPXq1Xr44YejTnPo6q7keH/1q1+N+nz8+PHKy8vThg0btHnz5o5sr8Ncbu5wOCzpwv+KPv7445KkMWPGqLm5Wd/73ve0cOFCDRw40EivsdSWn2vXXnutxowZ04FddbwrmfvJJ5/Unj17tHLlSg0bNkyHDh3SU089JZ/P1+p7oKu43Nyf+cxndMstt+jJJ59USkqKhg0bphdffDGywtmVT6++nIsfl5ZT7brj7zudnXOfhZB04X8DLMtqtf3MmTOX/J8Vp4jF3L/73e/07W9/W7NmzeoSy/VS++dOTExUZmamxowZo29961u6//779cQTTygUCnVEuzHT1rmfe+45ud1uTZo0SZZlybIsNTU1KRwOy7KsTn+udCy/v/v06aNAINAlXnK6rXP3799fkpSbmxu1PTc3V+FwuNOflhqL411fX689e/boC1/4gjweT6xb7BBtnfsvf/mLnn32WS1fvlz33Xefbr75Zn35y1/WwoUL9cwzz+j999/vyLbbrT3H+4knnlBycrKmTp2q3Nxcbdu2TfPnz5ekLvVKf1fq/1rpaHn8nPz7TldFAHG4tLS0Vv+oNjY26siRI63OLXWS9s79xz/+UV/5yld055136tFHH+2oNmMu1sd71KhRqqur6/QX8LV17sOHD+udd97RmDFjdPPNN+vmm2/Wzp07FQwGdfPNN+tnP/tZR7feLrE+3l3hwlyp7XN/6lOfanVevPTR3J39f4ZjcbxfeeUVnTt3rtO/tPbHtXXu6upqSdLIkSOjto8cOVLNzc06duxY7JuNofYc79TUVP30pz/Vb3/7W7300kt65ZVXlJCQoIEDByo1NbUj246Llms/Lr7WIxgMyuVydYlrOLubzv3TFu02btw47d+/Xx9++GFk2yuvvKLGxkYFAoE4dtax2jN3MBjUnDlzlJ2drccff7xLLd3G+ni/8cYbSkxM1IABA2LZZsy1de45c+Zoy5YtUX/Gjh2r1NRUbdmypdO/QlAsj/fZs2dVWVmpzMzMWLcZc22d2+v16tZbb231hmyvvfaaevTooREjRnRYz7EQi+O9c+dODRkyRKNHj+6oNmOurXO3/KJ98aren/70J0md/z1vYnG8r7/+eo0YMUJNTU366U9/2mVPp72cT33qUxo+fLh27doVtX3nzp268cYbHXWKrWOYf+VfmHT69Gn7tttus++//3771Vdftbdv327n5OTYixYtiqr79re/bY8cOTJq21//+le7oqLCrqiosNPT0+1vfvObdkVFhb1nzx6TI7RJW+c+deqUHQgE7FtvvdXet2+ffeDAgcifQ4cOmR7jqrV17rfeesueNWuWXV5ebu/bt8/+zW9+Yy9ZssROT0+3n3nmGdNjXLX2PM8v1pXeB6Stc//+97+3586da//sZz+zX3vtNfvnP/+5fc8999ijRo2yDx48aHqMq9ae433w4EF71KhR9qOPPmrv3bvX/tGPfmSPHj3afuyxx0yO0CbtfZ6///77tt/vt4uLiw11HBttnbu5udm+99577TFjxtg//vGP7ddee80uLS21b7rpJvtrX/ua6TGuWnuO99atW+3t27fb+/fvt3/2s5/ZeXl59he/+EW7vr7e5Ahtcvbs2cjvHtOnT7cDgUDk85b3RLnUzLt27bIzMjLsoqIie//+/fZjjz1mZ2Rk2Hv37o3HGLgMLkJ3OJ/Pp+eee06rVq3Sww8/rISEBOXl5ekb3/hGVF04HG51nn9FRYWefvrpyOc7duzQjh07lJqaqt27dxvpv63aOnd1dbVqamokSV/+8pejap0897XXXiufz6cNGzbo5MmTSkpK0vDhw7V+/Xrdcccdpse4au15nndlbZ174MCBamxsVFFRkWpra9W7d29lZWVp+fLluvHGG02PcdXac7xvvPFGPfPMM1q7dq3mzp2r/v37a/r06Vq4cKHJEdqkvc/ziooKNTc3d6nTr6S2z+3xeLRp0yaVlJRo8+bNOnXqlP7hH/5B06dP19y5c02PcdXac7wbGxv19NNP6+9//7v69++vf/7nf9bChQvVp08fkyO0yfvvv9/q+7Hl8y1btignJ+eSM3/hC1/Q+fPntWnTJpWVlWno0KEqLi7mXdA7KZdtd5GTfgEAAAB0eVwDAgAAAMAYAggAAAAAYwggAAAAAIwhgAAAAAAwhgACAAAAwBgCCAAAAABjCCAAAAAAjCGAAAAAADCGAAIAAADAGAIIAAAAAGMIIAAAAACMIYAAAAAAMIYAAgAAAMAYAggAAAAAYwggAAAAAIwhgAAAAAAwhgACAAAAwBgCCAAAAABjCCAAAAAAjCGAAAAAADCGAAIAAADAGAIIAAAAAGMIIAAAAACMIYAAAAAAMIYAAgAAAMAYAggAAAAAYwggAAAAAIwhgAAAAAAwhgACAAAAwBgCCAAAAABjCCAAAAAAjCGAAAAAADCGAAIAAADAGAIIAAAAAGMIIAAAAACMIYAAAAAAMIYAAgAAAMAYAggAAAAAYwggAAAAAIwhgAAAAAAw5v8HY+zCPuyJaVoAAAAASUVORK5CYII=' width=800.0/>\n",
       "            </div>\n",
       "        "
      ],
      "text/plain": [
       "Canvas(toolbar=Toolbar(toolitems=[('Home', 'Reset original view', 'home', 'home'), ('Back', 'Back to previous …"
      ]
     },
     "metadata": {},
     "output_type": "display_data"
    }
   ],
   "source": [
    "plt.figure()\n",
    "seaborn.barplot(x=q_vals,y=Nstars_per_q)"
   ]
  },
  {
   "cell_type": "code",
   "execution_count": 55,
   "id": "01c1489f-d051-4dc5-a7a2-9c60f2cb6527",
   "metadata": {},
   "outputs": [],
   "source": [
    "q_counts = []\n",
    "\n",
    "for q, N in zip(qs,bs.Nj_shifted[bs.bin_mask]):\n",
    "    q_count = [q]*int(N)\n",
    "    q_counts.append(q_count)"
   ]
  },
  {
   "cell_type": "code",
   "execution_count": 62,
   "id": "9d9302a4-b1f5-43bf-b70e-2e5c9cad0a90",
   "metadata": {},
   "outputs": [],
   "source": [
    "q_counts = np.hstack(q_counts).flatten()"
   ]
  },
  {
   "cell_type": "code",
   "execution_count": 68,
   "id": "4d707c22-899f-4fe7-94e6-cc4dd1c8e0b5",
   "metadata": {},
   "outputs": [
    {
     "data": {
      "text/plain": [
       "<AxesSubplot:ylabel='Percent'>"
      ]
     },
     "execution_count": 68,
     "metadata": {},
     "output_type": "execute_result"
    },
    {
     "data": {
      "application/vnd.jupyter.widget-view+json": {
       "model_id": "d950fc07d86a4009a6dc8dba0dbe447d",
       "version_major": 2,
       "version_minor": 0
      },
      "text/html": [
       "\n",
       "            <div style=\"display: inline-block;\">\n",
       "                <div class=\"jupyter-widgets widget-label\" style=\"text-align: center;\">\n",
       "                    Figure\n",
       "                </div>\n",
       "                <img src='data:image/png;base64,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' width=800.0/>\n",
       "            </div>\n",
       "        "
      ],
      "text/plain": [
       "Canvas(toolbar=Toolbar(toolitems=[('Home', 'Reset original view', 'home', 'home'), ('Back', 'Back to previous …"
      ]
     },
     "metadata": {},
     "output_type": "display_data"
    }
   ],
   "source": [
    "plt.figure()\n",
    "seaborn.histplot(q_counts,stat=\"percent\",bins=q_vals,kde=True)\n",
    "# is this one working now?\n",
    "# doesn't look very flat, thats for sure"
   ]
  },
  {
   "cell_type": "code",
   "execution_count": 41,
   "id": "59845cf2-612b-42e3-992f-f3845f1be075",
   "metadata": {},
   "outputs": [
    {
     "ename": "NameError",
     "evalue": "name 'stop' is not defined",
     "output_type": "error",
     "traceback": [
      "\u001b[0;31m---------------------------------------------------------------------------\u001b[0m",
      "\u001b[0;31mNameError\u001b[0m                                 Traceback (most recent call last)",
      "\u001b[0;32m/tmp/ipykernel_297990/1640820313.py\u001b[0m in \u001b[0;36m<module>\u001b[0;34m\u001b[0m\n\u001b[1;32m      1\u001b[0m \u001b[0;31m# Have a look at models\u001b[0m\u001b[0;34m\u001b[0m\u001b[0;34m\u001b[0m\u001b[0;34m\u001b[0m\u001b[0m\n\u001b[0;32m----> 2\u001b[0;31m \u001b[0mstop\u001b[0m\u001b[0;34m\u001b[0m\u001b[0;34m\u001b[0m\u001b[0m\n\u001b[0m",
      "\u001b[0;31mNameError\u001b[0m: name 'stop' is not defined"
     ]
    }
   ],
   "source": [
    "# Have a look at models\n",
    "stop"
   ]
  },
  {
   "cell_type": "code",
   "execution_count": null,
   "id": "0d13d810-531a-4e05-bb03-2b7f6d82d297",
   "metadata": {},
   "outputs": [],
   "source": [
    "l = limepy(\n",
    "    M=1e6, phi0=6, g=0.8, mj=mj, Mj=Mj, delta=0.45, rh=8, ra=10 ** 1.23, project=True\n",
    ")"
   ]
  },
  {
   "cell_type": "code",
   "execution_count": null,
   "id": "8b947cea-1e8e-4a73-a64a-131664250285",
   "metadata": {},
   "outputs": [],
   "source": [
    "l_bin = limepy(\n",
    "    M=1e6,\n",
    "    phi0=6,\n",
    "    g=0.8,\n",
    "    mj=mj_new,\n",
    "    Mj=Mj_new,\n",
    "    delta=0.45,\n",
    "    rh=8,\n",
    "    ra=10 ** 1.23,\n",
    "    project=True,\n",
    ")"
   ]
  },
  {
   "cell_type": "code",
   "execution_count": null,
   "id": "4aa72d51-f99b-47ee-86dc-61e2323b3f11",
   "metadata": {},
   "outputs": [],
   "source": []
  },
  {
   "cell_type": "code",
   "execution_count": null,
   "id": "8d17ffa9-5840-4f48-9b53-3c7f51bdd7fd",
   "metadata": {},
   "outputs": [],
   "source": []
  },
  {
   "cell_type": "code",
   "execution_count": null,
   "id": "104a1a22-f6dd-4e1a-8674-0e637c65ab60",
   "metadata": {},
   "outputs": [],
   "source": [
    "plt.figure()\n",
    "plt.loglog()\n",
    "plt.xlim(1e-2, 1e2)\n",
    "plt.ylim(1e2, 1e7)\n",
    "plt.plot(l.r, l.mcp, label=\"No Binaries\")\n",
    "plt.xlabel(\"R [pc]\")\n",
    "plt.ylabel(\"Enclosed Mass\")\n",
    "plt.plot(l_bin.r, l_bin.mcp, label=\"Binaries\")\n",
    "plt.legend()"
   ]
  },
  {
   "cell_type": "code",
   "execution_count": null,
   "id": "71e9cb12-2902-4e00-8306-6f2c6e05f744",
   "metadata": {},
   "outputs": [],
   "source": []
  },
  {
   "cell_type": "code",
   "execution_count": null,
   "id": "6eb79203-76f3-4999-9b7f-ec67b4b61ac8",
   "metadata": {},
   "outputs": [],
   "source": [
    "plt.figure()\n",
    "plt.xscale(\"log\")\n",
    "plt.xlim(1e-2, 1e2)\n",
    "plt.plot(l.r, np.sqrt(l.v2R), label=\"No Binaries\")\n",
    "plt.xlabel(\"R [pc]\")\n",
    "plt.ylabel(\"Vr\")\n",
    "plt.plot(l_bin.r, np.sqrt(l_bin.v2R), label=\"Binaries\")\n",
    "plt.legend()"
   ]
  },
  {
   "cell_type": "code",
   "execution_count": null,
   "id": "5a08363f-e69b-4d01-95b7-e809f870433d",
   "metadata": {},
   "outputs": [],
   "source": [
    "plt.figure()\n",
    "plt.xscale(\"log\")\n",
    "plt.xlim(1e-2, 1e2)\n",
    "plt.plot(l.r, np.sqrt(l.v2T), label=\"No Binaries\")\n",
    "plt.xlabel(\"R [pc]\")\n",
    "plt.ylabel(\"Vt\")\n",
    "plt.plot(l_bin.r, np.sqrt(l_bin.v2T), label=\"Binaries\")\n",
    "plt.legend()"
   ]
  },
  {
   "cell_type": "code",
   "execution_count": null,
   "id": "c83688ad-3f3b-4e9e-992c-668dce52e223",
   "metadata": {},
   "outputs": [],
   "source": [
    "plt.figure()\n",
    "plt.xscale(\"log\")\n",
    "plt.xlim(1e-2, 1e2)\n",
    "plt.plot(l.r, np.sqrt(l.v2p), label=\"No Binaries\")\n",
    "plt.xlabel(\"R [pc]\")\n",
    "plt.ylabel(\"Vlos\")\n",
    "plt.plot(l_bin.r, np.sqrt(l_bin.v2p), label=\"Binaries\")\n",
    "plt.legend()"
   ]
  },
  {
   "cell_type": "code",
   "execution_count": null,
   "id": "6aa1d2b9-883e-4d10-b237-6ab36d72f7fe",
   "metadata": {},
   "outputs": [],
   "source": []
  },
  {
   "cell_type": "code",
   "execution_count": null,
   "id": "884f573f-542d-4a74-ae55-0371d2d8aef8",
   "metadata": {},
   "outputs": [],
   "source": [
    "plt.figure()\n",
    "plt.loglog()\n",
    "plt.xlim(1e-1, 1e2)\n",
    "plt.ylim(1e-0, 1e6)\n",
    "plt.plot(l.r, l.Sigma, label=\"No Binaries\")\n",
    "plt.xlabel(\"R [pc]\")\n",
    "plt.ylabel(r\"$\\Sigma$\")\n",
    "plt.plot(l_bin.r, l_bin.Sigma, label=\"Binaries\")\n",
    "plt.legend()"
   ]
  },
  {
   "cell_type": "code",
   "execution_count": null,
   "id": "25f94e31-6214-4aac-b7c3-03363ec30c5c",
   "metadata": {},
   "outputs": [],
   "source": []
  },
  {
   "cell_type": "code",
   "execution_count": null,
   "id": "8ff9ad43-a7f4-477a-b26a-134616bec44e",
   "metadata": {},
   "outputs": [],
   "source": []
  },
  {
   "cell_type": "code",
   "execution_count": null,
   "id": "e99be0bb-b40a-484e-a1c7-695a2a8663ec",
   "metadata": {},
   "outputs": [],
   "source": []
  },
  {
   "cell_type": "code",
   "execution_count": null,
   "id": "de6ea357-5012-4332-8729-3c8c24bf5693",
   "metadata": {},
   "outputs": [],
   "source": []
  },
  {
   "cell_type": "code",
   "execution_count": null,
   "id": "aa9f3423-dc3e-4519-b14a-c541d3ec6673",
   "metadata": {},
   "outputs": [],
   "source": []
  }
 ],
 "metadata": {
  "kernelspec": {
   "display_name": "gcfit",
   "language": "python",
   "name": "gcfit"
  },
  "language_info": {
   "codemirror_mode": {
    "name": "ipython",
    "version": 3
   },
   "file_extension": ".py",
   "mimetype": "text/x-python",
   "name": "python",
   "nbconvert_exporter": "python",
   "pygments_lexer": "ipython3",
   "version": "3.8.12"
  },
  "nteract": {
   "version": "0.28.0"
  }
 },
 "nbformat": 4,
 "nbformat_minor": 5
}
