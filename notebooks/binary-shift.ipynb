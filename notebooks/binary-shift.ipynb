{
 "cells": [
  {
   "cell_type": "code",
   "execution_count": 1,
   "id": "94217554-aebf-4de3-b5af-b7a19cab0dad",
   "metadata": {},
   "outputs": [],
   "source": [
    "%matplotlib inline\n",
    "%config InlineBackend.figure_format = \"retina\"\n",
    "\n",
    "import matplotlib.pyplot as plt\n",
    "import seaborn\n",
    "\n",
    "# Some plotting config\n",
    "seaborn.set(\n",
    "    context=\"notebook\",\n",
    "    # style=\"ticks\",\n",
    "    style=\"darkgrid\",\n",
    "    font=\"Times New Roman\",\n",
    "    font_scale=1.5,\n",
    ")\n",
    "plt.rcParams[\"figure.figsize\"] = (10, 8)\n",
    "plt.rcParams[\"xtick.direction\"] = \"in\"\n",
    "plt.rcParams[\"ytick.direction\"] = \"in\"\n",
    "# plt.rcParams[\"xtick.top\"] = True\n",
    "# plt.rcParams[\"ytick.right\"] = True\n",
    "# plt.rcParams[\"xtick.bottom\"] = True\n",
    "# plt.rcParams[\"ytick.left\"] = True\n",
    "plt.rcParams[\"mathtext.fontset\"] = \"cm\"\n",
    "\n",
    "from tqdm.auto import tqdm, trange\n",
    "\n",
    "from ssptools import evolve_mf_3 as emf3\n",
    "from limepy import limepy\n",
    "\n",
    "import numpy as np\n",
    "import scipy as sp\n",
    "import astropy.units as u\n",
    "import astropy.constants as const\n",
    "\n",
    "from binaryshift import BinaryShift"
   ]
  },
  {
   "cell_type": "code",
   "execution_count": null,
   "id": "1863b5c3-2883-4478-84ec-3b0c11208070",
   "metadata": {},
   "outputs": [],
   "source": []
  },
  {
   "cell_type": "code",
   "execution_count": null,
   "id": "dcb88432-f76a-409e-8b11-007a5cc6728a",
   "metadata": {},
   "outputs": [],
   "source": []
  },
  {
   "cell_type": "code",
   "execution_count": 2,
   "id": "34a6f01c-723c-494f-b97b-cc4b3f44c1aa",
   "metadata": {},
   "outputs": [],
   "source": [
    "m123 = [0.1, 0.5, 1.0, 100]  # Slope breakpoints for initial mass function\n",
    "a12 = [-0.468, -1.178, -2.117]  # Slopes for initial mass function\n",
    "a12 = [-0.3, -1.3, -2.3]  # Slopes for initial mass function\n",
    "\n",
    "\n",
    "# up the number of low mass bins from 5 to 15, fixes the mass ratio distribution and doens't have a have impact on runtime\n",
    "nbin12 = [15, 5, 20]\n",
    "\n",
    "\n",
    "# Output times for the evolution\n",
    "tout = np.array([11000])\n",
    "\n",
    "# Integration settings\n",
    "N0 = 5e6  # Normalization of stars\n",
    "Ndot = 0.0  # -0.0001  # Regulates how low mass objects are depleted default -20, 0 for 47 Tuc\n",
    "tcc = 0  # Core collapse time\n",
    "NS_ret = 0.1  # Initial neutron star retention\n",
    "BH_ret_int = 1  # Initial Black Hole retention\n",
    "BH_ret_dyn = 0.00235  # Dynamical Black Hole retention\n",
    "FeHe = -0.7  # Metallicity"
   ]
  },
  {
   "cell_type": "code",
   "execution_count": 3,
   "id": "97069263-e4ac-4fc8-b7a8-889c8b5aa94b",
   "metadata": {},
   "outputs": [],
   "source": [
    "f = emf3.evolve_mf(\n",
    "    m123=m123,\n",
    "    a12=a12,\n",
    "    nbin12=nbin12,\n",
    "    tout=tout,\n",
    "    N0=N0,\n",
    "    Ndot=Ndot,\n",
    "    tcc=tcc,\n",
    "    NS_ret=NS_ret,\n",
    "    BH_ret_int=BH_ret_int,\n",
    "    BH_ret_dyn=BH_ret_dyn,\n",
    "    FeHe=FeHe,\n",
    "    natal_kicks=True,\n",
    "    vesc=100,\n",
    ")"
   ]
  },
  {
   "cell_type": "code",
   "execution_count": 4,
   "id": "01621e16-2a98-4354-a011-38c1bda1f298",
   "metadata": {},
   "outputs": [
    {
     "data": {
      "text/plain": [
       "<ssptools.evolve_mf_3.evolve_mf at 0x7f70f85c66a0>"
      ]
     },
     "execution_count": 4,
     "metadata": {},
     "output_type": "execute_result"
    }
   ],
   "source": [
    "f"
   ]
  },
  {
   "cell_type": "code",
   "execution_count": 5,
   "id": "da017f9e-c551-4859-af62-1498bc539396",
   "metadata": {},
   "outputs": [],
   "source": [
    "cs = f.Ns[-1] > 10 * f.Nmin\n",
    "cr = f.Nr[-1] > 10 * f.Nmin\n",
    "mj = np.r_[f.ms[-1][cs], f.mr[-1][cr]]\n",
    "Mj = np.r_[f.Ms[-1][cs], f.Mr[-1][cr]]\n",
    "dms = f.mes[-1][1:] - f.mes[-1][0:-1]\n",
    "nms = len(f.ms[-1][cs])"
   ]
  },
  {
   "cell_type": "code",
   "execution_count": 6,
   "id": "1836d337-8903-4836-aed7-56802f6f2a76",
   "metadata": {},
   "outputs": [
    {
     "data": {
      "text/plain": [
       "0.1"
      ]
     },
     "execution_count": 6,
     "metadata": {},
     "output_type": "execute_result"
    }
   ],
   "source": [
    "f.Nmin"
   ]
  },
  {
   "cell_type": "code",
   "execution_count": 7,
   "id": "24e43d32-4d9a-4cc2-97f0-9e84eb9c51aa",
   "metadata": {},
   "outputs": [
    {
     "data": {
      "text/plain": [
       "array([8.15439217e+04, 8.79043150e+04, 9.47608166e+04, 1.02152122e+05,\n",
       "       1.10119947e+05, 1.18709259e+05, 1.27968534e+05, 1.37950029e+05,\n",
       "       1.48710076e+05, 1.60309403e+05, 1.72813472e+05, 1.86292854e+05,\n",
       "       2.00823622e+05, 2.16487785e+05, 2.33373746e+05, 3.06571734e+05,\n",
       "       2.94083264e+05, 2.82103523e+05, 2.46702762e+05, 7.18508214e+05,\n",
       "       4.94101905e+05, 9.34994217e+04, 8.16264703e+04, 1.46248291e+05,\n",
       "       1.45058480e+04, 7.32300749e+00, 1.19583568e+01, 1.77342985e+01,\n",
       "       2.79599451e+01, 4.82943067e+01, 1.87004258e+01])"
      ]
     },
     "execution_count": 7,
     "metadata": {},
     "output_type": "execute_result"
    }
   ],
   "source": [
    "Mj / mj"
   ]
  },
  {
   "cell_type": "code",
   "execution_count": 8,
   "id": "de8c7d31-bbb2-4c69-ade4-47b037de6be2",
   "metadata": {},
   "outputs": [],
   "source": [
    "bs = BinaryShift(mj=mj, Mj=Mj, MF=f, verbose=False)"
   ]
  },
  {
   "cell_type": "code",
   "execution_count": 9,
   "id": "c2e27b8d-43a0-4292-b725-4262f3d2d606",
   "metadata": {},
   "outputs": [
    {
     "name": "stdout",
     "output_type": "stream",
     "text": [
      "self.mj = array([0.10563281, 0.11759716, 0.13091663, 0.14574472, 0.16225228,\n",
      "       0.18062956, 0.20108831, 0.22386429, 0.24921996, 0.2774475 ,\n",
      "       0.3088722 , 0.34385617, 0.38280255, 0.42616013, 0.47442855,\n",
      "       0.53605839, 0.61576939, 0.70733328, 0.80741259, 0.61576939,\n",
      "       0.70733328, 0.80741259, 0.9275805 , 1.11806267, 1.40755751,\n",
      "       2.80844646, 3.53562462, 4.45108767, 5.60358738, 7.05449855,\n",
      "       8.8810875 ])\n",
      "self.Mj = array([8.61371324e+03, 1.03372974e+04, 1.24057667e+04, 1.48881320e+04,\n",
      "       1.78672129e+04, 2.14424009e+04, 2.57329758e+04, 3.08820849e+04,\n",
      "       3.70615188e+04, 4.44774432e+04, 5.33772769e+04, 6.40579468e+04,\n",
      "       7.68757942e+04, 9.22584631e+04, 1.10719169e+05, 1.64340349e+05,\n",
      "       1.81087472e+05, 1.99541212e+05, 1.99190915e+05, 4.42435364e+05,\n",
      "       3.49494723e+05, 7.54926100e+04, 7.57151219e+04, 1.63514755e+05,\n",
      "       2.04178153e+04, 2.05662745e+01, 4.22802608e+01, 7.89369176e+01,\n",
      "       1.56675995e+02, 3.40692117e+02, 1.66080118e+02])\n",
      "self._nms = 18\n",
      "self._mWD_max = 1.2485309234871975\n",
      "self._mBH_min = 2.51188643150958\n"
     ]
    }
   ],
   "source": [
    "bs.dump()"
   ]
  },
  {
   "cell_type": "code",
   "execution_count": 10,
   "id": "5dbda990-0e03-4e99-b7ff-b6db1aed7b88",
   "metadata": {},
   "outputs": [
    {
     "data": {
      "text/plain": [
       "array([ True,  True,  True,  True,  True,  True,  True,  True,  True,\n",
       "        True,  True,  True,  True,  True,  True,  True,  True,  True,\n",
       "        True, False, False, False, False, False, False, False, False,\n",
       "       False, False, False, False])"
      ]
     },
     "execution_count": 10,
     "metadata": {},
     "output_type": "execute_result"
    }
   ],
   "source": [
    "bs.MS_mask"
   ]
  },
  {
   "cell_type": "code",
   "execution_count": 11,
   "id": "2054a497-43f4-424b-9b1b-37cbe1926e06",
   "metadata": {},
   "outputs": [
    {
     "data": {
      "text/plain": [
       "array([0.10563281, 0.11759716, 0.13091663, 0.14574472, 0.16225228,\n",
       "       0.18062956, 0.20108831, 0.22386429, 0.24921996, 0.2774475 ,\n",
       "       0.3088722 , 0.34385617, 0.38280255, 0.42616013, 0.47442855,\n",
       "       0.53605839, 0.61576939, 0.70733328, 0.80741259])"
      ]
     },
     "execution_count": 11,
     "metadata": {},
     "output_type": "execute_result"
    }
   ],
   "source": [
    "bs.mj[bs.MS_mask]"
   ]
  },
  {
   "cell_type": "code",
   "execution_count": null,
   "id": "6c2bd1aa-2fb3-4769-bd55-c926f66273f2",
   "metadata": {},
   "outputs": [],
   "source": []
  },
  {
   "cell_type": "code",
   "execution_count": 12,
   "id": "5e7af1bc-e5f8-46b4-890c-fd8eda9e1ae9",
   "metadata": {},
   "outputs": [],
   "source": [
    "mj_new, Mj_new = bs.shift_flat(fb=0.05)\n",
    "# mj_new, Mj_new = bs.shift_equal(fb=0.25)\n",
    "# mj_new, Mj_new = bs.shift_solar(fb=0.25)"
   ]
  },
  {
   "cell_type": "code",
   "execution_count": 13,
   "id": "b97028cc-a798-4623-aa95-0dee62ec2654",
   "metadata": {},
   "outputs": [
    {
     "data": {
      "text/plain": [
       "0.13082878242190252"
      ]
     },
     "execution_count": 13,
     "metadata": {},
     "output_type": "execute_result"
    }
   ],
   "source": [
    "bs._q_min"
   ]
  },
  {
   "cell_type": "code",
   "execution_count": 14,
   "id": "703370f3-11dd-48de-8fbc-56bdf458fb4a",
   "metadata": {
    "tags": []
   },
   "outputs": [
    {
     "data": {
      "text/plain": [
       "Text(0.5, 0, 'mj [$M_\\\\odot$]')"
      ]
     },
     "execution_count": 14,
     "metadata": {},
     "output_type": "execute_result"
    },
    {
     "data": {
      "image/png": "[encoded data removed]",
      "text/plain": [
       "<Figure size 720x576 with 1 Axes>"
      ]
     },
     "metadata": {
      "image/png": {
       "height": 490,
       "width": 621
      }
     },
     "output_type": "display_data"
    }
   ],
   "source": [
    "plt.figure()\n",
    "plt.scatter(mj[bs.MS_mask], Mj[bs.MS_mask], label=\"Original MS\", s=90)\n",
    "\n",
    "# plt.scatter(mj, Mj, label=\"Original MF\", s=70)\n",
    "\n",
    "plt.yscale(\"log\")\n",
    "# plt.ylim(1e2, 1e5)\n",
    "plt.scatter(\n",
    "    mj_new[bs.MS_mask_new],\n",
    "    Mj_new[bs.MS_mask_new],\n",
    "    label=\"New MF (single MS)\",\n",
    "    marker=\"x\",\n",
    "    s=90,\n",
    "    alpha=0.7,\n",
    ")\n",
    "plt.scatter(\n",
    "    mj_new[bs.bin_mask],\n",
    "    Mj_new[bs.bin_mask],\n",
    "    label=\"New MF (binary MS)\",\n",
    "    marker=\"X\",\n",
    "    s=90,\n",
    ")\n",
    "plt.scatter(\n",
    "    mj_new[bs.WD_mask_new],\n",
    "    Mj_new[bs.WD_mask_new],\n",
    "    label=\"WD\",\n",
    "    marker=\"o\",\n",
    "    color=\"grey\",\n",
    "    s=60,\n",
    ")\n",
    "\n",
    "plt.legend()\n",
    "plt.ylabel(r\"Mj [$M_\\odot$]\")\n",
    "plt.xlabel(r\"mj [$M_\\odot$]\")\n",
    "# plt.savefig(\"shifted.png\",dpi=300)\n",
    "# plt.xlim(0, 1.7)"
   ]
  },
  {
   "cell_type": "code",
   "execution_count": 15,
   "id": "2c7bbcbc-45c2-4576-a2ce-8bf1c10a3a89",
   "metadata": {},
   "outputs": [
    {
     "data": {
      "text/plain": [
       "array([0.10563281, 0.11759716, 0.13091663, 0.14574472, 0.16225228,\n",
       "       0.18062956, 0.20108831, 0.22386429, 0.24921996, 0.2774475 ,\n",
       "       0.3088722 , 0.34385617, 0.38280255, 0.42616013, 0.47442855,\n",
       "       0.53605839, 0.61576939, 0.70733328, 0.80741259, 0.61576939,\n",
       "       0.70733328, 0.80741259, 0.9275805 , 1.11806267, 1.40755751,\n",
       "       2.80844646, 3.53562462, 4.45108767, 5.60358738, 7.05449855,\n",
       "       8.8810875 ])"
      ]
     },
     "execution_count": 15,
     "metadata": {},
     "output_type": "execute_result"
    }
   ],
   "source": [
    "mj"
   ]
  },
  {
   "cell_type": "code",
   "execution_count": 16,
   "id": "d4832db7-7b8c-47ca-9277-6590eba70133",
   "metadata": {},
   "outputs": [
    {
     "data": {
      "text/plain": [
       "0.08587620817570508"
      ]
     },
     "execution_count": 16,
     "metadata": {},
     "output_type": "execute_result"
    }
   ],
   "source": [
    "# Mass ratio\n",
    "np.sum(Mj_new[bs.bin_mask]) / np.sum(Mj_new[bs.MS_mask_new])"
   ]
  },
  {
   "cell_type": "code",
   "execution_count": 17,
   "id": "95c34062-50fd-4369-a510-c97ff57d7462",
   "metadata": {},
   "outputs": [
    {
     "name": "stdout",
     "output_type": "stream",
     "text": [
      "np.sum(Mj) = 2493032.765, np.sum(Mj_new) = 2493032.765\n"
     ]
    }
   ],
   "source": [
    "# check mass conservation\n",
    "print(f\"{np.sum(Mj) = :.3f}, {np.sum(Mj_new) = :.3f}\")"
   ]
  },
  {
   "cell_type": "code",
   "execution_count": null,
   "id": "2fc45144-abea-49d4-b57d-8ae183d5000c",
   "metadata": {},
   "outputs": [],
   "source": []
  },
  {
   "cell_type": "code",
   "execution_count": 18,
   "id": "4eb021e9-3098-41b3-b063-60217b86ec9c",
   "metadata": {},
   "outputs": [],
   "source": [
    "# Have a look at Nj"
   ]
  },
  {
   "cell_type": "code",
   "execution_count": 19,
   "id": "7fd2d97e-8464-44c5-9ef7-50158acdbdd3",
   "metadata": {},
   "outputs": [],
   "source": [
    "Nj = Mj_new / mj_new"
   ]
  },
  {
   "cell_type": "code",
   "execution_count": 20,
   "id": "911f741d-abee-4f54-a167-dec3aee5ca88",
   "metadata": {},
   "outputs": [
    {
     "data": {
      "text/plain": [
       "array([ 431.44932099,  465.10219598,  501.3799818 ,  540.48742045,\n",
       "        582.64522373, 1145.43801502, 1234.78172344, 1622.07266453,\n",
       "       1555.99610602, 1492.61123432, 1305.30561839,  431.44932099,\n",
       "        465.10219598,  501.3799818 ,  540.48742045,  582.64522373,\n",
       "        628.09131884,  677.08219125,  729.89433218,  786.82579904,\n",
       "        848.19789761,  914.35699539,  985.67647643, 1062.55884854,\n",
       "       1145.43801502, 1234.78172344, 1622.07266453, 1555.99610602,\n",
       "       1492.61123432, 1305.30561839,  431.44932099,  465.10219598,\n",
       "        501.3799818 ,  540.48742045,  582.64522373,  628.09131884,\n",
       "        677.08219125,  729.89433218,  786.82579904,  848.19789761,\n",
       "        914.35699539,  985.67647643, 1062.55884854, 1145.43801502,\n",
       "       1234.78172344, 1622.07266453, 1555.99610602, 1492.61123432,\n",
       "       1305.30561839,  431.44932099,  465.10219598,  501.3799818 ,\n",
       "        540.48742045,  582.64522373,  628.09131884,  677.08219125,\n",
       "        729.89433218,  786.82579904,  848.19789761,  914.35699539,\n",
       "        985.67647643, 1062.55884854, 1145.43801502, 1234.78172344,\n",
       "       1622.07266453, 1555.99610602, 1492.61123432, 1305.30561839,\n",
       "        431.44932099,  465.10219598,  501.3799818 ,  540.48742045,\n",
       "        582.64522373,  628.09131884,  677.08219125,  729.89433218,\n",
       "        786.82579904,  848.19789761,  914.35699539,  985.67647643,\n",
       "       1062.55884854, 1145.43801502, 1234.78172344, 1622.07266453,\n",
       "       1555.99610602, 1492.61123432, 1305.30561839,  431.44932099,\n",
       "        465.10219598,  501.3799818 ,  540.48742045,  582.64522373,\n",
       "        628.09131884,  677.08219125,  729.89433218,  786.82579904,\n",
       "        848.19789761,  914.35699539,  985.67647643, 1062.55884854,\n",
       "       1145.43801502, 1234.78172344, 1622.07266453, 1555.99610602,\n",
       "       1492.61123432, 1305.30561839,  431.44932099,  465.10219598,\n",
       "        501.3799818 ,  540.48742045,  582.64522373,  628.09131884,\n",
       "        677.08219125,  729.89433218,  786.82579904,  848.19789761,\n",
       "        914.35699539,  985.67647643, 1062.55884854, 1145.43801502,\n",
       "       1234.78172344, 1622.07266453, 1555.99610602, 1492.61123432,\n",
       "       1305.30561839,  431.44932099,  465.10219598,  501.3799818 ,\n",
       "        540.48742045,  582.64522373,  628.09131884,  677.08219125,\n",
       "        729.89433218,  786.82579904,  848.19789761,  914.35699539,\n",
       "        985.67647643, 1062.55884854, 1145.43801502, 1234.78172344,\n",
       "       1622.07266453, 1555.99610602, 1492.61123432, 1305.30561839,\n",
       "        431.44932099,  465.10219598,  501.3799818 ,  540.48742045,\n",
       "        582.64522373,  628.09131884,  677.08219125,  729.89433218,\n",
       "        786.82579904,  848.19789761,  914.35699539,  985.67647643,\n",
       "       1062.55884854, 1145.43801502, 1234.78172344, 1622.07266453,\n",
       "       1555.99610602, 1492.61123432, 1305.30561839])"
      ]
     },
     "execution_count": 20,
     "metadata": {},
     "output_type": "execute_result"
    }
   ],
   "source": [
    "Nj[bs.bin_mask]"
   ]
  },
  {
   "cell_type": "code",
   "execution_count": 21,
   "id": "c649d0e6-c337-42c2-aef7-e38f3ef0861c",
   "metadata": {},
   "outputs": [
    {
     "data": {
      "text/plain": [
       "array([ 60673.49134485,  76688.89198124,  84347.9581572 ,  89003.00470363,\n",
       "        96423.0560137 , 105740.37444669, 115072.47832059, 124035.04739426,\n",
       "       133137.51101249, 144391.62688525, 156442.10924604, 171553.54663269,\n",
       "       183391.40899343, 198043.917755  , 213204.2819418 , 284982.99944736,\n",
       "       274130.81262853, 263924.64138035, 232280.23466913])"
      ]
     },
     "execution_count": 21,
     "metadata": {},
     "output_type": "execute_result"
    }
   ],
   "source": [
    "Nj[bs.MS_mask_new]"
   ]
  },
  {
   "cell_type": "code",
   "execution_count": 22,
   "id": "42609ec0-bac2-45cb-a621-41c85a905a39",
   "metadata": {},
   "outputs": [
    {
     "data": {
      "text/plain": [
       "0.05019402596681124"
      ]
     },
     "execution_count": 22,
     "metadata": {},
     "output_type": "execute_result"
    }
   ],
   "source": [
    "# This is the bad (old) definition\n",
    "np.sum(Nj[bs.bin_mask]) / np.sum(Nj[bs.MS_mask_new])"
   ]
  },
  {
   "cell_type": "code",
   "execution_count": null,
   "id": "07fafe06-9667-4a78-839f-ef8d9e46c870",
   "metadata": {},
   "outputs": [],
   "source": []
  },
  {
   "cell_type": "code",
   "execution_count": 23,
   "id": "94db3d08-fe69-4154-b2ff-a3e4e8ab67ca",
   "metadata": {},
   "outputs": [
    {
     "name": "stdout",
     "output_type": "stream",
     "text": [
      "Binary Fraction: 4.780\n"
     ]
    }
   ],
   "source": [
    "# This is the definition we want to use\n",
    "print(f\"Binary Fraction: {bs.fb_true * 100:.3f}\")"
   ]
  },
  {
   "cell_type": "code",
   "execution_count": null,
   "id": "4faacf7a-ca70-43c8-88c7-74f6692910db",
   "metadata": {},
   "outputs": [],
   "source": []
  },
  {
   "cell_type": "code",
   "execution_count": 48,
   "id": "4b7388a5-e631-4f48-a3cb-82c54dfc0edd",
   "metadata": {},
   "outputs": [
    {
     "name": "stdout",
     "output_type": "stream",
     "text": [
      "Input fb | True fb | Diff\n",
      "---------------------------\n",
      "0.0  | 0.00 | -0.00\n",
      "1.0  | 0.96 | -0.04\n",
      "2.0  | 1.91 | -0.09\n",
      "3.0  | 2.87 | -0.13\n",
      "4.0  | 3.83 | -0.17\n",
      "5.0  | 4.78 | -0.22\n",
      "6.0  | 5.73 | -0.27\n",
      "7.0  | 6.69 | -0.31\n",
      "8.0  | 7.64 | -0.36\n",
      "9.0  | 8.59 | -0.41\n",
      "10.0  | 9.54 | -0.46\n",
      "11.0  | 10.49 | -0.51\n",
      "12.0  | 11.44 | -0.56\n",
      "13.0  | 12.39 | -0.61\n",
      "14.0  | 13.33 | -0.67\n",
      "15.0  | 14.28 | -0.72\n",
      "16.0  | 15.22 | -0.78\n",
      "17.0  | 16.17 | -0.83\n",
      "18.0  | 17.11 | -0.89\n",
      "19.0  | 18.06 | -0.94\n",
      "20.0  | 19.00 | -1.00\n",
      "21.0  | 19.94 | -1.06\n",
      "22.0  | 20.88 | -1.12\n",
      "23.0  | 21.81 | -1.19\n",
      "24.0  | 22.69 | -1.31\n",
      "25.0  | 23.52 | -1.48\n",
      "26.0  | 24.41 | -1.59\n",
      "27.0  | 25.24 | -1.76\n",
      "28.0  | 26.07 | -1.93\n",
      "29.0  | 26.96 | -2.04\n",
      "30.0  | 27.79 | -2.21\n",
      "31.0  | 28.63 | -2.37\n",
      "32.0  | 29.46 | -2.54\n",
      "33.0  | 30.29 | -2.71\n",
      "34.0  | 31.09 | -2.91\n",
      "35.0  | 31.91 | -3.09\n",
      "36.0  | 32.74 | -3.26\n",
      "37.0  | 33.56 | -3.44\n",
      "38.0  | 34.39 | -3.61\n",
      "39.0  | 35.21 | -3.79\n",
      "40.0  | 36.03 | -3.97\n",
      "41.0  | 36.85 | -4.15\n",
      "42.0  | 37.63 | -4.37\n",
      "43.0  | 38.45 | -4.55\n",
      "44.0  | 39.27 | -4.73\n",
      "45.0  | 40.08 | -4.92\n",
      "46.0  | 40.90 | -5.10\n",
      "47.0  | 41.71 | -5.29\n",
      "48.0  | 42.53 | -5.47\n",
      "49.0  | 43.34 | -5.66\n",
      "50.0  | 44.15 | -5.85\n",
      "51.0  | 44.96 | -6.04\n",
      "52.0  | 45.77 | -6.23\n",
      "53.0  | 46.58 | -6.42\n",
      "54.0  | 47.39 | -6.61\n",
      "55.0  | 48.19 | -6.81\n",
      "56.0  | 48.93 | -7.07\n",
      "57.0  | 49.73 | -7.27\n",
      "58.0  | 50.53 | -7.47\n",
      "59.0  | 51.33 | -7.67\n",
      "60.0  | 52.11 | -7.89\n",
      "61.0  | 52.87 | -8.13\n",
      "62.0  | 53.62 | -8.38\n",
      "63.0  | 54.28 | -8.72\n",
      "64.0  | 55.02 | -8.98\n",
      "65.0  | 55.67 | -9.33\n",
      "66.0  | 56.32 | -9.68\n",
      "67.0  | 57.17 | -9.83\n",
      "68.0  | 57.82 | -10.18\n",
      "69.0  | 58.47 | -10.53\n",
      "70.0  | 59.12 | -10.88\n"
     ]
    }
   ],
   "source": [
    "print(f\"Input fb | True fb | Diff\")\n",
    "print(\"---------------------------\")\n",
    "bs.verbose = False\n",
    "for fb in np.linspace(0, 0.7, 71):\n",
    "    bs.shift_flat(fb=fb)\n",
    "    # bs.shift_solar(fb=fb)\n",
    "    # bs._shift_q(fb=[0.2,0.2],q=[1,1])\n",
    "\n",
    "    print(f\"{fb*100:.1f}  | {bs.fb_true*100:.2f} | {-1*(fb - bs.fb_true)*100:.2f}\")"
   ]
  },
  {
   "cell_type": "code",
   "execution_count": 25,
   "id": "4e79de49-3026-45ae-9b12-491465c448ad",
   "metadata": {},
   "outputs": [],
   "source": [
    "fbs = np.linspace(0, 0.1, 31)\n",
    "\n",
    "true_fbs = []\n",
    "\n",
    "for fb in fbs:\n",
    "    bs.shift_flat(fb=fb)\n",
    "    # bs.shift_solar(fb=fb)\n",
    "\n",
    "    # bs.shift_q(fb=[fb],q=[0.4])\n",
    "\n",
    "    true_fbs.append(bs.fb_true)"
   ]
  },
  {
   "cell_type": "code",
   "execution_count": 26,
   "id": "0e6f9b2a-e241-4217-8cce-b99ccd0c20a9",
   "metadata": {},
   "outputs": [
    {
     "data": {
      "image/png": "[encoded data removed]",
      "text/plain": [
       "<Figure size 432x432 with 2 Axes>"
      ]
     },
     "metadata": {
      "image/png": {
       "height": 407,
       "width": 408
      }
     },
     "output_type": "display_data"
    }
   ],
   "source": [
    "fig, axes = plt.subplots(\n",
    "    2, 1, figsize=(6, 6), sharex=True, gridspec_kw={\"height_ratios\": [3, 1]}\n",
    ")\n",
    "axes[0].plot(np.array(fbs) * 100, np.array(true_fbs) * 100, \"o--\")\n",
    "axes[1].set_xlabel(\"Requested fb [%] \")\n",
    "axes[0].set_ylabel(\"True fb [%]\")\n",
    "axes[1].plot(np.array(fbs) * 100, np.array(true_fbs - fbs) * 100, \"o--\")\n",
    "axes[0].plot(np.array(fbs) * 100, np.array(fbs) * 100, \"--\")\n",
    "\n",
    "axes[1].set_ylabel(\"Difference [%]\")\n",
    "axes[1].set_ylim(-3, 3)\n",
    "axes[1].axhline(0, color=\"green\")\n",
    "fig.tight_layout()"
   ]
  },
  {
   "cell_type": "code",
   "execution_count": null,
   "id": "ab126778-fcaa-4da2-9d6b-6593613c0aca",
   "metadata": {},
   "outputs": [],
   "source": []
  },
  {
   "cell_type": "code",
   "execution_count": null,
   "id": "ec21cb25-df79-4683-aa58-dd8eebe7d172",
   "metadata": {},
   "outputs": [],
   "source": []
  },
  {
   "cell_type": "code",
   "execution_count": 27,
   "id": "7ea1f9d4-1a1a-4629-8a52-d70d1f0f54d2",
   "metadata": {},
   "outputs": [],
   "source": [
    "plt.close(\"all\")"
   ]
  },
  {
   "cell_type": "markdown",
   "id": "9a44e411-d25e-4f3c-bc20-fadda55e4d4c",
   "metadata": {},
   "source": [
    "# Have a look at mass ratio distribution:\n"
   ]
  },
  {
   "cell_type": "code",
   "execution_count": 28,
   "id": "a8a14d5d-aaa2-46c6-acb2-8ebb1afb799d",
   "metadata": {},
   "outputs": [],
   "source": [
    "mj_new, Mj_new = bs.shift_flat(fb=0.05)\n",
    "# mj_new, Mj_new = bs.shift_solar(fb=0.15)\n",
    "\n",
    "# mj_new, Mj_new = bs._shift_q(fb=[0.05,0.05,0.05],q=[1,0.5,0.8])\n",
    "\n",
    "qs = []\n",
    "for masses in bs.binary_components:\n",
    "    q = np.min(masses) / np.max(masses)\n",
    "    qs.append(q)"
   ]
  },
  {
   "cell_type": "code",
   "execution_count": 29,
   "id": "71c875e7-f576-4b2a-aff1-54a1a0166ec1",
   "metadata": {},
   "outputs": [
    {
     "data": {
      "text/plain": [
       "163"
      ]
     },
     "execution_count": 29,
     "metadata": {},
     "output_type": "execute_result"
    }
   ],
   "source": [
    "len(qs)"
   ]
  },
  {
   "cell_type": "code",
   "execution_count": 30,
   "id": "33860fe3-033a-494e-9e29-5f0a642da50f",
   "metadata": {},
   "outputs": [
    {
     "data": {
      "text/plain": [
       "163"
      ]
     },
     "execution_count": 30,
     "metadata": {},
     "output_type": "execute_result"
    }
   ],
   "source": [
    "len(bs.Nj_shifted[bs.bin_mask])"
   ]
  },
  {
   "cell_type": "code",
   "execution_count": 31,
   "id": "9f90fea0-cf98-4033-9ce6-a9e1a84f7eec",
   "metadata": {},
   "outputs": [],
   "source": [
    "# qs"
   ]
  },
  {
   "cell_type": "code",
   "execution_count": 32,
   "id": "9865905e-287d-4330-88c8-da66f9deeb64",
   "metadata": {},
   "outputs": [],
   "source": [
    "q_vals = [0.1, 0.2, 0.3, 0.4, 0.5, 0.6, 0.7, 0.8, 0.9, 1.0]"
   ]
  },
  {
   "cell_type": "code",
   "execution_count": 33,
   "id": "01c1489f-d051-4dc5-a7a2-9c60f2cb6527",
   "metadata": {},
   "outputs": [],
   "source": [
    "q_counts = []\n",
    "\n",
    "for q, N in zip(qs, bs.Nj_shifted[bs.bin_mask]):\n",
    "    q_count = [q] * int(N)\n",
    "    q_counts.append(q_count)"
   ]
  },
  {
   "cell_type": "code",
   "execution_count": 34,
   "id": "9d9302a4-b1f5-43bf-b70e-2e5c9cad0a90",
   "metadata": {},
   "outputs": [],
   "source": [
    "q_counts = np.hstack(q_counts).flatten()"
   ]
  },
  {
   "cell_type": "code",
   "execution_count": 35,
   "id": "4d707c22-899f-4fe7-94e6-cc4dd1c8e0b5",
   "metadata": {},
   "outputs": [
    {
     "data": {
      "text/plain": [
       "<AxesSubplot:ylabel='Count'>"
      ]
     },
     "execution_count": 35,
     "metadata": {},
     "output_type": "execute_result"
    },
    {
     "data": {
      "image/png": "[encoded data removed]",
      "text/plain": [
       "<Figure size 720x576 with 1 Axes>"
      ]
     },
     "metadata": {
      "image/png": {
       "height": 467,
       "width": 638
      }
     },
     "output_type": "display_data"
    }
   ],
   "source": [
    "plt.figure()\n",
    "seaborn.histplot(q_counts, stat=\"count\", bins=9)\n"
   ]
  },
  {
   "cell_type": "code",
   "execution_count": null,
   "id": "bdc47056-185e-4060-816f-53f21795c080",
   "metadata": {},
   "outputs": [],
   "source": []
  },
  {
   "cell_type": "code",
   "execution_count": null,
   "id": "0cb8701e-0feb-482e-9f96-11d828dad716",
   "metadata": {},
   "outputs": [],
   "source": []
  },
  {
   "cell_type": "markdown",
   "id": "812d49f9-3524-4b4e-8214-2ed17dec4ac5",
   "metadata": {},
   "source": [
    "# Now lets re-bin/re-sample the binary bins so that instead of adding like 150+ bins we only add like 10 ish\n",
    "\n",
    "I't thinking `np.digitize` might be the way to go here given that we want to bin by the mean mass but still add the total mass and keep track of each bin's make-up."
   ]
  },
  {
   "cell_type": "code",
   "execution_count": null,
   "id": "adb7cc79-e931-46a1-bff4-9f4e976739f2",
   "metadata": {},
   "outputs": [],
   "source": []
  },
  {
   "cell_type": "code",
   "execution_count": 36,
   "id": "0f9c838a-8587-491c-8459-00cc3b5c88c9",
   "metadata": {},
   "outputs": [
    {
     "data": {
      "text/plain": [
       "0.21126561148583806"
      ]
     },
     "execution_count": 36,
     "metadata": {},
     "output_type": "execute_result"
    }
   ],
   "source": [
    "np.min(mj_new[bs.bin_mask])"
   ]
  },
  {
   "cell_type": "code",
   "execution_count": 37,
   "id": "2c5cb60a-bc53-4dc3-895c-998290811962",
   "metadata": {},
   "outputs": [
    {
     "data": {
      "text/plain": [
       "1.614825175124991"
      ]
     },
     "execution_count": 37,
     "metadata": {},
     "output_type": "execute_result"
    }
   ],
   "source": [
    "np.max(mj_new[bs.bin_mask])"
   ]
  },
  {
   "cell_type": "code",
   "execution_count": 38,
   "id": "d0aac66b-a48d-439f-be41-30c2be5d4b95",
   "metadata": {},
   "outputs": [
    {
     "data": {
      "text/plain": [
       "163"
      ]
     },
     "execution_count": 38,
     "metadata": {},
     "output_type": "execute_result"
    }
   ],
   "source": [
    "len(mj_new[bs.bin_mask])"
   ]
  },
  {
   "cell_type": "code",
   "execution_count": 39,
   "id": "02308233-8f6e-42d4-921a-bca840840e1a",
   "metadata": {},
   "outputs": [],
   "source": [
    "count, binned = np.histogram(mj_new[bs.bin_mask])"
   ]
  },
  {
   "cell_type": "code",
   "execution_count": 40,
   "id": "50547dd6-1da7-40b0-a4fc-7612e1d8f80c",
   "metadata": {},
   "outputs": [
    {
     "data": {
      "text/plain": [
       "array([0.21126561, 0.35162157, 0.49197752, 0.63233348, 0.77268944,\n",
       "       0.91304539, 1.05340135, 1.19375731, 1.33411326, 1.47446922,\n",
       "       1.61482518])"
      ]
     },
     "execution_count": 40,
     "metadata": {},
     "output_type": "execute_result"
    }
   ],
   "source": [
    "binned"
   ]
  },
  {
   "cell_type": "code",
   "execution_count": 41,
   "id": "2d2c39f3-bf1d-4274-95d9-e41bc2822237",
   "metadata": {},
   "outputs": [],
   "source": [
    "binned = np.array([(binned[i]+binned[i+1])/2 for i in range(len(binned)-1)])"
   ]
  },
  {
   "cell_type": "code",
   "execution_count": 42,
   "id": "f8806124-7e7b-47f3-9a16-e32ad406f07a",
   "metadata": {},
   "outputs": [
    {
     "data": {
      "text/plain": [
       "10"
      ]
     },
     "execution_count": 42,
     "metadata": {},
     "output_type": "execute_result"
    }
   ],
   "source": [
    "len(binned)"
   ]
  },
  {
   "cell_type": "code",
   "execution_count": 43,
   "id": "fba73ea6-31df-4645-8dbc-dd8ba1bfc5fb",
   "metadata": {},
   "outputs": [
    {
     "data": {
      "text/plain": [
       "array([0.28144359, 0.42179955, 0.5621555 , 0.70251146, 0.84286742,\n",
       "       0.98322337, 1.12357933, 1.26393528, 1.40429124, 1.5446472 ])"
      ]
     },
     "execution_count": 43,
     "metadata": {},
     "output_type": "execute_result"
    }
   ],
   "source": [
    "binned"
   ]
  },
  {
   "cell_type": "code",
   "execution_count": 44,
   "id": "9e73ecf0-dbfe-4195-b222-a1ad3a7b475d",
   "metadata": {},
   "outputs": [],
   "source": [
    "bin_idxs = [(np.abs(binned - mj)).argmin() for mj in mj_new[bs.bin_mask]]"
   ]
  },
  {
   "cell_type": "code",
   "execution_count": 45,
   "id": "77eeb700-53d6-4434-a2a8-7c8960b992cf",
   "metadata": {},
   "outputs": [
    {
     "name": "stdout",
     "output_type": "stream",
     "text": [
      "mj = 0.64 \t binned: 0.70 \t diff: 0.06\n",
      "mj = 0.73 \t binned: 0.70 \t diff: 0.03\n",
      "mj = 0.75 \t binned: 0.70 \t diff: 0.04\n",
      "mj = 0.85 \t binned: 0.84 \t diff: 0.01\n",
      "mj = 0.97 \t binned: 0.98 \t diff: 0.01\n",
      "mj = 0.53 \t binned: 0.56 \t diff: 0.03\n",
      "mj = 0.58 \t binned: 0.56 \t diff: 0.02\n",
      "mj = 0.64 \t binned: 0.70 \t diff: 0.06\n",
      "mj = 0.73 \t binned: 0.70 \t diff: 0.03\n",
      "mj = 0.85 \t binned: 0.84 \t diff: 0.01\n",
      "mj = 0.97 \t binned: 0.98 \t diff: 0.01\n",
      "mj = 0.45 \t binned: 0.42 \t diff: 0.03\n",
      "mj = 0.50 \t binned: 0.56 \t diff: 0.06\n",
      "mj = 0.56 \t binned: 0.56 \t diff: 0.01\n",
      "mj = 0.62 \t binned: 0.56 \t diff: 0.06\n",
      "mj = 0.70 \t binned: 0.70 \t diff: 0.00\n",
      "mj = 0.80 \t binned: 0.84 \t diff: 0.05\n",
      "mj = 0.91 \t binned: 0.84 \t diff: 0.07\n",
      "mj = 0.93 \t binned: 0.98 \t diff: 0.05\n",
      "mj = 1.06 \t binned: 1.12 \t diff: 0.07\n",
      "mj = 0.38 \t binned: 0.42 \t diff: 0.04\n",
      "mj = 0.41 \t binned: 0.42 \t diff: 0.01\n",
      "mj = 0.45 \t binned: 0.42 \t diff: 0.03\n",
      "mj = 0.50 \t binned: 0.56 \t diff: 0.06\n",
      "mj = 0.56 \t binned: 0.56 \t diff: 0.01\n",
      "mj = 0.62 \t binned: 0.56 \t diff: 0.06\n",
      "mj = 0.70 \t binned: 0.70 \t diff: 0.00\n",
      "mj = 0.80 \t binned: 0.84 \t diff: 0.05\n",
      "mj = 0.91 \t binned: 0.84 \t diff: 0.07\n",
      "mj = 1.06 \t binned: 1.12 \t diff: 0.07\n",
      "mj = 0.38 \t binned: 0.42 \t diff: 0.04\n",
      "mj = 0.43 \t binned: 0.42 \t diff: 0.00\n",
      "mj = 0.47 \t binned: 0.42 \t diff: 0.05\n",
      "mj = 0.53 \t binned: 0.56 \t diff: 0.03\n",
      "mj = 0.59 \t binned: 0.56 \t diff: 0.03\n",
      "mj = 0.66 \t binned: 0.70 \t diff: 0.05\n",
      "mj = 0.68 \t binned: 0.70 \t diff: 0.03\n",
      "mj = 0.33 \t binned: 0.28 \t diff: 0.05\n",
      "mj = 0.35 \t binned: 0.42 \t diff: 0.07\n",
      "mj = 0.38 \t binned: 0.42 \t diff: 0.04\n",
      "mj = 0.43 \t binned: 0.42 \t diff: 0.00\n",
      "mj = 0.47 \t binned: 0.42 \t diff: 0.05\n",
      "mj = 0.53 \t binned: 0.56 \t diff: 0.03\n",
      "mj = 0.59 \t binned: 0.56 \t diff: 0.03\n",
      "mj = 0.66 \t binned: 0.70 \t diff: 0.05\n",
      "mj = 0.76 \t binned: 0.70 \t diff: 0.06\n",
      "mj = 0.86 \t binned: 0.84 \t diff: 0.02\n",
      "mj = 0.98 \t binned: 0.98 \t diff: 0.00\n",
      "mj = 1.12 \t binned: 1.12 \t diff: 0.01\n",
      "mj = 0.31 \t binned: 0.28 \t diff: 0.03\n",
      "mj = 0.34 \t binned: 0.28 \t diff: 0.06\n",
      "mj = 0.38 \t binned: 0.42 \t diff: 0.04\n",
      "mj = 0.42 \t binned: 0.42 \t diff: 0.00\n",
      "mj = 0.27 \t binned: 0.28 \t diff: 0.01\n",
      "mj = 0.29 \t binned: 0.28 \t diff: 0.00\n",
      "mj = 0.31 \t binned: 0.28 \t diff: 0.03\n",
      "mj = 0.34 \t binned: 0.28 \t diff: 0.06\n",
      "mj = 0.38 \t binned: 0.42 \t diff: 0.04\n",
      "mj = 0.42 \t binned: 0.42 \t diff: 0.00\n",
      "mj = 0.47 \t binned: 0.42 \t diff: 0.05\n",
      "mj = 0.52 \t binned: 0.56 \t diff: 0.04\n",
      "mj = 0.58 \t binned: 0.56 \t diff: 0.02\n",
      "mj = 0.65 \t binned: 0.70 \t diff: 0.05\n",
      "mj = 0.72 \t binned: 0.70 \t diff: 0.02\n",
      "mj = 0.81 \t binned: 0.84 \t diff: 0.03\n",
      "mj = 0.92 \t binned: 0.98 \t diff: 0.06\n",
      "mj = 1.05 \t binned: 0.98 \t diff: 0.07\n",
      "mj = 1.19 \t binned: 1.12 \t diff: 0.07\n",
      "mj = 0.29 \t binned: 0.28 \t diff: 0.00\n",
      "mj = 0.32 \t binned: 0.28 \t diff: 0.04\n",
      "mj = 0.35 \t binned: 0.42 \t diff: 0.07\n",
      "mj = 0.25 \t binned: 0.28 \t diff: 0.03\n",
      "mj = 0.27 \t binned: 0.28 \t diff: 0.01\n",
      "mj = 0.29 \t binned: 0.28 \t diff: 0.00\n",
      "mj = 0.32 \t binned: 0.28 \t diff: 0.04\n",
      "mj = 0.35 \t binned: 0.42 \t diff: 0.07\n",
      "mj = 0.39 \t binned: 0.42 \t diff: 0.03\n",
      "mj = 0.44 \t binned: 0.42 \t diff: 0.02\n",
      "mj = 0.49 \t binned: 0.42 \t diff: 0.07\n",
      "mj = 0.54 \t binned: 0.56 \t diff: 0.02\n",
      "mj = 0.61 \t binned: 0.56 \t diff: 0.04\n",
      "mj = 0.68 \t binned: 0.70 \t diff: 0.03\n",
      "mj = 0.75 \t binned: 0.70 \t diff: 0.05\n",
      "mj = 0.84 \t binned: 0.84 \t diff: 0.00\n",
      "mj = 1.00 \t binned: 0.98 \t diff: 0.02\n",
      "mj = 1.13 \t binned: 1.12 \t diff: 0.01\n",
      "mj = 1.28 \t binned: 1.26 \t diff: 0.02\n",
      "mj = 0.25 \t binned: 0.28 \t diff: 0.03\n",
      "mj = 0.22 \t binned: 0.28 \t diff: 0.06\n",
      "mj = 0.24 \t binned: 0.28 \t diff: 0.04\n",
      "mj = 0.25 \t binned: 0.28 \t diff: 0.03\n",
      "mj = 0.28 \t binned: 0.28 \t diff: 0.00\n",
      "mj = 0.31 \t binned: 0.28 \t diff: 0.03\n",
      "mj = 0.35 \t binned: 0.28 \t diff: 0.07\n",
      "mj = 0.39 \t binned: 0.42 \t diff: 0.04\n",
      "mj = 0.43 \t binned: 0.42 \t diff: 0.01\n",
      "mj = 0.48 \t binned: 0.42 \t diff: 0.06\n",
      "mj = 0.53 \t binned: 0.56 \t diff: 0.03\n",
      "mj = 0.59 \t binned: 0.56 \t diff: 0.03\n",
      "mj = 0.66 \t binned: 0.70 \t diff: 0.04\n",
      "mj = 0.74 \t binned: 0.70 \t diff: 0.03\n",
      "mj = 0.82 \t binned: 0.84 \t diff: 0.02\n",
      "mj = 0.92 \t binned: 0.98 \t diff: 0.06\n",
      "mj = 1.04 \t binned: 0.98 \t diff: 0.06\n",
      "mj = 1.18 \t binned: 1.12 \t diff: 0.06\n",
      "mj = 1.34 \t binned: 1.40 \t diff: 0.06\n",
      "mj = 0.21 \t binned: 0.28 \t diff: 0.07\n",
      "mj = 0.22 \t binned: 0.28 \t diff: 0.06\n",
      "mj = 0.24 \t binned: 0.28 \t diff: 0.04\n",
      "mj = 0.26 \t binned: 0.28 \t diff: 0.02\n",
      "mj = 0.29 \t binned: 0.28 \t diff: 0.01\n",
      "mj = 0.33 \t binned: 0.28 \t diff: 0.04\n",
      "mj = 0.36 \t binned: 0.42 \t diff: 0.06\n",
      "mj = 0.40 \t binned: 0.42 \t diff: 0.02\n",
      "mj = 0.45 \t binned: 0.42 \t diff: 0.03\n",
      "mj = 0.50 \t binned: 0.56 \t diff: 0.06\n",
      "mj = 0.56 \t binned: 0.56 \t diff: 0.00\n",
      "mj = 0.62 \t binned: 0.56 \t diff: 0.06\n",
      "mj = 0.69 \t binned: 0.70 \t diff: 0.01\n",
      "mj = 0.77 \t binned: 0.70 \t diff: 0.07\n",
      "mj = 0.86 \t binned: 0.84 \t diff: 0.01\n",
      "mj = 0.96 \t binned: 0.98 \t diff: 0.02\n",
      "mj = 1.09 \t binned: 1.12 \t diff: 0.03\n",
      "mj = 1.24 \t binned: 1.26 \t diff: 0.02\n",
      "mj = 1.42 \t binned: 1.40 \t diff: 0.02\n",
      "mj = 0.21 \t binned: 0.28 \t diff: 0.07\n",
      "mj = 0.22 \t binned: 0.28 \t diff: 0.06\n",
      "mj = 0.25 \t binned: 0.28 \t diff: 0.03\n",
      "mj = 0.28 \t binned: 0.28 \t diff: 0.00\n",
      "mj = 0.31 \t binned: 0.28 \t diff: 0.03\n",
      "mj = 0.34 \t binned: 0.28 \t diff: 0.06\n",
      "mj = 0.38 \t binned: 0.42 \t diff: 0.04\n",
      "mj = 0.42 \t binned: 0.42 \t diff: 0.00\n",
      "mj = 0.47 \t binned: 0.42 \t diff: 0.05\n",
      "mj = 0.53 \t binned: 0.56 \t diff: 0.04\n",
      "mj = 0.59 \t binned: 0.56 \t diff: 0.02\n",
      "mj = 0.65 \t binned: 0.70 \t diff: 0.05\n",
      "mj = 0.73 \t binned: 0.70 \t diff: 0.02\n",
      "mj = 0.81 \t binned: 0.84 \t diff: 0.03\n",
      "mj = 0.90 \t binned: 0.84 \t diff: 0.06\n",
      "mj = 1.01 \t binned: 0.98 \t diff: 0.03\n",
      "mj = 1.15 \t binned: 1.12 \t diff: 0.03\n",
      "mj = 1.32 \t binned: 1.26 \t diff: 0.06\n",
      "mj = 1.51 \t binned: 1.54 \t diff: 0.03\n",
      "mj = 0.21 \t binned: 0.28 \t diff: 0.07\n",
      "mj = 0.24 \t binned: 0.28 \t diff: 0.05\n",
      "mj = 0.26 \t binned: 0.28 \t diff: 0.02\n",
      "mj = 0.29 \t binned: 0.28 \t diff: 0.01\n",
      "mj = 0.32 \t binned: 0.28 \t diff: 0.04\n",
      "mj = 0.36 \t binned: 0.42 \t diff: 0.06\n",
      "mj = 0.40 \t binned: 0.42 \t diff: 0.02\n",
      "mj = 0.45 \t binned: 0.42 \t diff: 0.03\n",
      "mj = 0.50 \t binned: 0.56 \t diff: 0.06\n",
      "mj = 0.55 \t binned: 0.56 \t diff: 0.01\n",
      "mj = 0.62 \t binned: 0.56 \t diff: 0.06\n",
      "mj = 0.69 \t binned: 0.70 \t diff: 0.01\n",
      "mj = 0.77 \t binned: 0.70 \t diff: 0.06\n",
      "mj = 0.85 \t binned: 0.84 \t diff: 0.01\n",
      "mj = 0.95 \t binned: 0.98 \t diff: 0.03\n",
      "mj = 1.07 \t binned: 1.12 \t diff: 0.05\n",
      "mj = 1.23 \t binned: 1.26 \t diff: 0.03\n",
      "mj = 1.41 \t binned: 1.40 \t diff: 0.01\n",
      "mj = 1.61 \t binned: 1.54 \t diff: 0.07\n"
     ]
    }
   ],
   "source": [
    "for i, mj in enumerate(mj_new[bs.bin_mask]):\n",
    "    print(f\"{mj = :.2f} \\t binned: {binned[bin_idxs[i]]:.2f} \\t diff: {np.abs(mj - binned[bin_idxs[i]]):.2f}\")"
   ]
  },
  {
   "cell_type": "code",
   "execution_count": 46,
   "id": "3f6fa9c0-2772-48fa-9e4d-820b5b02caed",
   "metadata": {},
   "outputs": [
    {
     "data": {
      "text/plain": [
       "array([0.01132636, 0.01260922, 0.01403739, 0.01562731, 0.01739732,\n",
       "       0.0193678 , 0.02156147, 0.02400359, 0.02672233, 0.02974899,\n",
       "       0.03311847, 0.03686959, 0.04104557, 0.04569454, 0.05087006,\n",
       "       0.07434918, 0.08540478, 0.09810433, 0.10189271])"
      ]
     },
     "execution_count": 46,
     "metadata": {},
     "output_type": "execute_result"
    }
   ],
   "source": [
    "dms[:nms]"
   ]
  },
  {
   "cell_type": "code",
   "execution_count": null,
   "id": "d5ebedf7-e9cf-4c0c-8369-c5260ea0327a",
   "metadata": {},
   "outputs": [],
   "source": []
  },
  {
   "cell_type": "code",
   "execution_count": null,
   "id": "bd857093-f5a0-486a-806c-3266f61539c4",
   "metadata": {},
   "outputs": [],
   "source": []
  },
  {
   "cell_type": "code",
   "execution_count": null,
   "id": "ad297855-07d1-4596-8f24-deef9f79b686",
   "metadata": {},
   "outputs": [],
   "source": []
  },
  {
   "cell_type": "code",
   "execution_count": null,
   "id": "e0400016-9462-4dab-9ffa-2069b93b9ea8",
   "metadata": {},
   "outputs": [],
   "source": []
  },
  {
   "cell_type": "code",
   "execution_count": null,
   "id": "10b3120b-8e5b-49c6-8534-256f2aca5b4b",
   "metadata": {},
   "outputs": [],
   "source": []
  },
  {
   "cell_type": "code",
   "execution_count": 47,
   "id": "59845cf2-612b-42e3-992f-f3845f1be075",
   "metadata": {},
   "outputs": [
    {
     "ename": "NameError",
     "evalue": "name 'stop' is not defined",
     "output_type": "error",
     "traceback": [
      "\u001b[0;31m---------------------------------------------------------------------------\u001b[0m",
      "\u001b[0;31mNameError\u001b[0m                                 Traceback (most recent call last)",
      "\u001b[0;32m/tmp/ipykernel_171000/1640820313.py\u001b[0m in \u001b[0;36m<module>\u001b[0;34m\u001b[0m\n\u001b[1;32m      1\u001b[0m \u001b[0;31m# Have a look at models\u001b[0m\u001b[0;34m\u001b[0m\u001b[0;34m\u001b[0m\u001b[0;34m\u001b[0m\u001b[0m\n\u001b[0;32m----> 2\u001b[0;31m \u001b[0mstop\u001b[0m\u001b[0;34m\u001b[0m\u001b[0;34m\u001b[0m\u001b[0m\n\u001b[0m",
      "\u001b[0;31mNameError\u001b[0m: name 'stop' is not defined"
     ]
    }
   ],
   "source": [
    "# Have a look at models\n",
    "stop"
   ]
  },
  {
   "cell_type": "code",
   "execution_count": null,
   "id": "0d13d810-531a-4e05-bb03-2b7f6d82d297",
   "metadata": {},
   "outputs": [],
   "source": [
    "l = limepy(\n",
    "    M=1e6, phi0=6, g=0.8, mj=mj, Mj=Mj, delta=0.45, rh=8, ra=10 ** 1.23, project=True\n",
    ")"
   ]
  },
  {
   "cell_type": "code",
   "execution_count": null,
   "id": "8b947cea-1e8e-4a73-a64a-131664250285",
   "metadata": {},
   "outputs": [],
   "source": [
    "l_bin = limepy(\n",
    "    M=1e6,\n",
    "    phi0=6,\n",
    "    g=0.8,\n",
    "    mj=mj_new,\n",
    "    Mj=Mj_new,\n",
    "    delta=0.45,\n",
    "    rh=8,\n",
    "    ra=10 ** 1.23,\n",
    "    project=True,\n",
    ")"
   ]
  },
  {
   "cell_type": "code",
   "execution_count": null,
   "id": "4aa72d51-f99b-47ee-86dc-61e2323b3f11",
   "metadata": {},
   "outputs": [],
   "source": []
  },
  {
   "cell_type": "code",
   "execution_count": null,
   "id": "8d17ffa9-5840-4f48-9b53-3c7f51bdd7fd",
   "metadata": {},
   "outputs": [],
   "source": []
  },
  {
   "cell_type": "code",
   "execution_count": null,
   "id": "104a1a22-f6dd-4e1a-8674-0e637c65ab60",
   "metadata": {},
   "outputs": [],
   "source": [
    "plt.figure()\n",
    "plt.loglog()\n",
    "plt.xlim(1e-2, 1e2)\n",
    "plt.ylim(1e2, 1e7)\n",
    "plt.plot(l.r, l.mcp, label=\"No Binaries\")\n",
    "plt.xlabel(\"R [pc]\")\n",
    "plt.ylabel(\"Enclosed Mass\")\n",
    "plt.plot(l_bin.r, l_bin.mcp, label=\"Binaries\")\n",
    "plt.legend()"
   ]
  },
  {
   "cell_type": "code",
   "execution_count": null,
   "id": "71e9cb12-2902-4e00-8306-6f2c6e05f744",
   "metadata": {},
   "outputs": [],
   "source": []
  },
  {
   "cell_type": "code",
   "execution_count": null,
   "id": "6eb79203-76f3-4999-9b7f-ec67b4b61ac8",
   "metadata": {},
   "outputs": [],
   "source": [
    "plt.figure()\n",
    "plt.xscale(\"log\")\n",
    "plt.xlim(1e-2, 1e2)\n",
    "plt.plot(l.r, np.sqrt(l.v2R), label=\"No Binaries\")\n",
    "plt.xlabel(\"R [pc]\")\n",
    "plt.ylabel(\"Vr\")\n",
    "plt.plot(l_bin.r, np.sqrt(l_bin.v2R), label=\"Binaries\")\n",
    "plt.legend()"
   ]
  },
  {
   "cell_type": "code",
   "execution_count": null,
   "id": "5a08363f-e69b-4d01-95b7-e809f870433d",
   "metadata": {},
   "outputs": [],
   "source": [
    "plt.figure()\n",
    "plt.xscale(\"log\")\n",
    "plt.xlim(1e-2, 1e2)\n",
    "plt.plot(l.r, np.sqrt(l.v2T), label=\"No Binaries\")\n",
    "plt.xlabel(\"R [pc]\")\n",
    "plt.ylabel(\"Vt\")\n",
    "plt.plot(l_bin.r, np.sqrt(l_bin.v2T), label=\"Binaries\")\n",
    "plt.legend()"
   ]
  },
  {
   "cell_type": "code",
   "execution_count": null,
   "id": "c83688ad-3f3b-4e9e-992c-668dce52e223",
   "metadata": {},
   "outputs": [],
   "source": [
    "plt.figure()\n",
    "plt.xscale(\"log\")\n",
    "plt.xlim(1e-2, 1e2)\n",
    "plt.plot(l.r, np.sqrt(l.v2p), label=\"No Binaries\")\n",
    "plt.xlabel(\"R [pc]\")\n",
    "plt.ylabel(\"Vlos\")\n",
    "plt.plot(l_bin.r, np.sqrt(l_bin.v2p), label=\"Binaries\")\n",
    "plt.legend()"
   ]
  },
  {
   "cell_type": "code",
   "execution_count": null,
   "id": "6aa1d2b9-883e-4d10-b237-6ab36d72f7fe",
   "metadata": {},
   "outputs": [],
   "source": []
  },
  {
   "cell_type": "code",
   "execution_count": null,
   "id": "884f573f-542d-4a74-ae55-0371d2d8aef8",
   "metadata": {},
   "outputs": [],
   "source": [
    "plt.figure()\n",
    "plt.loglog()\n",
    "plt.xlim(1e-1, 1e2)\n",
    "plt.ylim(1e-0, 1e6)\n",
    "plt.plot(l.r, l.Sigma, label=\"No Binaries\")\n",
    "plt.xlabel(\"R [pc]\")\n",
    "plt.ylabel(r\"$\\Sigma$\")\n",
    "plt.plot(l_bin.r, l_bin.Sigma, label=\"Binaries\")\n",
    "plt.legend()"
   ]
  },
  {
   "cell_type": "code",
   "execution_count": null,
   "id": "25f94e31-6214-4aac-b7c3-03363ec30c5c",
   "metadata": {},
   "outputs": [],
   "source": []
  },
  {
   "cell_type": "code",
   "execution_count": null,
   "id": "8ff9ad43-a7f4-477a-b26a-134616bec44e",
   "metadata": {},
   "outputs": [],
   "source": []
  },
  {
   "cell_type": "code",
   "execution_count": null,
   "id": "e99be0bb-b40a-484e-a1c7-695a2a8663ec",
   "metadata": {},
   "outputs": [],
   "source": []
  },
  {
   "cell_type": "code",
   "execution_count": null,
   "id": "de6ea357-5012-4332-8729-3c8c24bf5693",
   "metadata": {},
   "outputs": [],
   "source": []
  },
  {
   "cell_type": "code",
   "execution_count": null,
   "id": "aa9f3423-dc3e-4519-b14a-c541d3ec6673",
   "metadata": {},
   "outputs": [],
   "source": []
  },
  {
   "cell_type": "code",
   "execution_count": null,
   "id": "51949b19-6600-4320-bdc2-2abe93fb963b",
   "metadata": {},
   "outputs": [],
   "source": []
  }
 ],
 "metadata": {
  "kernelspec": {
   "display_name": "gcfit",
   "language": "python",
   "name": "gcfit"
  },
  "language_info": {
   "codemirror_mode": {
    "name": "ipython",
    "version": 3
   },
   "file_extension": ".py",
   "mimetype": "text/x-python",
   "name": "python",
   "nbconvert_exporter": "python",
   "pygments_lexer": "ipython3",
   "version": "3.8.12"
  },
  "nteract": {
   "version": "0.28.0"
  }
 },
 "nbformat": 4,
 "nbformat_minor": 5
}
