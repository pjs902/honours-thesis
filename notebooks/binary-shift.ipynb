{
 "cells": [
  {
   "cell_type": "code",
   "execution_count": 1,
   "id": "94217554-aebf-4de3-b5af-b7a19cab0dad",
   "metadata": {},
   "outputs": [],
   "source": [
    "%matplotlib ipympl\n",
    "%config InlineBackend.figure_format = \"retina\"\n",
    "\n",
    "import matplotlib.pyplot as plt\n",
    "import seaborn\n",
    "\n",
    "seaborn.set(context=\"notebook\", style=\"darkgrid\")\n",
    "plt.rcParams[\"figure.figsize\"] = (8, 6)\n",
    "from tqdm.auto import tqdm, trange\n",
    "\n",
    "from ssptools import evolve_mf_3 as emf3\n",
    "from limepy import limepy\n",
    "\n",
    "import numpy as np\n",
    "import scipy as sp\n",
    "import astropy.units as u\n",
    "import astropy.constants as const\n",
    "\n",
    "from binaryshift import BinaryShift"
   ]
  },
  {
   "cell_type": "code",
   "execution_count": null,
   "id": "1863b5c3-2883-4478-84ec-3b0c11208070",
   "metadata": {},
   "outputs": [],
   "source": []
  },
  {
   "cell_type": "code",
   "execution_count": null,
   "id": "dcb88432-f76a-409e-8b11-007a5cc6728a",
   "metadata": {},
   "outputs": [],
   "source": []
  },
  {
   "cell_type": "code",
   "execution_count": 2,
   "id": "34a6f01c-723c-494f-b97b-cc4b3f44c1aa",
   "metadata": {},
   "outputs": [],
   "source": [
    "m123 = [0.1, 0.5, 1.0, 100]  # Slope breakpoints for initial mass function\n",
    "a12 = [-0.468, -1.178, -2.117]  # Slopes for initial mass function\n",
    "nbin12 = [5, 5, 20]\n",
    "\n",
    "# Output times for the evolution\n",
    "tout = np.array([11000])\n",
    "\n",
    "# Integration settings\n",
    "N0 = 5e5  # Normalization of stars\n",
    "Ndot = -0.0001  # Regulates how low mass objects are depleted default -20, 0 for 47 Tuc\n",
    "tcc = 0  # Core collapse time\n",
    "NS_ret = 0.1  # Initial neutron star retention\n",
    "BH_ret_int = 1  # Initial Black Hole retention\n",
    "BH_ret_dyn = 0.00235  # Dynamical Black Hole retention\n",
    "FeHe = -0.7  # Metallicity"
   ]
  },
  {
   "cell_type": "code",
   "execution_count": 3,
   "id": "97069263-e4ac-4fc8-b7a8-889c8b5aa94b",
   "metadata": {},
   "outputs": [
    {
     "name": "stderr",
     "output_type": "stream",
     "text": [
      "/home/peter/research/ssptools/ssptools/evolve_mf_3.py:321: RuntimeWarning: divide by zero encountered in true_divide\n",
      "  As = Ns / P1\n",
      "/home/peter/research/ssptools/ssptools/evolve_mf_3.py:246: RuntimeWarning: divide by zero encountered in double_scalars\n",
      "  Aj = Nj / self.Pk(alphaj, 1, m1, mto)\n"
     ]
    }
   ],
   "source": [
    "f = emf3.evolve_mf(\n",
    "    m123=m123,\n",
    "    a12=a12,\n",
    "    nbin12=nbin12,\n",
    "    tout=tout,\n",
    "    N0=N0,\n",
    "    Ndot=Ndot,\n",
    "    tcc=tcc,\n",
    "    NS_ret=NS_ret,\n",
    "    BH_ret_int=BH_ret_int,\n",
    "    BH_ret_dyn=BH_ret_dyn,\n",
    "    FeHe=FeHe,\n",
    "    natal_kicks=True,\n",
    "    vesc=100,\n",
    ")"
   ]
  },
  {
   "cell_type": "code",
   "execution_count": 4,
   "id": "01621e16-2a98-4354-a011-38c1bda1f298",
   "metadata": {},
   "outputs": [
    {
     "data": {
      "text/plain": [
       "<ssptools.evolve_mf_3.evolve_mf at 0x7f019b2eac10>"
      ]
     },
     "execution_count": 4,
     "metadata": {},
     "output_type": "execute_result"
    }
   ],
   "source": [
    "f"
   ]
  },
  {
   "cell_type": "code",
   "execution_count": 5,
   "id": "da017f9e-c551-4859-af62-1498bc539396",
   "metadata": {},
   "outputs": [],
   "source": [
    "cs = f.Ns[-1] > 10 * f.Nmin\n",
    "cr = f.Nr[-1] > 10 * f.Nmin\n",
    "mj = np.r_[f.ms[-1][cs], f.mr[-1][cr]]\n",
    "Mj = np.r_[f.Ms[-1][cs], f.Mr[-1][cr]]\n",
    "dms = f.mes[-1][1:] - f.mes[-1][0:-1]\n",
    "nms = len(f.ms[-1][cs])"
   ]
  },
  {
   "cell_type": "code",
   "execution_count": 6,
   "id": "1836d337-8903-4836-aed7-56802f6f2a76",
   "metadata": {},
   "outputs": [
    {
     "data": {
      "text/plain": [
       "0.1"
      ]
     },
     "execution_count": 6,
     "metadata": {},
     "output_type": "execute_result"
    }
   ],
   "source": [
    "f.Nmin"
   ]
  },
  {
   "cell_type": "code",
   "execution_count": 7,
   "id": "24e43d32-4d9a-4cc2-97f0-9e84eb9c51aa",
   "metadata": {},
   "outputs": [
    {
     "data": {
      "text/plain": [
       "array([2.95883348e+04, 3.51148719e+04, 4.16736635e+04, 4.94575166e+04,\n",
       "       5.86952514e+04, 2.71682569e+04, 2.65060641e+04, 2.58600120e+04,\n",
       "       2.29833309e+04, 6.95280608e+04, 5.21309472e+04, 1.06014224e+04,\n",
       "       9.56144999e+03, 1.82354947e+04, 2.04397763e+03, 1.20576114e+00,\n",
       "       1.97377636e+00, 2.93273915e+00, 4.64349427e+00, 8.05495321e+00,\n",
       "       4.69949195e+00])"
      ]
     },
     "execution_count": 7,
     "metadata": {},
     "output_type": "execute_result"
    }
   ],
   "source": [
    "Mj / mj"
   ]
  },
  {
   "cell_type": "code",
   "execution_count": 8,
   "id": "de8c7d31-bbb2-4c69-ade4-47b037de6be2",
   "metadata": {},
   "outputs": [],
   "source": [
    "bs = BinaryShift(mj=mj, Mj=Mj, MF=f, verbose=False)"
   ]
  },
  {
   "cell_type": "code",
   "execution_count": 9,
   "id": "c2e27b8d-43a0-4292-b725-4262f3d2d606",
   "metadata": {},
   "outputs": [
    {
     "name": "stdout",
     "output_type": "stream",
     "text": [
      "self.mj = array([0.11851084, 0.16351292, 0.22560363, 0.31127202, 0.42947124,\n",
      "       0.53616312, 0.6158897 , 0.70747148, 0.80754321, 0.6158897 ,\n",
      "       0.70747148, 0.80754321, 0.92779583, 1.11896564, 1.40869427,\n",
      "       2.81071458, 3.53848001, 4.45468241, 5.60811288, 7.06019582,\n",
      "       8.88825993])\n",
      "self.Mj = array([3.50653839e+03, 5.74173527e+03, 9.40172964e+03, 1.53947409e+04,\n",
      "       2.52079221e+04, 1.45666174e+04, 1.63248118e+04, 1.82952210e+04,\n",
      "       1.85600328e+04, 4.28216163e+04, 3.68811585e+04, 8.56110667e+03,\n",
      "       8.87107346e+03, 2.04048921e+04, 2.87933957e+03, 3.38905042e+00,\n",
      "       6.98416820e+00, 1.30644215e+01, 2.60412400e+01, 5.68695470e+01,\n",
      "       4.17703060e+01])\n",
      "self._nms = 8\n",
      "self._mWD_max = 1.2485309234871975\n",
      "self._mBH_min = 2.51188643150958\n"
     ]
    }
   ],
   "source": [
    "bs.dump()"
   ]
  },
  {
   "cell_type": "code",
   "execution_count": 10,
   "id": "5dbda990-0e03-4e99-b7ff-b6db1aed7b88",
   "metadata": {},
   "outputs": [
    {
     "data": {
      "text/plain": [
       "array([ True,  True,  True,  True,  True,  True,  True,  True,  True,\n",
       "       False, False, False, False, False, False, False, False, False,\n",
       "       False, False, False])"
      ]
     },
     "execution_count": 10,
     "metadata": {},
     "output_type": "execute_result"
    }
   ],
   "source": [
    "bs.MS_mask"
   ]
  },
  {
   "cell_type": "code",
   "execution_count": 11,
   "id": "2054a497-43f4-424b-9b1b-37cbe1926e06",
   "metadata": {},
   "outputs": [
    {
     "data": {
      "text/plain": [
       "array([0.11851084, 0.16351292, 0.22560363, 0.31127202, 0.42947124,\n",
       "       0.53616312, 0.6158897 , 0.70747148, 0.80754321])"
      ]
     },
     "execution_count": 11,
     "metadata": {},
     "output_type": "execute_result"
    }
   ],
   "source": [
    "bs.mj[bs.MS_mask]"
   ]
  },
  {
   "cell_type": "code",
   "execution_count": null,
   "id": "6c2bd1aa-2fb3-4769-bd55-c926f66273f2",
   "metadata": {},
   "outputs": [],
   "source": []
  },
  {
   "cell_type": "code",
   "execution_count": 12,
   "id": "5e7af1bc-e5f8-46b4-890c-fd8eda9e1ae9",
   "metadata": {},
   "outputs": [],
   "source": [
    "mj_new, Mj_new = bs.shift_flat(fb=0.15)\n",
    "# mj_new, Mj_new = bs.shift_equal(fb=0.25)\n",
    "# mj_new, Mj_new = bs.shift_solar(fb=0.25)"
   ]
  },
  {
   "cell_type": "code",
   "execution_count": 13,
   "id": "b97028cc-a798-4623-aa95-0dee62ec2654",
   "metadata": {},
   "outputs": [
    {
     "data": {
      "text/plain": [
       "0.1467547966832377"
      ]
     },
     "execution_count": 13,
     "metadata": {},
     "output_type": "execute_result"
    }
   ],
   "source": [
    "bs._q_min"
   ]
  },
  {
   "cell_type": "code",
   "execution_count": 14,
   "id": "703370f3-11dd-48de-8fbc-56bdf458fb4a",
   "metadata": {
    "tags": []
   },
   "outputs": [
    {
     "data": {
      "text/plain": [
       "Text(0.5, 0, 'mj [$M_\\\\odot$]')"
      ]
     },
     "execution_count": 14,
     "metadata": {},
     "output_type": "execute_result"
    },
    {
     "data": {
      "application/vnd.jupyter.widget-view+json": {
       "model_id": "372c6584052e4eb3879ca9ef1a678ed5",
       "version_major": 2,
       "version_minor": 0
      },
      "text/html": [
       "\n",
       "            <div style=\"display: inline-block;\">\n",
       "                <div class=\"jupyter-widgets widget-label\" style=\"text-align: center;\">\n",
       "                    Figure\n",
       "                </div>\n",
       "                <img src='data:image/png;base64,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' width=800.0/>\n",
       "            </div>\n",
       "        "
      ],
      "text/plain": [
       "Canvas(toolbar=Toolbar(toolitems=[('Home', 'Reset original view', 'home', 'home'), ('Back', 'Back to previous …"
      ]
     },
     "metadata": {},
     "output_type": "display_data"
    }
   ],
   "source": [
    "plt.figure()\n",
    "plt.scatter(mj[bs.MS_mask], Mj[bs.MS_mask], label=\"Original MS\", s=70)\n",
    "\n",
    "# plt.scatter(mj, Mj, label=\"Original MF\", s=70)\n",
    "\n",
    "plt.yscale(\"log\")\n",
    "# plt.ylim(1e2, 1e5)\n",
    "plt.scatter(\n",
    "    mj_new[bs.MS_mask_new],\n",
    "    Mj_new[bs.MS_mask_new],\n",
    "    label=\"New MF (single MS)\",\n",
    "    marker=\"x\",\n",
    "    s=70,\n",
    "    alpha=0.7,\n",
    ")\n",
    "plt.scatter(\n",
    "    mj_new[bs.bin_mask],\n",
    "    Mj_new[bs.bin_mask],\n",
    "    label=\"New MF (binary MS)\",\n",
    "    marker=\"X\",\n",
    "    s=70,\n",
    ")\n",
    "plt.scatter(\n",
    "    mj_new[bs.WD_mask_new],\n",
    "    Mj_new[bs.WD_mask_new],\n",
    "    label=\"WD\",\n",
    "    marker=\"o\",\n",
    "    color=\"grey\",\n",
    "    s=40,\n",
    ")\n",
    "\n",
    "plt.legend()\n",
    "plt.ylabel(r\"Mj [$M_\\odot$]\")\n",
    "plt.xlabel(r\"mj [$M_\\odot$]\")\n",
    "# plt.savefig(\"shifted.png\",dpi=300)\n",
    "# plt.xlim(0, 1.7)"
   ]
  },
  {
   "cell_type": "code",
   "execution_count": 15,
   "id": "2c7bbcbc-45c2-4576-a2ce-8bf1c10a3a89",
   "metadata": {},
   "outputs": [
    {
     "data": {
      "text/plain": [
       "array([0.11851084, 0.16351292, 0.22560363, 0.31127202, 0.42947124,\n",
       "       0.53616312, 0.6158897 , 0.70747148, 0.80754321, 0.6158897 ,\n",
       "       0.70747148, 0.80754321, 0.92779583, 1.11896564, 1.40869427,\n",
       "       2.81071458, 3.53848001, 4.45468241, 5.60811288, 7.06019582,\n",
       "       8.88825993])"
      ]
     },
     "execution_count": 15,
     "metadata": {},
     "output_type": "execute_result"
    }
   ],
   "source": [
    "mj"
   ]
  },
  {
   "cell_type": "code",
   "execution_count": 16,
   "id": "d4832db7-7b8c-47ca-9277-6590eba70133",
   "metadata": {},
   "outputs": [
    {
     "data": {
      "text/plain": [
       "0.277914042324444"
      ]
     },
     "execution_count": 16,
     "metadata": {},
     "output_type": "execute_result"
    }
   ],
   "source": [
    "# Mass ratio\n",
    "np.sum(Mj_new[bs.bin_mask]) / np.sum(Mj_new[bs.MS_mask_new])"
   ]
  },
  {
   "cell_type": "code",
   "execution_count": 17,
   "id": "95c34062-50fd-4369-a510-c97ff57d7462",
   "metadata": {},
   "outputs": [
    {
     "name": "stdout",
     "output_type": "stream",
     "text": [
      "np.sum(Mj) = 247566.655, np.sum(Mj_new) = 247566.655\n"
     ]
    }
   ],
   "source": [
    "# check mass conservation\n",
    "print(f\"{np.sum(Mj) = :.3f}, {np.sum(Mj_new) = :.3f}\")"
   ]
  },
  {
   "cell_type": "code",
   "execution_count": null,
   "id": "2fc45144-abea-49d4-b57d-8ae183d5000c",
   "metadata": {},
   "outputs": [],
   "source": []
  },
  {
   "cell_type": "code",
   "execution_count": 18,
   "id": "4eb021e9-3098-41b3-b063-60217b86ec9c",
   "metadata": {},
   "outputs": [],
   "source": [
    "# Have a look at Nj"
   ]
  },
  {
   "cell_type": "code",
   "execution_count": 19,
   "id": "7fd2d97e-8464-44c5-9ef7-50158acdbdd3",
   "metadata": {},
   "outputs": [],
   "source": [
    "Nj = Mj_new / mj_new"
   ]
  },
  {
   "cell_type": "code",
   "execution_count": 20,
   "id": "911f741d-abee-4f54-a167-dec3aee5ca88",
   "metadata": {},
   "outputs": [
    {
     "data": {
      "text/plain": [
       "array([428.81644579, 508.91118705, 393.74285329, 384.14585652,\n",
       "       374.7827832 , 333.0917526 , 428.81644579, 508.91118705,\n",
       "       603.96613781, 850.6558172 , 393.74285329, 384.14585652,\n",
       "       374.7827832 , 333.0917526 , 428.81644579, 508.91118705,\n",
       "       603.96613781, 716.77560222, 850.6558172 , 393.74285329,\n",
       "       384.14585652, 374.7827832 , 333.0917526 , 428.81644579,\n",
       "       508.91118705, 603.96613781, 716.77560222, 850.6558172 ,\n",
       "       393.74285329, 384.14585652, 374.7827832 , 333.0917526 ,\n",
       "       428.81644579, 508.91118705, 603.96613781, 716.77560222,\n",
       "       850.6558172 , 393.74285329, 384.14585652, 374.7827832 ,\n",
       "       333.0917526 , 428.81644579, 508.91118705, 603.96613781,\n",
       "       716.77560222, 850.6558172 , 393.74285329, 384.14585652,\n",
       "       374.7827832 , 333.0917526 , 428.81644579, 508.91118705,\n",
       "       603.96613781, 716.77560222, 850.6558172 , 393.74285329,\n",
       "       384.14585652, 374.7827832 , 333.0917526 , 428.81644579,\n",
       "       508.91118705, 603.96613781, 716.77560222, 850.6558172 ,\n",
       "       393.74285329, 384.14585652, 374.7827832 , 333.0917526 ,\n",
       "       428.81644579, 508.91118705, 603.96613781, 716.77560222,\n",
       "       850.6558172 , 393.74285329, 384.14585652, 374.7827832 ,\n",
       "       333.0917526 ])"
      ]
     },
     "execution_count": 20,
     "metadata": {},
     "output_type": "execute_result"
    }
   ],
   "source": [
    "Nj[bs.bin_mask]"
   ]
  },
  {
   "cell_type": "code",
   "execution_count": 21,
   "id": "c649d0e6-c337-42c2-aef7-e38f3ef0861c",
   "metadata": {},
   "outputs": [
    {
     "data": {
      "text/plain": [
       "array([19362.5514442 , 24110.12986037, 29762.0003017 , 38122.80498059,\n",
       "       46977.71662966, 19933.91023487, 21527.91455331, 21175.12631835,\n",
       "       19143.50221634])"
      ]
     },
     "execution_count": 21,
     "metadata": {},
     "output_type": "execute_result"
    }
   ],
   "source": [
    "Nj[bs.MS_mask_new]"
   ]
  },
  {
   "cell_type": "code",
   "execution_count": 22,
   "id": "42609ec0-bac2-45cb-a621-41c85a905a39",
   "metadata": {},
   "outputs": [
    {
     "data": {
      "text/plain": [
       "0.16019706218324206"
      ]
     },
     "execution_count": 22,
     "metadata": {},
     "output_type": "execute_result"
    }
   ],
   "source": [
    "# This is the bad (old) definition\n",
    "np.sum(Nj[bs.bin_mask]) / np.sum(Nj[bs.MS_mask_new])"
   ]
  },
  {
   "cell_type": "code",
   "execution_count": null,
   "id": "07fafe06-9667-4a78-839f-ef8d9e46c870",
   "metadata": {},
   "outputs": [],
   "source": []
  },
  {
   "cell_type": "code",
   "execution_count": 23,
   "id": "94db3d08-fe69-4154-b2ff-a3e4e8ab67ca",
   "metadata": {},
   "outputs": [
    {
     "name": "stdout",
     "output_type": "stream",
     "text": [
      "Binary Fraction: 13.808\n"
     ]
    }
   ],
   "source": [
    "# This is the definition we want to use\n",
    "print(f\"Binary Fraction: {bs.fb_true * 100:.3f}\")"
   ]
  },
  {
   "cell_type": "code",
   "execution_count": null,
   "id": "4faacf7a-ca70-43c8-88c7-74f6692910db",
   "metadata": {},
   "outputs": [],
   "source": []
  },
  {
   "cell_type": "code",
   "execution_count": 24,
   "id": "4b7388a5-e631-4f48-a3cb-82c54dfc0edd",
   "metadata": {},
   "outputs": [
    {
     "name": "stdout",
     "output_type": "stream",
     "text": [
      "Input fb | True fb | Diff\n",
      "---------------------------\n",
      "0.0  | 0.00 | -0.00\n",
      "1.0  | 0.93 | -0.07\n",
      "2.0  | 1.86 | -0.14\n",
      "3.0  | 2.78 | -0.22\n",
      "4.0  | 3.71 | -0.29\n",
      "5.0  | 4.63 | -0.37\n",
      "6.0  | 5.56 | -0.44\n",
      "7.0  | 6.48 | -0.52\n",
      "8.0  | 7.40 | -0.60\n",
      "9.0  | 8.32 | -0.68\n",
      "10.0  | 9.24 | -0.76\n",
      "11.0  | 10.15 | -0.85\n",
      "12.0  | 11.07 | -0.93\n",
      "13.0  | 11.98 | -1.02\n",
      "14.0  | 12.90 | -1.10\n",
      "15.0  | 13.81 | -1.19\n",
      "16.0  | 14.72 | -1.28\n",
      "17.0  | 15.63 | -1.37\n",
      "18.0  | 16.54 | -1.46\n",
      "19.0  | 17.44 | -1.56\n",
      "20.0  | 18.35 | -1.65\n",
      "21.0  | 19.25 | -1.75\n",
      "22.0  | 20.15 | -1.85\n",
      "23.0  | 21.06 | -1.94\n",
      "24.0  | 21.96 | -2.04\n",
      "25.0  | 22.85 | -2.15\n",
      "26.0  | 23.75 | -2.25\n",
      "27.0  | 24.65 | -2.35\n",
      "28.0  | 25.54 | -2.46\n",
      "29.0  | 26.44 | -2.56\n",
      "30.0  | 27.33 | -2.67\n"
     ]
    }
   ],
   "source": [
    "print(f\"Input fb | True fb | Diff\")\n",
    "print(\"---------------------------\")\n",
    "bs.verbose = False\n",
    "for fb in np.linspace(0, 0.30, 31):\n",
    "    bs.shift_flat(fb=fb)\n",
    "    # bs.shift_solar(fb=fb)\n",
    "    # bs._shift_q(fb=[0.2,0.2],q=[1,1])\n",
    "    \n",
    "    \n",
    "\n",
    "    print(f\"{fb*100:.1f}  | {bs.fb_true*100:.2f} | {-1*(fb - bs.fb_true)*100:.2f}\")"
   ]
  },
  {
   "cell_type": "code",
   "execution_count": 25,
   "id": "4e79de49-3026-45ae-9b12-491465c448ad",
   "metadata": {},
   "outputs": [],
   "source": [
    "fbs = np.linspace(0, 0.30, 31)\n",
    "\n",
    "true_fbs = []\n",
    "\n",
    "for fb in fbs:\n",
    "    bs.shift_flat(fb=fb)\n",
    "    # bs.shift_solar(fb=fb)\n",
    "    \n",
    "    # bs.shift_q(fb=[fb],q=[0.4])\n",
    "\n",
    "    true_fbs.append(bs.fb_true)"
   ]
  },
  {
   "cell_type": "code",
   "execution_count": 26,
   "id": "0e6f9b2a-e241-4217-8cce-b99ccd0c20a9",
   "metadata": {},
   "outputs": [
    {
     "data": {
      "application/vnd.jupyter.widget-view+json": {
       "model_id": "e7b468f5294244759ac3b883d9569595",
       "version_major": 2,
       "version_minor": 0
      },
      "text/html": [
       "\n",
       "            <div style=\"display: inline-block;\">\n",
       "                <div class=\"jupyter-widgets widget-label\" style=\"text-align: center;\">\n",
       "                    Figure\n",
       "                </div>\n",
       "                <img src='data:image/png;base64,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' width=600.0/>\n",
       "            </div>\n",
       "        "
      ],
      "text/plain": [
       "Canvas(toolbar=Toolbar(toolitems=[('Home', 'Reset original view', 'home', 'home'), ('Back', 'Back to previous …"
      ]
     },
     "metadata": {},
     "output_type": "display_data"
    }
   ],
   "source": [
    "fig, axes = plt.subplots(\n",
    "    2, 1, figsize=(6, 6), sharex=True, gridspec_kw={\"height_ratios\": [3, 1]}\n",
    ")\n",
    "axes[0].plot(np.array(fbs) * 100, np.array(true_fbs) * 100, \"o--\")\n",
    "axes[1].set_xlabel(\"Requested fb [%] \")\n",
    "axes[0].set_ylabel(\"True fb [%]\")\n",
    "axes[1].plot(np.array(fbs) * 100, np.array(true_fbs - fbs) * 100, \"o--\")\n",
    "axes[0].plot(np.array(fbs) * 100, np.array(fbs) * 100, \"--\")\n",
    "\n",
    "axes[1].set_ylabel(\"Difference [%]\")\n",
    "axes[1].set_ylim(-15, 15)\n",
    "axes[1].axhline(0, color=\"green\")\n",
    "fig.tight_layout()"
   ]
  },
  {
   "cell_type": "code",
   "execution_count": null,
   "id": "ab126778-fcaa-4da2-9d6b-6593613c0aca",
   "metadata": {},
   "outputs": [],
   "source": []
  },
  {
   "cell_type": "code",
   "execution_count": null,
   "id": "ec21cb25-df79-4683-aa58-dd8eebe7d172",
   "metadata": {},
   "outputs": [],
   "source": []
  },
  {
   "cell_type": "code",
   "execution_count": null,
   "id": "7ea1f9d4-1a1a-4629-8a52-d70d1f0f54d2",
   "metadata": {},
   "outputs": [],
   "source": []
  },
  {
   "cell_type": "markdown",
   "id": "9a44e411-d25e-4f3c-bc20-fadda55e4d4c",
   "metadata": {},
   "source": [
    "# Have a look at mass ratio distribution:\n",
    "\n",
    "## (None of these plots are really working right now)"
   ]
  },
  {
   "cell_type": "code",
   "execution_count": 27,
   "id": "a8a14d5d-aaa2-46c6-acb2-8ebb1afb799d",
   "metadata": {},
   "outputs": [],
   "source": [
    "mj_new, Mj_new = bs.shift_flat(fb=0.15)\n",
    "# mj_new, Mj_new = bs.shift_q(fb=[0.05,0.05],q=[1,0.9])\n",
    "\n",
    "qs = []\n",
    "for masses in bs.binary_components:\n",
    "    q = np.min(masses) / np.max(masses)\n",
    "    qs.append(q)"
   ]
  },
  {
   "cell_type": "code",
   "execution_count": 28,
   "id": "71c875e7-f576-4b2a-aff1-54a1a0166ec1",
   "metadata": {},
   "outputs": [
    {
     "data": {
      "text/plain": [
       "77"
      ]
     },
     "execution_count": 28,
     "metadata": {},
     "output_type": "execute_result"
    }
   ],
   "source": [
    "len(qs)"
   ]
  },
  {
   "cell_type": "code",
   "execution_count": 29,
   "id": "33860fe3-033a-494e-9e29-5f0a642da50f",
   "metadata": {},
   "outputs": [
    {
     "data": {
      "text/plain": [
       "77"
      ]
     },
     "execution_count": 29,
     "metadata": {},
     "output_type": "execute_result"
    }
   ],
   "source": [
    "len(bs.Nj_shifted[bs.bin_mask])"
   ]
  },
  {
   "cell_type": "code",
   "execution_count": 30,
   "id": "9f90fea0-cf98-4033-9ce6-a9e1a84f7eec",
   "metadata": {},
   "outputs": [
    {
     "data": {
      "text/plain": [
       "[0.1924221822274427,\n",
       " 0.2024819462578588,\n",
       " 0.2210350442453857,\n",
       " 0.1924221822274427,\n",
       " 0.23112298500735093,\n",
       " 0.2024819462578588,\n",
       " 0.27594593008982077,\n",
       " 0.3049686072381006,\n",
       " 0.31888723843779454,\n",
       " 0.27594593008982077,\n",
       " 0.3049686072381006,\n",
       " 0.2654905927517611,\n",
       " 0.31888723843779454,\n",
       " 0.2793703476684714,\n",
       " 0.38073078565607266,\n",
       " 0.38073078529162563,\n",
       " 0.4207742339831983,\n",
       " 0.38073078565607266,\n",
       " 0.38073078529162563,\n",
       " 0.4207742339831983,\n",
       " 0.366305246322124,\n",
       " 0.4399781824703281,\n",
       " 0.38545555603114906,\n",
       " 0.5253055591189354,\n",
       " 0.5253055588112888,\n",
       " 0.5253055591189354,\n",
       " 0.5253055588112888,\n",
       " 0.5253055584499219,\n",
       " 0.4207742339831983,\n",
       " 0.5054022145749578,\n",
       " 0.4399781824703281,\n",
       " 0.5318244651605075,\n",
       " 0.5253055591189354,\n",
       " 0.7247796625598754,\n",
       " 0.5253055591189354,\n",
       " 0.5253055588112888,\n",
       " 0.5253055584499219,\n",
       " 0.580554692640627,\n",
       " 0.5054022145749578,\n",
       " 0.6070509502674424,\n",
       " 0.6639435714108549,\n",
       " 0.7247796625598754,\n",
       " 0.7247796625598754,\n",
       " 0.724779662364683,\n",
       " 0.7247796621354063,\n",
       " 0.7247796618660943,\n",
       " 0.8010085315389087,\n",
       " 0.697318428160216,\n",
       " 0.7578582828589449,\n",
       " 0.6639435714108549,\n",
       " 1.0,\n",
       " 0.7247796625598754,\n",
       " 0.724779662364683,\n",
       " 0.7247796621354063,\n",
       " 0.7247796618660943,\n",
       " 0.8010085315389087,\n",
       " 0.8705505630764234,\n",
       " 0.7578582828589449,\n",
       " 0.7626708884829806,\n",
       " 1.0,\n",
       " 1.0,\n",
       " 1.0,\n",
       " 1.0,\n",
       " 1.0,\n",
       " 0.8010085315389087,\n",
       " 0.8705505630764234,\n",
       " 0.8705505630606484,\n",
       " 0.8760787952414981,\n",
       " 1.0,\n",
       " 1.0,\n",
       " 1.0,\n",
       " 1.0,\n",
       " 1.0,\n",
       " 1.0,\n",
       " 1.0,\n",
       " 1.0,\n",
       " 1.0]"
      ]
     },
     "execution_count": 30,
     "metadata": {},
     "output_type": "execute_result"
    }
   ],
   "source": [
    "qs"
   ]
  },
  {
   "cell_type": "code",
   "execution_count": 31,
   "id": "69733d2d-7175-4044-82a0-fc5aa64b0cae",
   "metadata": {},
   "outputs": [
    {
     "data": {
      "text/plain": [
       "Text(0.5, 0, '$q$')"
      ]
     },
     "execution_count": 31,
     "metadata": {},
     "output_type": "execute_result"
    },
    {
     "data": {
      "application/vnd.jupyter.widget-view+json": {
       "model_id": "4b0faaeeec6340ddaa66da2563536e37",
       "version_major": 2,
       "version_minor": 0
      },
      "text/html": [
       "\n",
       "            <div style=\"display: inline-block;\">\n",
       "                <div class=\"jupyter-widgets widget-label\" style=\"text-align: center;\">\n",
       "                    Figure\n",
       "                </div>\n",
       "                <img src='data:image/png;base64,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' width=800.0/>\n",
       "            </div>\n",
       "        "
      ],
      "text/plain": [
       "Canvas(toolbar=Toolbar(toolitems=[('Home', 'Reset original view', 'home', 'home'), ('Back', 'Back to previous …"
      ]
     },
     "metadata": {},
     "output_type": "display_data"
    }
   ],
   "source": [
    "# this is just all of the q values, not how many stars per q value\n",
    "plt.figure()\n",
    "seaborn.histplot(qs)\n",
    "plt.xlabel(r\"$q$\")"
   ]
  },
  {
   "cell_type": "code",
   "execution_count": 32,
   "id": "3e4cd09c-bbaf-4624-b31f-d1f96dbb7f1e",
   "metadata": {},
   "outputs": [
    {
     "data": {
      "text/plain": [
       "Text(0.5, 0, '$q$')"
      ]
     },
     "execution_count": 32,
     "metadata": {},
     "output_type": "execute_result"
    },
    {
     "data": {
      "application/vnd.jupyter.widget-view+json": {
       "model_id": "6605b283437a42998bc1a264c58b145c",
       "version_major": 2,
       "version_minor": 0
      },
      "text/html": [
       "\n",
       "            <div style=\"display: inline-block;\">\n",
       "                <div class=\"jupyter-widgets widget-label\" style=\"text-align: center;\">\n",
       "                    Figure\n",
       "                </div>\n",
       "                <img src='data:image/png;base64,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' width=800.0/>\n",
       "            </div>\n",
       "        "
      ],
      "text/plain": [
       "Canvas(toolbar=Toolbar(toolitems=[('Home', 'Reset original view', 'home', 'home'), ('Back', 'Back to previous …"
      ]
     },
     "metadata": {},
     "output_type": "display_data"
    }
   ],
   "source": [
    "# TODO: this isnt quite what im looking for, want to plot number of Stars in each bin associated with its q value\n",
    "# so i guess im looking for this but collapsed in the y direction? or binned together by x value?\n",
    "\n",
    "plt.figure()\n",
    "seaborn.histplot(x=qs, y=bs.Nj_shifted[bs.bin_mask])\n",
    "\n",
    "plt.xlabel(r\"$q$\")"
   ]
  },
  {
   "cell_type": "code",
   "execution_count": 33,
   "id": "9865905e-287d-4330-88c8-da66f9deeb64",
   "metadata": {},
   "outputs": [],
   "source": [
    "q_vals = [0.1, 0.2, 0.3, 0.4, 0.5, 0.6, 0.7, 0.8, 0.9, 1.0]\n",
    "idxs = np.digitize(qs, bins=q_vals)"
   ]
  },
  {
   "cell_type": "code",
   "execution_count": 34,
   "id": "adee7a11-6240-476a-bf05-cda22d39ed61",
   "metadata": {},
   "outputs": [
    {
     "data": {
      "text/plain": [
       "array([ 1,  2,  2,  1,  2,  2,  2,  3,  3,  2,  3,  2,  3,  2,  3,  3,  4,\n",
       "        3,  3,  4,  3,  4,  3,  5,  5,  5,  5,  5,  4,  5,  4,  5,  5,  7,\n",
       "        5,  5,  5,  5,  5,  6,  6,  7,  7,  7,  7,  7,  8,  6,  7,  6, 10,\n",
       "        7,  7,  7,  7,  8,  8,  7,  7, 10, 10, 10, 10, 10,  8,  8,  8,  8,\n",
       "       10, 10, 10, 10, 10, 10, 10, 10, 10])"
      ]
     },
     "execution_count": 34,
     "metadata": {},
     "output_type": "execute_result"
    }
   ],
   "source": [
    "idxs"
   ]
  },
  {
   "cell_type": "code",
   "execution_count": 35,
   "id": "b2928bd2-9393-498f-bc6d-84bbd24dbbdf",
   "metadata": {},
   "outputs": [],
   "source": [
    "Nstars_per_q = np.zeros_like(q_vals)\n",
    "\n",
    "for i, N in enumerate(bs.Nj_shifted[bs.bin_mask]):\n",
    "    Nstars_per_q[idxs[i] - 1] += N"
   ]
  },
  {
   "cell_type": "code",
   "execution_count": 36,
   "id": "251b61f0-b924-464e-9fb9-186371258ab7",
   "metadata": {},
   "outputs": [],
   "source": [
    "data = np.array([q_vals, Nstars_per_q])\n",
    "# data = np.array([qs,bs.Nj_shifted[bs.bin_mask]])"
   ]
  },
  {
   "cell_type": "code",
   "execution_count": 37,
   "id": "a047122d-5e2f-454c-bd2f-489872e1e988",
   "metadata": {},
   "outputs": [
    {
     "data": {
      "text/plain": [
       "array([[1.00000000e-01, 2.00000000e-01, 3.00000000e-01, 4.00000000e-01,\n",
       "        5.00000000e-01, 6.00000000e-01, 7.00000000e-01, 8.00000000e-01,\n",
       "        9.00000000e-01, 1.00000000e+00],\n",
       "       [8.12962302e+02, 3.60723845e+03, 5.10379962e+03, 2.14101741e+03,\n",
       "        7.20446551e+03, 1.42511214e+03, 7.38100244e+03, 2.65739481e+03,\n",
       "        0.00000000e+00, 8.13283007e+03]])"
      ]
     },
     "execution_count": 37,
     "metadata": {},
     "output_type": "execute_result"
    }
   ],
   "source": [
    "data"
   ]
  },
  {
   "cell_type": "code",
   "execution_count": 38,
   "id": "0c3c8501-1e67-4acb-9f7d-be90c26e07fe",
   "metadata": {},
   "outputs": [
    {
     "data": {
      "text/plain": [
       "<AxesSubplot:ylabel='Count'>"
      ]
     },
     "execution_count": 38,
     "metadata": {},
     "output_type": "execute_result"
    },
    {
     "data": {
      "application/vnd.jupyter.widget-view+json": {
       "model_id": "26878c4829a449079086cb22432bf120",
       "version_major": 2,
       "version_minor": 0
      },
      "text/html": [
       "\n",
       "            <div style=\"display: inline-block;\">\n",
       "                <div class=\"jupyter-widgets widget-label\" style=\"text-align: center;\">\n",
       "                    Figure\n",
       "                </div>\n",
       "                <img src='data:image/png;base64,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' width=800.0/>\n",
       "            </div>\n",
       "        "
      ],
      "text/plain": [
       "Canvas(toolbar=Toolbar(toolitems=[('Home', 'Reset original view', 'home', 'home'), ('Back', 'Back to previous …"
      ]
     },
     "metadata": {},
     "output_type": "display_data"
    }
   ],
   "source": [
    "plt.figure()\n",
    "seaborn.histplot(data=data)"
   ]
  },
  {
   "cell_type": "code",
   "execution_count": 39,
   "id": "59845cf2-612b-42e3-992f-f3845f1be075",
   "metadata": {},
   "outputs": [
    {
     "ename": "NameError",
     "evalue": "name 'stop' is not defined",
     "output_type": "error",
     "traceback": [
      "\u001b[0;31m---------------------------------------------------------------------------\u001b[0m",
      "\u001b[0;31mNameError\u001b[0m                                 Traceback (most recent call last)",
      "\u001b[0;32m/tmp/ipykernel_276365/1640820313.py\u001b[0m in \u001b[0;36m<module>\u001b[0;34m\u001b[0m\n\u001b[1;32m      1\u001b[0m \u001b[0;31m# Have a look at models\u001b[0m\u001b[0;34m\u001b[0m\u001b[0;34m\u001b[0m\u001b[0;34m\u001b[0m\u001b[0m\n\u001b[0;32m----> 2\u001b[0;31m \u001b[0mstop\u001b[0m\u001b[0;34m\u001b[0m\u001b[0;34m\u001b[0m\u001b[0m\n\u001b[0m",
      "\u001b[0;31mNameError\u001b[0m: name 'stop' is not defined"
     ]
    }
   ],
   "source": [
    "# Have a look at models\n",
    "stop"
   ]
  },
  {
   "cell_type": "code",
   "execution_count": null,
   "id": "0d13d810-531a-4e05-bb03-2b7f6d82d297",
   "metadata": {},
   "outputs": [],
   "source": [
    "l = limepy(\n",
    "    M=1e6, phi0=6, g=0.8, mj=mj, Mj=Mj, delta=0.45, rh=8, ra=10 ** 1.23, project=True\n",
    ")"
   ]
  },
  {
   "cell_type": "code",
   "execution_count": null,
   "id": "8b947cea-1e8e-4a73-a64a-131664250285",
   "metadata": {},
   "outputs": [],
   "source": [
    "l_bin = limepy(\n",
    "    M=1e6,\n",
    "    phi0=6,\n",
    "    g=0.8,\n",
    "    mj=mj_new,\n",
    "    Mj=Mj_new,\n",
    "    delta=0.45,\n",
    "    rh=8,\n",
    "    ra=10 ** 1.23,\n",
    "    project=True,\n",
    ")"
   ]
  },
  {
   "cell_type": "code",
   "execution_count": null,
   "id": "4aa72d51-f99b-47ee-86dc-61e2323b3f11",
   "metadata": {},
   "outputs": [],
   "source": []
  },
  {
   "cell_type": "code",
   "execution_count": null,
   "id": "8d17ffa9-5840-4f48-9b53-3c7f51bdd7fd",
   "metadata": {},
   "outputs": [],
   "source": []
  },
  {
   "cell_type": "code",
   "execution_count": null,
   "id": "104a1a22-f6dd-4e1a-8674-0e637c65ab60",
   "metadata": {},
   "outputs": [],
   "source": [
    "plt.figure()\n",
    "plt.loglog()\n",
    "plt.xlim(1e-2, 1e2)\n",
    "plt.ylim(1e2, 1e7)\n",
    "plt.plot(l.r, l.mcp, label=\"No Binaries\")\n",
    "plt.xlabel(\"R [pc]\")\n",
    "plt.ylabel(\"Enclosed Mass\")\n",
    "plt.plot(l_bin.r, l_bin.mcp, label=\"Binaries\")\n",
    "plt.legend()"
   ]
  },
  {
   "cell_type": "code",
   "execution_count": null,
   "id": "71e9cb12-2902-4e00-8306-6f2c6e05f744",
   "metadata": {},
   "outputs": [],
   "source": []
  },
  {
   "cell_type": "code",
   "execution_count": null,
   "id": "6eb79203-76f3-4999-9b7f-ec67b4b61ac8",
   "metadata": {},
   "outputs": [],
   "source": [
    "plt.figure()\n",
    "plt.xscale(\"log\")\n",
    "plt.xlim(1e-2, 1e2)\n",
    "plt.plot(l.r, np.sqrt(l.v2R), label=\"No Binaries\")\n",
    "plt.xlabel(\"R [pc]\")\n",
    "plt.ylabel(\"Vr\")\n",
    "plt.plot(l_bin.r, np.sqrt(l_bin.v2R), label=\"Binaries\")\n",
    "plt.legend()"
   ]
  },
  {
   "cell_type": "code",
   "execution_count": null,
   "id": "5a08363f-e69b-4d01-95b7-e809f870433d",
   "metadata": {},
   "outputs": [],
   "source": [
    "plt.figure()\n",
    "plt.xscale(\"log\")\n",
    "plt.xlim(1e-2, 1e2)\n",
    "plt.plot(l.r, np.sqrt(l.v2T), label=\"No Binaries\")\n",
    "plt.xlabel(\"R [pc]\")\n",
    "plt.ylabel(\"Vt\")\n",
    "plt.plot(l_bin.r, np.sqrt(l_bin.v2T), label=\"Binaries\")\n",
    "plt.legend()"
   ]
  },
  {
   "cell_type": "code",
   "execution_count": null,
   "id": "c83688ad-3f3b-4e9e-992c-668dce52e223",
   "metadata": {},
   "outputs": [],
   "source": [
    "plt.figure()\n",
    "plt.xscale(\"log\")\n",
    "plt.xlim(1e-2, 1e2)\n",
    "plt.plot(l.r, np.sqrt(l.v2p), label=\"No Binaries\")\n",
    "plt.xlabel(\"R [pc]\")\n",
    "plt.ylabel(\"Vlos\")\n",
    "plt.plot(l_bin.r, np.sqrt(l_bin.v2p), label=\"Binaries\")\n",
    "plt.legend()"
   ]
  },
  {
   "cell_type": "code",
   "execution_count": null,
   "id": "6aa1d2b9-883e-4d10-b237-6ab36d72f7fe",
   "metadata": {},
   "outputs": [],
   "source": []
  },
  {
   "cell_type": "code",
   "execution_count": null,
   "id": "884f573f-542d-4a74-ae55-0371d2d8aef8",
   "metadata": {},
   "outputs": [],
   "source": [
    "plt.figure()\n",
    "plt.loglog()\n",
    "plt.xlim(1e-1, 1e2)\n",
    "plt.ylim(1e-0, 1e6)\n",
    "plt.plot(l.r, l.Sigma, label=\"No Binaries\")\n",
    "plt.xlabel(\"R [pc]\")\n",
    "plt.ylabel(r\"$\\Sigma$\")\n",
    "plt.plot(l_bin.r, l_bin.Sigma, label=\"Binaries\")\n",
    "plt.legend()"
   ]
  },
  {
   "cell_type": "code",
   "execution_count": null,
   "id": "25f94e31-6214-4aac-b7c3-03363ec30c5c",
   "metadata": {},
   "outputs": [],
   "source": []
  },
  {
   "cell_type": "code",
   "execution_count": null,
   "id": "8ff9ad43-a7f4-477a-b26a-134616bec44e",
   "metadata": {},
   "outputs": [],
   "source": []
  },
  {
   "cell_type": "code",
   "execution_count": null,
   "id": "e99be0bb-b40a-484e-a1c7-695a2a8663ec",
   "metadata": {},
   "outputs": [],
   "source": []
  },
  {
   "cell_type": "code",
   "execution_count": null,
   "id": "de6ea357-5012-4332-8729-3c8c24bf5693",
   "metadata": {},
   "outputs": [],
   "source": []
  },
  {
   "cell_type": "code",
   "execution_count": null,
   "id": "aa9f3423-dc3e-4519-b14a-c541d3ec6673",
   "metadata": {},
   "outputs": [],
   "source": []
  }
 ],
 "metadata": {
  "kernelspec": {
   "display_name": "gcfit",
   "language": "python",
   "name": "gcfit"
  },
  "language_info": {
   "codemirror_mode": {
    "name": "ipython",
    "version": 3
   },
   "file_extension": ".py",
   "mimetype": "text/x-python",
   "name": "python",
   "nbconvert_exporter": "python",
   "pygments_lexer": "ipython3",
   "version": "3.8.12"
  },
  "nteract": {
   "version": "0.28.0"
  }
 },
 "nbformat": 4,
 "nbformat_minor": 5
}
