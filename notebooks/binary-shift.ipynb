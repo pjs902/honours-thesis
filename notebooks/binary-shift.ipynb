{
 "cells": [
  {
   "cell_type": "code",
   "execution_count": 1,
   "id": "94217554-aebf-4de3-b5af-b7a19cab0dad",
   "metadata": {},
   "outputs": [],
   "source": [
    "%matplotlib ipympl\n",
    "%config InlineBackend.figure_format = \"retina\"\n",
    "\n",
    "import matplotlib.pyplot as plt\n",
    "import seaborn\n",
    "\n",
    "seaborn.set(context=\"notebook\", style=\"darkgrid\")\n",
    "plt.rcParams[\"figure.figsize\"] = (8, 6)\n",
    "from tqdm.auto import tqdm, trange\n",
    "\n",
    "from ssptools import evolve_mf_3 as emf3\n",
    "from limepy import limepy\n",
    "\n",
    "import numpy as np\n",
    "import scipy as sp\n",
    "import astropy.units as u\n",
    "import astropy.constants as const\n",
    "\n",
    "from binaryshift import BinaryShift"
   ]
  },
  {
   "cell_type": "code",
   "execution_count": null,
   "id": "1863b5c3-2883-4478-84ec-3b0c11208070",
   "metadata": {},
   "outputs": [],
   "source": []
  },
  {
   "cell_type": "code",
   "execution_count": null,
   "id": "dcb88432-f76a-409e-8b11-007a5cc6728a",
   "metadata": {},
   "outputs": [],
   "source": []
  },
  {
   "cell_type": "code",
   "execution_count": 2,
   "id": "34a6f01c-723c-494f-b97b-cc4b3f44c1aa",
   "metadata": {},
   "outputs": [],
   "source": [
    "m123 = [0.1, 0.5, 1.0, 100]  # Slope breakpoints for initial mass function\n",
    "a12 = [-0.468, -1.178, -2.117]  # Slopes for initial mass function\n",
    "nbin12 = [5, 5, 20]\n",
    "\n",
    "# Output times for the evolution\n",
    "tout = np.array([11000])\n",
    "\n",
    "# Integration settings\n",
    "N0 = 5e5  # Normalization of stars\n",
    "Ndot = -0.0001  # Regulates how low mass objects are depleted default -20, 0 for 47 Tuc\n",
    "tcc = 0  # Core collapse time\n",
    "NS_ret = 0.1  # Initial neutron star retention\n",
    "BH_ret_int = 1  # Initial Black Hole retention\n",
    "BH_ret_dyn = 0.00235  # Dynamical Black Hole retention\n",
    "FeHe = -0.7  # Metallicity"
   ]
  },
  {
   "cell_type": "code",
   "execution_count": 3,
   "id": "97069263-e4ac-4fc8-b7a8-889c8b5aa94b",
   "metadata": {},
   "outputs": [
    {
     "name": "stderr",
     "output_type": "stream",
     "text": [
      "/home/peter/research/ssptools/ssptools/evolve_mf_3.py:321: RuntimeWarning: divide by zero encountered in true_divide\n",
      "  As = Ns / P1\n",
      "/home/peter/research/ssptools/ssptools/evolve_mf_3.py:246: RuntimeWarning: divide by zero encountered in double_scalars\n",
      "  Aj = Nj / self.Pk(alphaj, 1, m1, mto)\n"
     ]
    }
   ],
   "source": [
    "f = emf3.evolve_mf(\n",
    "    m123=m123,\n",
    "    a12=a12,\n",
    "    nbin12=nbin12,\n",
    "    tout=tout,\n",
    "    N0=N0,\n",
    "    Ndot=Ndot,\n",
    "    tcc=tcc,\n",
    "    NS_ret=NS_ret,\n",
    "    BH_ret_int=BH_ret_int,\n",
    "    BH_ret_dyn=BH_ret_dyn,\n",
    "    FeHe=FeHe,\n",
    "    natal_kicks=True,\n",
    "    vesc=100,\n",
    ")"
   ]
  },
  {
   "cell_type": "code",
   "execution_count": 4,
   "id": "01621e16-2a98-4354-a011-38c1bda1f298",
   "metadata": {},
   "outputs": [
    {
     "data": {
      "text/plain": [
       "<ssptools.evolve_mf_3.evolve_mf at 0x7ffaac140d30>"
      ]
     },
     "execution_count": 4,
     "metadata": {},
     "output_type": "execute_result"
    }
   ],
   "source": [
    "f"
   ]
  },
  {
   "cell_type": "code",
   "execution_count": 5,
   "id": "da017f9e-c551-4859-af62-1498bc539396",
   "metadata": {},
   "outputs": [],
   "source": [
    "cs = f.Ns[-1] > 10 * f.Nmin\n",
    "cr = f.Nr[-1] > 10 * f.Nmin\n",
    "mj = np.r_[f.ms[-1][cs], f.mr[-1][cr]]\n",
    "Mj = np.r_[f.Ms[-1][cs], f.Mr[-1][cr]]\n",
    "dms = f.mes[-1][1:] - f.mes[-1][0:-1]\n",
    "nms = len(f.ms[-1][cs])"
   ]
  },
  {
   "cell_type": "code",
   "execution_count": 6,
   "id": "1836d337-8903-4836-aed7-56802f6f2a76",
   "metadata": {},
   "outputs": [
    {
     "data": {
      "text/plain": [
       "0.1"
      ]
     },
     "execution_count": 6,
     "metadata": {},
     "output_type": "execute_result"
    }
   ],
   "source": [
    "f.Nmin"
   ]
  },
  {
   "cell_type": "code",
   "execution_count": null,
   "id": "24e43d32-4d9a-4cc2-97f0-9e84eb9c51aa",
   "metadata": {},
   "outputs": [],
   "source": []
  },
  {
   "cell_type": "code",
   "execution_count": 7,
   "id": "de8c7d31-bbb2-4c69-ade4-47b037de6be2",
   "metadata": {},
   "outputs": [],
   "source": [
    "bs = BinaryShift(mj=mj, Mj=Mj, MF=f, verbose=False)"
   ]
  },
  {
   "cell_type": "code",
   "execution_count": 8,
   "id": "c2e27b8d-43a0-4292-b725-4262f3d2d606",
   "metadata": {},
   "outputs": [
    {
     "name": "stdout",
     "output_type": "stream",
     "text": [
      "self.mj = array([0.11851084, 0.16351292, 0.22560363, 0.31127202, 0.42947124,\n",
      "       0.53616312, 0.6158897 , 0.70747148, 0.80754321, 0.6158897 ,\n",
      "       0.70747148, 0.80754321, 0.92779583, 1.11896564, 1.40869427,\n",
      "       2.81071458, 3.53848001, 4.45468241, 5.60811288, 7.06019582,\n",
      "       8.88825993])\n",
      "self.Mj = array([3.50653839e+03, 5.74173527e+03, 9.40172964e+03, 1.53947409e+04,\n",
      "       2.52079221e+04, 1.45666174e+04, 1.63248118e+04, 1.82952210e+04,\n",
      "       1.85600328e+04, 4.28216163e+04, 3.68811585e+04, 8.56110667e+03,\n",
      "       8.87107346e+03, 2.04048921e+04, 2.87933957e+03, 3.38905042e+00,\n",
      "       6.98416820e+00, 1.30644215e+01, 2.60412400e+01, 5.68695470e+01,\n",
      "       4.17703060e+01])\n",
      "self._nms = 8\n",
      "self._mWD_max = 1.2485309234871975\n",
      "self._mBH_min = 2.51188643150958\n"
     ]
    }
   ],
   "source": [
    "bs.dump()"
   ]
  },
  {
   "cell_type": "code",
   "execution_count": 9,
   "id": "5dbda990-0e03-4e99-b7ff-b6db1aed7b88",
   "metadata": {},
   "outputs": [
    {
     "data": {
      "text/plain": [
       "array([ True,  True,  True,  True,  True,  True,  True,  True,  True,\n",
       "       False, False, False, False, False, False, False, False, False,\n",
       "       False, False, False])"
      ]
     },
     "execution_count": 9,
     "metadata": {},
     "output_type": "execute_result"
    }
   ],
   "source": [
    "bs.MS_mask"
   ]
  },
  {
   "cell_type": "code",
   "execution_count": 10,
   "id": "2054a497-43f4-424b-9b1b-37cbe1926e06",
   "metadata": {},
   "outputs": [
    {
     "data": {
      "text/plain": [
       "array([0.11851084, 0.16351292, 0.22560363, 0.31127202, 0.42947124,\n",
       "       0.53616312, 0.6158897 , 0.70747148, 0.80754321])"
      ]
     },
     "execution_count": 10,
     "metadata": {},
     "output_type": "execute_result"
    }
   ],
   "source": [
    "bs.mj[bs.MS_mask]"
   ]
  },
  {
   "cell_type": "code",
   "execution_count": null,
   "id": "6c2bd1aa-2fb3-4769-bd55-c926f66273f2",
   "metadata": {},
   "outputs": [],
   "source": []
  },
  {
   "cell_type": "code",
   "execution_count": 11,
   "id": "5e7af1bc-e5f8-46b4-890c-fd8eda9e1ae9",
   "metadata": {},
   "outputs": [],
   "source": [
    "mj_new, Mj_new = bs.shift_flat(fb=0.3)\n",
    "# mj_new, Mj_new = bs.shift_equal(fb=0.25)\n",
    "# mj_new, Mj_new = bs.shift_solar(fb=0.25)"
   ]
  },
  {
   "cell_type": "code",
   "execution_count": 12,
   "id": "b97028cc-a798-4623-aa95-0dee62ec2654",
   "metadata": {},
   "outputs": [
    {
     "data": {
      "text/plain": [
       "0.1467547966832377"
      ]
     },
     "execution_count": 12,
     "metadata": {},
     "output_type": "execute_result"
    }
   ],
   "source": [
    "bs._q_min"
   ]
  },
  {
   "cell_type": "code",
   "execution_count": 13,
   "id": "703370f3-11dd-48de-8fbc-56bdf458fb4a",
   "metadata": {
    "tags": []
   },
   "outputs": [
    {
     "data": {
      "text/plain": [
       "Text(0.5, 0, 'mj [$M_\\\\odot$]')"
      ]
     },
     "execution_count": 13,
     "metadata": {},
     "output_type": "execute_result"
    },
    {
     "data": {
      "application/vnd.jupyter.widget-view+json": {
       "model_id": "e1e0df76f5f740df9b32185be13f70b1",
       "version_major": 2,
       "version_minor": 0
      },
      "text/html": [
       "\n",
       "            <div style=\"display: inline-block;\">\n",
       "                <div class=\"jupyter-widgets widget-label\" style=\"text-align: center;\">\n",
       "                    Figure\n",
       "                </div>\n",
       "                <img src='data:image/png;base64,iVBORw0KGgoAAAANSUhEUgAAAyAAAAJYCAYAAACadoJwAAAAOXRFWHRTb2Z0d2FyZQBNYXRwbG90bGliIHZlcnNpb24zLjQuMywgaHR0cHM6Ly9tYXRwbG90bGliLm9yZy/MnkTPAAAACXBIWXMAAA9hAAAPYQGoP6dpAACLSUlEQVR4nO3deXxTVf7G8ecmbWlZWjYBWQVsoS1rpaxlF0EBHcWFERUVlxkXHMdxRtFxdAbFcZkF+c2ouMC44SgugCOKoMgO2rKVrQLKIousLUspTe7vj5LYtGmbtM1N0nze8+LlcHOTnBzS9D4553uOYZqmKQAAAACwgC3YDQAAAAAQOQggAAAAACxDAAEAAABgGQIIAAAAAMsQQAAAAABYhgACAAAAwDIEEAAAAACWIYAAAAAAsAwBBAAAAIBlCCAAAAAALEMAAQAAAGAZAggAAAAAyxBAAAAAAFiGAAIAAADAMgQQAAAAAJYhgAAAAACwDAEEAAAAgGUIIAAAAAAsQwABAAAAYBkCCAAAAADLEEAAAAAAWIYAAgAAAMAyBBAAAAAAliGAAAAAALAMAQQAAACAZQggAAAAACxDAAEAAABgGQIIAAAAAMsQQAAAAABYhgACAAAAwDIEEAAAAACWIYAAAAAAsAwBBAAAAIBlCCAAAAAALEMAAQAAAGAZAggAAAAAyxBAAAAAAFiGAAIAAADAMgQQAAAAAJYhgAAAAACwDAEEAAAAgGUIIAAAAAAsQwABAAAAYBkCCAAAAADLEEAAAAAAWIYAAgAAAMAyBBAAAAAAliGAAAAAALAMAQQAAACAZQggAAAAACxDAAEAAABgGQIIAAAAAMsQQAAAAABYhgACAAAAwDIEEAAAAACWIYAAAAAAsAwBBAAAAIBlCCAAAAAALEMAAQAAAGAZAggAAAAAyxBAAAAAAFiGAAIAAADAMgQQAAAAAJYhgAAAAACwDAEEAAAAgGUIIAAAAAAsQwABAAAAYBkCCAAAAADLEEAAAAAAWIYAAgAAAMAyBBAAAAAAlokKdgPgyTRNOZ1msJthCZvNiJjXWlX0lX/oL9/RV76jr3xHX/mH/vJdKPSVzWbIMIygtiHcEUBCjNNp6siRk8FuRsBFRdnUoEEd5eaeUmGhM9jNCWn0lX/oL9/RV76jr3xHX/mH/vJdqPRVw4Z1ZLcTQKqCKVgAAAAALEMAAQAAAGAZAggAAAAAyxBAAAAAAFiGAAIAAADAMgQQAAAAAJYhgAAAAACwDAEEAAAAgGUIIAAAAAAsQwABAAAAYBkCCAAAAADLEEAAAAAAWIYAAgAAAMAyBBAAAAAAlokKdgMAINByc49r27bNOn36lOLiaispKVnx8QnBbhYAABGJAAKgxnI4HFqyZJE2bdogwzBkGIZM09Tq1cuVktJZ/fsPkd1uD3YzAQCIKEzBAlBjucKHJJmmKafTKdM0JUmbNm3QkiWLgtk8AAAiEgEEQI10/Pgxd/goy6ZNG5Sbe9yiFgEAAIkAAqCG2rp1swzDKPccwzC0bdtmi1oEAAAkAgiAGurUqVM+BZDTp09Z1CIAACARQADUULVr13bXe5TFNE3FxdW2qEUAAEAigACooTp0SPYpgCQlJVvUIgAAIBFAANRQCQn1lZLSudxzUlI6sx8IAAAWI4AAqLH69x/iDiGGYchms7nrQlz7gAAAAGuxESGAGstut2vQoGFKS+tZbCf0OkpK6sjIBwAAQUIAAVDjxccnqEeP3sFuBgAAEAEEACyTm3u82EhMbSUlJTMSAwCIOAQQAAgwh8OhJUsWadOmDTIMQ4ZhyDRNrV693F2LYrfbg91MAAAsQRE6AASYK3xIRUv/Op1O9xLBmzZt0JIli4LZPAAALEUAAYAAOn78mDt8lGXTpg3KzT1uUYsAAAguAggABFBOzhb30r9lMQxD27ZttqhFAAAEFwEEAALo9OlTPgWQ06dPWdQiAACCiwACAAEUF1fbXe9RFtM0FRdX26IWAQAQXAQQAAigxMSOPgWQpKRki1oEAEBwEUAAIIASEuorJaVzueekpHRmPxAAQMQggABAgPXvP8QdQgzDkM1mc9eFuPYBAQAgUrARIQAEmN1u16BBw5SW1rPYTuh1lJTUkZEPAEDEIYAAgEXi4xPUo0fvYDcDAICgYgoWAAAAAMsQQAAAAABYhgACAAAAwDIEEAAAAACWIYAAAAAAsAwBBAAAAIBlCCAAAAAALEMAAQAAAGAZAggAAAAAyxBAAAAAAFiGAAIAAADAMgQQAAAAAJYhgAAAAACwDAEEAAAAgGUIIAAAAAAsQwABAAAAYBkCCFDDmKYZ7CYAAACUKSrYDQBQNaZpasePuVqUuUdZOYeUX+BQbIxd3RMba0haS7VrHi/DMILdTAAAAEkEECCsFTqcmvHpFi3fuF82myGns2j0I7/AoVWbDmpF9gH17dRMN1/aUVF2BjwBAEDwcUUChCnTNDXj0y1asXG/JLnDh4vz3FSsFRv3a8anW5iaBQAAQgIBBAhTO37M1fKN+1VRrDAlLd+4Xzv25VrRLAAAgHIRQIAwtShzj2w232o7bIahRZl7A9wiAACAihFAgDCVlXOo1LSrsjhNU1nbfgpwiwAAACpGAAHCkGmayi9w+HWf/AIHdSAAACDoCCBAGDIMQ7Exdr/uExtjZzleAAAQdAQQIEx1T2zsVw1I96TzAtwiAACAihFAgDA1JK2lXzUgQ9JaBLhFAAAAFSOAAGGqXfN49e3UTBWNgRiS+nZqpnbnx1vRLAAAgHIRQIAwZRiGbr60o/p0aiZJpaZj2c7Ve/Q5txM69R8AACAURAW7AQAqL8pu04SRyRqc1kKLMvcqa9tPyi9wKDbGru5J52lIWgu1Oz+e8AEAAEIGAQQIc4ZhqH3zBLVvniCpaIleAgcAAAhVTMECahjCBwAACGUEEAAAAACWIYAAAAAAsAwBBAAAAIBlKEIHAKCGyc09rm3bNuv06VOKi6utpKRkxccnBLtZACCJAAIAQI3hcDi0ZMkibdq0QYZhyDAMmaap1auXKyWls/r3HyK73R7sZgKIcEzBAgCghnCFD6loSW6n0ynTNCVJmzZt0JIli4LZPACQRAABAKBGOH78mDt8lGXTpg3KzT1uUYsAwDsCCAAANUBOzpYK9wEyDEPbtm22qEUA4B0BBACAGuD06VM+BZDTp09Z1CIA8I4AAgCQJHetAMJTXFztCv8NTdNUXFxti1oEAN6xChYAWMw0zQq/qbaqHVt+OKIPv8xR5taflF/gUGyMXd0TG2tIWku1ax4fEu2EbxITO2r16uXlnmOappKSki1qEQB4RwABgAAzTVM7fszVosw9yso5FBIX+oUOp17731YtXb9PNpshp7Pom/P8AodWbTqoFdkH1LdTM918aUdF2RksDwcJCfWVktK53EL0lJTO7AcCIOgIIAAQQIUOp2Z8ukXLN+4PmQt90zQ149MtWrFxvyS52+TiPDeNx3X7hJHJjISEif79h0hSqX1ATNN07wMCAMFGAAGAAAnVC/0dP+Zq+bnnLI8pafnG/Rqc1kLtm/OteTiw2+0aNGiY0tJ6FtsJvY6Skjoy8gEgZBBAACBAQvVCf1HmHo/RmPLYDEOLMvcSQMJMfHyCevToHexmAIBXTOwFgABxXej7wnWhb4WsnEM+hQ+paJQma9tPAW4RACCSEEAAIEBC8ULfNE3lFzj8uk9+gYMlegEA1YYAAgABEKoX+oZhKDbG7td9YmPsFKEDAKoNAQQAAiCUL/S7Jzb2a2pY96TzAtwiAEAkIYAAiBhWTyMK1Qv9IWkt/ZoaNiStRYBbBACIJKyCBaDGCvYGgEPSWmpF9gGfzrXyQr9d83j17dRMKzbuV3kxxJDUp1MztTs/3pJ2AQAiAwEEQI1U6HDq1U82B3UDwFC90DcMQzdf2lE2m1FqJ3SpaDTGaZrqc65/qP8AAFQnAgiAGsc0Tb32yeagbwDoutCXVCoIScG90I+y23T76BT9YtCF+vDLHH279aefR4iSztOQtBZqd35gR4gAAJGJAAKgxtm666iWrt9X4XlWbAAYZbdpwshkDU5roUWZe5W1LXQu9A3DUIc2DXXnFZ1UWOiUaZoEDgBAwBFAgApwURZ+Plm6M6R2+jYMQ+2bJ7ifI1TfU6HYJgBAzUMAAUoIduEyqm5V9v6Q2wCwON4/AIBIRgABiil0ODXj0y1BLVxG1ZimqdNnCv26j2sDQIIBAACBxxUUcI5pmprx6RafCpdnfLrF8j0l4BvDMBRXy7/vVtjpGwAA6xBAgHN2/Jir5RUslyr9XLi8Y1+uFc2qcawIbr1Sm4XkBoAAAIApWIDbosw9IVW4XFMEo6ZmZEZbfZW5x6dz2ekbAABrEUCAc7JyDoV04XI4ClZNTYfWDZTR5XwtW78vpDYABAAATMECJBV9S59f4PDrPq7CZXgXzJoawzB068hk9enUTJJKTceynRtxYadvAACsxwgIoKIL1tgYu18hJBQKl31duSkYKzy5amoqEqjNAEN5A0AAACIZAQQ4p3tiY63afNDnGpBgFy47cw+qIHuhYrqPki22Xtnn5eepIGueYlKHyhbfxLL2hUJNTbhsAAgAQCRhChZwzpC0ln7VgASzcNk0TRVkL5Tz+H4VrH5Pzvw8r+c58/OKbj++XwXZCy2dMhaKNTWEDwAAgo8AApzTrnm8+nZqpoouUQ1JfYNcuGwYRtHIR+0EOU8d9xpC3OHj1HHZaicopvsoyy7AqakBAABlIYAA5xiGoZsv7Rg2hcu22HqK6XmN1xBSKnz0vKbcaVrVzVVT449QqKkBAACBRwABinEVLj9y00XqldLUfREdG2NXr9SmeuSmizRhZHK1LhlbFd5CiOPoj0ENHy7dExuzGSAAACiFInSghHArXHaFEFfoOLPq3aLjQQwfUlFNzYrsAz6dG+yaGgAAYJ3Q+BoXCGGhHD5cbLH1FN15hMex6M4jghY+pPCqqQEAANYhgAA1gDM/T2c3zPc4dnbD/DJXx7JCuNXUAAAAazAFCwhzJQvOozuPKAof52pCgjkNi80AAQBASQQQIIyVtdqVUawmJNghJNxqagAAQGAxBQsIU+UttVveEr3BRvgAACCyEUCAMGSapgqy5pW71G6pEJI1j43+AABA0BFAgDBkGIZiUofKltCs3OlV7hCS0EwxqUMZfQAAAEFHDQgQpmzxTVSr99gKQ4Uttp5P5yGy+DoaRs0OAKC6MQIChDFfLwy5gERxztyDOrNylpyny68LcubnFZ2Xe9CilgEAIgEBBAAiiGmaKsheKOfx/Tq98r9ynMr1ep57kYPj+1WQvZD6IQBAtSGAAEAEMQxDMd1HyVY7Qeap4zry5VulRkJKrbDWfRSjaACAakMAAYAI41qcwKidIMeJozq98r/uZZrLW94ZAIDqQAABgADyp9jbSrbYeorrfa3sdRvIPLdXjOPoj4QPAEDAEUAAIEDcxd4VbAIZrGJvW1w9NRw8Tsa5vWLOrHqX8AEACDgCCAAEQPFi7/J2og92sbe9drxiu47wOBbdeQThAwAQMAQQAAiA4sXeznNTnEqGkFAo9nacylX+uvkex85umF/hqA0AAJVFAAGAAHHvRO8lhIRCsbfzdJ6OfPmWzHNtqNXrunIDEwAA1YEAAgAB5C2EhEKxtzM/r2gfkBNHZZxrg71B8zIDEwAA1YUAAgABVjKEBLvY2zX6Yp46LnvdBorrfa27DeWN2gAAUB0IINXkkUceUYcOHVRYWBjspgAIQbbYeoruHPxib9M0VZA1T85Tx2XUTlDDweNki/NsQ6kQkjWPndABANWGAFINVqxYIYfDEexmAAhhzvw8nd0Q/GJvwzAUkzpUtoRmRfuA1I73ep47hCQ0U0zqUHZCBwBUm4gMID/88IMee+wxXXHFFUpJSdGoUaO8nrdz505NmDBB3bp1U58+fTR58mTl5+d7nHPq1Cn97W9/0x/+8Acrmg4gDJUsOA92sbctvolq9R5bauSj1Hmx9YrOi29iUcsAAJEgIgNITk6OFi9erDZt2qh9+/Zez8nNzdX48eN18uRJTZ06VX/4wx80d+5cPfroox7n/e1vf9NNN92kBg0aWNF0AGHG22pXoVDs7euIBiMfAIDqFpEBZMiQIVq8eLGmTp2q1NRUr+fMmjVLubm5+te//qUBAwboF7/4hR599FHNnTtX27dvlyRlZmZq165dGj16tJXNBxAmyltql2JvAECkisgAYrNV/LK//vpr9enTRw0bNnQfGz58uGJiYrR48WJJ0jfffKNNmzZpyJAhGjJkiCTpkksu0f79+wPT8AhF8Ssqw9f3TaDeX8WLvcta7YpibwBAJIoKdgNC1fbt2zVmzBiPYzExMWrdurV7BOSOO+7QHXfc4b69Q4cO+vzzzxUVRbdWhWma2vFjrhZl7lFWziHlFzgUG2NX98TGGpLWUu2axzMtBOU6e3S/Ti+fo6iuo8pdZcqZn6eCrHlFRdnVXOfgKvYuyF5YtCN6Ge1whRBXO3hvAwBqOq6Uy5Cbm6v4+NKrw8THx+v48eMBfe6oqJo/MGW32zz+61LocOr1/23R0vX7ZLMZcjqLvg3OL3Bo1aaDWpF9QBldztetI5MVZa/5/SSV3VfwzmYzlLv6UzmPH9TZNe8X7XHhpdjaeTpPZ9a8L506rsLNCxXX9/rqv/hv2EzRGT48bt0E386rZry3fEdf+Y6+8g/95Tv6quYggPjJNM0yLxK2bt1a5ce32Qw1aFCnyo8TLuLj49z/3zRN/WNWlpZt2CdJ7vDh4jw3NWXZhn2KiYnSb8Z2j6hvi4v3Fcrn6DdGzi/fkuPEUTmzPlT9weM8lpt1nMrVkeUfKursCdkbNFbDwWNlr103iC0OLt5bvqOvfEdf+Yf+8h19Ff4IIGWIj49Xbm5uqeN5eXllrpxVHZxOU7m5pwL2+KHCbrcpPj5Oubmn5XA4JUnf7TmuRd/srvC+pikt+ma3+ndupvYtEgLd1KDz1lcoW1F/xSu6xxidWTZLZ48e0r75M9wjIc7TeTq98r8yz23EF939SuWesUtnTga76ZbjveU7+sp39JV/6C/fhUpfxcfHMQpTRQSQMrRv395d6+FSUFCgXbt2laoNqW6FhZHzAeRwON2vd8GaXR7TrspjMwx9vma3bm9q7S7SwVS8r1AxM6aOotOvVsHq9+Q4eUynVryr6M4jijb/O1cYHp1+tZzRdeSM8H7lveU7+sp39JV/6C/f0Vfhj/hWhgEDBmjlypU6evSo+9iCBQtUUFCggQMHBrFlNVdWziGfwodUNB0ra9tPAW4Rwl3JVabOrHq33FWpAABA4EXkCMjp06fdS+nu3btXJ06c0Pz58yVJPXv2VMOGDTV27Fi9+eabuuuuu3TXXXfp8OHDevrppzV69OiATsGKVKZpKr/A4dd98gsc5dbkAFJRCInuPEJnVr3rPhbdeQThI8zl5h7Xtm2bdfr0KcXF1VZSUrLi42v+lEwAqAkiMoAcPnxY9913n8cx19//85//qFevXoqPj9fMmTM1efJk3XvvvYqNjdWoUaP0u9/9LhhNrvEMw1BsjN2vEBIbYyd8oELO/Dyd3TDf49jZDfNlMAISlhwOh5YsWaRNmzbIMAwZhiHTNLV69XKlpHRW//5DZLfbg91MAEA5IjKAtGzZ0qcVq9q2batXX33VghZBkronNtaqzQd9rgHpnnSeBa1COCu5E3nxGpCC1e8xDSsMucKHVDRyWnzjRtfxQYOGBaVtAADfUAOCkDEkraVfNSBD0loEuEUIZ87TnuEjpuc1sjdo7rnz+Or35MzPC3ZTg+748WP65puVWrJkkb75ZqVycwO711FlHT9+zB0yyrJp04aQbT8AoEhEjoAgNLVrHq++nZppxcb9Ki+GGJL6dGqmdueX3igSkIr2+Ti98r9eC87dO4+fCyeRPBLicDg0d+5cZWZmhsV0ppycLe42lsUwDG3btlk9evS2sGUAAH8wAoKQYRiGbr60o/p0aiapaFPG4mzn6j36dGqmmy/tSP0HvDJNU8eWzZZZzmpXJVfHKsiaV+5FbU311VcLlZmZKamo35xOp7sfNm3aoCVLFgWzeaWcPn2qwp97wzB0+nTN30sJAMIZAQQhJcpu04SRyXrkpovUK6WpYmOKvn2NjbGrV2pTPXLTRZowMllRbACEMhiGofgel8pWv2m5IxvuEJLQTDGpQyMu0B4/fkzZ2evLPSfUpjPFxdWuMCiapqm4uNoWtQgAUBlMwULIMQxD7ZsnqH3zoiU1WWoX/opu0Exxfa+Xw1H+xaottp5q9R4bke+vcJzOlJjYUatXLy/3HNM0lZSUbFGLAACVwdfICHmReHGIqvP1fROp769wnM6UkFBfKSmdyz0nJaUz+4EAQIgjgABABArX6Uz9+w9xhxDDMGSz2dxBylU4DwAIbUzBAoAIFK7Tmex2uwYNGqa0tJ7FdkKvo6Skjox8AECYIIAAxfhab0JdCsJdQkJ9paZ2KbcQPZSnM8XHJ4RMbQoAwD9MwQLOceYe1JmVsyrcmM6Zn1d0Xu5Bi1oGBMagQUOVlpYmielMAADrMAICqGhEoyB7oZzH95e7MZ0z/+fdtQuyF0bsCkqoGex2u0aPHq3OndO0efMmpjMBACxBAAFU9O1vTPdR5e6OXTx82GonKKb7KMIHaoSEhPpMZwIAWIYpWMA5pXbHXv2eezpWqfBRzgZ3AAAAKBsBBCjGWwhxHP2R8AEAAFBNCCBACSVDyJlV7xI+AAAAqgkBBPDCFltP0Z1HeByL7jyC8AEAAFBFBBDAC2d+ns5umO9x7OyG+RUu0QsAAIDyEUCAEkoWnNfqdZ3XwnQAAAD4jwACFONttSt7g+Zlro4FAAAA/xBAgHPKW2q3vCV6AQAA4DsCCKBzO6FnzSt3tatSISRrnkzTDFKLAQAAwhMBBNC5ndBTh8qW0KzcpXbdISShmWJSh7ITOgAAgJ+igt0AIFTY4puoVu+xFYYKW2w9n84DAABAaYyAAMX4GioIHwAAAJVDAAEAAABgGQIIAAAAAMsQQAAAAABYhgACIGB8XaaY5YwBAIgcBBAAAeHMPagzK2dVuGGjMz+v6Lzcgxa1DAAABBMBBEC1M01TBdkL5Ty+v9xd4927zx/fr4LshYyEAAAQAQggqDIuGlGSYRiK6T7q513jvYQQd/hw7T7ffRTLGwMAEAHYiBB+M01TO37M1aLMPcrKOaT8AodiY+zqnthYQ9Jaql3zeC4k4d413hUyCla/595lvlT4KGf3eQAAULMQQOCXQodTMz7douUb98tmM+R0Fo1+5Bc4tGrTQa3IPqC+nZrp5ks7KsrOAFuk8xZCojuP0NkN8wkfAABEKK4Q4TPTNDXj0y1asXG/JLnDh4vz3FSsFRv3a8anW5iaBUk/hxDXdKwzq94lfAAAEMEIIPDZjh9ztXzjflUUK0xJyzfu1459uVY0C2HAFltP0Z1HeByL7jyC8AEAQAQigMBnizL3yGbzrbbDZhhalLk3wC1CuHDm5+nshvkex85umF/hEr0AAKDmIYDAZ1k5h0pNuyqL0zSVte2nALcI4aBkwXmtXteVuzoWAACo2Qgg8IlpmsovcPh1n/wCB3UgEc7balf2Bs09akIIIQAARBYCCHxiGIZiY+x+3Sc2xs5yvBGsvKV2SxamE0IAAIgcBBD4rHtiY79qQLonnRfgFiFUmaapgqx55a52VSqEZM1jxAwAgAhAAIHPhqS19KsGZEhaiwC3CKHKMAzFpA6VLaFZuUvtukNIQjPFpA5lxAwAgAhAAIHP2jWPV99OzVTRJaIhqW+nZmp3frwVzUKIssU3Ua3eYytcatcWW6/ovPgmFrUMAAAEEwEEPjMMQzdf2lF9OjWTpFLTsWznvr3uc24ndL7Nhq/vAd4rAABEjqhgNwDhJcpu04SRyRqc1kKLMvcqa9tPyi9wKDbGru5J52lIWgu1Oz+eC0oAAAB4RQCB3wzDUPvmCWrfPEFSUcExgQMAAAC+YAoWqozwAQAAAF8RQAAAAABYhgACAAAAwDIEEAAAAACWIYAAAAAAsAwBBAAAAIBlCCAAAAAALEMAAQAAAGAZAggAAAAAyxBAAAAAAFgmKtgNKCk7O7tS97vwwgtVq1atam4NAAAAgOoUcgFkzJgxMgzD7/u9//77Sk1NDUCLAAAAAFSXkAsgkvSrX/1KrVu39ulch8OhP/7xjwFuEQAAAIDqEJIBZPDgwerSpYtP5zocDj366KMBbhEAAACA6hByRejTpk1T27ZtfT7fbrdr2rRpatOmTQBbBQAAAKA6hNwIyMUXX2zJfQAAAABYL+RGQAAAAADUXAQQAAAAAJYhgAAAAACwTMjVgFRk2bJl+vrrr1VYWKj09HQNHz68UvuGAAAAALBe2IyAmKapBx98UDNnzlTXrl3Vp08fffXVV7r55pt15syZYDcPAAAAgA/CZgTknXfeUUxMjF5++WX3sYsvvlgvvfSSnn/+eU2aNCmIrQMAAADgi7AZAfn000911113SZK+++47vf766zp79qxuvfVWffHFF0FuHQAAAABfhE0AOXnypOLj4yVJ+/bt06JFi1RYWKjo6Gg5HI4gtw4AAACAL8ImgKSlpWnBggWSpP79++uNN95QXFycvv32W7Vv3z7IrQtfpmkGuwkAAACIIGFTA/KrX/1K48ePV0xMjEaOHCnDMLRs2TI9+eST+sc//hHs5oUN0zS148dcLcrco6ycQ8ovcCg2xq7uiY01JK2l2jWPZ1UxAAAABEzYBJDGjRvrtdde03PPPadnn31WhmEoOTlZU6dO1YUXXhjs5oWFQodTMz7douUb98tmM+R0Fo1+5Bc4tGrTQa3IPqC+nZrp5ks7KsoenMEx0zR9CkC+ngcAAIDQEjYBRJKaNm2qZ599NtjNCEumaWrGp1u0YuN+SXKHDxfnualYrtsnjEy2/ALfmXtQBdkLFdN9lGyx9co+Lz9PBVnzFJM6VLb4Jha2EAAAAFUVNjUgqJodP+Zq+cb9qqjiw5S0fON+7diXa0Wzfn5e01RB9kI5j+9Xwer35MzP83qeMz+v6Pbj+1WQvZAaFgAAgDBDAIkQizL3yGbzbUTDZhhalLk3wC3yZBhG0chH7QQ5Tx33GkLc4ePUcdlqJyim+yimYQEAAIQZAkiEyMo5VGraVVmcpqmsbT8FuEWl2WLrKabnNV5DSKnw0fOacqdpAQAAIDSFXA3IqFGjlJqaqtTUVKWkpCglJUW1a9cOdrPCmmmayi/wb6+U/AJHUAq9XSHEFTYKVr+n6M4jdHbDfMIHAABADRByAeS7777T9u3bNWfOHJmmKZvNpgsuuEApKSnq1KmTUlNTlZycrLp16wa7qWHDMAzFxtj9CiGxMfagTW8qGULOrHq36DjhAwAAIOyFXABp3bq1Dh06pJEjR6pbt27aunWrNm3apC+//FLz5s2TYRgyDEOtWrVSp06d9Pzzzwe7yWGhe2Jjrdp80KdpWDbDUPek8yxoVTltiK2n6M4j3OFDkqI7jyB8AAAAhLmQCyCffPKJXn/9db344ovKzMzUpEmTNGnSJEnS999/r+zsbPefpUuXBrm14WNIWkutyD7g07lO09SQtBYBblEFbcjP09kN8z2Ond0wXwYjIAAAAGEt5IrQo6Ojdccdd2j+/PlKTU3Vbbfdprvvvlu7d+/WBRdcoJEjR+r3v/+9Zs6cqVWrVgW7uWGjXfN49e3UTBVNqjIk9e3UTO3Oj7eiWV6VLDiv1eu6clfHAgAAQPgIuQDi0qRJEz3zzDN65513dODAAY0cOVJ///vfderUqWA3LSwZhqGbL+2oPp2aSVKpJXlt5+o9+pzbCT1Y9R/eVruyN2he5upYAAAACC8hG0BcunXrpvfff19/+tOfNHv2bI0YMUILFy4MdrPCUpTdpgkjk/XITRepV0pTxcbYJRUVnPdKbapHbrpIE0YmK8oenLdFeUvtlrdELwAAAMJHyNWAlJSbm6tt27YpPz9fvXr10ieffKIPP/xQQ4cODXbTwpJhGGrfPEHtmydIUlCW2vXGNE0VZM0rd6ndUkv0Zs1Trd5jQ6L9AAAA8E3IBZCPP/5Y27Ztc/85ePCgTNNUQkKCOnbsqJtvvlkDBgwIdjNrjFC5eDcMQzGpQ1WQvbBoR/QyCs3dISRrnmJSh4ZM+wEAAOCbkAsgf/jDH1SvXj316dNH1157rZKTk5WcnKzzzz8/2E1DgNnim/g0omGLrcfIBwAAQJgKuQAiSXl5efr22291+vRpFRQUyOl0yjRNNW/ePNhNQ4D5GioIHwAAAOEp5ALISy+9pE2bNmnTpk3Kzs7WkiVLJBVdcMbHxys1NVWpqalKSUlRamqqWrduHeQWAwAAAPBVyAWQgQMHauDAge6/Hzt2TJs2bdLGjRvdwWTFihXu4unNmzcHsbUAAAAA/BFyAaSk+vXrq2/fvurbt6/72IkTJ7Rx40bCBwAAABBmQj6AeFO3bl317t1bvXv3DnZTAAAAAPgh5DYiHD16tLZt2+bz+U6nU6NHj9b27dsD2CoAAAAA1SHkAkhOTo7y8/N9Pt80Tb/vAwAAACA4QnIK1t13362YmBifz2dJVgAAACA8hFwAufLKKyt1vwYNGlRzSwAAAABUt5ALIFOmTAl2EwAAAAAESMjVgAAAAACouQggAAAAACxDAAEAAABgGQIIAAAAAMsQQAAAAABYhgACAAAAwDIhtwzvjz/+qPPOO0/R0dH68ccfyz3XMAzVr19fcXFxFrUOAAAAQFWEXAAZOnSo3n33XXXp0kVDhgzxaZfzpKQkPf3000pOTraghQAAAAAqK+QCyFNPPaVWrVq5/39FASQ3N1cfffSRnnjiCc2aNcuKJgIAAACopJALIFdeeaX7/1911VU+3adt27a69957A9UkAAAAANWkRhShp6Wlafr06cFuBgAAAIAKhNwIyE033eTzuYZhaObMmapbt6569uwZwFYBAAAAqA4hF0BWr16tunXr6vzzzw92UwAAAABUs5ALIK1atdLu3btVt25djRkzRpdddplq164d7GYBAAAAqAYhVwOyYMEC/ec//1GrVq00efJkZWRk6JFHHlFmZmawmwYAAACgikIugEhSz5499cwzz2jp0qV68MEHtW3bNl1//fW69NJL9corr+jQoUPBbiIAAACASgjJAOJSt25d/fKXv9R7772nOXPmqE+fPvr73/+uJ554IthNAwAAAFAJIR1AXLZv364PP/xQn332mUzTVNu2bYPdJAAAAACVEHJF6C4nT57UJ598otmzZ2vdunVq3bq1brzxRl155ZVq2rRpsJsHAAAAoBJCLoCsWbNG77//vj7//HOZpqnhw4frgQceYJ8PAAAAoAYIuQBy4403qm7duho9erRGjhypunXrSpKys7O9np+ammpl8wAAAABUQcgFEEk6ceKE3nvvPb333ntlnmOapgzD0ObNmy1sGQAAAICqCLkAMmXKlGA3AQAAAECAhFwAufLKK4PdBAAAAAABEhbL8AIAAACoGQggAAAAACxDAAEAAABgGQIIAAAAAMsQQAAAAABYhgACAAAAwDIEEPjFNM1qPQ8AAACRhQACnzlzD+rMylly5ueVf15+XtF5uQctahkAAADCBQEEPjFNUwXZC+U8vl8Fq98rM4Q48/OKbj++XwXZCxkJAQAAgAcCCHxiGIZiuo+SrXaCnKeOew0h7vBx6rhstRMU032UDMMIUosBAAAQiggg8Jkttp5iel7jNYSUCh89r5Ettl6QWwwAAIBQQwCBX7yFEMfRHwkfAOR0Ov06DgCITAQQ+K1kCDmz6l3CBxDhvty9VBO/elgzs2d5HJ+ZPUsTv3pYX+5eGqSWAQBCDQEElWKLrafoziM8jkV3HkH4ACLQl7uX6v2cOTJlavWBTHcImZk9S6sPZMqUqfdz5hBCAACSpKhgNwDhyZmfp7Mb5nscO7thvgxGQICI4gofxa0+kKntx7/X4fwjHsdd5w1ulWFZ+wAAoYcREPitZMF5rV7Xlbs6FoCayel0anbOXK+3lQwfLrNz5lITAgARjgACv3hb7creoHmZq2MBqLlsNpvSm3b36z7pTbvLZuNXDwBEMn4LwGflLbVb3hK9AGqu8alj1bNpmk/n9myapvGpYwPcIgBAqCOAwCemaaoga165q12VCiFZ89gJHYgA41PHqlFsw3LPaRTbkPABAJBEAIGPDMNQTOpQ2RKalbvUrjuEJDRTTOpQdkIHIsDM7Fll1ny4HM4/UmqJXgBAZGIVLPjMFt9EtXqPrTBU2GLr+XQegPDnWmrXF67zGAkBgMjGCAj84muoIHwANZ/T6dSaA1l+3WfNgSxWwQKACEcAAQBUis1m05jE0V5vK6smZEziaFbBAoAIx28BAAhRZY0UhNIIwuBWGbo68XKPYz2bpunPfR8qtTrW1YmXswkhAIAAAgCh6MvdSzXxq4dLFW7PzJ6liV89rC93Lw1Sy0pzhRBDhsdSu64leg0ZhA8AgBtF6AAQYr7cvVTv58yR5Fm4Xbzg23V7qFzUD26VoYEt+paaXjU+daxuTL6WaVcAADcCCACEkOLhw2X1gUxtP/59qaVuQy2ElBUyCB8AgOL4rQAAIcLpdGp2zlyvt5W1z8bsnLkhVRMCAEBFCCAAECJsNpvSm3b36z7pTbszwgAACCv81gKAEOIq3PZF8YJvAADCBQEEAELM+NSxZe6j4dIotiHhAwAQlgggABBiZmbPKrPmw+Vw/pFSS/QCABAOCCAAEEKKL7VbkdUHMiM6hJim6ddxAEBoIIAAgBfB2IXc6XRqzYEsv+6z5kBWRK6ClXN0hyYtm6xle1d5HF+2d5UmLZusnKM7gtQyAEBFCCAAUEKwdiG32Wwakzja621l1YSMSRwdcatg5RzdoWnrXlFuQZ7e3jrbHUKW7V2lt7fOVm5Bnqate4UQAgAhKrJ+awFABVwbAZoyPaY4uaZGmTL1fs6cgIWQwa0ydHXi5R7HejZN05/7PlRqdayrEy8PmU0IreIKHw6nw33s7a2zNSN7lt7eOtt9zOF0EEIAIESxEzoAnBMqu5C7HnN2zlylN+3uXu3K9d81B7I0JnF0xIUP0zT1WvZbKnQWlrptTYm6GVOmCp2Fei37LT3V71EZhmFVMwFYxDRNrz/bZR1H6CCAAIAqvwv5wBZ9AzIFanCrDK+PPT51rG5Mvjbipl1JkmEYGtX2Eo+RjoqMansJFyIIG1xQ+y7n6A69lv2WRrW9RP1a9HIfX7Z3lebt/Fy3po5TYoN2QWwhyhN5v8EAwItQ3IW8rMeOxPDh0q9FL13fYYxP517fYYzHhQkQyrYd2c7CCj7admQ7dWBhLnJ/iwFACexCHh76teil9Ar+ndKbphE+EDY2HczRPzOnc0HtA1dfUQcW3gggAFAMu5CHvmV7V5Wq+ShpzYHMUt8kA6Fo25HtenLxVC6ofWCapv6x4hUVOgtlynO/n/LqwNgbKPQQQACErUBsRMcu5KHN9Y2wL4p/kwyEItM0NX39mzob4hfUobLpp2EYuraT96XKy0IdWGgigAAIS2VtRLdkz0rdOechbTuy3e/HZBfy0Gaapubt/Nyv+8zb+Xmpi6RQuZhC6AjWe8IwDF1+4XC/7mP1BXWobfp5cfsM3ZBytU/nUgcWugggAMJOeRvRvbnpfR3Lz9U/M6f79YuRXchDn2EYujV1nKJsUTLkeQFWsibEkKEoW5RuTR3ncbEWahdTCL5gvyf6t+ytO3qM8+lcqy+oQ3XTz/4te1MHFuYIIADCSqA2omMX8vCQ2KCd7ul6m+w2u/vY9R3G6ObUsR6rY9ltdt3T9TaPZThD9WIKwRMq74mL22eo1/mhdUEdypt+LtmzkjqwMMdvTgBho/hGdIGYL80u5OHBFULiY+p5fCPsWqI3PqZemeEjFC+mEByh9J74YvtSrdoXOhfUgf6srYovti/Vm5ve9+lc6sBCFwEEQNhwbUTnD3/nS7tCiCHDY6ld1xK9hgzCRwhIbNBOT/V7tNQ3wv1a9NJT/R71CB+hfDEVyYJZixNK74kle1bq5W/e8ulc1wW1FbUpgf6srQzTNPXfjd43jC2LtzowBB8BBEBQVPbiw4qN6Aa3ytDUQVNKLbU7PnWspg6aQvgIEWVd7JQ8HqoXU5GsvEUkvNVdVHetVai8J0zT1JzvPvPrPh98N08PL/1LwEfpQnHTT8Mw9Js+t1WpDgyhgQACwHJVLfr0ZSO6XudXbb50qO9CzkpO/gnFi6lIVVbdxasb39KsbR+UqruYmT1LE796WF/uXlqt7QiF94RhGLq9yw2K9nJB7e3vNsOmfMcZ5Z09YclUwVDc9DOlSaLuS7u9UnVgCB2h8ZsUQMSojqJPXzaiW7Wv5hYgBnvVnnAVihdTkaasuou/rpmqzIPr3McKnYWatu4VvZA1XasPZMqUqfdz5gQkhAT7PZHUsL0eGTjR44LaZni/PHOaP48EWVGbEqqbfiY1bO93HRhCi2HydVmV3Hnnndq3b58Mw1Djxo01efJknX/++ZV+PIfDqSNHTlZjC0NTVJRNDRrU0dGjJ1VYyDKm5alJfVX84qP4vOv0pmkev+QMGWV+e+XPRnTSz99cOp1Or6MXZR0PVa4+LHQWSvr59RXvlyhblE+/fGvSe8sXvr53vH3bHWl9VRVl9ZVpmpq0bLJyC/Kq9PjVWYPl63tibNJV6t+yd6nj1fH54eqvVdvXa/r6N1XgKFC+44zP94+Pqaen+j1a7dOMKvtZG0gl31umaXp93WUdry4NG9aR3R4+vzdCEb1XRc8995zmzJmjjz/+WAMHDtRzzz0X7CYBIak6ij4ruxHdl7uXaOJXD5faODBQUzsCJZRW7Qk37KBetrLqK0Kh7sKb2Tlzq6Vt/rwnZm37QM+umeZxrLo/P5IattdT/R7VVReO8ut+gapNqY5NPwPN1zowhJ6IDCA//PCDHnvsMV1xxRVKSUnRqFHef9h37typCRMmqFu3burTp48mT56s/Px8j3Pq1avn/v8nTpwIaLuBcFYdRZ+V2Yiue5Muej9nrkyZHruXu3Y9D9TUjuoWSqv2hJtwuZgKhi93L7U0nPtTd1GW9KbdqzzqUJn3xPd5uzRj4zuSAvf5YRhGyNSmVHXTT6A8ERlAcnJytHjxYrVp00bt27f3ek5ubq7Gjx+vkydPaurUqfrDH/6guXPn6tFHHy117gMPPKCMjAx98skn+sMf/hDo5gNhqzp+sfqzEV2/5r20eM8yj/uvPpCpx5Y/rdUlLtpDPYSEyqo94YiLKe++3L1U7+fMsTyc+1J3UZbiS2NXhT/vieLWHMyy5PMjFGpTqrLpJ1CRiAwgQ4YM0eLFizV16lSlpqZ6PWfWrFnKzc3Vv/71Lw0YMEC/+MUv9Oijj2ru3Lnavn27x7nPP/+8lixZol/84hf617/+ZcVLAMJWdfxiLW8juhtSrlb92Hjd222Cvt6z3Ov9D+cf8Xq8uqZ2BEoofDMarriYKuIa1XGFj+KsCue+FDZ70yi2YbWED5fy3hNjk64q835WfH6ESvF3ZTb9BHwRkQHEl6Hbr7/+Wn369FHDhg3dx4YPH66YmBgtXry41PmGYei6667Txx9/XK1tBWqa6vrFWtZGdP1b9tZLlz+tjo0Tld60u19tq46pHYEWCt+MhqtQv5gK9NLKrtXTluxeodk53jdzC/TFtb+FzcUdzj9SaqpYVZX1nujfsrcuqNfar8eqrs+PUKtX8mfTT8BXUcFuQKjavn27xozx/KYxJiZGrVu3do+AnDx5Unl5eWrWrJkkaf78+UpMTKzyc0dFhfYFUHVwrR7BKhIVq0l9tWTPSr9+sdrshteVZ8pjt9tkGIbsdpsmdL1exoaiJXkr0uv8NN3a+Xq/nisYluxZ6VOA69CoXYV9V5PeW75KPu9CPTPwsVLTqwa26aMBrXuXOe0q0H217ch2TV//pi6/cLjHv9uSPSs157vPdHuXG5TU0PuUYV8f37V62qycD9U2obV2Ht/l8/17nt9dMTG+XTKU1VeVqbsoafWBTBk2VevPalnviYf7TNSr69/S6v1ZFT5GVT4/ivdXZeuVynvv1iSR+JlVUxFAypCbm6v4+PhSx+Pj43X8+HFJ0unTp3XPPffozJmi5fLOP/98Pfvss1V6XpvNUIMGdar0GOEkPj4u2E0IG+HeV6Zpat7Xfv5i3fG5RncaUqlfrK7+emDA7bpn3qM6ePJwmec2qdNIDwy43e/nsNoX25fqzU3v+3Tum5veV+3atXRx+4qXKw3395aVAtFXmw7maGrmdJ11Fnr8uxX/956aOV2PDJyolCb+f8nlevziq6ftPL5L59VupJ9Olf1z4dK/TS/d2/tmv5/XW1/9tt/tenLxVBWWWIrbH6v3Zen+jAmWjFb+buAdln1+uPqrrD7q36anlvyw2v33onolu37b73Y1bFi3ys8fTvjMCn8EED8VX1u6cePGev993y4GfOV0msrNPVWtjxmK7Hab4uPjlJt7Wg5H6M65DwU1qa8mdBqnf567ECr+i7XX+WkeoxSufUAmdBqnY8f8+3ko2V+vbXi73IsHSTp48rCe/3p6SI+AmKapWevnVHxiMbPWz1Fag27lfqtfU95bgRaovtp2ZLv7Z8Ll5W/e0rq9mz1+JgqdDk1ePFX3pd3u10iIaZr627KicFOSL+GjUVxD3dDhGh096vv+VOX11fnRzTUx7Xb9M3O6ey+bKMOuQtPh7aG8urbD5Tp+/LTP51eFFZ8fJfvLWx/dkHK1+rfsrTZ1WrtDqd1m18S023V+dHO//n3CWah8ZsXHxzEKU0UEkDLEx8crNze31PG8vLwyV86qLpG0yZXD4Yyo11sVNaGv2sW31T1db/O6kV77+Lbu6VmuQuB28W0r/ZodDqdeXfd2qYLasqzalynTqWotcq1ut6aO82sjx1tTx8nhMKUKvmmuCe8tq1Smr8raFM3pdGr6+jfdPwvFlZw26Fpaefr6N/3edG5U20sqX3dx+oheXfd2pX4uyuor1+fAyxtmKt9xptzwYcjweK9fnXi5BrToZ8n71bUamC+q4/OjeH+5+ui17Lc0qu0l6tOspwoLnerTrKecjqJpWremjqvSZ2Q44zMr/BHfytC+fftSq10VFBRo165dAQ8gQE1mVSGw0+nUmgMVz90ubs2BrJBeBYuVnMKPq/C7ZKHwsr2r9MjyJ/1eKKEySytXde+N4kv0VqczjgKfCuxdy+RW5w7oFQmFzw+Kv1GTEUDKMGDAAK1cuVJHjx51H1uwYIEKCgo0cODAILYMCH9W/GK12Wwakzja622NYht6PT4mcXTIr4IV6is54WeunetzC/I8VityrXKUW5CnxXuXa2irAT49XlWWVq7K3htS9V5cuzbVdJgV14GY5/5XN6qOBrXsVy3P74tQ+fxgp2/UVBE5Bev06dPupXT37t2rEydOaP78+ZKknj17qmHDhho7dqzefPNN3XXXXbrrrrt0+PBhPf300xo9ejQjIEAlOJ1Oj1/Orl+gZR2vDq5vS4vvd+DayKzk9Aorv12tKleAK9lX/Vr0Ut/mPbk4CQGu8FG8tuPtrbOVc2ynx3Q5h9OhxXuXq2ODRG05mlPm41V1aWVf996oE11bJ8+Wrruqzotr16aa/kwLu7z9CMvf1zX18wMIBREZQA4fPqz77rvP45jr7//5z3/Uq1cvxcfHa+bMmZo8ebLuvfdexcbGatSoUfrd734XjCYDYe3L3Us1O2eu0pt295gjPTN7ltYcyNKYxNEB++XtetySz+/6b6CfP1D4ZtR/DodDdrvd5+MVKRmeiz/ea9lvea3tKBkCXLUd5YUP1/0S67etVAjxZ1+Jk2dP6YJ6rfV93s9L9Abi4tr1OnxpVzA31aypnx9AsBlmde1whGrhcDh15EjNX80iKsqmBg3q6OjRkxSSVSDc+6rkjsuB/gaxrP4q62KxrOORINzfW/7477aPtXjPMl1Qr7UeTL/HffzZNdP0fd4uDWzZT9cmXVHm/Uv2VUWhunuTLso8uK7aX4e/F+OmaWrSssnKLcjz+T7xMfXUocGF+ubA2kpdXPvzvpqRPavckZn0pmm6OQQWhgjk50ck/RxWVaj0VcOGdVgFq4roPQABUzJ8SEUFrY8tf7rU6jLv58zRl7uXBqwtZV0kRGr4iCSu8CFJ3+ft0rNrpkn6OXxI0uI9y/TfbR/79Hiu97Up06NA2xWqTZnKPLhOaU26Vvtrmbfz8woLt4vfbhiGbk0dpyhblLuY26VkTUjRvhJRujV1nG5O/aWmDpoS0G/2fZkWtuZAZsB3+vYFnx9A9eInB0BAOJ1Ozc6Z6/W2w/lHvB6fnTM3pFehQvgpHj5cvs/bpfu/etRjmpHkWwhZ9MMSn0N15sF1al2vZbmP17FBot/hoLxpdt5W3Ups0E6DWvT1KPj2ZfW0QF5c+zMtrHgBP4CagQASQXydbcesPFQHm83m9xKj6U27840iqo3D4SgVPlwKnAVejy/es0wOh/d9KZxOp/671ftmkGWF6l15e8pt45ajORrUom+1LK1c3qpbX+z+2n3e0FYDgrp6mmkW7WPhD19GfgCED37TRwhn7kGdWTlLzvzy5wE78/OKzss9aFHLUJONTx2rnj4u/emqDQGqi91u1wX1Wvt1nwvqtS6zIN1ms6nn+f6Fal98sftrDWrRt0pLK5e16taM7FmlRhoW712unKM73H+3el+Jyk4LY4EFoOYggEQA0zRVkL1QzuP7VbD6vTJDiDM/r+j24/tVkL2Qb5tQLcanji1z3XyXRrENa2T4KOtniJ+tqilrmp634w+m3+NzCClZoO7NrZ2v9zlU+2P1gSw92feRSu2N49pXo9BZWGpfDW81FoXOQr2W/VapWhErsakmENkIIBHAMAzFdB8lW+0EOU8d9xpC3OHj1HHZaicopvsovm1CtZiZPavM6Skuh/OPBGSn5WAqbwfsScsme3wDDd99uXupJn71sGZmz/K4gJ6ZPUsTv3pYX+5eWirgPZh+j2JsMeU+bowtpsLw4eJLqI6Pqef3N/xlTT+s6LPYta+GPyqzo3p1Y1NNIHKxDG+ICeQyvKVCRs9rZIutV+bxQAqVpfTCQTj3VcmlditSHdOwQqG/XNNhXPtAuC6uihfeRtmign5xFQp95Y+Sq6pFGVG6NukKfXdsp8f7rJY9Rr/ucqu7b4uvdlWe8kZAivfVq+ve9ul93bFBor47vtP9Pvhlh6uU0aJ3wN4HvhZ2B3pfDX/fV6Zpeg1DZR2vacLt5zCYQqWvWIa36ui9CGKLrVcULoqNhDiO/mh5+EBo8mdai6+Pt+ZAll/3WXMgK+xXwfJ1Lr7D6dC0da8wEuIjb0s6F5qFenvr7FJh4IyjQFOzXlbO0R0+hw/Jc4nesry2wbfwIRUVmF+Y0FbxMfXUs2maPtm5QDlHdwTsG/5+LXqVGmEpqao7qgcCm2oCkYcAEmFKhpAzq94lfMBjWktxxae1+Mtms2lM4mivt5U1fWVM4uiwXgXLn7n4rh2wS87FR2nlLelc5n3k1D+yXvQ5fLh8n7er3FWwVu/zL1RvPfqdLm09VKsPZCq3IM8dOgNR+B1O+2oAiGzh+5selWaLrafoziM8jkV3HkH4iFC+bKpW2U0CB7fK0NWJl3sc69k0TX/u+1CpQt7q2gk9mMJ1Ln5lWVVkX5klnV2ibVFej5dVEzKwZb9yV8G6tsPlXm+Lj/H++dmqbgu9+91H7r8XH/mqzn939tUAEE4IIBHImZ+nsxvmexw7u2F+hUv0ouaxYqdyVwgxZHjUeLiW6DVk1Ijw4eKaXuOLQM/FDySri+z9WdK5uGsSr9DAlv08jl1Qr7X+PmhyqdWxBrbsp2uTrij38Ya06V8qVJcXjnad8NwHJBAjX+yrASDcEEAiTMmC81q9rit3dSzUXFbuVD64VYamDppSqsB8fOpYTR00pcaED5dwnYvvC9M0vW54Z5qm+1v44lONqnOUxJfVp4pzBbxrk34OIRfUa63f9bhbkucSvQNb9tM1id5HN0oqGapvTv1lUEe+2FcDQLhhFawQwypYKCmQfRWMVaoCLRTeW6GyGlFF/O2rnKM79PKGmcp3nJFpmh51LtG2KJ09t9qTVHShazNsqmWP0S/aX+bxOpftXaV5Oz/Xranj/KqB8Of9mt40TTeXeK86HA7tyP1Br2W/pVFtL3G3yeFwaOX+b8ptk7e+cjqdHjVLwf53D5XV10LhZzCc0F++C5W+YhWsqqP3IkR5IcPb6liMhEQGdiqvflWdix+qmxfmHN2hF9ZO16nC03KazlJF9sXDh1Q01chhOnSq8LTH6/Q2SuILf8Oyt2LrHbk/lBq5kaSV+7+pVJtKLpgQ7JEv9tUAEC4IIBHANE0VZM0rd4SjVAjJmhf0Cx5YI5J3Kq9uVZ2LH6qbF7q+WXealf/GsSpLEVdmSWfXc7r60orlkUNhFarEBu30VL9HK7WjOgBYhQASAQzDUEzqUNkSmpU7vcodQhKaKSZ1KPODw0hVvjWP1J3KA6Eqc/G91VVIlR8xqC7lLS3sr8ouRVzeks4VmbfzczmdzoAvjxxKq1CxrwaAUEcAiRC2+Caq1XtshbUdtth6RefFN7GoZaiqqnxr7s+0luJL9KJsrmkwdtvPS7le32GMbk4d67E6lt1md0+HCeXNCyuztLC/fCnI9rakc3mKBzybzRbQInFWoQIA/xBAIoivv0z5lix8VOVb85qwU3mo1kv4Mxe/spsXlrdZXnX3iz9LC/vLn4Ls4iGk+AjT9R3GlKplKh7wpMAuj8wqVADgH1bBCjGBXAUrlITKShbhoKy+Kv6tefEL1/SmaR4XroaMUhdjLt72AZGKaj68TcsKpf06co7uKLWakSSt2L9a83Z8rgmdxqldfNsgtrDogt/bRWbJ4/5M35Gki87rosyfNii9aXeP2hzXiFYte4zGXDi6wpWn/P05nJE9q8IaB394W6nKF06nU9uPf1/q39/pdGrFvjXlrmZV0Wsoq02+9FWorEIVbHy++4f+8l2o9BWrYFUdvQeEocp+a17y+4Zw3am8vJGfNze9r2P5ufpn5vSgFW27+DoX359v5y86r4u+/Wl9mTvXS9IZR0G115H4UmDtr8oWZNtsNq/F1jabrdxi60AXibMKFQD4hhGQEMMICEoqq6/8/da8vGklX+5eqtk5c71+o77mQJbGJI4OufBRlZGfUFXRt/Ot67YstbO2VPaIlVR+vySfd6FPP4f+vtf8ZcV+KFX9efHnM8vXka+ais93/9BfvguVvmIEpOroPSBMVeec9nDZqby6Rn5CkS/fznsLH1LZO9dLVe+XyhRY+yvQBdlWF4mzChUAlI8AAoSx6tz4rOSmahUdD4bKrMjkz2pGwRLoEQZvfO2X8gqso21Rnue6dz+vJbthD5mCbIrEASC0hM6VBQC/hcLGZ1YL5GpGwWDFCENJ/vZLWUsL/33gk6WWFp7Y7Q49P+DPurfb7X4tRRxolVkeGQAQGAQQIEyF0sZnVvNl5KfX+b6N/ASSL8vhur6dtxv2Uud5e412w674mPL38ymPryNiJXkrsDYMw2uBtWEYIVmQHYptAoBIRBF6iKEIHSV56yvTNDVp2WTlFuT5/DjxMfX0VL9HPaaVOJ3OkJpi5Stfw1cwR0DKWibY23K4OUd36IW10+UwPff2KFlAXl1c/VKZn0N/C6xDsSC7Mm3iM8t39JV/6C/fhUpfUYRedfQeEIb8mdPu0rxOM4+Lq5nZszTxq4f15e6lAW1rdQuHkR9/Noh0FdaXDB9S6QLy6lKVfvG3wDoUC7JDsU0AEEkIIECY8nVOu8uWozml9owwZer9nDlhE0KsXs2oMoovE+zy9tbZmpE9yyM4OZwOTVv3ir47ttPvwvrqYHW/AADgElXxKQBClSuElJzq069FL209kqNvf1rvcf7qA5nafvz7Usu2unZDD5XldsviGvnxZx8QK1czKr5McEnlLYf7VL9HJanSK2FVZh8QVnmKHE6nUw5H6fdk4J7PUH6+XQUFZ+RwEHIrQn/5zoq+stujwnJqcrghgABhzrUjdMnajsyfNng9v6wL1dk5czWwRd+Q/+B1ha5p615xX+i7ahoS67d1X8RXdTWjytQJuJYJ9idIuJbD7deil3KO7Sx32lV60zS1iW/pDoxS0c7141PHeuyE7hKIfkH4ME1TublHdPr0Ccuf+9Ahm5xO6hl8RX/5zoq+iourq/j4hnxJE0AEEKAGKPkhabPZlN60e6kL0vKkN+0e8uHDpbyRH5vd0Lwdn2tCp3FqF9+2Uo/vTwF5Sa7z/S2S93VJ5cT6bXV14uWldq53/Xf1gUzVssdozIWjPfpFUoVtR83iCh916zZQTEwtSy+m7HaDb/P9QH/5LpB9ZZqmCgrO6MSJo5KkhIRGAXkesApWyGEVLJRUlb7y9q24N65v0cONt9GIqCib6tevrWPHTlXqveWq4Sg5ulK8+D3KFlXhKMKM7FkVjmbcfK7P/d2I8PoOY9Tn/HSvgdHpdMowDJ9Gb/g59F249ZXT6dDBg3tUt24D1a0bb/nzR0XZwqKfQgX95Tsr+urEiVydOHFUTZq08vo5yypYVUfvATXY+NSxahTbsNxzGsU2DMvwIVX/akb+FpDnHN3h9XH82SCysoX1Zb1Gm83GKk+Qw1H0Ho6JqRXklgDhx/VzY2XtVKQhgAA12MzsWWXWfLgczj/iXh0rkhUvIC9e3C6VX0BechDZ32WCl/+42ucllQ0ZirJFUUAOn/E+AfzHz03gEUCAGsrX6VdSUd1ApIcQVwG5P1wF5C6VHc24sH5bn5ZUpoAcAFATEECAGsjpdGrNgSy/7rPmQJbXlUUiqUysX4teXvdQ8cbbLuv+bBBZcjTDVVgfH1PP47FdbYqPqUf4QERbuPBz3X337brkkoG6+OIMTZhwoz766H2/VkTKyOiht99+w+/nvvrq0frb3/7q9/188eqrL2nw4H7lnpOZ+Y0yMnooI6OHfvjh+1K3v/XWTGVk9NCwYf09jh84sF9PPfWErrnmcg0Z0ldXXDFc9913lz777H/V+RIAv7EKFlAD2Ww2jUkc7bFcq0tZe0bE2KO1Yt8av1d9qml8XQ63ZPhwqcoywd6WVHa1qW/znkwLQNCVtwx1IL3wwt/07rtva/jwS3XDDeMVFRWtZcuW6O9/f1aZmd/qiSee8qldL774upo1O9/v53/qqWdVr571xfwlxcXV1oIF83Xbbb/yOL5gwWeKi6stFZs+mpubqzvuuFnx8fG69dY71LRpM/3000F9++0arVq1QsOHX2Zx64GfEUCAEOF0Ostc1agyXJsK+rJnhE02nXEUuC+OS676NG3dK9X+7Xtl9tmwgj/L4VYUQrwtEyyVvxwuBeQIJaZpasePuVqUuUdZOYeUX+BQbIxd3RMba0haS7VrHh/w9+ayZUv07rtva9y48fr1r+91H09P76U2bS7Q888/rbS0i/SLX1xd5mOcOXNGtWrVUqdOnSvVhqSkjpW6X3Xr33+gvvjiM48A8v33O/Xdd9s0fPil+vrrr9zHv/pqoQ4fPqSXXpqhZs2auY8PH34Ze44g6JiCBYSAL3cv1cSvHi5VhzEze5bu+uIP+t+2Lyv1uINbZejqxMtlyPBYand86lj1PDclyCabR9F1ZVZ98lfO0R2atGyylu1d5XF82d5VmrRscrU9j7/8LSAv2f7iXKMZJUNKvxa99FS/RyNmRAnhq9Dh1KufbNaTb3yrVZsPKr+gaGWt/AKHVm06qCff+FavfrJZhY7AXsz+979vq27durrppltK3Xb55VeqRYuWmjXrLfexV199ScOG9demTRt15523aMiQvpo9+11Jpadgmaap11+frssvH65hw/pr0qQHtWLFUmVk9FBm5jfu80pOwXryycd1443XKjPzG91yy/W6+OIM3X77TdqyZbNH+955503ddttNGj58oEaNGqbf//432rXrh0r3xdChl2jfvh+1eXO2+9jnn3+q5ORUNW/e0uPcEyfyZLPZ1KBBg1KPEy57PqHm4h0IBNmXu5fq/Zw5MmV6FIO7RilMmZqR9V8t+mFJpR5/cKsMTR00pdRSuzelXKe6UXXklLNKqz75y7XUbW5BnsdFvOviP7cgr1rDjq8qW0BeXn8wmoFwZZqmZny6RSs27pckOZ2e73Pnuff9io37NePTLQGrFSssLNSGDeuUlpauOnXqlrrdbrerX7/+2rNnt3766aD7+NmzZ/XnP/9Rw4dfpueem6r09N5eH//999/Va6+9rEsvHaUnn3xWLVu20rPPTvGpbUeOHNY///mcfvnLm/TEE1OUn5+vSZN+p8LCn5du/emnAxoz5lpNmfK8HnroUTmdTv3617cqN/e4nz1RpFGjRurW7SItWDDffeyLLz7TsGEjSp3boUOynE6n/vznR7Vx43qPdgHBxhQsIIhc4aO41Qcytf3496XqNN7d+rEcTtM9tcof3r7tMgxDl7cf4dcGeCVXffJXWftslKy5cI24WFl07Sogd7WveChLb5rm0T5Dhuw2O8vhosba8WOulp8LH+UxJS3fuF+D01qoffOEam/H8ePHVFBQ4DGFqCRXTcfBgwd13nlNJBUFlzvuuFtDhlxc5v0cDofefHOGLrtstHtqV8+evXX06BF9+um8CtuWm5urF154We3atZckxcTE6P7771Z29kZ17dpNkjRx4gMez5ee3kujRl2iL79cqCuuuKrC5/Bm2LDhmj7937rnnvu1adNGHTiwX0OHDtNHH3l+ll90Ubquv/5GzZr1lhYv/lK1atVSly7ddMkll2rEiJF8diGoGAEBgsTpdGp2zlyvt5W1d8fsnLnVOne3qqs++aO69tkIJFftBsvhItItytwjm823C1SbYWhR5t4At6hiJa+n+/Qpf2Wpn346qMOHDykjY4DH8YyMgT49X+PG57nDhyS1bdvu3OMecB/buHGDfvObu3TZZUM1cGAvDR2aodOnT2n37l0+PYc3gwYNVV5enjIzv9GCBfOVltZDjRo19nruXXfdp1mzPtTEib9V7959tXlztp588nFNnvxYpZ8fqA4EECBIbDab0pt29+s+6U27V/vc3X4tepVaIrb085a96pOvqmOfDSuwHC4gZeUcKjXtqixO01TWtp8C0o6EhPqKiYnR/v1lj8bs379PktyjH5IUGxuruLi4ch/70KFDkqT69T1rJLzVTHhTt67nlLCoqGhJUkFBwbl27ddvf3uPnE6nHnzwYf3736/qlVf+owYNGqqg4IxPz1HW8/bp01efffY/LVr0hdfpV8U1b95C1157vZ588ll98MH/1KtXX3322af67rucSrcBqCqmYAFB5KrL8GXDwF7np+mm5LEVnuev6lj1yVeu+/sy7auqIy5VwXK4iGSmaboLzn2VX+AIyAp2UVFR6ty5q7KyvtWpUydVu3Ydj9udTqeWL1+mli1beQQQX9rRuHHRqMGxY0c9jh89etTb6X5btWq5Tp8+pSeffFb16tWTVDQ1rLL1H8UNGzZCjz32sKKiojVw4GCf71e7dm1deeXVWrVquX74YacuvDCxym0BKoMRECDIxqeOVaPYhuWe06ROI93a+fpqf+7qXPXJV1aNuFQVBeSIVIZhKDbGXvGJxcTG2AP2s3HttdcrLy9Xb7wxo9Rtc+d+pD17dmns2HF+P+555zVRo0aNtGTJYo/jS5Z8Val2lnTmzBkZhqGoqJ+/61206As5HP6FO2/69MnQgAGDNG7cTV6L86WiIOVtCqtr+lfDho2q3A6gshgBAYJsZvasMms+XA6ePKzXNrxdrSMglV31qaojAFaOuAConO6JjbVq80GfpmHZDEPdk84LWFv69euv6667Xm+88boOHfpJQ4YMU1RUlFasWKrZs/+rIUOG6YorfKtlK85ut+uGG27R1KnPq2HDRkpL66Fvv13jXn63qtNdL7ooXZL01FNP6IorrtL33+/QO++8qbp161XpcSWpVq1amjz5mXLP+fTTefrss/9p+PDLlJTUQaZpasOGdXrrrZnq0CFZXbp0q3I7gMoigABBVHJDwPKs2pcp06lSy+lWVjBWffJ3xEUSIQQIgiFpLbUi+0DFJ6qoBmRIWouAtufee3+rlJROmj37v3rssYfldDrUpk1b3X//g7r88qsq/bl09dXXKS8vVx9++L7ef3+WevToqV//+l498cSjZY4s+Kp9+wv18MOP6fXXp+v3v79fiYlJmjz5r/rjHx+q0uP6qk+ffjpwYJ/mz5+nmTNfkdNpqmnTZvrlL2/UddeNk93u3ygXUJ0M08olZlAhh8OpI0dOBrsZARcVZVODBnV09OhJFRaG/46s5e1iXta3aE6nUxO/erjUilDlMWRo6qAp1VqI7loat9BZtEa8q/aieFiIskVVufDaNE1NWjZZuQV5Pt8nPqae11qM8tS091Yg0Ve+C7e+Onu2QIcP71OjRucrOjrG7/ubpqlXP9msFRv3l/sJZUjq06mZJoxM9vg5jYqyhUU/efPyy//Su+++pf/9b6Fq1Yq15DnDub+sZkVfVfTz07BhHdntVDFUBb0HVFF5u5hP/Ophfbl7qdf72Ww2jUkc7fW2smpCxiSOrvZVsKxa9ck14hJli5Ihz0BRsibEkKEoWxT7bABBYhiGbr60o/p0Ktp/o+SSvLZzP5d9OjXTzZd2DNuf0++/36mXXvo/LV++VGvWrNRLL/2f3nnnDV1++VWWhQ8gEjECEmIYAQkvJTcS7Nk0TeNTx5aaWnV14uVlbiDo62Nc1+EKDWhR/rr2VVHWCjbVvbJNoEdcasp7ywr0le/Cra+qOgLiYpqmduzL1aLMvcra9pPyCxyKjbGre9J5GpLWQu3Oj/f6+RAu3+jv379PU6b8WTk523Ty5Amdd14TXXLJpbr11js8iscDLVz6KxQwAlIzEEBCDAEkfHjbxVwqGr3wVlReUQiZnTNX6U27e9R4zMyepTUHsjS++zXqc17PsO2rknKO7tBr2W9pVNtLPGo8lu1dpXk7P9etqeMqPeJSE95bVqGvfBdufVVdAaQkX7+Q4ILaP/SX7wggNQMBJMQQQMJDIOo3yqoXsdmkRo3qhW1flSVQIy7h/t6yEn3lu3Drq0AFEF9xQe0f+st3BJCagd4DKiEQu5iXdVt113yECvbZAAAgMtXMKxvAAuNTx6pnBRvqubjqOgAAACIdAQSoAl92MW8U25DwAQAAcA4BBKgCX3YxP5x/pNQSvQAAAJGKAAJUkj+7mK8+kBnQEFLWWhKsMQEAAEINAQSoBKfTqTUHsvy6z5oDWXI6q3/ljpyjOzRp2WQt27vK4/iyvas0adlk5RzdUe3PCQAAUFkEEKASQmUXc9emfrkFeXp762x3CHFt6pdbkKdp614hhAAIW6+++pIyMnro7rtv93rbsGH9g9Aqad++H5WR0UMZGT20cuXyUrcvXLjAffuxY8fcx6++erT7uOtP795peuONGRU+57Rp/9CkSQ/63Mb//W9uqeevTk8++bhuvPHaanksV7/8+98vlLrt8OFDGjiwlzIyemjRoi/cxwsLC/X++7M0fvwvNWxYf40YMVjjx/9Sf/vbX1VQUCCp6AvDX/7yKn3++afV0k5UD+u2+QRqGNemglXdCb2yXOHD4XS4j729dbZyju3UmmLP7XA6NG3dK5XeWRxAZPJ1T56q7t3jq3XrsvTtt2t00UXpAX8uf8TF1daCBfPVu3dfj+NffDFfcXG1dfr0qVL3GTRoqMaOvcH996goQ40bNy33eX766aA++OA9/etf031uW58+GXrxxddVt25dn+8TTHFxtbVw4ef61a/u8XhPLVz4uWJiapXqy7///Rl9+uknuvHGm9WpUxedOZOvnJxt+uyz/+nMmTOKiYmRzWbTuHE36ZVXXtSQIcMs3eEeZWMEBKiCwa0ydHXi5TJkeCy161qi15ARkPBhmqZey35Lhc7CUpshrilRl2LKVKGzUK9lv0VNCACfOHMP6szKWXLm55V/Xn5e0Xm5BwPanri4OKWkdNLrr/t+8W2V/v0HasmSxTpzJt99LC8vTytXLteAAQO93qdhw4bq1KlzsT9d1LjxeeU+z8cff6DWrduoY8cUn9vWoEEDderUOWwuuvv27aeffjqo9evXeRxfsGB+qb7Mz8/XJ5/M0Y033qxbbrld6em9lJExULfccrtmzfrQI3QNHTpcR44c1rJlSyx5HagYAQSoosGtMjR10JRSS+2OTx2rqYOmVHv4kIo26xvV9hK/7jOq7SVs8gegQqZpqiB7oZzH96tg9XtlhhBnfl7R7cf3qyB7YcC/4Ljlltu0dm2mMjO/Kfe8goICvfTS/2nMmFEaPLiPxo27Wp9/Pt99+7p1WcrI6KG9e/e4jz388APKyOih777LcR/785//qPvuu6vCdvXu3U82m03Lli11H/vqq4WKj09Q9+49/HmJ5Zo//xMNGjTE49jBgwf0xz8+pNGjL9GQIX11zTWXa+rU5923l5yC5Zo29tln/9Pf/vZXjRgxWFdcMVzTpv1DhYWFHo+9ePGX+uUvr9KQIX11++03acuWTRo2rL9effWlctt58OAB/fnPf9TIkUM1ZEg/3X337dqyZbNPrzEhob7S03vpiy8+cx/bs2e3Nm/epIsvHuFx7unTp1VYWKhGjRp7faziv+/i4uLUu3dfzZ8/z6d2IPAIIEA1CMYu5v1a9NL1Hcb4dO71HcaoX4teAWsLgJrDMAzFdB8lW+0EOU8d9xpC3OHj1HHZaicopvuogH/B0adPhpKTU/Taay+Xe95jjz2kjz/+QGPH3qBnnvm7evXqo7/85Y9asWKZJCk5OVUxMbW0dm3RaLFpmlq/fu25Y9+6H2fduix169a9wnZFR0dp0KAhWrDg55CzYMF8DR06rMzfAaZZVL/g+uNwOLye57J79y7t379PXbp08zg+efKftH17jn7zm9/pueem6tZb7/BpsZOXX/6XbDab/vKXKbr88qs0a9abmjfvI/ft27Zt0WOPPaQLLminJ598Rpdddrn+9KdJpUJKSbm5ubrrrtuUk7NVv/nNg3ryyb8qNjZO9933Kx09Wv6S9S7Dho3Ql19+4X6uBQvmKzExSRdc0NbjvAYNGqhp02aaOfNVffHFZ8rNzS33cTt37qpvv/2mwr6GNQggQBjr16KX0ivYjT29aRrhA4BfbLH1FNPzGq8hpFT46HmNbLH1LGnXzTffrrVrM5WV9a3X2zMzv9HSpV/r8cef1DXXjFV6em9NnPiABg0aqtdeK/rmPiYmRikpqe4AsnPndp04cUKXXTbKfWzfvh914MB+de1acQCRii6aV61arry8PB069JPWrs3UsGEjyjz/ww/f06BBvd1/BgzoXe7jb9mySZLUrt2FHsc3b87WVVddo6FDL1FaWg9deuko/eY3FRepp6R00m9+86DS03trwoQ71blzV3355SL37W+8MUPnn99cTz75jPr0ydCVV16t8eMn6OzZs+U+7nvvvaMTJ/I0deqLGjZshPr0ydCUKc+pTp26euedNypslyT17z9I+fmntWZN0aIqCxbML7MvH3nkcZ09e1aPP/6IRo4cqhtuuEYvvjjNa9F9YmIHnTp1Uj/8sNOndiCwCCCAH8r6ZikQy+v6YtneVaVqPkpacyCz1BK9AFARbyHEcfTHoIUPSerXr7+SkjqWWQuyevVKxccnKC2th8cIw0UXpWvbtq3ub7+7du3uDhtr12YpKamD+vbtr7Vrs84dy1R0dLRSUzv71K7u3S9SQkJ9LV68UAsWfKbmzVsqOTm1zPOHDBmmV175j/vPq6/OLPfxDx8+JJvNpvj4eI/jSUkd9c47b+rDD9/Xnj27fWqrJPXs6Rl4LrignX766YD771u2bFLfvhkeIzgZGd7rWYpbvXqlunfvoXr14t19b7PZ1KVLN23evMmnttWuXVv9+g3QF1/M15Ytm7V79y5dfPFwr+empfXQu+9+pL/85WldccVVcjgcevPNGbrpput06NBPHucmJNSXJB0+fNindiCwwqMqCQgBX+5eqtk5c5XetLtHvcfM7FlacyBLYxJHB6TeoyyupXZ94TqPkRAA/nCFEFfoOLPq3aLjQQgfLrfccpsefvh3Wreu9F5Mx48fU27ucQ0a5H1E4fDhQ2rSpKm6dUvTzJmv6sCB/Vq3LlNdu6apS5duys09ru+/36l167KUnJyqWrVq+dQmm82mIUOGacGCz5WXl6thw7xfMLvUr1/fo5g8KsqmwsKyv8gqKCiQ3W4vNaXriSem6OWX/08vv/wvPf/802rduo3uvPNuDRw4pIxHKlJyVazo6Cj3srVSUT/Vr9/A45z4+PgKi9mPHz+m7OwNXvu/RYuW5d63uGHDRuiJJx5VXFwdde3aXU2aNNW+fT96PTcuLk6DB1+swYMvliTNnfuR/vrXyXrnnTd0772/dZ8XExMjSTpz5ozP7UDgEEAAH3y5e6l7uV3X8roll9t13W5FCDFNU/N2fu7Xfebt/Fx9m/ekEB2AX2yx9RTdeYQ7fEhSdOcRQQkfUtEUncTEJL322nR16dLV47Z69eJVv34DPffcP73et0GDon2aOnfuqqioKK1dm6l169bqd797SHXr1lX79hdq7dpvtXZtlgYPHupXu4YNG6H33ntHTqdTjz/+ZOVeXBni4+N19uxZnTlzxiMUNW7cWJMm/UlOp1Nbt27WzJmv6rHHHtbbb8/264K/pEaNGuvYsaMex3JzcyusAalXL169evXV7bf/qtRt0dExPj9/7959FR0drTlzPtADDzzk8/0kafToX+jf/35B33//vcfxvLyiGpGEhAS/Hg+BQQABKlA8fLisPpCp7ce/1+F8z6I6q0KIYRi6NXWcex+Q4kvxpjdN85iWZciQ3WbXranjCB8A/ObMz9PZDfM9jp3dMF9GkEZApKJakEceKV3rkJ7eU2+//R9FRUXrwgsTy7x/bGyskpI6au7cj3T48CF16VJU69Gt20X64ovPtWfPLnXrVn59XUkdOyZrxIiRiomppdat2/j3girQuvUFkopqU0oWY0tFIzDJyam6/fa7tHTp19q7d0+VAkjHjilavnyp7rnnfveoy5IlX1V4vx49eurzzz9VmzZtFRcXV+nnj4qK0k033aJ169aWGQQLCwt16tSpUtPSjh49opMnT6hRo0Yex10jKK1aVe+/DSqHAAKUw+l0anbOXK+3lQwfLrNz5mpgi74BXQFLkhIbtNM9XW/TtHWvqNBZ9K2Ua7WrxPpt3dOu7DY7mxACqJSSBefRnUfo7Ib57pqQYE3DGjBgkNq3T9S33672uNBNT++tfv3664EH7tW4cTepfftEnT59Wjt37tDevbv10EN/dJ/brVt3vf32G2rfPtF9EdutW3e99947stvt6ty5i9/tmjTpT1V/cV4kJ6fKbrdr69bN7gBy4sQJ/fa392j48MvUunWbc7uCv6u6despKaljlZ7vxhtv1u23j9cjj/xel19+pfbv36dZs95UdHR0ub/bxo4dpwUL5uuee+7QNdeMVdOmzXTs2FFt2pStxo0b67rrxvnchrFjb/DYrLGkEydOaOzYKzVixEilpfVQfHy89u37Ue+884ZsNpt+8QvPVSI3b96kCy5oq/r16/vcBgQOAQQoh81mU3rT7h67mlckvWn3gIcPF1cIeS37LY1qe4m7xsP133k7P9etqeMIHwD8VtZqV0axmpBghRDDMHTLLbfp0Uf/UOq2yZOf0ZtvztAHH7yvAwf2qU6dumrXrr0uu2y0x3ndul2kt99+w2Op3a5d02QYhhITO6h27ToBfx2+cu1jsXLlcg0ffpmkopqG9u0v1OzZ7+rAgf2qVStWHTsm6+9/n1bli+ykpI7685+n6MUXp+mRRx5U27btNWnS45o48U7VqVP2ruoJCfX10kuva/r0f+vf/35BubnH1aBBQ6WkdNKAAYOq1KaS6tSpoxtuGK9Vq1boyy8XKC8vTw0aNFRycooeeeQJdejgGcJWrlyuQYP8m1aHwDFMtkYOKQ6HU0eOnAx2MwIuKsqmBg3q6OjRk+UW3oWK4rUe5Sm+G3p18aWvTNP0Or2qrOM1Wbi9t4KJvvJduPXV2bMFOnx4nxo1Ot+vufcuFS21W9HtFRVVw5Mv/bV06dd64olHNWfOZ1Wa3lRZa9as0v33360XXnhJ3btfZPnzu1TmvfXddzmaMOEGvfPOB2revEWF51f089OwYR3Z7SwkWxX0HuCD8alj1Si2YbnnNIptWO3hw1dlhYxICx8Aqs40TRVkzSt3qd1SS/RmzQv4TuiRrl+//mrVqrXmzPnAkud77rmn9dVXC5WZ+Y1mz/6v/vKXx5SU1MHnvVFCyX//+7aGD7/Mp/ABazAFC/DBzOxZZdZ8uBzOP6KZ2bOCFkIAoDoYhqGY1KEqyF5YtCN6GdOr3Ev0Zs1TTOpQvvAIMMMw9OCDD2vbtq2WPN+JE3n6+9+f1fHjx1S3bl316tVHd9/9G8umGFcXp9Opli1bacSIkcFuCophClaIYQpW6PF1+pVLdU/DCqe+CgX0l+/oK9+FW19VdQqW5PsUTm/nMQXLP/SX76zoK6ZgBR69B5TD6XRqzYHSm12VZ82BLPfO6MHaIR0AqsrXEQ1GPgD4iwAClMNms2lM4mivt5VVEzImcbRsNptmZs/SxK8e1pe7lwayiQAAAGGFAIKI4XA4/DruMrhVhq5OvNzjWM+mafpz34fUup7nRk+t67bU4FYZ7mlbpky9nzOHEAIAAHAOReiICP/d9rEW71mmC+q11oPp97iPP7tmmr7P26WBLfvp2qQryry/a2fz2Tlzld60u8anjtWXu5dqV94ej/N2ndijx5Y/HbQd0gEAAEIdIyCo8VzhQ5K+z9ulZ9dMk/Rz+JCkxXuW6b/bPi73cQa3ytDUQVM0PnVspXdIpyYEAABEOgIIarTi4cPl+7xduv+rR93hw8WXEOJaftC1Q7o/rNwhHQAAIFRxNYQay+FwlAofLgXOAq/HF+9ZVmFNiMv41LHq2TTNp3MDsUM6AABAOCKAoMay2+26oF5rv+5zQb3WstvtPp8f6jukA0C4e/XVl5SR0UN3332719uGDesfhFZJ+/b9qIyMHsrI6KGVK5eXun3hwgXu248dO+Y+fvXVo93HXX96907TG2/MqPA5p037hyZNetD9d19f/5NPPq4bb7zWp9cVClz98tFH75e6LTt7o/v2LVs2uY/n5+fr9den64YbrtHQof00cuRQ3XbbTXrppf9zn3Pq1EldeukQrV+/1oqXgXJQhI4a7cH0ezxqPcpTskDdF+yQDqCmK2tDQl83Kqwu69Zl6dtv1+iii9Ite05fxMXV1oIF89W7d1+P4198MV9xcbV1+vSpUvcZNGioxo69wf33qChDjRs3Lfd5fvrpoD744D3961/T/W7jzTffptOnT/t9v2Aq6tfP9ItfXO1x/PPPP/Xar5MmPagtWzbpxhtvUVJSB+Xl5Wrz5k1asmSx7rzzbklS7dp1dNVV1+ill/5P//d//vcjqg8jIKjxHky/RzG28ncCjrHFVCp8+LpD+uoDmZqZPcuvxweAYMs5ukOTlk3Wsr2rPI4v27tKk5ZNVs7RHZa0Iy4uTikpnfT666F30di//0AtWbJYZ87ku4/l5eVp5crlGjBgoNf7NGzYUJ06dS72p4saNz6v3Of5+OMP1Lp1G3XsmOJ3G1u0aKkLL0z0+36VVbwvKqt//4Fav36tDhzY7z7mdDq1cOGCUv26e/curV69Qvfee79++csbdNFF6Ro0aKh+/et79Z//eP7uHTnycq1bl6Vt27ZUuY2oPAIIarxn10wrs+bDpcBZ4F4dyxdV3SEdAEJdztEdmrbuFeUW5OntrbPdIWTZ3lV6e+ts5Rbkadq6VywLIbfccpvWrs1UZuY35Z5XUFCgl176P40ZM0qDB/fRuHFX6/PP57tvX7cuSxkZPbR378/LqD/88APKyOih777LcR/785//qPvuu6vCdvXu3U82m03Llv2839NXXy1UfHyCunfv4c9LLNf8+Z9o0KAhXm/bvDlbt99+k4YM6atx467WsmVLPG4vOQXrf/+bq4yMHtq6dYseeGCiLr44Q2PHXqlPP53ncb/ly5fqN7+5S6NGDdMllwzU7bePLzXdzPVYGzeu129+c5cuvjhD06b9U5MmPahf/3pCqbZ+/PEHGjy4j8e0NG8uvDBJbdq01cKFn7uPffvtGuXm5mrgwKEe5544kSdJaty4canHKbn4S/PmLdShQ7I+/fSTcp8fgUUAQY3m6/QryXOJ3opUZYd0AAh1rvDhcP68KMfbW2drRvYsvb11tvuYw+mwLIT06ZOh5OQUvfbay+We99hjD+njjz/Q2LE36Jln/q5evfroL3/5o1asKFqUJDk5VTExtbR2bdEItmmaWr9+7blj37ofZ926LHXrVvFqh9HRURo0aIgWLPg55CxYMF9Dhw4r8zPfNKXCwkL3n4oWP9m9e5f279+nLl26lbqtsLBQjz02SSNGjNKTTz6jFi1aadKk32nHju8qbPtf/vJH9ezZS1OmPKcLL0zUU089oZ07f/633Ldvr/r1G6A//vHPevLJv6pLl6568MH7vIbAJ574oy66qKeeeeYfGj78Ml1++ZXasGGddu363uO8Tz6Zo379Bqh+/foVtu/iiy8p1a99+vRT3bp1Pc5r3bqN4uJqa9q0f2jZsiU6dar0tLfiOnfuqjVrVpV7DgKLqyHUWA6Hw+fw4fJ93i6fV8Eqb4f0kqtjXZ14OZsQAggLpmnqtey3VOgslCnT47Y1JaadmjJV6CzUa9lvyTQ9zw2Em2++XWvXZior61uvt2dmfqOlS7/W448/qWuuGav09N6aOPEBDRo0VK+99pIkKSYmRikpqe4AsnPndp04cUKXXTbKfWzfvh914MB+de3q23Lrw4aN0KpVy5WXl6dDh37S2rWZGjZsRJnnf/jhexo0qLf7z4ABvct9fFexdbt2F5a67ezZsxo//laNGXOt+vTJ0JQpz6lJk6b6z39er7DdV111ra67bpzS03tr0qQ/KTo6RosXL3LfPmbMdbrmmrHq1auPLrqop37964lKT++lOXM+LPVYV145RjfeeLPS0nqoU6fO6tmzt5o2baZ58+a4z/n++53atGmjRo0qe+Pf4oYNG6GcnG36/vudKigo0Ndff6lLLindr3Xq1NVDD/1R+/bt0x/+cL8uvXSwbr31Bs2c+arX2pfExCT98MNOnTp10qd2oPpRhI4ay263a2DLfl6X4o2xxXidljWwZT+/VsHytkO6JPd/1xzI0pjE0YQPAGHDMAyNanuJx0hHRUa1vcSSgvR+/forKamjXn99urp3v6jU7atXr1R8fILS0nqosLDQffyii9L1978/I4fDIbvdrq5du+vzzz+VJK1dm6WkpA7q27e/nnrqiXPHMhUdHa3U1M4+tat794uUkFBfixcvVF7eCTVv3lLJyakeownFDRkyTNdff6P771FR5X8ffPjwIdlsNsXHx3u9fcCAwe7/b7fb1a/fgFLTsLzp2fPn4FO7dh01adJUP/100H3s4MEDevnlf+mbb1br8OFD7pDZoUNyqcfq3bufx99tNptGjbpCH330vu644y5FRUVp3ryP1aRJU4/nLU+LFi2VmtpZCxbMV2JikkzTVEbGAK1bt67UuUOHDlN6ei8tX75EmZnf6Ntv12j69H/r888/1SuvvKG4uDj3uQkJ9WWapo4cOaLatev41BZULwIIarRrk4q+ZSkeQlyrXZWcnjWwZT/3+f4Y3CpDA1v0LTXUPj51rG5MvpZpVwDCTr8WvSTJpxByfYcx7vOtcMstt+nhh3+ndetK1+EdP35MubnHNWiQ9wvcw4cPqUmTpurWLU0zZ76qAwf2a926THXtmqYuXbopN/e4vv9+p9aty1Jycqpq1arlU5tsNpuGDBmmBQs+V15eroYNG17u+fXr1/coJo+KsqmwsOwawYKCAtntdq+/T6KiokoFkwYNGujw4UMVtrtu3Xoef4+OjlJBQdGXc06nUw899FudOHFCt912p1q0aKW4uDi98sqLHoXhPz9n6enHI0derhkzXtHKlcvUu3c/ffbZ/3TFFVf59Xtx2LDheu+9Wfr++x0aMGBwuf8m8fHxGjFipEaMGCnTNPXqqy9pxoxXNG/ex7rmmp9XoqxVq2hhmjNnzvjcDlQvAghqvOIhpPhSu8VDSGXDh0tZH6aEDwDhql+LXso5trPUtKvi0pumWRo+JKl//0FKTEzSa69NV5cuXT1uq1cvXvXrN9Bzz/3T631dF8mdO3dVVFSU1q7N1Lp1a/W73z2kunXrqn37C7V27bdauzZLgwcP9foYZRk2bITee+8dOZ1OPf74k5V7cWWIj4/X2bNndebMmVIX4IWFhcrNzfUIIUePHlWjRqULsv2xZ89ubdu2VVOmPKf+/Qe5j5d10e5tBKxJk6bq1auPPvlkjhwOp44dO6rLLvNeP1mWoUMv0Qsv/F379v2o556b6vP9DMPQ9dffqBkzXtEPP+z0uC03t6hoPSEhwa+2oPoQQBARrk26Qle1G6moKM+3/IPp96iwsLDUcQCIdMv2rio3fEhFNSGJ9dtaHkJuvvl2PfLIg6WOp6f31Ntv/0dRUdHlLjsbGxurpKSOmjv3Ix0+fEhduhTVenTrdpG++OJz7dmzS926pZV5f286dkzWiBEjFRNTS61bt/HvBVWgdesLJBXVplxwQdtSt3/99ZfuugqHw6Fly75WSkqnKj2nK2hERUW7j+3fv08bNqxTq1a+b/I7evQv9Oijf9DRo0eVlpau5s1b+NWOBg0aauzYG7R//49l7gFz6tRJ2e121aoV63F8166iWQ4NGzbyOL5v317VrVu31HFYh6suRIScozv0WvZbGtX2Eo9flMv2rtK8nZ/r1tRxSmzQLogtBIDQ4Vpq1xeu86wMIQMGDFL79on69tvVHnP709N7q1+//nrggXs1btxNat8+UadPn9bOnTu0d+9uPfTQH93nduvWXW+//Ybat090jx5069Zd7733jux2uzp37uJ3uyZN+lPVX5wXycmpstvt2rp1c6kAEh0drZkzX1NBQYHOP7+5PvzwfR08eEBTpjxfpeds0+YCNWnSVC++OE1Op1P5+af16qsv6bzzmvj1OH36ZKh+/QbauHG9/vSnyZVqy69/fW+5t+/a9cO54vPR6tKlm+Li4vTDDzv1xhszVLdu3VKjLlu2bFKnTl2YpRBE9DxqvFBbyx4AQplpmpq38/OKTyxm3s7PLVkFy8UwDN1yy21eb5s8+Rn94hdj9MEH7+t3v5uop5/+i9asWVlqRKNbt4vO/ffnla66dk2TYRhKTOwQUsXJcXFx6t27b6k9OKSiGpDHH39Sn3wyR5Mm/U579uzSk08+U+WNB2NiYvTkk88oJiZaf/zjQ5o+/UXdeOMtfo8MRUVFqV+//qpXL96jWL46tWjRSpdffpXWrs3UU089rgceuFdvv/2GLrooXa+88oaaNTvffe7Zs2f1zTdrNGiQf1PsUL0M08pPDFTI4XDqyJGavyxcVJRNDRrU0dGjJ8stvKuq4mvZF19OMr1pmsfUAkOG7Da77ul6W8iNhFjVVzUF/eU7+sp34dZXZ88W6PDhfWrU6HxFR8f4ff+qfnZWVFQNT77019KlX+uJJx7VnDmfeYz6hDqn06nrrvuF+vbN0P33/77Kj1fV99bSpYv1l788pg8//FS1a9f2ek5FPz8NG9aR3c53+FVB76HGCuW17AEglCU2aKd7ut4mu+3nZcmv7zBGN6eO1fUdxriPheoXNzVRv3791apVa82Z80Gwm+KTs2fPavPmbL344jQdPHhAY8ZcW/GdLPDuu29r7NgbygwfsAYBBDWWay17f1i1lj0AhDpXCImPqeex1G6/Fr10fYcxio+pR/iwkGEYevDBhxUbGx6jH4cO/aTbbx+v//1vru6//0F3IX0wnTp1St27X6Trrrs+2E2JeEzBCjFMwap+vhZTWr2Wva/CbepHsNFfvqOvfBdufVXVKVjFmabp9YuZso5LTMHyF/3lOyv6iilYgUfvocbr16KX0puWXzQXjLXsASAclBUyGC0GUFkEENR4vq5l71odCwAAAIFDAEGN5u9a9oQQAACAwCKAoMYKh7XsAQAAIg0BBDWWYRi6NXWcomxRMuQ5V7lkTYghQ1G2KN2aOo55zQAAAAFEAEGNxlr2AAAAoYUAghqPtewBIDx9+uk8ZWT00O7duzyOf/DBe8rI6KGXXvo/j+OnTp3SwIG9NGPGK/rf/+YqI6OH+8+wYQN0/fVj9NRTT2jTpo1WvgwAJUQFuwGALxwOh+x2u8/HS0ps0E5P9Xu01PSqfi16qW/znky7AoAQ1KVLN0nShg3r1KpVa/fxjRvXKzY2Vhs2rPM4Pzt7gxwOhzp37qoDB/ZLkp5//gXVqVNXZ87ka9euH/TJJ3N055236M4779YNN9xs1UsBUAwjIAh5/932sSYufljPrpnmcfzZNdM0cfHD+u+2j316HNayB4Dw0qJFSzVq1KhU0NiwYZ0uvXS0Nm/OVmFhocdxu92ulJRO7mMdOiSrU6fOuuiidF155dV6+eUZuuSSEXrppf/TunVrrXopAIohgCCk/Xfbx1q8Z5kk6fu8Xe4Q8uyaafo+r2hIfvGeZT6HEACA/3Jzj+ubb1ZqyZJF+uablcrNPW7Zc3fq1MUjgBw69JP27ftR11xznZxOp7Zt2+K+bcOGdUpK6qC4uLgyH89ms+m++36n6OgYffjhewFtOwDvmIKFkFU8fLh8n7dL93/1qAqcBR7HXeddm3SFZe0DgJrO4XBoyZJF2rRpgwzDkGEYMk1Tq1cvV0pKZ/XvP8SnabBV0aVLN3399VfKzT2u+PgErV+/To0bn6fWrS9QUlJHbdiwTikpneR0OpWdvVGjRl1e4WPGxyeoQ4eOys7eENC2A/COERCEJIfDUSp8uJQMHy6L9yyTw+EIZLMAIKK4wodUtLeS0+l075W0adMGLVmyKOBt6Ny5q0zT1Pr1RaMgGzeuU6dOXSQVjY6sX79WkrR9+3c6deqku26kIk2aNNXhw4cD0WQAFSCAICTZ7XZdUK91xScWc0G91gH/Jg4AIsXx48fc4aMsmzZtCPh0rKSkjh4F5xs2rFOXLl0lSZ07d9GGDevdx4uOdfXxkU1RAggEBwEEIevB9Ht8DiEX1GutB9PvCXCLACBy5ORsqXCRDsMwtG3b5oC2IyoqSsnJqdqwYZ3y8/OVk7Ot2AhIVx05clh79+7Rhg3rzhWtN/bpcQ8ePKiGDX07F0D1IoAgpD2Yfo9ibDHlnhNjiyF8AEA1O336lE8B5PTpUwFvS+fOXbVly2atX79WdrtdSUkdJUmNGzfW+ec31/r1a8+NjHTz6fGOHz+mrVs3q3PnLgFsNYCyEEAQ0p5dM63Mmg+XAmdBqSV6AQBVExdX213vURbTNBUXVzvgbencuasKCs7o/fdnKTk5VVFRP6+h06lTF3355ULt37/PpwDidDo1derzOnv2rK666poAthpAWQggCFnFl9qtSPElegEAVZeY2NGnAJKUlBzwtnTu3FU2m00rVixzT79y6dSpi1asWOo+r6StWzdr48YNysz8Rh999L7uvPNmLVjwmX7964mlHguANViGFyHJ4XD4HD5cvs/b5fPO6ACA8iUk1FdKSudyC9FTUjorPj4h4G2pW7eu2rZtp+3bvysVGjp37iLTNJWQkKA2bS4odd8HHrhXkhQXF6fGjc9T585d9dvf/kHJyakBbzcA7wggCEl2u10DW/bzuhRvjC3G67SsgS37ET4AoBr17z9EkkrtA2KapnsfEKvMnDnL6/GkpI5auvSbUscvu2y0LrtsdKCbBaASCCAIWa5NBYuHENdqVyWnZw1s2Y9NCAGgmtntdg0aNExpaT21bdtmnT59SnFxdZSU1NGSkQ8ANRMBBCGteAgpvtRu8RBC+ACAwIqPT1CPHr2D3QwANQQBBCHv2qQrNKb9qFLTqx5Mv4eaDwAAgDDDKlgIC2WFDMIHAABAeCGAAAAAALAMAQQAgBqqon08AJTGz03gEUAAAKhhXNNTCwrOBLklQPhx/dzY7ZRKBwo9CwBADWOz2RUXV1cnThyVJMXE1JJhGJY9v9NpyOHgW2Rf0V++C2RfmaapgoIzOnHiqOLi6spm43v6QCGAAABQA8XHN5Qkdwixks1mk9PptPx5wxX95Tsr+iourq775weBQQABAKAGMgxDCQmNVK9eAzkchZY9r91uKCGhto4fP8W3+j6gv3xnRV/Z7VGMfFiAAAIAQA1ms9lks8VY9nxRUTbFxsbq9GmHCgv5Vr8i9Jfv6Kuag4gHAAAAwDIEEAAAAACWIYAAAAAAsAwBBAAAAIBlDJPtHkOKaZpyOiPjn8Rut8nhoIjMF/SVf+gv39FXvqOvfEdf+Yf+8l0o9JXNZli6r05NRAABAAAAYBmmYAEAAACwDAEEAAAAgGUIIAAAAAAsQwABAAAAYBkCCAAAAADLEEAAAAAAWIYAAgAAAMAyBBAAAAAAliGAAAAAALAMAQQAAACAZQggAAAAACxDAAEAAABgGQIIqt3OnTs1YcIEdevWTX369NHkyZOVn59f7n1OnDihF154Qddcc4169Oih3r17a8KECcrOzrao1cFRmb4qacGCBerQoYNGjRoVoFaGhqr01bFjx/T4448rIyNDnTt31vDhwzVr1qwAtzi4Kttfp06d0nPPPaeLL75YXbt21SWXXKIXXnhBBQUFFrQ6OH744Qc99thjuuKKK5SSkuLXz9KHH36oESNGqHPnzho1apQ+/fTTALY0+CrTV5H6+V6V95VLpHy+S1Xrr0j8jA93UcFuAGqW3NxcjR8/Xs2bN9fUqVN15MgRTZkyRceOHdNzzz1X5v1+/PFHvfvuuxozZowmTpyowsJC/ec//9HYsWM1a9YspaamWvgqrFHZviouPz9fU6ZMUePGjQPc2uCqSl+dPHlSN954o2rVqqVJkyapUaNG+uGHH3T27FmLWm+9qvTX448/ri+++EL333+/EhMTtX79ek2dOlXHjx/Xo48+atErsFZOTo4WL16srl27yul0yjRNn+43f/58PfTQQ7rjjjvUr18/d7/Vq1dPGRkZAW51cFSmryLx812q/PvKJVI+310q21+R+BlfI5hANXrppZfMrl27mocPH3YfmzNnjpmUlGR+9913Zd7v5MmT5qlTpzyO5efnm/369TMfeuihgLU3mCrbV8X94x//MMeNG2f+4Q9/MEeOHBmopgZdVfrq+eefNy+++GLz9OnTgW5myKhsf509e9bs3Lmz+c9//tPj+J/+9CezT58+AWtvsDkcDvf/9+dnacSIEebEiRM9jt16663mNddcU63tCyWV6atI/Hw3zcq/r1wi5fPdpbL9FYmf8TUBU7BQrb7++mv16dNHDRs2dB8bPny4YmJitHjx4jLvV7t2bcXFxXkcq1Wrltq3b6+DBw8GrL3BVNm+ctm1a5def/31GvutdHFV6avZs2fr6quvVmxsbKCbGTIq21+macrhcKhevXoex+Pj4/3+9jac2Gz+/yrcvXu3duzYUWqayKhRo7R+/XodOXKkupoXUirTV5H4+S5Vrq9cIunz3aWy/RWJn/E1AQEE1Wr79u1q3769x7GYmBi1bt1a27dv9+uxTp06pc2bN6tdu3bV2cSQUdW+evLJJ3XFFVeoY8eOgWpiyKhsX+3evVuHDh1SfHy87rzzTnXq1Em9evXSE0884XetTTipbH9FR0frqquu0htvvKF169bp5MmTWrlypf773/9q3LhxgW52WNmxY4cklfp8at++vUzTdN8O72r653tVRdLne1VE6md8TUANCKpVbm6u4uPjSx2Pj4/X8ePH/Xqsf/zjHzp9+rRuuOGG6mpeSKlKXy1atEhZWVmaP39+oJoXUirbV4cOHZIkPfPMMxoxYoSmT5+u7777Tn/729909uxZTZ48OWBtDqaqvLcef/xx/elPf9K1117rPnbjjTfqnnvuqfZ2hjNXP5bs54SEBI/b4V1N/3yvikj7fK+KSP2MrwkIILCEaZoyDMPn8+fOnauZM2fqscceU5s2bQLYstBTUV+dOXNGTz31lO69916PKTaRqKK+cjqdkoq+lZ4yZYokqU+fPiosLNQzzzyj++67T+edd54lbQ0FvvwcPvfcc/rqq6/0l7/8RW3btlV2dramTp2q+Ph4TZw40aKWho+S/emaqubP512kieTP94rw+e4fPuPDFwEE1So+Pl65ubmljufl5ZWaElKWZcuW6eGHH9aECRNq9LSPyvbVzJkzZbPZNHLkSPf9z549K6fTqdzcXMXGxiomJiZg7Q6GyvZV/fr1JUm9e/f2ON67d285nU5t3769Rv5yqmx/bdu2Ta+99pr+9a9/aejQoZKk9PR0GYahZ555RuPGjVOjRo0C1u5wUnyko/gqRa5+9zYChcj5fK+sSPx8r4pI/YyvCagBQbVq3759qTnmBQUF2rVrl08BZP369brnnns0YsQIPfjgg4FqZkiobF/t2LFDP/zwg/r06aP09HSlp6dr3rx52r59u9LT0zV79uxAN91yle2rVq1aKTo6utRx17fUVSkSDWWV7a/vvvtOkpScnOxxPDk5WYWFhdq7d2/1NzZMuWoXStZ6bN++XYZhUNvgRSR9vldWJH6+V0WkfsbXBIyAoFoNGDBA//73v3X06FE1aNBAUtFGSgUFBRo4cGC5992+fbtuv/12paWlacqUKTV+CkNl++r222/XlVde6XHs5Zdf1s6dOzVlyhRdcMEFgWx2UFS2r2JiYtSvXz+tWLHC4/iKFSsUFRWlCy+8MKDtDpbK9leLFi0kSdnZ2WrevLn7+MaNGyVJLVu2DGCrw0urVq3Url07/e9//9OwYcPcx+fNm6cuXbowfaaESPt8r6xI/Hyvikj9jK8JCCCoVmPHjtWbb76pu+66S3fddZcOHz6sp59+WqNHj/b45nXSpEn66KOPtGnTJknS4cOHNWHCBEVHR+u2227z2CE3JiZGKSkplr+WQKtsX7Vv377Ut9gffvihDhw4oF69eln6GqxS2b6SpLvvvlvXX3+9fv/73+vyyy/Xd999pxdeeEHjxo2rsReJle2vTp06qUuXLvrTn/6kQ4cOqW3bttqwYYP+9a9/6bLLLqux/XX69Gn38sR79+7ViRMn3AXAPXv2VMOGDb2+tyZOnKj7779frVu3Vt++fbVw4UItW7ZMr7zySlBehxUq01eR+PkuVa6vIvHz3aWyP4eR+BlfExBAUK3i4+M1c+ZMTZ48Wffee69iY2M1atQo/e53v/M4z+l0yuFwuP/+3Xffad++fZKkm2++2ePcFi1aaNGiRQFvu9Uq21eRqCp91aVLF7300kt6/vnn9atf/Ur169fXDTfcoPvuu8/Kl2CpyvaX3W7Xiy++qH/+85+aPn26Dh06pPPPP1833HCDfvWrX1n9Mixz+PDhUu8H19//85//qFevXl7fW5deeqny8/P14osv6tVXX1WbNm3097//vcbugi5Vrq8i8fNdqvz7KlJVtr8i8TO+JjDMmry7FAAAAICQQnUOAAAAAMsQQAAAAABYhgACAAAAwDIEEAAAAACWIYAAAAAAsAwBBAAAAIBlCCAAAAAALEMAAQAAAGAZAggAAAAAyxBAAABl+uCDD9ShQwft2bOn3PMeeughdejQQR06dNCoUaM8blu8eLH7to8++qjUfQsKCnTJJZeoQ4cOuuyyy6rc5i+++ML9fB06dNCGDRuq/JgAgOoTFewGAABC16BBg/Tuu++qSZMmFZ573nnnadq0aYqNjfU4np2dLUmqW7eutm7dWup+M2bM0E8//SRJSk1NrXKb09PT9e677+qrr77Sv//97yo/HgCgejECAgAoU8OGDdWtWzfFxMRUeG5MTIy6deumjh07ehzftGmTGjZsqD59+mjbtm0etx08eFD//ve/3SMf1RFAEhIS1K1bN7Vu3brKjwUAqH4EEACowV544QV16NBBW7Zs0cSJE3XRRRepZ8+emjJligoLC7Vjxw5NmDBB3bt315AhQzR9+nSP+/s6Bas82dnZSklJUceOHUsFkOeee07NmjVT9+7dJVVPAAEAhDamYAFABPjNb36jyy+/XGPHjtWyZcv0yiuvqLCwUMuXL9f111+vCRMmaO7cuXruuefUpk0bXXLJJdXyvEePHtWPP/6o0aNHKzk5WQcPHtSxY8dUv359rV27VnPmzNH06dP19ddfyzAMJScnV8vzAgBCFwEEACLAddddp1tuuUWS1LdvXy1btkxvvvmmpk2bpmHDhkmSevbsqa+++kpz586ttgCyadMmSUUjG65wsW3bNqWnp2vy5MkaNGiQ+vfvrxdffFEXXHCB6tatWy3PCwAIXQQQAIgAgwYN8vh7+/bttWXLFg0YMMB9LCoqSm3atNHevXur7XldBegpKSlq3ry56tevr23btmn37t3asmWLPvnkE5mmqc2bN2vw4MFlPs5PP/2kl156Sd9++63q1KmjSy+9VL/85S9lszGTGADCDZ/cABABEhISPP4eHR2tuLg41apVq9TxgoKCanve7OxsJSQkqFWrVpKkDh06KDMzU3/729908803q02bNvr+++918uTJMus/Dhw4oPHjx6tjx46aMWOGpkyZouzsbP3+97+vtnYCAKxDAAEABMymTZuUkpLi/ntycrI++eQTGYahX/3qV5J+HiUpK4A8++yzuvPOO3X11Ve7w8xTTz2lY8eOacmSJYF/EQCAakUAAQAERF5ennbv3u0RLAYMGKChQ4fqT3/6k7veIzs7W4ZheASV4lavXu3e3PDrr79WTk6OJOnKK6/U119/HeBXAQCobtSAAAACIjs7W6ZpegSQfv36qV+/fh7nbdq0Sa1bt1a9evXKfCxXrcf06dM1aNAgJSYmqlatWiosLAxM4wEAAUMAAQBUyDAMv+/jWgGrrJENl82bN6tv375l3p6SkqJly5YpIyNDL774oqKjoyVJCxYs0MCBA/1uFwAguJiCBQA12L333qutW7eqYcOGHseffvppZWVllTr/jTfe0Lx589x/z8vLkyTVr1/fp+crLCyUw+GQJN16663aunWrLrjggnLvs3r1av3jH/8o8/YHHnhAkydP1jfffKM6derIMAy99NJL+vHHHzV8+PBS55umqcLCQjmdTp/aDACwFiMgAIBS8vLylJWVpQ8//FBJSUmqU6dOhffZu3evUlNTlZiY6BFiqioxMVH/+Mc/9Ne//lXbt2+XzWbTxRdfrJdffll2u73U+QsXLtTdd99dbc8PAKhehmmaZrAbAQAILatWrdLtt9+uDh066PHHHy9zhSqXPXv26OjRo5Kk2NhYJSYmWtFMr3Jzc/XDDz+4/37hhRcqLi4uaO0BAHgigAAAAACwDDUgAAAAACxDAAEAAABgGQIIAAAAAMsQQAAAAABYhgACAAAAwDIEEAAAAACWIYAAAAAAsAwBBAAAAIBlCCAAAAAALEMAAQAAAGAZAggAAAAAyxBAAAAAAFiGAAIAAADAMgQQAAAAAJYhgAAAAACwzP8DuRwbbxwLavgAAAAASUVORK5CYII=' width=800.0/>\n",
       "            </div>\n",
       "        "
      ],
      "text/plain": [
       "Canvas(toolbar=Toolbar(toolitems=[('Home', 'Reset original view', 'home', 'home'), ('Back', 'Back to previous …"
      ]
     },
     "metadata": {},
     "output_type": "display_data"
    }
   ],
   "source": [
    "plt.figure()\n",
    "plt.scatter(mj[bs.MS_mask], Mj[bs.MS_mask], label=\"Original MS\", s=70)\n",
    "\n",
    "# plt.scatter(mj, Mj, label=\"Original MF\", s=70)\n",
    "\n",
    "plt.yscale(\"log\")\n",
    "# plt.ylim(1e2, 1e5)\n",
    "plt.scatter(\n",
    "    mj_new[bs.MS_mask_new],\n",
    "    Mj_new[bs.MS_mask_new],\n",
    "    label=\"New MF (single MS)\",\n",
    "    marker=\"x\",\n",
    "    s=70,\n",
    "    alpha=0.7,\n",
    ")\n",
    "plt.scatter(\n",
    "    mj_new[bs.bin_mask],\n",
    "    Mj_new[bs.bin_mask],\n",
    "    label=\"New MF (binary MS)\",\n",
    "    marker=\"X\",\n",
    "    s=70,\n",
    ")\n",
    "plt.scatter(\n",
    "    mj_new[bs.WD_mask_new],\n",
    "    Mj_new[bs.WD_mask_new],\n",
    "    label=\"WD\",\n",
    "    marker=\"o\",\n",
    "    color=\"grey\",\n",
    "    s=40,\n",
    ")\n",
    "\n",
    "plt.legend()\n",
    "plt.ylabel(r\"Mj [$M_\\odot$]\")\n",
    "plt.xlabel(r\"mj [$M_\\odot$]\")\n",
    "# plt.savefig(\"shifted.png\",dpi=300)\n",
    "# plt.xlim(0, 1.7)"
   ]
  },
  {
   "cell_type": "code",
   "execution_count": 14,
   "id": "2c7bbcbc-45c2-4576-a2ce-8bf1c10a3a89",
   "metadata": {},
   "outputs": [
    {
     "data": {
      "text/plain": [
       "array([0.11851084, 0.16351292, 0.22560363, 0.31127202, 0.42947124,\n",
       "       0.53616312, 0.6158897 , 0.70747148, 0.80754321, 0.6158897 ,\n",
       "       0.70747148, 0.80754321, 0.92779583, 1.11896564, 1.40869427,\n",
       "       2.81071458, 3.53848001, 4.45468241, 5.60811288, 7.06019582,\n",
       "       8.88825993])"
      ]
     },
     "execution_count": 14,
     "metadata": {},
     "output_type": "execute_result"
    }
   ],
   "source": [
    "mj"
   ]
  },
  {
   "cell_type": "code",
   "execution_count": 15,
   "id": "d4832db7-7b8c-47ca-9277-6590eba70133",
   "metadata": {},
   "outputs": [
    {
     "data": {
      "text/plain": [
       "0.9381975141828359"
      ]
     },
     "execution_count": 15,
     "metadata": {},
     "output_type": "execute_result"
    }
   ],
   "source": [
    "# Mass ratio\n",
    "np.sum(Mj_new[bs.bin_mask]) / np.sum(Mj_new[bs.MS_mask_new])"
   ]
  },
  {
   "cell_type": "code",
   "execution_count": 16,
   "id": "95c34062-50fd-4369-a510-c97ff57d7462",
   "metadata": {},
   "outputs": [
    {
     "name": "stdout",
     "output_type": "stream",
     "text": [
      "np.sum(Mj) = 247566.655, np.sum(Mj_new) = 247566.655\n"
     ]
    }
   ],
   "source": [
    "# check mass conservation\n",
    "print(f\"{np.sum(Mj) = :.3f}, {np.sum(Mj_new) = :.3f}\")"
   ]
  },
  {
   "cell_type": "code",
   "execution_count": null,
   "id": "2fc45144-abea-49d4-b57d-8ae183d5000c",
   "metadata": {},
   "outputs": [],
   "source": []
  },
  {
   "cell_type": "code",
   "execution_count": 17,
   "id": "4eb021e9-3098-41b3-b063-60217b86ec9c",
   "metadata": {},
   "outputs": [],
   "source": [
    "# Have a look at Nj"
   ]
  },
  {
   "cell_type": "code",
   "execution_count": 18,
   "id": "7fd2d97e-8464-44c5-9ef7-50158acdbdd3",
   "metadata": {},
   "outputs": [],
   "source": [
    "Nj = Mj_new / mj_new"
   ]
  },
  {
   "cell_type": "code",
   "execution_count": 19,
   "id": "911f741d-abee-4f54-a167-dec3aee5ca88",
   "metadata": {},
   "outputs": [
    {
     "data": {
      "text/plain": [
       "array([ 954.4624116 , 1132.73780344,  876.39538314,  855.03432581,\n",
       "        834.1939368 ,  741.39777192,  954.4624116 , 1132.73780344,\n",
       "       1344.3117261 , 1893.39520602,  876.39538314,  855.03432581,\n",
       "        834.1939368 ,  741.39777192,  954.4624116 , 1132.73780344,\n",
       "       1344.3117261 , 1595.40375978, 1893.39520602,  876.39538314,\n",
       "        855.03432581,  834.1939368 ,  741.39777192,  954.4624116 ,\n",
       "       1132.73780344, 1344.3117261 , 1595.40375978, 1893.39520602,\n",
       "        876.39538314,  855.03432581,  834.1939368 ,  741.39777192,\n",
       "        954.4624116 , 1132.73780344, 1344.3117261 , 1595.40375978,\n",
       "       1893.39520602,  876.39538314,  855.03432581,  834.1939368 ,\n",
       "        741.39777192,  954.4624116 , 1132.73780344, 1344.3117261 ,\n",
       "       1595.40375978, 1893.39520602,  876.39538314,  855.03432581,\n",
       "        834.1939368 ,  741.39777192,  954.4624116 , 1132.73780344,\n",
       "       1344.3117261 , 1595.40375978, 1893.39520602,  876.39538314,\n",
       "        855.03432581,  834.1939368 ,  741.39777192,  954.4624116 ,\n",
       "       1132.73780344, 1344.3117261 , 1595.40375978, 1893.39520602,\n",
       "        876.39538314,  855.03432581,  834.1939368 ,  741.39777192,\n",
       "        954.4624116 , 1132.73780344, 1344.3117261 , 1595.40375978,\n",
       "       1893.39520602,  876.39538314,  855.03432581,  834.1939368 ,\n",
       "        741.39777192])"
      ]
     },
     "execution_count": 19,
     "metadata": {},
     "output_type": "execute_result"
    }
   ],
   "source": [
    "Nj[bs.bin_mask]"
   ]
  },
  {
   "cell_type": "code",
   "execution_count": 20,
   "id": "c649d0e6-c337-42c2-aef7-e38f3ef0861c",
   "metadata": {},
   "outputs": [
    {
     "data": {
      "text/plain": [
       "array([ 6827.72028321, 10620.44606174, 15160.60669254, 24228.64240777,\n",
       "       32614.28692748, 11066.00144734, 15425.66672171, 15432.36317476,\n",
       "       14436.6154068 ])"
      ]
     },
     "execution_count": 20,
     "metadata": {},
     "output_type": "execute_result"
    }
   ],
   "source": [
    "Nj[bs.MS_mask_new]"
   ]
  },
  {
   "cell_type": "code",
   "execution_count": 21,
   "id": "42609ec0-bac2-45cb-a621-41c85a905a39",
   "metadata": {},
   "outputs": [
    {
     "data": {
      "text/plain": [
       "0.5871757569546835"
      ]
     },
     "execution_count": 21,
     "metadata": {},
     "output_type": "execute_result"
    }
   ],
   "source": [
    "# This is the bad (old) definition\n",
    "np.sum(Nj[bs.bin_mask]) / np.sum(Nj[bs.MS_mask_new])"
   ]
  },
  {
   "cell_type": "code",
   "execution_count": null,
   "id": "07fafe06-9667-4a78-839f-ef8d9e46c870",
   "metadata": {},
   "outputs": [],
   "source": []
  },
  {
   "cell_type": "code",
   "execution_count": 22,
   "id": "94db3d08-fe69-4154-b2ff-a3e4e8ab67ca",
   "metadata": {},
   "outputs": [
    {
     "name": "stdout",
     "output_type": "stream",
     "text": [
      "Binary Fraction: 36.995\n"
     ]
    }
   ],
   "source": [
    "# This is the definition we want to use\n",
    "print(f\"Binary Fraction: {bs.fb_true * 100:.3f}\")"
   ]
  },
  {
   "cell_type": "code",
   "execution_count": null,
   "id": "4faacf7a-ca70-43c8-88c7-74f6692910db",
   "metadata": {},
   "outputs": [],
   "source": []
  },
  {
   "cell_type": "code",
   "execution_count": 48,
   "id": "4b7388a5-e631-4f48-a3cb-82c54dfc0edd",
   "metadata": {},
   "outputs": [
    {
     "name": "stdout",
     "output_type": "stream",
     "text": [
      "Input fb | True fb | Diff\n",
      "---------------------------\n",
      "0.0    | 0.00   | -0.00\n",
      "1.0    | 0.94   | -0.06\n",
      "2.0    | 1.89   | -0.11\n",
      "3.0    | 2.86   | -0.14\n",
      "4.0    | 3.85   | -0.15\n",
      "5.0    | 4.85   | -0.15\n",
      "6.0    | 5.87   | -0.13\n",
      "7.0    | 6.91   | -0.09\n",
      "8.0    | 7.96   | -0.04\n",
      "9.0    | 9.04   | 0.04\n",
      "10.0    | 10.13   | 0.13\n",
      "11.0    | 11.24   | 0.24\n",
      "12.0    | 12.38   | 0.38\n",
      "13.0    | 13.53   | 0.53\n",
      "14.0    | 14.71   | 0.71\n",
      "15.0    | 15.91   | 0.91\n",
      "16.0    | 17.13   | 1.13\n",
      "17.0    | 18.37   | 1.37\n",
      "18.0    | 19.64   | 1.64\n",
      "19.0    | 20.93   | 1.93\n",
      "20.0    | 22.25   | 2.25\n",
      "21.0    | 23.59   | 2.59\n",
      "22.0    | 24.96   | 2.96\n",
      "23.0    | 26.36   | 3.36\n",
      "24.0    | 27.79   | 3.79\n",
      "25.0    | 29.24   | 4.24\n",
      "26.0    | 30.73   | 4.73\n",
      "27.0    | 32.25   | 5.25\n",
      "28.0    | 33.79   | 5.79\n",
      "29.0    | 35.38   | 6.38\n",
      "30.0    | 37.00   | 7.00\n",
      "31.0    | 38.65   | 7.65\n",
      "32.0    | 40.34   | 8.34\n",
      "33.0    | 42.06   | 9.06\n",
      "34.0    | 43.83   | 9.83\n",
      "35.0    | 45.64   | 10.64\n",
      "36.0    | 47.49   | 11.49\n",
      "37.0    | 49.38   | 12.38\n",
      "38.0    | 51.32   | 13.32\n",
      "39.0    | 53.30   | 14.30\n"
     ]
    }
   ],
   "source": [
    "print(f\"Input fb | True fb | Diff\")\n",
    "print(\"---------------------------\")\n",
    "for fb in np.linspace(0, 0.39, 40):\n",
    "    bs.shift_flat(fb=fb)\n",
    "    # bs.shift_solar(fb=fb)\n",
    "    # bs.shift_q(fb=[0.015,0.015],q=[1,1])\n",
    "\n",
    "    print(f\"{fb*100:.1f}    | {bs.fb_true*100:.2f}   | {-1*(fb - bs.fb_true)*100:.2f}\")"
   ]
  },
  {
   "cell_type": "code",
   "execution_count": 49,
   "id": "4e79de49-3026-45ae-9b12-491465c448ad",
   "metadata": {},
   "outputs": [],
   "source": [
    "fbs = np.linspace(0, 0.39, 40)\n",
    "\n",
    "true_fbs = []\n",
    "\n",
    "for fb in fbs:\n",
    "    bs.shift_flat(fb=fb)\n",
    "    true_fbs.append(bs.fb_true)"
   ]
  },
  {
   "cell_type": "code",
   "execution_count": 52,
   "id": "0e6f9b2a-e241-4217-8cce-b99ccd0c20a9",
   "metadata": {},
   "outputs": [
    {
     "data": {
      "application/vnd.jupyter.widget-view+json": {
       "model_id": "aa8d11128d884a8d94fa1a12a2175728",
       "version_major": 2,
       "version_minor": 0
      },
      "text/html": [
       "\n",
       "            <div style=\"display: inline-block;\">\n",
       "                <div class=\"jupyter-widgets widget-label\" style=\"text-align: center;\">\n",
       "                    Figure\n",
       "                </div>\n",
       "                <img src='data:image/png;base64,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' width=600.0/>\n",
       "            </div>\n",
       "        "
      ],
      "text/plain": [
       "Canvas(toolbar=Toolbar(toolitems=[('Home', 'Reset original view', 'home', 'home'), ('Back', 'Back to previous …"
      ]
     },
     "metadata": {},
     "output_type": "display_data"
    }
   ],
   "source": [
    "fig, axes = plt.subplots(\n",
    "    2, 1, figsize=(6, 6), sharex=True, gridspec_kw={\"height_ratios\": [3, 1]}\n",
    ")\n",
    "axes[0].plot(np.array(fbs) * 100, np.array(true_fbs) * 100, \"o--\")\n",
    "axes[1].set_xlabel(\"Requested fb [%] \")\n",
    "axes[0].set_ylabel(\"True fb [%]\")\n",
    "axes[1].plot(np.array(fbs) * 100, np.array(true_fbs - fbs) * 100, \"o--\")\n",
    "axes[0].plot(np.array(fbs) * 100, np.array(fbs) * 100, \"--\")\n",
    "\n",
    "axes[1].set_ylabel(\"Difference [%]\")\n",
    "axes[1].set_ylim(-15, 15)\n",
    "axes[1].axhline(0, color=\"green\")\n",
    "fig.tight_layout()"
   ]
  },
  {
   "cell_type": "code",
   "execution_count": null,
   "id": "ab126778-fcaa-4da2-9d6b-6593613c0aca",
   "metadata": {},
   "outputs": [],
   "source": []
  },
  {
   "cell_type": "code",
   "execution_count": null,
   "id": "b2928bd2-9393-498f-bc6d-84bbd24dbbdf",
   "metadata": {},
   "outputs": [],
   "source": []
  },
  {
   "cell_type": "code",
   "execution_count": null,
   "id": "0c3c8501-1e67-4acb-9f7d-be90c26e07fe",
   "metadata": {},
   "outputs": [],
   "source": []
  },
  {
   "cell_type": "code",
   "execution_count": 26,
   "id": "59845cf2-612b-42e3-992f-f3845f1be075",
   "metadata": {},
   "outputs": [
    {
     "ename": "NameError",
     "evalue": "name 'stop' is not defined",
     "output_type": "error",
     "traceback": [
      "\u001b[0;31m---------------------------------------------------------------------------\u001b[0m",
      "\u001b[0;31mNameError\u001b[0m                                 Traceback (most recent call last)",
      "\u001b[0;32m/tmp/ipykernel_906119/1640820313.py\u001b[0m in \u001b[0;36m<module>\u001b[0;34m\u001b[0m\n\u001b[1;32m      1\u001b[0m \u001b[0;31m# Have a look at models\u001b[0m\u001b[0;34m\u001b[0m\u001b[0;34m\u001b[0m\u001b[0;34m\u001b[0m\u001b[0m\n\u001b[0;32m----> 2\u001b[0;31m \u001b[0mstop\u001b[0m\u001b[0;34m\u001b[0m\u001b[0;34m\u001b[0m\u001b[0m\n\u001b[0m",
      "\u001b[0;31mNameError\u001b[0m: name 'stop' is not defined"
     ]
    }
   ],
   "source": [
    "# Have a look at models\n",
    "stop"
   ]
  },
  {
   "cell_type": "code",
   "execution_count": null,
   "id": "0d13d810-531a-4e05-bb03-2b7f6d82d297",
   "metadata": {},
   "outputs": [],
   "source": [
    "l = limepy(\n",
    "    M=1e6, phi0=6, g=0.8, mj=mj, Mj=Mj, delta=0.45, rh=8, ra=10 ** 1.23, project=True\n",
    ")"
   ]
  },
  {
   "cell_type": "code",
   "execution_count": null,
   "id": "8b947cea-1e8e-4a73-a64a-131664250285",
   "metadata": {},
   "outputs": [],
   "source": [
    "l_bin = limepy(\n",
    "    M=1e6,\n",
    "    phi0=6,\n",
    "    g=0.8,\n",
    "    mj=mj_new,\n",
    "    Mj=Mj_new,\n",
    "    delta=0.45,\n",
    "    rh=8,\n",
    "    ra=10 ** 1.23,\n",
    "    project=True,\n",
    ")"
   ]
  },
  {
   "cell_type": "code",
   "execution_count": null,
   "id": "4aa72d51-f99b-47ee-86dc-61e2323b3f11",
   "metadata": {},
   "outputs": [],
   "source": []
  },
  {
   "cell_type": "code",
   "execution_count": null,
   "id": "8d17ffa9-5840-4f48-9b53-3c7f51bdd7fd",
   "metadata": {},
   "outputs": [],
   "source": []
  },
  {
   "cell_type": "code",
   "execution_count": null,
   "id": "104a1a22-f6dd-4e1a-8674-0e637c65ab60",
   "metadata": {},
   "outputs": [],
   "source": [
    "plt.figure()\n",
    "plt.loglog()\n",
    "plt.xlim(1e-2, 1e2)\n",
    "plt.ylim(1e2, 1e7)\n",
    "plt.plot(l.r, l.mcp, label=\"No Binaries\")\n",
    "plt.xlabel(\"R [pc]\")\n",
    "plt.ylabel(\"Enclosed Mass\")\n",
    "plt.plot(l_bin.r, l_bin.mcp, label=\"Binaries\")\n",
    "plt.legend()"
   ]
  },
  {
   "cell_type": "code",
   "execution_count": null,
   "id": "71e9cb12-2902-4e00-8306-6f2c6e05f744",
   "metadata": {},
   "outputs": [],
   "source": []
  },
  {
   "cell_type": "code",
   "execution_count": null,
   "id": "6eb79203-76f3-4999-9b7f-ec67b4b61ac8",
   "metadata": {},
   "outputs": [],
   "source": [
    "plt.figure()\n",
    "plt.xscale(\"log\")\n",
    "plt.xlim(1e-2, 1e2)\n",
    "plt.plot(l.r, np.sqrt(l.v2R), label=\"No Binaries\")\n",
    "plt.xlabel(\"R [pc]\")\n",
    "plt.ylabel(\"Vr\")\n",
    "plt.plot(l_bin.r, np.sqrt(l_bin.v2R), label=\"Binaries\")\n",
    "plt.legend()"
   ]
  },
  {
   "cell_type": "code",
   "execution_count": null,
   "id": "5a08363f-e69b-4d01-95b7-e809f870433d",
   "metadata": {},
   "outputs": [],
   "source": [
    "plt.figure()\n",
    "plt.xscale(\"log\")\n",
    "plt.xlim(1e-2, 1e2)\n",
    "plt.plot(l.r, np.sqrt(l.v2T), label=\"No Binaries\")\n",
    "plt.xlabel(\"R [pc]\")\n",
    "plt.ylabel(\"Vt\")\n",
    "plt.plot(l_bin.r, np.sqrt(l_bin.v2T), label=\"Binaries\")\n",
    "plt.legend()"
   ]
  },
  {
   "cell_type": "code",
   "execution_count": null,
   "id": "c83688ad-3f3b-4e9e-992c-668dce52e223",
   "metadata": {},
   "outputs": [],
   "source": [
    "plt.figure()\n",
    "plt.xscale(\"log\")\n",
    "plt.xlim(1e-2, 1e2)\n",
    "plt.plot(l.r, np.sqrt(l.v2p), label=\"No Binaries\")\n",
    "plt.xlabel(\"R [pc]\")\n",
    "plt.ylabel(\"Vlos\")\n",
    "plt.plot(l_bin.r, np.sqrt(l_bin.v2p), label=\"Binaries\")\n",
    "plt.legend()"
   ]
  },
  {
   "cell_type": "code",
   "execution_count": null,
   "id": "6aa1d2b9-883e-4d10-b237-6ab36d72f7fe",
   "metadata": {},
   "outputs": [],
   "source": []
  },
  {
   "cell_type": "code",
   "execution_count": null,
   "id": "884f573f-542d-4a74-ae55-0371d2d8aef8",
   "metadata": {},
   "outputs": [],
   "source": [
    "plt.figure()\n",
    "plt.loglog()\n",
    "plt.xlim(1e-1, 1e2)\n",
    "plt.ylim(1e-0, 1e6)\n",
    "plt.plot(l.r, l.Sigma, label=\"No Binaries\")\n",
    "plt.xlabel(\"R [pc]\")\n",
    "plt.ylabel(r\"$\\Sigma$\")\n",
    "plt.plot(l_bin.r, l_bin.Sigma, label=\"Binaries\")\n",
    "plt.legend()"
   ]
  },
  {
   "cell_type": "code",
   "execution_count": null,
   "id": "25f94e31-6214-4aac-b7c3-03363ec30c5c",
   "metadata": {},
   "outputs": [],
   "source": []
  },
  {
   "cell_type": "code",
   "execution_count": null,
   "id": "8ff9ad43-a7f4-477a-b26a-134616bec44e",
   "metadata": {},
   "outputs": [],
   "source": []
  },
  {
   "cell_type": "code",
   "execution_count": null,
   "id": "e99be0bb-b40a-484e-a1c7-695a2a8663ec",
   "metadata": {},
   "outputs": [],
   "source": []
  },
  {
   "cell_type": "code",
   "execution_count": null,
   "id": "de6ea357-5012-4332-8729-3c8c24bf5693",
   "metadata": {},
   "outputs": [],
   "source": []
  },
  {
   "cell_type": "code",
   "execution_count": null,
   "id": "aa9f3423-dc3e-4519-b14a-c541d3ec6673",
   "metadata": {},
   "outputs": [],
   "source": []
  }
 ],
 "metadata": {
  "kernelspec": {
   "display_name": "gcfit",
   "language": "python",
   "name": "gcfit"
  },
  "language_info": {
   "codemirror_mode": {
    "name": "ipython",
    "version": 3
   },
   "file_extension": ".py",
   "mimetype": "text/x-python",
   "name": "python",
   "nbconvert_exporter": "python",
   "pygments_lexer": "ipython3",
   "version": "3.8.12"
  },
  "nteract": {
   "version": "0.28.0"
  }
 },
 "nbformat": 4,
 "nbformat_minor": 5
}
